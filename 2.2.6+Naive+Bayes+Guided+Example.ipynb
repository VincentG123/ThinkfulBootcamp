{
 "cells": [
  {
   "cell_type": "code",
   "execution_count": 2,
   "metadata": {
    "collapsed": true,
    "run_control": {
     "frozen": false,
     "read_only": false
    }
   },
   "outputs": [],
   "source": [
    "%matplotlib inline\n",
    "import numpy as np\n",
    "import pandas as pd\n",
    "import scipy\n",
    "import sklearn\n",
    "import matplotlib.pyplot as plt\n",
    "import seaborn as sns"
   ]
  },
  {
   "cell_type": "markdown",
   "metadata": {
    "run_control": {
     "frozen": false,
     "read_only": false
    }
   },
   "source": [
    "# Naive Bayes\n",
    "\n",
    "Here we're going to go through a basic Naive Bayes classifier. Specifically we're going to build a spam filter. As we've said before, this is a classic use for this kind of classifier and it's not too difficult to set up. The dataset we'll work with is UC Irvine's [SMS spam dataset](https://archive.ics.uci.edu/ml/datasets/SMS+Spam+Collection).\n",
    "\n",
    "This dataset has a few nice attributes. Firstly, it's pre-labelled, which is great for our purposes as we don't have to make our own spam/ham labels ('ham' being the common term to denote a message that is not spam). Secondly, the dataset is relatively small, which will allow us to show off one of the great things about Naive Bayes, its ability to train on relatively little data while achieving reasonable accuracy. "
   ]
  },
  {
   "cell_type": "code",
   "execution_count": 3,
   "metadata": {
    "run_control": {
     "frozen": false,
     "read_only": false
    },
    "scrolled": false
   },
   "outputs": [
    {
     "name": "stdout",
     "output_type": "stream",
     "text": [
      "https://raw.githubusercontent.com/Thinkful-Ed/data-201-resources/master/sms_spam_collection/SMSSpamCollection\n",
      "      0                                                  1\n",
      "0   ham  Go until jurong point, crazy.. Available only ...\n",
      "1   ham                      Ok lar... Joking wif u oni...\n",
      "2  spam  Free entry in 2 a wkly comp to win FA Cup fina...\n",
      "3   ham  U dun say so early hor... U c already then say...\n",
      "4   ham  Nah I don't think he goes to usf, he lives aro...\n",
      "Index(['spam', 'message'], dtype='object')\n",
      "   spam                                            message\n",
      "0   ham  Go until jurong point, crazy.. Available only ...\n",
      "1   ham                      Ok lar... Joking wif u oni...\n",
      "2  spam  Free entry in 2 a wkly comp to win FA Cup fina...\n",
      "3   ham  U dun say so early hor... U c already then say...\n",
      "4   ham  Nah I don't think he goes to usf, he lives aro...\n"
     ]
    }
   ],
   "source": [
    "# Grab and process the raw data.\n",
    "data_path = (\"https://raw.githubusercontent.com/Thinkful-Ed/data-201-resources/\"\n",
    "             \"master/sms_spam_collection/SMSSpamCollection\"\n",
    "            )\n",
    "print(data_path)\n",
    "sms_raw = pd.read_csv(data_path, delimiter= '\\t', header=None)\n",
    "print(sms_raw.head())\n",
    "sms_raw.columns = ['spam', 'message']\n",
    "print(sms_raw.columns)\n",
    "print(sms_raw.head())"
   ]
  },
  {
   "cell_type": "markdown",
   "metadata": {
    "run_control": {
     "frozen": false,
     "read_only": false
    }
   },
   "source": [
    "So we've loaded up the dataset and we have two columns, a label and a message.\n",
    "\n",
    "Now, a message isn't really a feature. If you tried to make it one it'd be pretty useless. However, we can engineer features from the message field relatively easily. This kind of feature engineering is a basic version of what we'll cover in the NLP section.\n",
    "\n",
    "At the most obvious level, a feature from the message can be whether it contains a given word. Let's add those columns to our dataframe. The words chosen below are simply intuited as possibly having something to do with spam. Try some of your own ideas too!"
   ]
  },
  {
   "cell_type": "code",
   "execution_count": 4,
   "metadata": {
    "run_control": {
     "frozen": false,
     "read_only": false
    }
   },
   "outputs": [
    {
     "name": "stdout",
     "output_type": "stream",
     "text": [
      "   spam                                            message  click  offer  \\\n",
      "0   ham  Go until jurong point, crazy.. Available only ...  False  False   \n",
      "1   ham                      Ok lar... Joking wif u oni...  False  False   \n",
      "2  spam  Free entry in 2 a wkly comp to win FA Cup fina...  False  False   \n",
      "3   ham  U dun say so early hor... U c already then say...  False  False   \n",
      "4   ham  Nah I don't think he goes to usf, he lives aro...  False  False   \n",
      "\n",
      "   winner    buy   free   cash   sale  limited  urgent  \n",
      "0   False  False  False  False  False    False   False  \n",
      "1   False  False  False  False  False    False   False  \n",
      "2   False  False  False  False  False    False   False  \n",
      "3   False  False  False  False  False    False   False  \n",
      "4   False  False  False  False  False    False   False  \n"
     ]
    }
   ],
   "source": [
    "keywords = ['click', 'offer', 'winner', 'buy', 'free', 'cash', 'sale', 'limited','urgent']\n",
    "\n",
    "for key in keywords:\n",
    "    # Note that we add spaces around the key so that we're getting the word,\n",
    "    # not just pattern matching.\n",
    "    sms_raw[str(key)] = sms_raw.message.str.contains(\n",
    "        ' ' + str(key) + ' ',\n",
    "        case=False\n",
    "    )\n",
    "print(sms_raw.head())"
   ]
  },
  {
   "cell_type": "markdown",
   "metadata": {
    "run_control": {
     "frozen": false,
     "read_only": false
    }
   },
   "source": [
    "Note that you could add new features to the dataframe simply by adding them to the keywords list. That's much nicer than doing each word manually. If it were more complicated it would probably be worth making a function as well.\n",
    "\n",
    "Another feature option would be if the message is all uppercase. That seems kind of spammy doesn't it?"
   ]
  },
  {
   "cell_type": "code",
   "execution_count": 5,
   "metadata": {
    "run_control": {
     "frozen": false,
     "read_only": false
    }
   },
   "outputs": [
    {
     "name": "stdout",
     "output_type": "stream",
     "text": [
      "   spam                                            message  click  offer  \\\n",
      "0   ham  Go until jurong point, crazy.. Available only ...  False  False   \n",
      "1   ham                      Ok lar... Joking wif u oni...  False  False   \n",
      "2  spam  Free entry in 2 a wkly comp to win FA Cup fina...  False  False   \n",
      "3   ham  U dun say so early hor... U c already then say...  False  False   \n",
      "4   ham  Nah I don't think he goes to usf, he lives aro...  False  False   \n",
      "\n",
      "   winner    buy   free   cash   sale  limited  urgent  allcaps  \n",
      "0   False  False  False  False  False    False   False    False  \n",
      "1   False  False  False  False  False    False   False    False  \n",
      "2   False  False  False  False  False    False   False    False  \n",
      "3   False  False  False  False  False    False   False    False  \n",
      "4   False  False  False  False  False    False   False    False  \n"
     ]
    }
   ],
   "source": [
    "sms_raw['allcaps'] = sms_raw.message.str.isupper()\n",
    "print(sms_raw.head())"
   ]
  },
  {
   "cell_type": "markdown",
   "metadata": {
    "run_control": {
     "frozen": false,
     "read_only": false
    }
   },
   "source": [
    "Before we go further, let's turn the spam column into a boolean so we can easily do some statistics to prepare for modeling."
   ]
  },
  {
   "cell_type": "code",
   "execution_count": 6,
   "metadata": {
    "run_control": {
     "frozen": false,
     "read_only": false
    }
   },
   "outputs": [
    {
     "name": "stdout",
     "output_type": "stream",
     "text": [
      "    spam                                            message  click  offer  \\\n",
      "0  False  Go until jurong point, crazy.. Available only ...  False  False   \n",
      "1  False                      Ok lar... Joking wif u oni...  False  False   \n",
      "2   True  Free entry in 2 a wkly comp to win FA Cup fina...  False  False   \n",
      "3  False  U dun say so early hor... U c already then say...  False  False   \n",
      "4  False  Nah I don't think he goes to usf, he lives aro...  False  False   \n",
      "\n",
      "   winner    buy   free   cash   sale  limited  urgent  allcaps  \n",
      "0   False  False  False  False  False    False   False    False  \n",
      "1   False  False  False  False  False    False   False    False  \n",
      "2   False  False  False  False  False    False   False    False  \n",
      "3   False  False  False  False  False    False   False    False  \n",
      "4   False  False  False  False  False    False   False    False  \n"
     ]
    }
   ],
   "source": [
    "sms_raw['spam'] = (sms_raw['spam'] == 'spam')\n",
    "# Note that if you run this cell a second time everything will become false.\n",
    "# So... Don't.\n",
    "print(sms_raw.head())"
   ]
  },
  {
   "cell_type": "markdown",
   "metadata": {
    "run_control": {
     "frozen": false,
     "read_only": false
    }
   },
   "source": [
    "Now, as we covered before one of the main assumptions of Naive Bayes is that the variables fed into the model are independent of each other. Let's check to see how true that is in this case using Pandas' built in correlation matrix function, corr(), and the heatmap from seaborn."
   ]
  },
  {
   "cell_type": "code",
   "execution_count": 7,
   "metadata": {
    "run_control": {
     "frozen": false,
     "read_only": false
    }
   },
   "outputs": [
    {
     "data": {
      "text/plain": [
       "<matplotlib.axes._subplots.AxesSubplot at 0x10d41eba8>"
      ]
     },
     "execution_count": 7,
     "metadata": {},
     "output_type": "execute_result"
    },
    {
     "data": {
      "image/png": "[encoded data removed]",
      "text/plain": [
       "<matplotlib.figure.Figure at 0x10d41eac8>"
      ]
     },
     "metadata": {},
     "output_type": "display_data"
    }
   ],
   "source": [
    "sns.heatmap(sms_raw.corr())"
   ]
  },
  {
   "cell_type": "markdown",
   "metadata": {
    "run_control": {
     "frozen": false,
     "read_only": false
    }
   },
   "source": [
    "That is actually a great looking plot for us. Most of the words show strong independence from each other. The only exceptions are free:offer and cash:winner. For now, let's keep everything in the dataset.\n",
    "\n",
    "Before we actually run the model we have to build out our training data. SKLearn required you to specify an outcome (y or dependent variable) and your inputs (x or independent variables). We'll do that below under the titles `data` and `target`."
   ]
  },
  {
   "cell_type": "code",
   "execution_count": 8,
   "metadata": {
    "run_control": {
     "frozen": false,
     "read_only": false
    }
   },
   "outputs": [
    {
     "name": "stdout",
     "output_type": "stream",
     "text": [
      "   click  offer  winner    buy   free   cash   sale  limited  urgent  allcaps\n",
      "0  False  False   False  False  False  False  False    False   False    False\n",
      "1  False  False   False  False  False  False  False    False   False    False\n",
      "2  False  False   False  False  False  False  False    False   False    False\n",
      "3  False  False   False  False  False  False  False    False   False    False\n",
      "4  False  False   False  False  False  False  False    False   False    False\n",
      "0    False\n",
      "1    False\n",
      "2     True\n",
      "3    False\n",
      "4    False\n",
      "Name: spam, dtype: bool\n"
     ]
    }
   ],
   "source": [
    "data = sms_raw[keywords + ['allcaps']]\n",
    "print(data.head())\n",
    "target = sms_raw['spam']\n",
    "print(target.head())"
   ]
  },
  {
   "cell_type": "code",
   "execution_count": 9,
   "metadata": {
    "run_control": {
     "frozen": false,
     "read_only": false
    }
   },
   "outputs": [
    {
     "name": "stdout",
     "output_type": "stream",
     "text": [
      "BernoulliNB(alpha=1.0, binarize=0.0, class_prior=None, fit_prior=True)\n",
      "[False False False ..., False False False]\n",
      "Number of mislabeled points out of a total 5572 points : 604\n",
      "(5572, 10)\n"
     ]
    }
   ],
   "source": [
    "# Our data is binary / boolean, so we're importing the Bernoulli classifier.\n",
    "from sklearn.naive_bayes import BernoulliNB\n",
    "\n",
    "# Instantiate our model and store it in a new variable.\n",
    "bnb = BernoulliNB()\n",
    "\n",
    "print(bnb)\n",
    "\n",
    "# Fit our model to the data.\n",
    "bnb.fit(data, target)\n",
    "\n",
    "# Classify, storing the result in a new variable.\n",
    "y_pred = bnb.predict(data)\n",
    "\n",
    "# y_pred = bnb.fit(data, target).predict(data)\n",
    "\n",
    "print(y_pred)\n",
    "# Display our results.\n",
    "print(\"Number of mislabeled points out of a total {} points : {}\".format(\n",
    "    data.shape[0],\n",
    "    (target != y_pred).sum()\n",
    "))\n",
    "print(data.shape)"
   ]
  },
  {
   "cell_type": "code",
   "execution_count": 10,
   "metadata": {},
   "outputs": [
    {
     "data": {
      "text/plain": [
       "0.89160086145010764"
      ]
     },
     "execution_count": 10,
     "metadata": {},
     "output_type": "execute_result"
    }
   ],
   "source": [
    "(data.shape[0] - (target != y_pred).sum())/data.shape[0]"
   ]
  },
  {
   "cell_type": "code",
   "execution_count": 11,
   "metadata": {},
   "outputs": [
    {
     "name": "stdout",
     "output_type": "stream",
     "text": [
      "(5572, 12)\n",
      "Number of mislabeled points out of a total 572 points : 59\n",
      "0.896853146853\n"
     ]
    }
   ],
   "source": [
    "# Test your model with different holdout groups.\n",
    "print(sms_raw.shape)\n",
    "group = sms_raw.iloc[:5000]\n",
    "holdout = sms_raw.iloc[5000:]\n",
    "\n",
    "group_data = group[keywords +['allcaps']]\n",
    "group_target = group['spam']\n",
    "holdout_data = holdout[keywords + ['allcaps']]\n",
    "holdout_target = holdout['spam']\n",
    "\n",
    "y_pred2 = bnb.fit(group_data, group_target).predict(holdout_data)\n",
    "\n",
    "print(\"Number of mislabeled points out of a total {} points : {}\".format(\n",
    "    holdout_data.shape[0],\n",
    "    (holdout_target != y_pred2).sum()\n",
    "))\n",
    "\n",
    "print((holdout_data.shape[0]- (holdout_target != y_pred2).sum())/holdout_data.shape[0])"
   ]
  },
  {
   "cell_type": "code",
   "execution_count": 12,
   "metadata": {
    "collapsed": true
   },
   "outputs": [],
   "source": [
    "def my_confusion_matrix(data_arg, ped_arg):\n",
    "    both_true = 0\n",
    "    both_false = 0\n",
    "    data_t_ped_f = 0\n",
    "    data_f_ped_t = 0\n",
    "    for num in range(len(data_arg)):\n",
    "        x, y = data_arg[num], ped_arg[num]\n",
    "        if x == True and y == True:\n",
    "            both_true += 1\n",
    "        elif x == True and y == False:\n",
    "            data_t_ped_f += 1\n",
    "        elif x == False and y == True:\n",
    "            data_f_ped_t += 1\n",
    "        else:\n",
    "            both_false += 1\n",
    "    return [[both_false, data_f_ped_t], [data_t_ped_f, both_true]]"
   ]
  },
  {
   "cell_type": "code",
   "execution_count": 13,
   "metadata": {},
   "outputs": [
    {
     "data": {
      "text/plain": [
       "[[4770, 55], [549, 198]]"
      ]
     },
     "execution_count": 13,
     "metadata": {},
     "output_type": "execute_result"
    }
   ],
   "source": [
    "my_confusion_matrix(target, y_pred)"
   ]
  },
  {
   "cell_type": "code",
   "execution_count": 16,
   "metadata": {},
   "outputs": [
    {
     "name": "stdout",
     "output_type": "stream",
     "text": [
      "[2786 2787 2788 ..., 5569 5570 5571] [   0    1    2 ..., 2783 2784 2785]\n",
      "[   0    1    2 ..., 2783 2784 2785] [2786 2787 2788 ..., 5569 5570 5571]\n"
     ]
    }
   ],
   "source": [
    "from sklearn.model_selection import KFold\n",
    "\n",
    "# print(data.shape)\n",
    "X = data\n",
    "kf = KFold(n_splits=2)\n",
    "for train, test in kf.split(X):\n",
    "    print(\"%s %s\" % (train, test))\n",
    "#     print(len(train), len(test))\n",
    "\n",
    "# for train, test in kf.split(X):\n",
    "#     # Classify, storing the result in a new variable.\n",
    "#     temp_y_pred = bnb.fit(train, train_target).predict(test)\n",
    "#     # Display our results.\n",
    "#     print(\"Number of mislabeled points out of a total {} points : {}\".format(\n",
    "#         train.shape[0],\n",
    "#         (test != temp_y_pred).sum()\n",
    "#     ))"
   ]
  },
  {
   "cell_type": "code",
   "execution_count": null,
   "metadata": {
    "collapsed": true
   },
   "outputs": [],
   "source": []
  },
  {
   "cell_type": "code",
   "execution_count": null,
   "metadata": {
    "collapsed": true
   },
   "outputs": [],
   "source": []
  },
  {
   "cell_type": "code",
   "execution_count": null,
   "metadata": {
    "collapsed": true
   },
   "outputs": [],
   "source": []
  },
  {
   "cell_type": "code",
   "execution_count": null,
   "metadata": {
    "collapsed": true
   },
   "outputs": [],
   "source": []
  },
  {
   "cell_type": "markdown",
   "metadata": {
    "collapsed": true,
    "run_control": {
     "frozen": false,
     "read_only": false
    }
   },
   "source": [
    "Now try adding some of your own features and seeing if you can improve the model's performance. Also try comparing the other types of Naive Bayes Classifier and see which one is best. You can find the function names for training other kinds of Naive Bayes in the [documentation](http://scikit-learn.org/stable/modules/naive_bayes.html). It's a one word change."
   ]
  },
  {
   "cell_type": "markdown",
   "metadata": {
    "run_control": {
     "frozen": false,
     "read_only": false
    }
   },
   "source": [
    "## Bayesian Poisoning\n",
    "\n",
    "When implementing Naive Bayes, there is one more thing you must be aware of. Because Naive Bayes relies on probabilities and these probabilities are often based around obvious keywords it is a vulnerable model. By that we mean that people can manipulate the model. This is done through a process called __Bayesian Poisoning__.\n",
    "\n",
    "In spam, this would be done through including words in your spam message that would be highly unlikely to be part of a spam message. This would convince the model that the message is legitimate and let it into your inbox or wherever.\n",
    "\n",
    "Can you think of how you could do that here? Look at some spam messages that your model correctly identified and see if you can reword or rework them to get them classified as ham."
   ]
  },
  {
   "cell_type": "code",
   "execution_count": null,
   "metadata": {
    "collapsed": true,
    "run_control": {
     "frozen": false,
     "read_only": false
    }
   },
   "outputs": [],
   "source": []
  }
 ],
 "metadata": {
  "hide_input": false,
  "kernelspec": {
   "display_name": "Python 3",
   "language": "python",
   "name": "python3"
  },
  "language_info": {
   "codemirror_mode": {
    "name": "ipython",
    "version": 3
   },
   "file_extension": ".py",
   "mimetype": "text/x-python",
   "name": "python",
   "nbconvert_exporter": "python",
   "pygments_lexer": "ipython3",
   "version": "3.5.2"
  },
  "toc": {
   "colors": {
    "hover_highlight": "#DAA520",
    "running_highlight": "#FF0000",
    "selected_highlight": "#FFD700"
   },
   "moveMenuLeft": true,
   "nav_menu": {
    "height": "49px",
    "width": "252px"
   },
   "navigate_menu": true,
   "number_sections": true,
   "sideBar": true,
   "threshold": 4,
   "toc_cell": false,
   "toc_section_display": "block",
   "toc_window_display": false
  }
 },
 "nbformat": 4,
 "nbformat_minor": 2
}
