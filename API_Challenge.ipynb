{
 "cells": [
  {
   "cell_type": "code",
   "execution_count": 5,
   "metadata": {},
   "outputs": [
    {
     "name": "stdout",
     "output_type": "stream",
     "text": [
      "All-New Wolverine (2015) #30 (series #20682)\n",
      "Amazing Spider-Man: Renew Your Vows (2016) #15 (series #22545)\n",
      "Avengers (2016) #678 (series #22547)\n",
      "Ben Reilly: Scarlet Spider (2017) #13 (series #23021)\n",
      "Defenders (2017) #9 (series #23074)\n",
      "Despicable Deadpool (2017) #293 (series #23602)\n",
      "Falcon (2017) #4 (series #23603)\n",
      "Incredible Hulk (2017) #712 (series #23635)\n",
      "Invincible Iron Man (2016) #596 (series #22928)\n",
      "Jean Grey (2017) #11 (series #23044)\n",
      "Jessica Jones (2016) #16 (series #22645)\n",
      "Moon Girl and Devil Dinosaur (2015) #27 (series #20839)\n",
      "Moon Knight (2016) #191 (series #20488)\n",
      "Old Man Logan (2016) #34 (series #20617)\n",
      "Phoenix Resurrection: The Return of Jean Grey (2018) #5 (series #23772)\n",
      "Punisher: The Platoon (2017) #5 (series #18471)\n",
      "Spider-Gwen (2015) #28 (series #20505)\n",
      "Star Wars: Doctor Aphra (2016) #16 (series #22719)\n",
      "Star Wars: The Last Jedi - DJ - Most Wanted (2018) #1 (series #23910)\n",
      "Tales of Suspense (2017) #101 (series #23774)\n",
      "The Mighty Captain Marvel (2017) #128 (series #22551)\n"
     ]
    }
   ],
   "source": [
    "import marvelous\n",
    "\n",
    "# Your own config file to keep your private key local and secret\n",
    "from config import public_key, private_key\n",
    "\n",
    "# public_key = \"2b69bb3e2a7b30bf8c98ce28a3a43431\"\n",
    "# private_key = \"1221927a4b5fb9c2bd3d9fce84279a427059e141\"\n",
    "\n",
    "# Authenticate with Marvel, with keys I got from http://developer.marvel.com/\n",
    "m = marvelous.api(public_key, private_key)\n",
    "\n",
    "# Get all comics from this week, sorted alphabetically by title\n",
    "pulls = sorted(m.comics({\n",
    "    'format': \"comic\",\n",
    "    'formatType': \"comic\",\n",
    "    'noVariants': True,\n",
    "    'dateDescriptor': \"thisWeek\",\n",
    "    'limit': 100}),\n",
    "    key=lambda comic: comic.title)\n",
    "\n",
    "for comic in pulls:\n",
    "    # Write a line to the file with the name of the issue, and the\n",
    "    # id of the series\n",
    "    print('{} (series #{})'.format(comic.title, comic.series.id))"
   ]
  },
  {
   "cell_type": "code",
   "execution_count": null,
   "metadata": {},
   "outputs": [],
   "source": []
  }
 ],
 "metadata": {
  "kernelspec": {
   "display_name": "Python 3",
   "language": "python",
   "name": "python3"
  },
  "language_info": {
   "codemirror_mode": {
    "name": "ipython",
    "version": 3
   },
   "file_extension": ".py",
   "mimetype": "text/x-python",
   "name": "python",
   "nbconvert_exporter": "python",
   "pygments_lexer": "ipython3",
   "version": "3.5.2"
  }
 },
 "nbformat": 4,
 "nbformat_minor": 2
}
