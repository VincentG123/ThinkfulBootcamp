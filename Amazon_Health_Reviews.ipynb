{
 "cells": [
  {
   "cell_type": "code",
   "execution_count": 40,
   "metadata": {
    "collapsed": true
   },
   "outputs": [],
   "source": [
    "import numpy as np\n",
    "import pandas as pd\n",
    "import scipy\n",
    "import sklearn\n",
    "import matplotlib.pyplot as plt\n",
    "import seaborn as sns\n",
    "%matplotlib inline"
   ]
  },
  {
   "cell_type": "code",
   "execution_count": 41,
   "metadata": {
    "collapsed": true
   },
   "outputs": [],
   "source": [
    "health_reviews = pd.read_json('reviews_Health_and_Personal_Care_5.json', lines=True)"
   ]
  },
  {
   "cell_type": "code",
   "execution_count": 42,
   "metadata": {
    "collapsed": true
   },
   "outputs": [],
   "source": [
    "reviews = health_reviews.copy()"
   ]
  },
  {
   "cell_type": "code",
   "execution_count": 43,
   "metadata": {},
   "outputs": [
    {
     "data": {
      "text/html": [
       "<div>\n",
       "<style>\n",
       "    .dataframe thead tr:only-child th {\n",
       "        text-align: right;\n",
       "    }\n",
       "\n",
       "    .dataframe thead th {\n",
       "        text-align: left;\n",
       "    }\n",
       "\n",
       "    .dataframe tbody tr th {\n",
       "        vertical-align: top;\n",
       "    }\n",
       "</style>\n",
       "<table border=\"1\" class=\"dataframe\">\n",
       "  <thead>\n",
       "    <tr style=\"text-align: right;\">\n",
       "      <th></th>\n",
       "      <th>asin</th>\n",
       "      <th>helpful</th>\n",
       "      <th>overall</th>\n",
       "      <th>reviewText</th>\n",
       "      <th>reviewTime</th>\n",
       "      <th>reviewerID</th>\n",
       "      <th>reviewerName</th>\n",
       "      <th>summary</th>\n",
       "      <th>unixReviewTime</th>\n",
       "    </tr>\n",
       "  </thead>\n",
       "  <tbody>\n",
       "    <tr>\n",
       "      <th>0</th>\n",
       "      <td>159985130X</td>\n",
       "      <td>[1, 1]</td>\n",
       "      <td>5</td>\n",
       "      <td>This is a great little gadget to have around. ...</td>\n",
       "      <td>01 5, 2011</td>\n",
       "      <td>ALC5GH8CAMAI7</td>\n",
       "      <td>AnnN</td>\n",
       "      <td>Handy little gadget</td>\n",
       "      <td>1294185600</td>\n",
       "    </tr>\n",
       "    <tr>\n",
       "      <th>1</th>\n",
       "      <td>159985130X</td>\n",
       "      <td>[1, 1]</td>\n",
       "      <td>4</td>\n",
       "      <td>I would recommend this for a travel magnifier ...</td>\n",
       "      <td>02 18, 2012</td>\n",
       "      <td>AHKSURW85PJUE</td>\n",
       "      <td>AZ buyer \"AZ buyer\"</td>\n",
       "      <td>Small &amp; may need to encourage battery</td>\n",
       "      <td>1329523200</td>\n",
       "    </tr>\n",
       "    <tr>\n",
       "      <th>2</th>\n",
       "      <td>159985130X</td>\n",
       "      <td>[75, 77]</td>\n",
       "      <td>4</td>\n",
       "      <td>What I liked was the quality of the lens and t...</td>\n",
       "      <td>06 8, 2010</td>\n",
       "      <td>A38RMU1Y5TDP9</td>\n",
       "      <td>Bob Tobias \"Robert Tobias\"</td>\n",
       "      <td>Very good but not great</td>\n",
       "      <td>1275955200</td>\n",
       "    </tr>\n",
       "    <tr>\n",
       "      <th>3</th>\n",
       "      <td>159985130X</td>\n",
       "      <td>[56, 60]</td>\n",
       "      <td>4</td>\n",
       "      <td>Love the Great point light pocket magnifier!  ...</td>\n",
       "      <td>02 8, 2008</td>\n",
       "      <td>A1XZUG7DFXXOS4</td>\n",
       "      <td>Cat lover</td>\n",
       "      <td>great addition to your purse</td>\n",
       "      <td>1202428800</td>\n",
       "    </tr>\n",
       "    <tr>\n",
       "      <th>4</th>\n",
       "      <td>159985130X</td>\n",
       "      <td>[1, 1]</td>\n",
       "      <td>5</td>\n",
       "      <td>This is very nice. You pull out on the magnifi...</td>\n",
       "      <td>08 16, 2011</td>\n",
       "      <td>A1MS3M7M7AM13X</td>\n",
       "      <td>Cricketoes</td>\n",
       "      <td>Very nice and convenient.</td>\n",
       "      <td>1313452800</td>\n",
       "    </tr>\n",
       "  </tbody>\n",
       "</table>\n",
       "</div>"
      ],
      "text/plain": [
       "         asin   helpful  overall  \\\n",
       "0  159985130X    [1, 1]        5   \n",
       "1  159985130X    [1, 1]        4   \n",
       "2  159985130X  [75, 77]        4   \n",
       "3  159985130X  [56, 60]        4   \n",
       "4  159985130X    [1, 1]        5   \n",
       "\n",
       "                                          reviewText   reviewTime  \\\n",
       "0  This is a great little gadget to have around. ...   01 5, 2011   \n",
       "1  I would recommend this for a travel magnifier ...  02 18, 2012   \n",
       "2  What I liked was the quality of the lens and t...   06 8, 2010   \n",
       "3  Love the Great point light pocket magnifier!  ...   02 8, 2008   \n",
       "4  This is very nice. You pull out on the magnifi...  08 16, 2011   \n",
       "\n",
       "       reviewerID                reviewerName  \\\n",
       "0   ALC5GH8CAMAI7                        AnnN   \n",
       "1   AHKSURW85PJUE         AZ buyer \"AZ buyer\"   \n",
       "2   A38RMU1Y5TDP9  Bob Tobias \"Robert Tobias\"   \n",
       "3  A1XZUG7DFXXOS4                   Cat lover   \n",
       "4  A1MS3M7M7AM13X                  Cricketoes   \n",
       "\n",
       "                                 summary  unixReviewTime  \n",
       "0                    Handy little gadget      1294185600  \n",
       "1  Small & may need to encourage battery      1329523200  \n",
       "2                Very good but not great      1275955200  \n",
       "3           great addition to your purse      1202428800  \n",
       "4              Very nice and convenient.      1313452800  "
      ]
     },
     "execution_count": 43,
     "metadata": {},
     "output_type": "execute_result"
    }
   ],
   "source": [
    "reviews.head()"
   ]
  },
  {
   "cell_type": "code",
   "execution_count": 44,
   "metadata": {},
   "outputs": [
    {
     "data": {
      "text/plain": [
       "(346355, 9)"
      ]
     },
     "execution_count": 44,
     "metadata": {},
     "output_type": "execute_result"
    }
   ],
   "source": [
    "reviews.shape"
   ]
  },
  {
   "cell_type": "markdown",
   "metadata": {},
   "source": [
    "I'm going to first lowercase the text for reviewText and summary..."
   ]
  },
  {
   "cell_type": "code",
   "execution_count": 45,
   "metadata": {
    "collapsed": true
   },
   "outputs": [],
   "source": [
    "reviews.reviewText = reviews.reviewText.str.lower()"
   ]
  },
  {
   "cell_type": "code",
   "execution_count": 46,
   "metadata": {},
   "outputs": [
    {
     "data": {
      "text/plain": [
       "0    this is a great little gadget to have around. ...\n",
       "1    i would recommend this for a travel magnifier ...\n",
       "2    what i liked was the quality of the lens and t...\n",
       "3    love the great point light pocket magnifier!  ...\n",
       "4    this is very nice. you pull out on the magnifi...\n",
       "Name: reviewText, dtype: object"
      ]
     },
     "execution_count": 46,
     "metadata": {},
     "output_type": "execute_result"
    }
   ],
   "source": [
    "reviews.reviewText.head()"
   ]
  },
  {
   "cell_type": "code",
   "execution_count": 47,
   "metadata": {
    "collapsed": true
   },
   "outputs": [],
   "source": [
    "reviews.reviewText = reviews['reviewText'].str.replace('[^\\w\\s]',' ')"
   ]
  },
  {
   "cell_type": "code",
   "execution_count": 48,
   "metadata": {},
   "outputs": [
    {
     "data": {
      "text/plain": [
       "0    this is a great little gadget to have around  ...\n",
       "1    i would recommend this for a travel magnifier ...\n",
       "2    what i liked was the quality of the lens and t...\n",
       "3    love the great point light pocket magnifier   ...\n",
       "4    this is very nice  you pull out on the magnifi...\n",
       "Name: reviewText, dtype: object"
      ]
     },
     "execution_count": 48,
     "metadata": {},
     "output_type": "execute_result"
    }
   ],
   "source": [
    "reviews.reviewText.head()"
   ]
  },
  {
   "cell_type": "code",
   "execution_count": 49,
   "metadata": {
    "collapsed": true
   },
   "outputs": [],
   "source": [
    "keywords = ['great', 'good', 'fantastic', 'useful', 'love', 'nice', 'recommend']\n",
    "\n",
    "for key in keywords:\n",
    "    # Note that we add spaces around the key so that we're getting the word,\n",
    "    # not just pattern matching.\n",
    "    reviews[str(key)] = reviews.reviewText.str.contains(\n",
    "        ' ' + str(key) + ' ',\n",
    "        case=False\n",
    "    )"
   ]
  },
  {
   "cell_type": "code",
   "execution_count": 50,
   "metadata": {},
   "outputs": [
    {
     "data": {
      "text/html": [
       "<div>\n",
       "<style>\n",
       "    .dataframe thead tr:only-child th {\n",
       "        text-align: right;\n",
       "    }\n",
       "\n",
       "    .dataframe thead th {\n",
       "        text-align: left;\n",
       "    }\n",
       "\n",
       "    .dataframe tbody tr th {\n",
       "        vertical-align: top;\n",
       "    }\n",
       "</style>\n",
       "<table border=\"1\" class=\"dataframe\">\n",
       "  <thead>\n",
       "    <tr style=\"text-align: right;\">\n",
       "      <th></th>\n",
       "      <th>asin</th>\n",
       "      <th>helpful</th>\n",
       "      <th>overall</th>\n",
       "      <th>reviewText</th>\n",
       "      <th>reviewTime</th>\n",
       "      <th>reviewerID</th>\n",
       "      <th>reviewerName</th>\n",
       "      <th>summary</th>\n",
       "      <th>unixReviewTime</th>\n",
       "      <th>great</th>\n",
       "      <th>good</th>\n",
       "      <th>fantastic</th>\n",
       "      <th>useful</th>\n",
       "      <th>love</th>\n",
       "      <th>nice</th>\n",
       "      <th>recommend</th>\n",
       "    </tr>\n",
       "  </thead>\n",
       "  <tbody>\n",
       "    <tr>\n",
       "      <th>0</th>\n",
       "      <td>159985130X</td>\n",
       "      <td>[1, 1]</td>\n",
       "      <td>5</td>\n",
       "      <td>this is a great little gadget to have around  ...</td>\n",
       "      <td>01 5, 2011</td>\n",
       "      <td>ALC5GH8CAMAI7</td>\n",
       "      <td>AnnN</td>\n",
       "      <td>Handy little gadget</td>\n",
       "      <td>1294185600</td>\n",
       "      <td>True</td>\n",
       "      <td>False</td>\n",
       "      <td>False</td>\n",
       "      <td>False</td>\n",
       "      <td>False</td>\n",
       "      <td>False</td>\n",
       "      <td>False</td>\n",
       "    </tr>\n",
       "    <tr>\n",
       "      <th>1</th>\n",
       "      <td>159985130X</td>\n",
       "      <td>[1, 1]</td>\n",
       "      <td>4</td>\n",
       "      <td>i would recommend this for a travel magnifier ...</td>\n",
       "      <td>02 18, 2012</td>\n",
       "      <td>AHKSURW85PJUE</td>\n",
       "      <td>AZ buyer \"AZ buyer\"</td>\n",
       "      <td>Small &amp; may need to encourage battery</td>\n",
       "      <td>1329523200</td>\n",
       "      <td>True</td>\n",
       "      <td>False</td>\n",
       "      <td>False</td>\n",
       "      <td>False</td>\n",
       "      <td>False</td>\n",
       "      <td>False</td>\n",
       "      <td>True</td>\n",
       "    </tr>\n",
       "    <tr>\n",
       "      <th>2</th>\n",
       "      <td>159985130X</td>\n",
       "      <td>[75, 77]</td>\n",
       "      <td>4</td>\n",
       "      <td>what i liked was the quality of the lens and t...</td>\n",
       "      <td>06 8, 2010</td>\n",
       "      <td>A38RMU1Y5TDP9</td>\n",
       "      <td>Bob Tobias \"Robert Tobias\"</td>\n",
       "      <td>Very good but not great</td>\n",
       "      <td>1275955200</td>\n",
       "      <td>True</td>\n",
       "      <td>True</td>\n",
       "      <td>False</td>\n",
       "      <td>False</td>\n",
       "      <td>False</td>\n",
       "      <td>True</td>\n",
       "      <td>False</td>\n",
       "    </tr>\n",
       "    <tr>\n",
       "      <th>3</th>\n",
       "      <td>159985130X</td>\n",
       "      <td>[56, 60]</td>\n",
       "      <td>4</td>\n",
       "      <td>love the great point light pocket magnifier   ...</td>\n",
       "      <td>02 8, 2008</td>\n",
       "      <td>A1XZUG7DFXXOS4</td>\n",
       "      <td>Cat lover</td>\n",
       "      <td>great addition to your purse</td>\n",
       "      <td>1202428800</td>\n",
       "      <td>True</td>\n",
       "      <td>False</td>\n",
       "      <td>False</td>\n",
       "      <td>False</td>\n",
       "      <td>False</td>\n",
       "      <td>True</td>\n",
       "      <td>False</td>\n",
       "    </tr>\n",
       "    <tr>\n",
       "      <th>4</th>\n",
       "      <td>159985130X</td>\n",
       "      <td>[1, 1]</td>\n",
       "      <td>5</td>\n",
       "      <td>this is very nice  you pull out on the magnifi...</td>\n",
       "      <td>08 16, 2011</td>\n",
       "      <td>A1MS3M7M7AM13X</td>\n",
       "      <td>Cricketoes</td>\n",
       "      <td>Very nice and convenient.</td>\n",
       "      <td>1313452800</td>\n",
       "      <td>False</td>\n",
       "      <td>False</td>\n",
       "      <td>False</td>\n",
       "      <td>False</td>\n",
       "      <td>False</td>\n",
       "      <td>True</td>\n",
       "      <td>True</td>\n",
       "    </tr>\n",
       "  </tbody>\n",
       "</table>\n",
       "</div>"
      ],
      "text/plain": [
       "         asin   helpful  overall  \\\n",
       "0  159985130X    [1, 1]        5   \n",
       "1  159985130X    [1, 1]        4   \n",
       "2  159985130X  [75, 77]        4   \n",
       "3  159985130X  [56, 60]        4   \n",
       "4  159985130X    [1, 1]        5   \n",
       "\n",
       "                                          reviewText   reviewTime  \\\n",
       "0  this is a great little gadget to have around  ...   01 5, 2011   \n",
       "1  i would recommend this for a travel magnifier ...  02 18, 2012   \n",
       "2  what i liked was the quality of the lens and t...   06 8, 2010   \n",
       "3  love the great point light pocket magnifier   ...   02 8, 2008   \n",
       "4  this is very nice  you pull out on the magnifi...  08 16, 2011   \n",
       "\n",
       "       reviewerID                reviewerName  \\\n",
       "0   ALC5GH8CAMAI7                        AnnN   \n",
       "1   AHKSURW85PJUE         AZ buyer \"AZ buyer\"   \n",
       "2   A38RMU1Y5TDP9  Bob Tobias \"Robert Tobias\"   \n",
       "3  A1XZUG7DFXXOS4                   Cat lover   \n",
       "4  A1MS3M7M7AM13X                  Cricketoes   \n",
       "\n",
       "                                 summary  unixReviewTime  great   good  \\\n",
       "0                    Handy little gadget      1294185600   True  False   \n",
       "1  Small & may need to encourage battery      1329523200   True  False   \n",
       "2                Very good but not great      1275955200   True   True   \n",
       "3           great addition to your purse      1202428800   True  False   \n",
       "4              Very nice and convenient.      1313452800  False  False   \n",
       "\n",
       "   fantastic  useful   love   nice  recommend  \n",
       "0      False   False  False  False      False  \n",
       "1      False   False  False  False       True  \n",
       "2      False   False  False   True      False  \n",
       "3      False   False  False   True      False  \n",
       "4      False   False  False   True       True  "
      ]
     },
     "execution_count": 50,
     "metadata": {},
     "output_type": "execute_result"
    }
   ],
   "source": [
    "reviews.head()"
   ]
  },
  {
   "cell_type": "code",
   "execution_count": 51,
   "metadata": {
    "collapsed": true
   },
   "outputs": [],
   "source": [
    "reviews.loc[reviews.overall < 4, 'overall'] = False\n",
    "reviews.loc[reviews.overall >= 4, 'overall'] = True"
   ]
  },
  {
   "cell_type": "code",
   "execution_count": 52,
   "metadata": {},
   "outputs": [
    {
     "data": {
      "text/html": [
       "<div>\n",
       "<style>\n",
       "    .dataframe thead tr:only-child th {\n",
       "        text-align: right;\n",
       "    }\n",
       "\n",
       "    .dataframe thead th {\n",
       "        text-align: left;\n",
       "    }\n",
       "\n",
       "    .dataframe tbody tr th {\n",
       "        vertical-align: top;\n",
       "    }\n",
       "</style>\n",
       "<table border=\"1\" class=\"dataframe\">\n",
       "  <thead>\n",
       "    <tr style=\"text-align: right;\">\n",
       "      <th></th>\n",
       "      <th>asin</th>\n",
       "      <th>helpful</th>\n",
       "      <th>overall</th>\n",
       "      <th>reviewText</th>\n",
       "      <th>reviewTime</th>\n",
       "      <th>reviewerID</th>\n",
       "      <th>reviewerName</th>\n",
       "      <th>summary</th>\n",
       "      <th>unixReviewTime</th>\n",
       "      <th>great</th>\n",
       "      <th>good</th>\n",
       "      <th>fantastic</th>\n",
       "      <th>useful</th>\n",
       "      <th>love</th>\n",
       "      <th>nice</th>\n",
       "      <th>recommend</th>\n",
       "    </tr>\n",
       "  </thead>\n",
       "  <tbody>\n",
       "    <tr>\n",
       "      <th>0</th>\n",
       "      <td>159985130X</td>\n",
       "      <td>[1, 1]</td>\n",
       "      <td>True</td>\n",
       "      <td>this is a great little gadget to have around  ...</td>\n",
       "      <td>01 5, 2011</td>\n",
       "      <td>ALC5GH8CAMAI7</td>\n",
       "      <td>AnnN</td>\n",
       "      <td>Handy little gadget</td>\n",
       "      <td>1294185600</td>\n",
       "      <td>True</td>\n",
       "      <td>False</td>\n",
       "      <td>False</td>\n",
       "      <td>False</td>\n",
       "      <td>False</td>\n",
       "      <td>False</td>\n",
       "      <td>False</td>\n",
       "    </tr>\n",
       "    <tr>\n",
       "      <th>1</th>\n",
       "      <td>159985130X</td>\n",
       "      <td>[1, 1]</td>\n",
       "      <td>True</td>\n",
       "      <td>i would recommend this for a travel magnifier ...</td>\n",
       "      <td>02 18, 2012</td>\n",
       "      <td>AHKSURW85PJUE</td>\n",
       "      <td>AZ buyer \"AZ buyer\"</td>\n",
       "      <td>Small &amp; may need to encourage battery</td>\n",
       "      <td>1329523200</td>\n",
       "      <td>True</td>\n",
       "      <td>False</td>\n",
       "      <td>False</td>\n",
       "      <td>False</td>\n",
       "      <td>False</td>\n",
       "      <td>False</td>\n",
       "      <td>True</td>\n",
       "    </tr>\n",
       "    <tr>\n",
       "      <th>2</th>\n",
       "      <td>159985130X</td>\n",
       "      <td>[75, 77]</td>\n",
       "      <td>True</td>\n",
       "      <td>what i liked was the quality of the lens and t...</td>\n",
       "      <td>06 8, 2010</td>\n",
       "      <td>A38RMU1Y5TDP9</td>\n",
       "      <td>Bob Tobias \"Robert Tobias\"</td>\n",
       "      <td>Very good but not great</td>\n",
       "      <td>1275955200</td>\n",
       "      <td>True</td>\n",
       "      <td>True</td>\n",
       "      <td>False</td>\n",
       "      <td>False</td>\n",
       "      <td>False</td>\n",
       "      <td>True</td>\n",
       "      <td>False</td>\n",
       "    </tr>\n",
       "    <tr>\n",
       "      <th>3</th>\n",
       "      <td>159985130X</td>\n",
       "      <td>[56, 60]</td>\n",
       "      <td>True</td>\n",
       "      <td>love the great point light pocket magnifier   ...</td>\n",
       "      <td>02 8, 2008</td>\n",
       "      <td>A1XZUG7DFXXOS4</td>\n",
       "      <td>Cat lover</td>\n",
       "      <td>great addition to your purse</td>\n",
       "      <td>1202428800</td>\n",
       "      <td>True</td>\n",
       "      <td>False</td>\n",
       "      <td>False</td>\n",
       "      <td>False</td>\n",
       "      <td>False</td>\n",
       "      <td>True</td>\n",
       "      <td>False</td>\n",
       "    </tr>\n",
       "    <tr>\n",
       "      <th>4</th>\n",
       "      <td>159985130X</td>\n",
       "      <td>[1, 1]</td>\n",
       "      <td>True</td>\n",
       "      <td>this is very nice  you pull out on the magnifi...</td>\n",
       "      <td>08 16, 2011</td>\n",
       "      <td>A1MS3M7M7AM13X</td>\n",
       "      <td>Cricketoes</td>\n",
       "      <td>Very nice and convenient.</td>\n",
       "      <td>1313452800</td>\n",
       "      <td>False</td>\n",
       "      <td>False</td>\n",
       "      <td>False</td>\n",
       "      <td>False</td>\n",
       "      <td>False</td>\n",
       "      <td>True</td>\n",
       "      <td>True</td>\n",
       "    </tr>\n",
       "  </tbody>\n",
       "</table>\n",
       "</div>"
      ],
      "text/plain": [
       "         asin   helpful overall  \\\n",
       "0  159985130X    [1, 1]    True   \n",
       "1  159985130X    [1, 1]    True   \n",
       "2  159985130X  [75, 77]    True   \n",
       "3  159985130X  [56, 60]    True   \n",
       "4  159985130X    [1, 1]    True   \n",
       "\n",
       "                                          reviewText   reviewTime  \\\n",
       "0  this is a great little gadget to have around  ...   01 5, 2011   \n",
       "1  i would recommend this for a travel magnifier ...  02 18, 2012   \n",
       "2  what i liked was the quality of the lens and t...   06 8, 2010   \n",
       "3  love the great point light pocket magnifier   ...   02 8, 2008   \n",
       "4  this is very nice  you pull out on the magnifi...  08 16, 2011   \n",
       "\n",
       "       reviewerID                reviewerName  \\\n",
       "0   ALC5GH8CAMAI7                        AnnN   \n",
       "1   AHKSURW85PJUE         AZ buyer \"AZ buyer\"   \n",
       "2   A38RMU1Y5TDP9  Bob Tobias \"Robert Tobias\"   \n",
       "3  A1XZUG7DFXXOS4                   Cat lover   \n",
       "4  A1MS3M7M7AM13X                  Cricketoes   \n",
       "\n",
       "                                 summary  unixReviewTime  great   good  \\\n",
       "0                    Handy little gadget      1294185600   True  False   \n",
       "1  Small & may need to encourage battery      1329523200   True  False   \n",
       "2                Very good but not great      1275955200   True   True   \n",
       "3           great addition to your purse      1202428800   True  False   \n",
       "4              Very nice and convenient.      1313452800  False  False   \n",
       "\n",
       "   fantastic  useful   love   nice  recommend  \n",
       "0      False   False  False  False      False  \n",
       "1      False   False  False  False       True  \n",
       "2      False   False  False   True      False  \n",
       "3      False   False  False   True      False  \n",
       "4      False   False  False   True       True  "
      ]
     },
     "execution_count": 52,
     "metadata": {},
     "output_type": "execute_result"
    }
   ],
   "source": [
    "reviews.head()"
   ]
  },
  {
   "cell_type": "code",
   "execution_count": 53,
   "metadata": {
    "collapsed": true
   },
   "outputs": [],
   "source": [
    "reviews_subset = reviews[['overall','great','good','fantastic','useful','love','recommend','nice']]"
   ]
  },
  {
   "cell_type": "code",
   "execution_count": 54,
   "metadata": {},
   "outputs": [
    {
     "data": {
      "text/html": [
       "<div>\n",
       "<style>\n",
       "    .dataframe thead tr:only-child th {\n",
       "        text-align: right;\n",
       "    }\n",
       "\n",
       "    .dataframe thead th {\n",
       "        text-align: left;\n",
       "    }\n",
       "\n",
       "    .dataframe tbody tr th {\n",
       "        vertical-align: top;\n",
       "    }\n",
       "</style>\n",
       "<table border=\"1\" class=\"dataframe\">\n",
       "  <thead>\n",
       "    <tr style=\"text-align: right;\">\n",
       "      <th></th>\n",
       "      <th>overall</th>\n",
       "      <th>great</th>\n",
       "      <th>good</th>\n",
       "      <th>fantastic</th>\n",
       "      <th>useful</th>\n",
       "      <th>love</th>\n",
       "      <th>recommend</th>\n",
       "      <th>nice</th>\n",
       "    </tr>\n",
       "  </thead>\n",
       "  <tbody>\n",
       "    <tr>\n",
       "      <th>0</th>\n",
       "      <td>True</td>\n",
       "      <td>True</td>\n",
       "      <td>False</td>\n",
       "      <td>False</td>\n",
       "      <td>False</td>\n",
       "      <td>False</td>\n",
       "      <td>False</td>\n",
       "      <td>False</td>\n",
       "    </tr>\n",
       "    <tr>\n",
       "      <th>1</th>\n",
       "      <td>True</td>\n",
       "      <td>True</td>\n",
       "      <td>False</td>\n",
       "      <td>False</td>\n",
       "      <td>False</td>\n",
       "      <td>False</td>\n",
       "      <td>True</td>\n",
       "      <td>False</td>\n",
       "    </tr>\n",
       "    <tr>\n",
       "      <th>2</th>\n",
       "      <td>True</td>\n",
       "      <td>True</td>\n",
       "      <td>True</td>\n",
       "      <td>False</td>\n",
       "      <td>False</td>\n",
       "      <td>False</td>\n",
       "      <td>False</td>\n",
       "      <td>True</td>\n",
       "    </tr>\n",
       "    <tr>\n",
       "      <th>3</th>\n",
       "      <td>True</td>\n",
       "      <td>True</td>\n",
       "      <td>False</td>\n",
       "      <td>False</td>\n",
       "      <td>False</td>\n",
       "      <td>False</td>\n",
       "      <td>False</td>\n",
       "      <td>True</td>\n",
       "    </tr>\n",
       "    <tr>\n",
       "      <th>4</th>\n",
       "      <td>True</td>\n",
       "      <td>False</td>\n",
       "      <td>False</td>\n",
       "      <td>False</td>\n",
       "      <td>False</td>\n",
       "      <td>False</td>\n",
       "      <td>True</td>\n",
       "      <td>True</td>\n",
       "    </tr>\n",
       "  </tbody>\n",
       "</table>\n",
       "</div>"
      ],
      "text/plain": [
       "  overall  great   good  fantastic  useful   love  recommend   nice\n",
       "0    True   True  False      False   False  False      False  False\n",
       "1    True   True  False      False   False  False       True  False\n",
       "2    True   True   True      False   False  False      False   True\n",
       "3    True   True  False      False   False  False      False   True\n",
       "4    True  False  False      False   False  False       True   True"
      ]
     },
     "execution_count": 54,
     "metadata": {},
     "output_type": "execute_result"
    }
   ],
   "source": [
    "reviews_subset.head()"
   ]
  },
  {
   "cell_type": "code",
   "execution_count": 55,
   "metadata": {},
   "outputs": [
    {
     "name": "stderr",
     "output_type": "stream",
     "text": [
      "/Library/Frameworks/Python.framework/Versions/3.5/lib/python3.5/site-packages/pandas/core/generic.py:3110: SettingWithCopyWarning: \n",
      "A value is trying to be set on a copy of a slice from a DataFrame.\n",
      "Try using .loc[row_indexer,col_indexer] = value instead\n",
      "\n",
      "See the caveats in the documentation: http://pandas.pydata.org/pandas-docs/stable/indexing.html#indexing-view-versus-copy\n",
      "  self[name] = value\n"
     ]
    }
   ],
   "source": [
    "reviews_subset.overall = reviews_subset.overall.astype('bool')"
   ]
  },
  {
   "cell_type": "code",
   "execution_count": 56,
   "metadata": {},
   "outputs": [
    {
     "data": {
      "text/plain": [
       "<matplotlib.axes._subplots.AxesSubplot at 0x12aeae550>"
      ]
     },
     "execution_count": 56,
     "metadata": {},
     "output_type": "execute_result"
    },
    {
     "data": {
      "image/png": "[encoded data removed]",
      "text/plain": [
       "<matplotlib.figure.Figure at 0x12aea3ba8>"
      ]
     },
     "metadata": {},
     "output_type": "display_data"
    }
   ],
   "source": [
    "sns.heatmap(reviews_subset.corr())"
   ]
  },
  {
   "cell_type": "code",
   "execution_count": 57,
   "metadata": {
    "collapsed": true
   },
   "outputs": [],
   "source": [
    "data = reviews_subset[keywords]\n",
    "target = reviews_subset['overall']"
   ]
  },
  {
   "cell_type": "code",
   "execution_count": 58,
   "metadata": {},
   "outputs": [
    {
     "name": "stdout",
     "output_type": "stream",
     "text": [
      "Number of mislabeled points out of a total 346355 points : 66554\n"
     ]
    }
   ],
   "source": [
    "# Our data is binary / boolean, so we're importing the Bernoulli classifier.\n",
    "from sklearn.naive_bayes import BernoulliNB\n",
    "\n",
    "# Instantiate our model and store it in a new variable.\n",
    "bnb = BernoulliNB()\n",
    "\n",
    "# Fit our model to the data.\n",
    "bnb.fit(data, target)\n",
    "\n",
    "# Classify, storing the result in a new variable.\n",
    "y_pred = bnb.predict(data)\n",
    "\n",
    "# Display our results.\n",
    "print(\"Number of mislabeled points out of a total {} points : {}\".format(\n",
    "    data.shape[0],\n",
    "    (target != y_pred).sum()\n",
    "))"
   ]
  },
  {
   "cell_type": "markdown",
   "metadata": {},
   "source": [
    "So as of now, I'm at 80.8% correct..."
   ]
  },
  {
   "cell_type": "code",
   "execution_count": 59,
   "metadata": {},
   "outputs": [
    {
     "data": {
      "text/plain": [
       "array([[     0,  66554],\n",
       "       [     0, 279801]])"
      ]
     },
     "execution_count": 59,
     "metadata": {},
     "output_type": "execute_result"
    }
   ],
   "source": [
    "from sklearn.metrics import confusion_matrix\n",
    "confusion_matrix(target, y_pred)"
   ]
  },
  {
   "cell_type": "markdown",
   "metadata": {},
   "source": [
    "Wait a second!!!!! It kept choosing True!!!! I need to undersample like with the credit card fraud case!!!"
   ]
  },
  {
   "cell_type": "code",
   "execution_count": 60,
   "metadata": {
    "collapsed": true
   },
   "outputs": [],
   "source": [
    "positive_reviews = reviews_subset[reviews_subset.overall == True]"
   ]
  },
  {
   "cell_type": "code",
   "execution_count": 61,
   "metadata": {
    "collapsed": true
   },
   "outputs": [],
   "source": [
    "negative_reviews = reviews_subset[reviews_subset.overall == False]"
   ]
  },
  {
   "cell_type": "code",
   "execution_count": 62,
   "metadata": {},
   "outputs": [
    {
     "data": {
      "text/plain": [
       "(66554, 8)"
      ]
     },
     "execution_count": 62,
     "metadata": {},
     "output_type": "execute_result"
    }
   ],
   "source": [
    "negative_reviews.shape"
   ]
  },
  {
   "cell_type": "code",
   "execution_count": 63,
   "metadata": {},
   "outputs": [
    {
     "data": {
      "text/plain": [
       "(279801, 8)"
      ]
     },
     "execution_count": 63,
     "metadata": {},
     "output_type": "execute_result"
    }
   ],
   "source": [
    "positive_reviews.shape"
   ]
  },
  {
   "cell_type": "code",
   "execution_count": 64,
   "metadata": {
    "collapsed": true
   },
   "outputs": [],
   "source": [
    "positive_reviews_undersample = positive_reviews[:negative_reviews.shape[0]]"
   ]
  },
  {
   "cell_type": "code",
   "execution_count": 65,
   "metadata": {},
   "outputs": [
    {
     "data": {
      "text/plain": [
       "(66554, 8)"
      ]
     },
     "execution_count": 65,
     "metadata": {},
     "output_type": "execute_result"
    }
   ],
   "source": [
    "positive_reviews_undersample.shape"
   ]
  },
  {
   "cell_type": "code",
   "execution_count": 66,
   "metadata": {
    "collapsed": true
   },
   "outputs": [],
   "source": [
    "reviews_undersample = pd.concat([negative_reviews, positive_reviews_undersample])"
   ]
  },
  {
   "cell_type": "code",
   "execution_count": 67,
   "metadata": {},
   "outputs": [
    {
     "data": {
      "text/plain": [
       "(133108, 8)"
      ]
     },
     "execution_count": 67,
     "metadata": {},
     "output_type": "execute_result"
    }
   ],
   "source": [
    "reviews_undersample.shape"
   ]
  },
  {
   "cell_type": "code",
   "execution_count": 68,
   "metadata": {},
   "outputs": [
    {
     "name": "stdout",
     "output_type": "stream",
     "text": [
      "Number of mislabeled points out of a total 133108 points : 55997\n"
     ]
    }
   ],
   "source": [
    "data = reviews_undersample[keywords]\n",
    "target = reviews_undersample['overall']\n",
    "\n",
    "# Our data is binary / boolean, so we're importing the Bernoulli classifier.\n",
    "from sklearn.naive_bayes import BernoulliNB\n",
    "\n",
    "# Instantiate our model and store it in a new variable.\n",
    "bnb = BernoulliNB()\n",
    "\n",
    "# Fit our model to the data.\n",
    "bnb.fit(data, target)\n",
    "\n",
    "# Classify, storing the result in a new variable.\n",
    "y_pred = bnb.predict(data)\n",
    "\n",
    "# Display our results.\n",
    "print(\"Number of mislabeled points out of a total {} points : {}\".format(\n",
    "    data.shape[0],\n",
    "    (target != y_pred).sum()\n",
    "))"
   ]
  },
  {
   "cell_type": "markdown",
   "metadata": {},
   "source": [
    "42% mislabled! So, 58% correct. It's even worse this time! :-/"
   ]
  },
  {
   "cell_type": "code",
   "execution_count": 69,
   "metadata": {},
   "outputs": [
    {
     "data": {
      "text/plain": [
       "array([[53044, 13510],\n",
       "       [42487, 24067]])"
      ]
     },
     "execution_count": 69,
     "metadata": {},
     "output_type": "execute_result"
    }
   ],
   "source": [
    "confusion_matrix(target, y_pred, labels=[False,True])"
   ]
  },
  {
   "cell_type": "markdown",
   "metadata": {},
   "source": [
    "I'm going to try it with the entire set..."
   ]
  },
  {
   "cell_type": "code",
   "execution_count": 70,
   "metadata": {
    "collapsed": true
   },
   "outputs": [],
   "source": [
    "data_entire_set = reviews_subset[keywords]\n",
    "target_entire_set = reviews_subset['overall']"
   ]
  },
  {
   "cell_type": "code",
   "execution_count": 71,
   "metadata": {},
   "outputs": [
    {
     "name": "stdout",
     "output_type": "stream",
     "text": [
      "Number of mislabeled points out of a total 346355 points : 185263\n"
     ]
    }
   ],
   "source": [
    "# Fit our model to the data.\n",
    "bnb.fit(data, target)\n",
    "\n",
    "# Classify, storing the result in a new variable.\n",
    "y_pred = bnb.predict(data_entire_set)\n",
    "\n",
    "# Display our results.\n",
    "print(\"Number of mislabeled points out of a total {} points : {}\".format(\n",
    "    data_entire_set.shape[0],\n",
    "    (target_entire_set != y_pred).sum()\n",
    "))"
   ]
  },
  {
   "cell_type": "markdown",
   "metadata": {},
   "source": [
    "53% wrong!!!! :-/"
   ]
  },
  {
   "cell_type": "markdown",
   "metadata": {},
   "source": [
    "I'm going to try it with the negative words that we discussed to see if it works a little bit better. "
   ]
  },
  {
   "cell_type": "code",
   "execution_count": 72,
   "metadata": {
    "collapsed": true
   },
   "outputs": [],
   "source": [
    "negative_reviews = health_reviews.copy()"
   ]
  },
  {
   "cell_type": "code",
   "execution_count": 73,
   "metadata": {},
   "outputs": [
    {
     "name": "stderr",
     "output_type": "stream",
     "text": [
      "/Library/Frameworks/Python.framework/Versions/3.5/lib/python3.5/site-packages/pandas/core/generic.py:3110: SettingWithCopyWarning: \n",
      "A value is trying to be set on a copy of a slice from a DataFrame.\n",
      "Try using .loc[row_indexer,col_indexer] = value instead\n",
      "\n",
      "See the caveats in the documentation: http://pandas.pydata.org/pandas-docs/stable/indexing.html#indexing-view-versus-copy\n",
      "  self[name] = value\n"
     ]
    },
    {
     "data": {
      "text/html": [
       "<div>\n",
       "<style>\n",
       "    .dataframe thead tr:only-child th {\n",
       "        text-align: right;\n",
       "    }\n",
       "\n",
       "    .dataframe thead th {\n",
       "        text-align: left;\n",
       "    }\n",
       "\n",
       "    .dataframe tbody tr th {\n",
       "        vertical-align: top;\n",
       "    }\n",
       "</style>\n",
       "<table border=\"1\" class=\"dataframe\">\n",
       "  <thead>\n",
       "    <tr style=\"text-align: right;\">\n",
       "      <th></th>\n",
       "      <th>awful</th>\n",
       "      <th>refund</th>\n",
       "      <th>terrible</th>\n",
       "      <th>lousy</th>\n",
       "      <th>defective</th>\n",
       "      <th>bad</th>\n",
       "      <th>useless</th>\n",
       "      <th>horrible</th>\n",
       "      <th>substandard</th>\n",
       "      <th>overall</th>\n",
       "    </tr>\n",
       "  </thead>\n",
       "  <tbody>\n",
       "    <tr>\n",
       "      <th>0</th>\n",
       "      <td>False</td>\n",
       "      <td>False</td>\n",
       "      <td>False</td>\n",
       "      <td>False</td>\n",
       "      <td>False</td>\n",
       "      <td>False</td>\n",
       "      <td>False</td>\n",
       "      <td>False</td>\n",
       "      <td>False</td>\n",
       "      <td>True</td>\n",
       "    </tr>\n",
       "    <tr>\n",
       "      <th>1</th>\n",
       "      <td>False</td>\n",
       "      <td>False</td>\n",
       "      <td>False</td>\n",
       "      <td>False</td>\n",
       "      <td>False</td>\n",
       "      <td>False</td>\n",
       "      <td>False</td>\n",
       "      <td>False</td>\n",
       "      <td>False</td>\n",
       "      <td>True</td>\n",
       "    </tr>\n",
       "    <tr>\n",
       "      <th>2</th>\n",
       "      <td>False</td>\n",
       "      <td>False</td>\n",
       "      <td>False</td>\n",
       "      <td>False</td>\n",
       "      <td>False</td>\n",
       "      <td>False</td>\n",
       "      <td>False</td>\n",
       "      <td>False</td>\n",
       "      <td>False</td>\n",
       "      <td>True</td>\n",
       "    </tr>\n",
       "    <tr>\n",
       "      <th>3</th>\n",
       "      <td>False</td>\n",
       "      <td>False</td>\n",
       "      <td>False</td>\n",
       "      <td>False</td>\n",
       "      <td>False</td>\n",
       "      <td>False</td>\n",
       "      <td>False</td>\n",
       "      <td>False</td>\n",
       "      <td>False</td>\n",
       "      <td>True</td>\n",
       "    </tr>\n",
       "    <tr>\n",
       "      <th>4</th>\n",
       "      <td>False</td>\n",
       "      <td>False</td>\n",
       "      <td>False</td>\n",
       "      <td>False</td>\n",
       "      <td>False</td>\n",
       "      <td>False</td>\n",
       "      <td>False</td>\n",
       "      <td>False</td>\n",
       "      <td>False</td>\n",
       "      <td>True</td>\n",
       "    </tr>\n",
       "  </tbody>\n",
       "</table>\n",
       "</div>"
      ],
      "text/plain": [
       "   awful  refund  terrible  lousy  defective    bad  useless  horrible  \\\n",
       "0  False   False     False  False      False  False    False     False   \n",
       "1  False   False     False  False      False  False    False     False   \n",
       "2  False   False     False  False      False  False    False     False   \n",
       "3  False   False     False  False      False  False    False     False   \n",
       "4  False   False     False  False      False  False    False     False   \n",
       "\n",
       "   substandard  overall  \n",
       "0        False     True  \n",
       "1        False     True  \n",
       "2        False     True  \n",
       "3        False     True  \n",
       "4        False     True  "
      ]
     },
     "execution_count": 73,
     "metadata": {},
     "output_type": "execute_result"
    }
   ],
   "source": [
    "negative_reviews.reviewText = negative_reviews.reviewText.str.lower()\n",
    "negative_reviews.reviewText = negative_reviews['reviewText'].str.replace('[^\\w\\s]',' ')\n",
    "\n",
    "keywords = ['awful','refund','terrible','lousy','defective','bad','useless','horrible','substandard']\n",
    "\n",
    "for key in keywords:\n",
    "    # Note that we add spaces around the key so that we're getting the word,\n",
    "    # not just pattern matching.\n",
    "    negative_reviews[str(key)] = negative_reviews.reviewText.str.contains(\n",
    "        ' ' + str(key) + ' ',\n",
    "        case=False\n",
    "    )\n",
    "    \n",
    "negative_reviews.loc[negative_reviews.overall < 4, 'overall'] = False\n",
    "negative_reviews.loc[negative_reviews.overall >= 4, 'overall'] = True\n",
    "\n",
    "negative_reviews_subset = negative_reviews[keywords + ['overall']]\n",
    "\n",
    "negative_reviews_subset.overall = negative_reviews_subset.overall.astype('bool')\n",
    "\n",
    "negative_reviews_subset.head()"
   ]
  },
  {
   "cell_type": "code",
   "execution_count": 74,
   "metadata": {},
   "outputs": [
    {
     "data": {
      "text/plain": [
       "<matplotlib.axes._subplots.AxesSubplot at 0x12aede4a8>"
      ]
     },
     "execution_count": 74,
     "metadata": {},
     "output_type": "execute_result"
    },
    {
     "data": {
      "image/png": "[encoded data removed]",
      "text/plain": [
       "<matplotlib.figure.Figure at 0x12aeceba8>"
      ]
     },
     "metadata": {},
     "output_type": "display_data"
    }
   ],
   "source": [
    "sns.heatmap(negative_reviews_subset.corr())"
   ]
  },
  {
   "cell_type": "code",
   "execution_count": 75,
   "metadata": {},
   "outputs": [
    {
     "name": "stdout",
     "output_type": "stream",
     "text": [
      "        awful  refund  terrible  lousy  defective    bad  useless  horrible  \\\n",
      "0       False   False     False  False      False  False    False     False   \n",
      "1       False   False     False  False      False  False    False     False   \n",
      "2       False   False     False  False      False  False    False     False   \n",
      "3       False   False     False  False      False  False    False     False   \n",
      "4       False   False     False  False      False  False    False     False   \n",
      "5       False   False     False  False      False  False    False     False   \n",
      "6       False   False     False  False      False  False    False     False   \n",
      "7       False   False     False  False      False  False    False     False   \n",
      "8       False   False     False  False      False  False    False     False   \n",
      "9       False   False     False  False      False  False    False     False   \n",
      "10      False   False     False  False      False  False    False     False   \n",
      "11      False   False     False  False      False  False    False     False   \n",
      "12      False   False     False  False      False  False    False     False   \n",
      "13      False   False     False  False      False  False    False     False   \n",
      "14      False   False     False  False      False  False    False     False   \n",
      "15      False   False     False  False      False  False    False     False   \n",
      "16      False   False     False  False      False  False    False     False   \n",
      "17      False   False     False  False      False  False    False     False   \n",
      "18      False   False     False  False      False  False    False     False   \n",
      "19      False   False     False  False      False  False    False     False   \n",
      "20      False   False     False  False      False  False    False     False   \n",
      "21      False   False     False  False      False  False    False     False   \n",
      "22      False   False     False  False      False  False    False     False   \n",
      "23      False   False     False  False      False  False    False     False   \n",
      "24      False   False     False  False      False  False    False     False   \n",
      "25      False   False     False  False      False  False    False     False   \n",
      "26      False   False     False  False      False  False    False      True   \n",
      "27      False   False     False  False      False  False    False     False   \n",
      "28      False   False     False  False      False  False    False     False   \n",
      "29      False   False     False  False      False  False    False     False   \n",
      "...       ...     ...       ...    ...        ...    ...      ...       ...   \n",
      "346325  False   False     False  False      False  False    False     False   \n",
      "346326  False   False     False  False      False  False    False     False   \n",
      "346327  False   False     False  False      False  False    False     False   \n",
      "346328  False   False     False  False      False  False    False     False   \n",
      "346329  False   False     False  False      False  False    False     False   \n",
      "346330  False   False     False  False      False  False    False     False   \n",
      "346331  False   False     False  False      False  False    False     False   \n",
      "346332  False   False     False  False      False  False    False     False   \n",
      "346333  False   False     False  False      False  False    False     False   \n",
      "346334  False   False     False  False      False  False    False     False   \n",
      "346335  False   False     False  False      False  False    False     False   \n",
      "346336  False   False     False  False      False  False    False     False   \n",
      "346337  False   False     False  False      False  False    False     False   \n",
      "346338  False   False     False  False      False  False    False     False   \n",
      "346339  False   False     False  False      False  False    False     False   \n",
      "346340  False   False     False  False      False  False    False     False   \n",
      "346341  False   False     False  False      False  False    False     False   \n",
      "346342  False   False     False  False      False  False    False     False   \n",
      "346343  False   False     False  False      False  False    False     False   \n",
      "346344  False   False     False  False      False  False    False     False   \n",
      "346345  False   False     False  False      False  False    False     False   \n",
      "346346  False   False     False  False      False  False    False     False   \n",
      "346347  False   False     False  False      False  False    False     False   \n",
      "346348  False   False     False  False      False  False    False     False   \n",
      "346349  False   False     False  False      False  False    False     False   \n",
      "346350  False   False     False  False      False  False    False     False   \n",
      "346351  False   False     False  False      False  False    False     False   \n",
      "346352  False   False     False  False      False  False    False     False   \n",
      "346353  False   False     False  False      False  False    False     False   \n",
      "346354  False   False     False  False      False  False    False     False   \n",
      "\n",
      "        substandard  \n",
      "0             False  \n",
      "1             False  \n",
      "2             False  \n",
      "3             False  \n",
      "4             False  \n",
      "5             False  \n",
      "6             False  \n",
      "7             False  \n",
      "8             False  \n",
      "9             False  \n",
      "10            False  \n",
      "11            False  \n",
      "12            False  \n",
      "13            False  \n",
      "14            False  \n",
      "15            False  \n",
      "16            False  \n",
      "17            False  \n",
      "18            False  \n",
      "19            False  \n",
      "20            False  \n",
      "21            False  \n",
      "22            False  \n",
      "23            False  \n",
      "24            False  \n",
      "25            False  \n",
      "26            False  \n",
      "27            False  \n",
      "28            False  \n",
      "29            False  \n",
      "...             ...  \n",
      "346325        False  \n",
      "346326        False  \n",
      "346327        False  \n",
      "346328        False  \n",
      "346329        False  \n",
      "346330        False  \n",
      "346331        False  \n",
      "346332        False  \n",
      "346333        False  \n",
      "346334        False  \n",
      "346335        False  \n",
      "346336        False  \n",
      "346337        False  \n",
      "346338        False  \n",
      "346339        False  \n",
      "346340        False  \n",
      "346341        False  \n",
      "346342        False  \n",
      "346343        False  \n",
      "346344        False  \n",
      "346345        False  \n",
      "346346        False  \n",
      "346347        False  \n",
      "346348        False  \n",
      "346349        False  \n",
      "346350        False  \n",
      "346351        False  \n",
      "346352        False  \n",
      "346353        False  \n",
      "346354        False  \n",
      "\n",
      "[346355 rows x 9 columns] 0          True\n",
      "1          True\n",
      "2          True\n",
      "3          True\n",
      "4          True\n",
      "5          True\n",
      "6          True\n",
      "7          True\n",
      "8         False\n",
      "9          True\n",
      "10         True\n",
      "11         True\n",
      "12         True\n",
      "13         True\n",
      "14         True\n",
      "15         True\n",
      "16         True\n",
      "17        False\n",
      "18         True\n",
      "19         True\n",
      "20         True\n",
      "21         True\n",
      "22         True\n",
      "23         True\n",
      "24         True\n",
      "25         True\n",
      "26        False\n",
      "27        False\n",
      "28         True\n",
      "29        False\n",
      "          ...  \n",
      "346325     True\n",
      "346326     True\n",
      "346327     True\n",
      "346328    False\n",
      "346329     True\n",
      "346330     True\n",
      "346331     True\n",
      "346332     True\n",
      "346333     True\n",
      "346334     True\n",
      "346335     True\n",
      "346336     True\n",
      "346337     True\n",
      "346338     True\n",
      "346339     True\n",
      "346340     True\n",
      "346341     True\n",
      "346342     True\n",
      "346343     True\n",
      "346344     True\n",
      "346345     True\n",
      "346346     True\n",
      "346347     True\n",
      "346348     True\n",
      "346349     True\n",
      "346350     True\n",
      "346351     True\n",
      "346352     True\n",
      "346353     True\n",
      "346354     True\n",
      "Name: overall, Length: 346355, dtype: bool\n",
      "Number of mislabeled points out of a total 346355 points : 65849\n"
     ]
    }
   ],
   "source": [
    "data = negative_reviews_subset[keywords]\n",
    "target = negative_reviews_subset['overall']\n",
    "\n",
    "print(data, target)\n",
    "\n",
    "# # Our data is binary / boolean, so we're importing the Bernoulli classifier.\n",
    "# from sklearn.naive_bayes import BernoulliNB\n",
    "\n",
    "# # Instantiate our model and store it in a new variable.\n",
    "# bnb = BernoulliNB()\n",
    "\n",
    "# Fit our model to the data.\n",
    "bnb.fit(data, target)\n",
    "\n",
    "# Classify, storing the result in a new variable.\n",
    "y_pred = bnb.predict(data)\n",
    "\n",
    "# Display our results.\n",
    "print(\"Number of mislabeled points out of a total {} points : {}\".format(\n",
    "    data.shape[0],\n",
    "    (target != y_pred).sum()\n",
    "))"
   ]
  },
  {
   "cell_type": "markdown",
   "metadata": {},
   "source": [
    "Okay... so 100% correct... That's crazy!!! "
   ]
  },
  {
   "cell_type": "code",
   "execution_count": 76,
   "metadata": {},
   "outputs": [
    {
     "data": {
      "text/plain": [
       "array([[  2527,  64027],\n",
       "       [  1822, 277979]])"
      ]
     },
     "execution_count": 76,
     "metadata": {},
     "output_type": "execute_result"
    }
   ],
   "source": [
    "confusion_matrix(target, y_pred)"
   ]
  },
  {
   "cell_type": "markdown",
   "metadata": {},
   "source": [
    "I think now is a good time to do some cross validations!!! :-P"
   ]
  },
  {
   "cell_type": "code",
   "execution_count": 80,
   "metadata": {},
   "outputs": [
    {
     "name": "stdout",
     "output_type": "stream",
     "text": [
      "Number of mislabeled points out of a total 69271 points : 13150\n",
      "[[  499 12778]\n",
      " [  372 55622]]\n",
      "Number of mislabeled points out of a total 69271 points : 13231\n",
      "[[  507 12898]\n",
      " [  333 55533]]\n",
      "Number of mislabeled points out of a total 69271 points : 13076\n",
      "[[  534 12732]\n",
      " [  344 55661]]\n",
      "Number of mislabeled points out of a total 69271 points : 13242\n",
      "[[  500 12857]\n",
      " [  385 55529]]\n",
      "Number of mislabeled points out of a total 69271 points : 13152\n",
      "[[  484 12765]\n",
      " [  387 55635]]\n"
     ]
    }
   ],
   "source": [
    "from sklearn.model_selection import KFold\n",
    "\n",
    "kf = KFold(n_splits=5, shuffle=True)\n",
    "\n",
    "for train_index, test_index in kf.split(negative_reviews_subset):\n",
    "    data = negative_reviews_subset.iloc[train_index][keywords]\n",
    "    target = negative_reviews_subset.iloc[train_index]['overall']\n",
    "    test_data = negative_reviews_subset.iloc[test_index][keywords]\n",
    "    test_target = negative_reviews_subset.iloc[test_index]['overall']\n",
    "\n",
    "    bnb.fit(data, target)\n",
    "    \n",
    "    # Classify, storing the result in a new variable.\n",
    "    y_pred = bnb.predict(test_data)\n",
    "    # Display our results.\n",
    "    print(\"Number of mislabeled points out of a total {} points : {}\".format(\n",
    "        test_target.shape[0],(test_target != y_pred).sum()))\n",
    "    print(confusion_matrix(test_target, y_pred))\n"
   ]
  },
  {
   "cell_type": "markdown",
   "metadata": {},
   "source": [
    "81% correct.... I wonder if adding both positive and negative words would help..."
   ]
  },
  {
   "cell_type": "code",
   "execution_count": 84,
   "metadata": {},
   "outputs": [
    {
     "data": {
      "text/plain": [
       "0          True\n",
       "1          True\n",
       "2          True\n",
       "3          True\n",
       "4         False\n",
       "5         False\n",
       "6         False\n",
       "7         False\n",
       "8         False\n",
       "9         False\n",
       "10        False\n",
       "11        False\n",
       "12         True\n",
       "13        False\n",
       "14        False\n",
       "15         True\n",
       "16         True\n",
       "17        False\n",
       "18        False\n",
       "19        False\n",
       "20        False\n",
       "21        False\n",
       "22         True\n",
       "23        False\n",
       "24        False\n",
       "25        False\n",
       "26        False\n",
       "27        False\n",
       "28        False\n",
       "29        False\n",
       "          ...  \n",
       "346325    False\n",
       "346326    False\n",
       "346327     True\n",
       "346328    False\n",
       "346329     True\n",
       "346330    False\n",
       "346331    False\n",
       "346332    False\n",
       "346333     True\n",
       "346334    False\n",
       "346335    False\n",
       "346336    False\n",
       "346337     True\n",
       "346338    False\n",
       "346339     True\n",
       "346340    False\n",
       "346341    False\n",
       "346342    False\n",
       "346343    False\n",
       "346344    False\n",
       "346345     True\n",
       "346346    False\n",
       "346347    False\n",
       "346348    False\n",
       "346349    False\n",
       "346350    False\n",
       "346351     True\n",
       "346352     True\n",
       "346353     True\n",
       "346354    False\n",
       "Name: great, Length: 346355, dtype: bool"
      ]
     },
     "execution_count": 84,
     "metadata": {},
     "output_type": "execute_result"
    }
   ],
   "source": [
    "reviews_subset.great"
   ]
  },
  {
   "cell_type": "code",
   "execution_count": 86,
   "metadata": {
    "collapsed": true
   },
   "outputs": [],
   "source": [
    "pos_neg_reviews = health_reviews.copy()"
   ]
  },
  {
   "cell_type": "code",
   "execution_count": 87,
   "metadata": {},
   "outputs": [
    {
     "name": "stderr",
     "output_type": "stream",
     "text": [
      "/Library/Frameworks/Python.framework/Versions/3.5/lib/python3.5/site-packages/pandas/core/generic.py:3110: SettingWithCopyWarning: \n",
      "A value is trying to be set on a copy of a slice from a DataFrame.\n",
      "Try using .loc[row_indexer,col_indexer] = value instead\n",
      "\n",
      "See the caveats in the documentation: http://pandas.pydata.org/pandas-docs/stable/indexing.html#indexing-view-versus-copy\n",
      "  self[name] = value\n"
     ]
    },
    {
     "data": {
      "text/html": [
       "<div>\n",
       "<style>\n",
       "    .dataframe thead tr:only-child th {\n",
       "        text-align: right;\n",
       "    }\n",
       "\n",
       "    .dataframe thead th {\n",
       "        text-align: left;\n",
       "    }\n",
       "\n",
       "    .dataframe tbody tr th {\n",
       "        vertical-align: top;\n",
       "    }\n",
       "</style>\n",
       "<table border=\"1\" class=\"dataframe\">\n",
       "  <thead>\n",
       "    <tr style=\"text-align: right;\">\n",
       "      <th></th>\n",
       "      <th>awful</th>\n",
       "      <th>refund</th>\n",
       "      <th>terrible</th>\n",
       "      <th>lousy</th>\n",
       "      <th>defective</th>\n",
       "      <th>bad</th>\n",
       "      <th>useless</th>\n",
       "      <th>horrible</th>\n",
       "      <th>substandard</th>\n",
       "      <th>great</th>\n",
       "      <th>good</th>\n",
       "      <th>fantastic</th>\n",
       "      <th>useful</th>\n",
       "      <th>love</th>\n",
       "      <th>recommend</th>\n",
       "      <th>nice</th>\n",
       "      <th>overall</th>\n",
       "    </tr>\n",
       "  </thead>\n",
       "  <tbody>\n",
       "    <tr>\n",
       "      <th>0</th>\n",
       "      <td>False</td>\n",
       "      <td>False</td>\n",
       "      <td>False</td>\n",
       "      <td>False</td>\n",
       "      <td>False</td>\n",
       "      <td>False</td>\n",
       "      <td>False</td>\n",
       "      <td>False</td>\n",
       "      <td>False</td>\n",
       "      <td>True</td>\n",
       "      <td>False</td>\n",
       "      <td>False</td>\n",
       "      <td>False</td>\n",
       "      <td>False</td>\n",
       "      <td>False</td>\n",
       "      <td>False</td>\n",
       "      <td>True</td>\n",
       "    </tr>\n",
       "    <tr>\n",
       "      <th>1</th>\n",
       "      <td>False</td>\n",
       "      <td>False</td>\n",
       "      <td>False</td>\n",
       "      <td>False</td>\n",
       "      <td>False</td>\n",
       "      <td>False</td>\n",
       "      <td>False</td>\n",
       "      <td>False</td>\n",
       "      <td>False</td>\n",
       "      <td>True</td>\n",
       "      <td>False</td>\n",
       "      <td>False</td>\n",
       "      <td>False</td>\n",
       "      <td>False</td>\n",
       "      <td>True</td>\n",
       "      <td>False</td>\n",
       "      <td>True</td>\n",
       "    </tr>\n",
       "    <tr>\n",
       "      <th>2</th>\n",
       "      <td>False</td>\n",
       "      <td>False</td>\n",
       "      <td>False</td>\n",
       "      <td>False</td>\n",
       "      <td>False</td>\n",
       "      <td>False</td>\n",
       "      <td>False</td>\n",
       "      <td>False</td>\n",
       "      <td>False</td>\n",
       "      <td>True</td>\n",
       "      <td>True</td>\n",
       "      <td>False</td>\n",
       "      <td>False</td>\n",
       "      <td>False</td>\n",
       "      <td>False</td>\n",
       "      <td>True</td>\n",
       "      <td>True</td>\n",
       "    </tr>\n",
       "    <tr>\n",
       "      <th>3</th>\n",
       "      <td>False</td>\n",
       "      <td>False</td>\n",
       "      <td>False</td>\n",
       "      <td>False</td>\n",
       "      <td>False</td>\n",
       "      <td>False</td>\n",
       "      <td>False</td>\n",
       "      <td>False</td>\n",
       "      <td>False</td>\n",
       "      <td>True</td>\n",
       "      <td>False</td>\n",
       "      <td>False</td>\n",
       "      <td>False</td>\n",
       "      <td>False</td>\n",
       "      <td>False</td>\n",
       "      <td>True</td>\n",
       "      <td>True</td>\n",
       "    </tr>\n",
       "    <tr>\n",
       "      <th>4</th>\n",
       "      <td>False</td>\n",
       "      <td>False</td>\n",
       "      <td>False</td>\n",
       "      <td>False</td>\n",
       "      <td>False</td>\n",
       "      <td>False</td>\n",
       "      <td>False</td>\n",
       "      <td>False</td>\n",
       "      <td>False</td>\n",
       "      <td>False</td>\n",
       "      <td>False</td>\n",
       "      <td>False</td>\n",
       "      <td>False</td>\n",
       "      <td>False</td>\n",
       "      <td>True</td>\n",
       "      <td>True</td>\n",
       "      <td>True</td>\n",
       "    </tr>\n",
       "  </tbody>\n",
       "</table>\n",
       "</div>"
      ],
      "text/plain": [
       "   awful  refund  terrible  lousy  defective    bad  useless  horrible  \\\n",
       "0  False   False     False  False      False  False    False     False   \n",
       "1  False   False     False  False      False  False    False     False   \n",
       "2  False   False     False  False      False  False    False     False   \n",
       "3  False   False     False  False      False  False    False     False   \n",
       "4  False   False     False  False      False  False    False     False   \n",
       "\n",
       "   substandard  great   good  fantastic  useful   love  recommend   nice  \\\n",
       "0        False   True  False      False   False  False      False  False   \n",
       "1        False   True  False      False   False  False       True  False   \n",
       "2        False   True   True      False   False  False      False   True   \n",
       "3        False   True  False      False   False  False      False   True   \n",
       "4        False  False  False      False   False  False       True   True   \n",
       "\n",
       "   overall  \n",
       "0     True  \n",
       "1     True  \n",
       "2     True  \n",
       "3     True  \n",
       "4     True  "
      ]
     },
     "execution_count": 87,
     "metadata": {},
     "output_type": "execute_result"
    }
   ],
   "source": [
    "pos_neg_reviews.reviewText = pos_neg_reviews.reviewText.str.lower()\n",
    "pos_neg_reviews.reviewText = pos_neg_reviews['reviewText'].str.replace('[^\\w\\s]',' ')\n",
    "\n",
    "keywords = ['awful','refund','terrible','lousy','defective','bad','useless','horrible','substandard', 'great','good','fantastic','useful','love','recommend','nice']\n",
    "\n",
    "for key in keywords:\n",
    "    # Note that we add spaces around the key so that we're getting the word,\n",
    "    # not just pattern matching.\n",
    "    pos_neg_reviews[str(key)] = pos_neg_reviews.reviewText.str.contains(\n",
    "        ' ' + str(key) + ' ',\n",
    "        case=False\n",
    "    )\n",
    "    \n",
    "pos_neg_reviews.loc[pos_neg_reviews.overall < 4, 'overall'] = False\n",
    "pos_neg_reviews.loc[pos_neg_reviews.overall >= 4, 'overall'] = True\n",
    "\n",
    "pos_neg_reviews_subset = pos_neg_reviews[keywords + ['overall']]\n",
    "\n",
    "pos_neg_reviews_subset.overall = pos_neg_reviews_subset.overall.astype('bool')\n",
    "\n",
    "pos_neg_reviews_subset.head()"
   ]
  },
  {
   "cell_type": "code",
   "execution_count": 88,
   "metadata": {},
   "outputs": [
    {
     "name": "stdout",
     "output_type": "stream",
     "text": [
      "        awful  refund  terrible  lousy  defective    bad  useless  horrible  \\\n",
      "0       False   False     False  False      False  False    False     False   \n",
      "1       False   False     False  False      False  False    False     False   \n",
      "2       False   False     False  False      False  False    False     False   \n",
      "3       False   False     False  False      False  False    False     False   \n",
      "4       False   False     False  False      False  False    False     False   \n",
      "5       False   False     False  False      False  False    False     False   \n",
      "6       False   False     False  False      False  False    False     False   \n",
      "7       False   False     False  False      False  False    False     False   \n",
      "8       False   False     False  False      False  False    False     False   \n",
      "9       False   False     False  False      False  False    False     False   \n",
      "10      False   False     False  False      False  False    False     False   \n",
      "11      False   False     False  False      False  False    False     False   \n",
      "12      False   False     False  False      False  False    False     False   \n",
      "13      False   False     False  False      False  False    False     False   \n",
      "14      False   False     False  False      False  False    False     False   \n",
      "15      False   False     False  False      False  False    False     False   \n",
      "16      False   False     False  False      False  False    False     False   \n",
      "17      False   False     False  False      False  False    False     False   \n",
      "18      False   False     False  False      False  False    False     False   \n",
      "19      False   False     False  False      False  False    False     False   \n",
      "20      False   False     False  False      False  False    False     False   \n",
      "21      False   False     False  False      False  False    False     False   \n",
      "22      False   False     False  False      False  False    False     False   \n",
      "23      False   False     False  False      False  False    False     False   \n",
      "24      False   False     False  False      False  False    False     False   \n",
      "25      False   False     False  False      False  False    False     False   \n",
      "26      False   False     False  False      False  False    False      True   \n",
      "27      False   False     False  False      False  False    False     False   \n",
      "28      False   False     False  False      False  False    False     False   \n",
      "29      False   False     False  False      False  False    False     False   \n",
      "...       ...     ...       ...    ...        ...    ...      ...       ...   \n",
      "346325  False   False     False  False      False  False    False     False   \n",
      "346326  False   False     False  False      False  False    False     False   \n",
      "346327  False   False     False  False      False  False    False     False   \n",
      "346328  False   False     False  False      False  False    False     False   \n",
      "346329  False   False     False  False      False  False    False     False   \n",
      "346330  False   False     False  False      False  False    False     False   \n",
      "346331  False   False     False  False      False  False    False     False   \n",
      "346332  False   False     False  False      False  False    False     False   \n",
      "346333  False   False     False  False      False  False    False     False   \n",
      "346334  False   False     False  False      False  False    False     False   \n",
      "346335  False   False     False  False      False  False    False     False   \n",
      "346336  False   False     False  False      False  False    False     False   \n",
      "346337  False   False     False  False      False  False    False     False   \n",
      "346338  False   False     False  False      False  False    False     False   \n",
      "346339  False   False     False  False      False  False    False     False   \n",
      "346340  False   False     False  False      False  False    False     False   \n",
      "346341  False   False     False  False      False  False    False     False   \n",
      "346342  False   False     False  False      False  False    False     False   \n",
      "346343  False   False     False  False      False  False    False     False   \n",
      "346344  False   False     False  False      False  False    False     False   \n",
      "346345  False   False     False  False      False  False    False     False   \n",
      "346346  False   False     False  False      False  False    False     False   \n",
      "346347  False   False     False  False      False  False    False     False   \n",
      "346348  False   False     False  False      False  False    False     False   \n",
      "346349  False   False     False  False      False  False    False     False   \n",
      "346350  False   False     False  False      False  False    False     False   \n",
      "346351  False   False     False  False      False  False    False     False   \n",
      "346352  False   False     False  False      False  False    False     False   \n",
      "346353  False   False     False  False      False  False    False     False   \n",
      "346354  False   False     False  False      False  False    False     False   \n",
      "\n",
      "        substandard  great   good  fantastic  useful   love  recommend   nice  \n",
      "0             False   True  False      False   False  False      False  False  \n",
      "1             False   True  False      False   False  False       True  False  \n",
      "2             False   True   True      False   False  False      False   True  \n",
      "3             False   True  False      False   False  False      False   True  \n",
      "4             False  False  False      False   False  False       True   True  \n",
      "5             False  False  False      False   False  False      False  False  \n",
      "6             False  False   True      False   False  False      False  False  \n",
      "7             False  False   True      False   False  False       True   True  \n",
      "8             False  False  False      False   False  False      False  False  \n",
      "9             False  False  False      False   False  False      False   True  \n",
      "10            False  False   True      False   False  False      False  False  \n",
      "11            False  False  False      False   False   True      False  False  \n",
      "12            False   True  False      False   False  False      False  False  \n",
      "13            False  False   True      False   False  False      False  False  \n",
      "14            False  False  False      False    True  False      False  False  \n",
      "15            False   True  False      False   False  False      False  False  \n",
      "16            False   True   True      False   False  False      False  False  \n",
      "17            False  False   True      False   False  False       True  False  \n",
      "18            False  False  False      False   False  False      False  False  \n",
      "19            False  False  False      False   False   True      False  False  \n",
      "20            False  False  False      False   False  False      False  False  \n",
      "21            False  False  False      False   False  False      False  False  \n",
      "22            False   True  False      False   False  False      False  False  \n",
      "23            False  False  False      False   False  False      False  False  \n",
      "24            False  False  False      False   False  False      False  False  \n",
      "25            False  False   True      False   False  False       True  False  \n",
      "26            False  False  False      False   False  False      False  False  \n",
      "27            False  False   True      False   False  False      False  False  \n",
      "28            False  False  False      False   False  False      False  False  \n",
      "29            False  False  False      False   False  False      False  False  \n",
      "...             ...    ...    ...        ...     ...    ...        ...    ...  \n",
      "346325        False  False  False      False   False  False      False  False  \n",
      "346326        False  False  False      False   False  False      False  False  \n",
      "346327        False   True   True      False   False  False       True  False  \n",
      "346328        False  False   True      False   False  False      False  False  \n",
      "346329        False   True  False      False   False  False      False  False  \n",
      "346330        False  False  False      False   False  False      False   True  \n",
      "346331        False  False  False      False   False   True      False  False  \n",
      "346332        False  False  False      False   False  False      False  False  \n",
      "346333        False   True   True      False   False  False      False  False  \n",
      "346334        False  False  False      False   False  False      False  False  \n",
      "346335        False  False  False      False   False  False      False  False  \n",
      "346336        False  False  False      False   False  False      False  False  \n",
      "346337        False   True  False      False   False  False       True  False  \n",
      "346338        False  False  False      False   False  False      False  False  \n",
      "346339        False   True  False      False   False   True      False  False  \n",
      "346340        False  False  False      False   False   True      False  False  \n",
      "346341        False  False  False      False   False  False       True  False  \n",
      "346342        False  False   True      False   False  False      False  False  \n",
      "346343        False  False  False      False   False   True      False  False  \n",
      "346344        False  False  False      False   False  False      False  False  \n",
      "346345        False   True   True      False   False  False       True  False  \n",
      "346346        False  False  False      False   False  False      False  False  \n",
      "346347        False  False  False      False   False  False      False  False  \n",
      "346348        False  False  False      False   False  False      False  False  \n",
      "346349        False  False  False      False   False  False      False  False  \n",
      "346350        False  False  False      False   False  False      False  False  \n",
      "346351        False   True  False      False   False  False      False  False  \n",
      "346352        False   True  False      False   False  False      False  False  \n",
      "346353        False   True  False      False   False  False      False  False  \n",
      "346354        False  False  False      False   False  False       True  False  \n",
      "\n",
      "[346355 rows x 16 columns] 0          True\n",
      "1          True\n",
      "2          True\n",
      "3          True\n",
      "4          True\n",
      "5          True\n",
      "6          True\n",
      "7          True\n",
      "8         False\n",
      "9          True\n",
      "10         True\n",
      "11         True\n",
      "12         True\n",
      "13         True\n",
      "14         True\n",
      "15         True\n",
      "16         True\n",
      "17        False\n",
      "18         True\n",
      "19         True\n",
      "20         True\n",
      "21         True\n",
      "22         True\n",
      "23         True\n",
      "24         True\n",
      "25         True\n",
      "26        False\n",
      "27        False\n",
      "28         True\n",
      "29        False\n",
      "          ...  \n",
      "346325     True\n",
      "346326     True\n",
      "346327     True\n",
      "346328    False\n",
      "346329     True\n",
      "346330     True\n",
      "346331     True\n",
      "346332     True\n",
      "346333     True\n",
      "346334     True\n",
      "346335     True\n",
      "346336     True\n",
      "346337     True\n",
      "346338     True\n",
      "346339     True\n",
      "346340     True\n",
      "346341     True\n",
      "346342     True\n",
      "346343     True\n",
      "346344     True\n",
      "346345     True\n",
      "346346     True\n",
      "346347     True\n",
      "346348     True\n",
      "346349     True\n",
      "346350     True\n",
      "346351     True\n",
      "346352     True\n",
      "346353     True\n",
      "346354     True\n",
      "Name: overall, Length: 346355, dtype: bool\n"
     ]
    },
    {
     "name": "stdout",
     "output_type": "stream",
     "text": [
      "Number of mislabeled points out of a total 346355 points : 65651\n"
     ]
    }
   ],
   "source": [
    "data = pos_neg_reviews[keywords]\n",
    "target = negative_reviews_subset['overall']\n",
    "\n",
    "print(data, target)\n",
    "\n",
    "# # Our data is binary / boolean, so we're importing the Bernoulli classifier.\n",
    "# from sklearn.naive_bayes import BernoulliNB\n",
    "\n",
    "# # Instantiate our model and store it in a new variable.\n",
    "# bnb = BernoulliNB()\n",
    "\n",
    "# Fit our model to the data.\n",
    "bnb.fit(data, target)\n",
    "\n",
    "# Classify, storing the result in a new variable.\n",
    "y_pred = bnb.predict(data)\n",
    "\n",
    "# Display our results.\n",
    "print(\"Number of mislabeled points out of a total {} points : {}\".format(\n",
    "    data.shape[0],\n",
    "    (target != y_pred).sum()\n",
    "))"
   ]
  },
  {
   "cell_type": "code",
   "execution_count": 89,
   "metadata": {},
   "outputs": [
    {
     "data": {
      "text/plain": [
       "array([[  2145,  64409],\n",
       "       [  1242, 278559]])"
      ]
     },
     "execution_count": 89,
     "metadata": {},
     "output_type": "execute_result"
    }
   ],
   "source": [
    "confusion_matrix(target, y_pred)"
   ]
  },
  {
   "cell_type": "markdown",
   "metadata": {},
   "source": [
    "81% correct"
   ]
  },
  {
   "cell_type": "code",
   "execution_count": null,
   "metadata": {
    "collapsed": true
   },
   "outputs": [],
   "source": []
  }
 ],
 "metadata": {
  "kernelspec": {
   "display_name": "Python 3",
   "language": "python",
   "name": "python3"
  },
  "language_info": {
   "codemirror_mode": {
    "name": "ipython",
    "version": 3
   },
   "file_extension": ".py",
   "mimetype": "text/x-python",
   "name": "python",
   "nbconvert_exporter": "python",
   "pygments_lexer": "ipython3",
   "version": "3.5.2"
  }
 },
 "nbformat": 4,
 "nbformat_minor": 2
}
