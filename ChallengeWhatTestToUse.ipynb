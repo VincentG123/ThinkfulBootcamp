{
 "cells": [
  {
   "cell_type": "code",
   "execution_count": 31,
   "metadata": {},
   "outputs": [],
   "source": [
    "import numpy as np\n",
    "import pandas as pd\n",
    "import matplotlib.pyplot as plt\n",
    "import seaborn as sns\n",
    "import scipy.stats as stats\n",
    "from statsmodels.stats.multicomp import pairwise_tukeyhsd\n",
    "%matplotlib inline"
   ]
  },
  {
   "cell_type": "code",
   "execution_count": 6,
   "metadata": {},
   "outputs": [],
   "source": [
    "link = \"https://raw.githubusercontent.com/Thinkful-Ed/data-201-resources/master/ESS_practice_data/ESSdata_Thinkful.csv\"\n",
    "c=pd.read_csv(link)"
   ]
  },
  {
   "cell_type": "code",
   "execution_count": 4,
   "metadata": {},
   "outputs": [
    {
     "name": "stdout",
     "output_type": "stream",
     "text": [
      "(8594, 13)\n"
     ]
    },
    {
     "data": {
      "text/html": [
       "<div>\n",
       "<style>\n",
       "    .dataframe thead tr:only-child th {\n",
       "        text-align: right;\n",
       "    }\n",
       "\n",
       "    .dataframe thead th {\n",
       "        text-align: left;\n",
       "    }\n",
       "\n",
       "    .dataframe tbody tr th {\n",
       "        vertical-align: top;\n",
       "    }\n",
       "</style>\n",
       "<table border=\"1\" class=\"dataframe\">\n",
       "  <thead>\n",
       "    <tr style=\"text-align: right;\">\n",
       "      <th></th>\n",
       "      <th>cntry</th>\n",
       "      <th>idno</th>\n",
       "      <th>year</th>\n",
       "      <th>tvtot</th>\n",
       "      <th>ppltrst</th>\n",
       "      <th>pplfair</th>\n",
       "      <th>pplhlp</th>\n",
       "      <th>happy</th>\n",
       "      <th>sclmeet</th>\n",
       "      <th>sclact</th>\n",
       "      <th>gndr</th>\n",
       "      <th>agea</th>\n",
       "      <th>partner</th>\n",
       "    </tr>\n",
       "  </thead>\n",
       "  <tbody>\n",
       "    <tr>\n",
       "      <th>0</th>\n",
       "      <td>CH</td>\n",
       "      <td>5.0</td>\n",
       "      <td>6</td>\n",
       "      <td>3.0</td>\n",
       "      <td>3.0</td>\n",
       "      <td>10.0</td>\n",
       "      <td>5.0</td>\n",
       "      <td>8.0</td>\n",
       "      <td>5.0</td>\n",
       "      <td>4.0</td>\n",
       "      <td>2.0</td>\n",
       "      <td>60.0</td>\n",
       "      <td>1.0</td>\n",
       "    </tr>\n",
       "    <tr>\n",
       "      <th>1</th>\n",
       "      <td>CH</td>\n",
       "      <td>25.0</td>\n",
       "      <td>6</td>\n",
       "      <td>6.0</td>\n",
       "      <td>5.0</td>\n",
       "      <td>7.0</td>\n",
       "      <td>5.0</td>\n",
       "      <td>9.0</td>\n",
       "      <td>3.0</td>\n",
       "      <td>2.0</td>\n",
       "      <td>2.0</td>\n",
       "      <td>59.0</td>\n",
       "      <td>1.0</td>\n",
       "    </tr>\n",
       "    <tr>\n",
       "      <th>2</th>\n",
       "      <td>CH</td>\n",
       "      <td>26.0</td>\n",
       "      <td>6</td>\n",
       "      <td>1.0</td>\n",
       "      <td>8.0</td>\n",
       "      <td>8.0</td>\n",
       "      <td>8.0</td>\n",
       "      <td>7.0</td>\n",
       "      <td>6.0</td>\n",
       "      <td>3.0</td>\n",
       "      <td>1.0</td>\n",
       "      <td>24.0</td>\n",
       "      <td>2.0</td>\n",
       "    </tr>\n",
       "    <tr>\n",
       "      <th>3</th>\n",
       "      <td>CH</td>\n",
       "      <td>28.0</td>\n",
       "      <td>6</td>\n",
       "      <td>4.0</td>\n",
       "      <td>6.0</td>\n",
       "      <td>6.0</td>\n",
       "      <td>7.0</td>\n",
       "      <td>10.0</td>\n",
       "      <td>6.0</td>\n",
       "      <td>2.0</td>\n",
       "      <td>2.0</td>\n",
       "      <td>64.0</td>\n",
       "      <td>1.0</td>\n",
       "    </tr>\n",
       "    <tr>\n",
       "      <th>4</th>\n",
       "      <td>CH</td>\n",
       "      <td>29.0</td>\n",
       "      <td>6</td>\n",
       "      <td>5.0</td>\n",
       "      <td>6.0</td>\n",
       "      <td>7.0</td>\n",
       "      <td>5.0</td>\n",
       "      <td>8.0</td>\n",
       "      <td>7.0</td>\n",
       "      <td>2.0</td>\n",
       "      <td>2.0</td>\n",
       "      <td>55.0</td>\n",
       "      <td>1.0</td>\n",
       "    </tr>\n",
       "  </tbody>\n",
       "</table>\n",
       "</div>"
      ],
      "text/plain": [
       "  cntry  idno  year  tvtot  ppltrst  pplfair  pplhlp  happy  sclmeet  sclact  \\\n",
       "0    CH   5.0     6    3.0      3.0     10.0     5.0    8.0      5.0     4.0   \n",
       "1    CH  25.0     6    6.0      5.0      7.0     5.0    9.0      3.0     2.0   \n",
       "2    CH  26.0     6    1.0      8.0      8.0     8.0    7.0      6.0     3.0   \n",
       "3    CH  28.0     6    4.0      6.0      6.0     7.0   10.0      6.0     2.0   \n",
       "4    CH  29.0     6    5.0      6.0      7.0     5.0    8.0      7.0     2.0   \n",
       "\n",
       "   gndr  agea  partner  \n",
       "0   2.0  60.0      1.0  \n",
       "1   2.0  59.0      1.0  \n",
       "2   1.0  24.0      2.0  \n",
       "3   2.0  64.0      1.0  \n",
       "4   2.0  55.0      1.0  "
      ]
     },
     "execution_count": 4,
     "metadata": {},
     "output_type": "execute_result"
    }
   ],
   "source": [
    "print(c.shape)\n",
    "c.head()"
   ]
  },
  {
   "cell_type": "code",
   "execution_count": 5,
   "metadata": {},
   "outputs": [
    {
     "data": {
      "text/html": [
       "<div>\n",
       "<style>\n",
       "    .dataframe thead tr:only-child th {\n",
       "        text-align: right;\n",
       "    }\n",
       "\n",
       "    .dataframe thead th {\n",
       "        text-align: left;\n",
       "    }\n",
       "\n",
       "    .dataframe tbody tr th {\n",
       "        vertical-align: top;\n",
       "    }\n",
       "</style>\n",
       "<table border=\"1\" class=\"dataframe\">\n",
       "  <thead>\n",
       "    <tr style=\"text-align: right;\">\n",
       "      <th></th>\n",
       "      <th>cntry</th>\n",
       "      <th>idno</th>\n",
       "      <th>year</th>\n",
       "      <th>tvtot</th>\n",
       "      <th>ppltrst</th>\n",
       "      <th>pplfair</th>\n",
       "      <th>pplhlp</th>\n",
       "      <th>happy</th>\n",
       "      <th>sclmeet</th>\n",
       "      <th>sclact</th>\n",
       "      <th>gndr</th>\n",
       "      <th>agea</th>\n",
       "      <th>partner</th>\n",
       "    </tr>\n",
       "  </thead>\n",
       "  <tbody>\n",
       "    <tr>\n",
       "      <th>8589</th>\n",
       "      <td>SE</td>\n",
       "      <td>3729.0</td>\n",
       "      <td>7</td>\n",
       "      <td>3.0</td>\n",
       "      <td>4.0</td>\n",
       "      <td>5.0</td>\n",
       "      <td>3.0</td>\n",
       "      <td>6.0</td>\n",
       "      <td>6.0</td>\n",
       "      <td>2.0</td>\n",
       "      <td>1.0</td>\n",
       "      <td>18.0</td>\n",
       "      <td>2.0</td>\n",
       "    </tr>\n",
       "    <tr>\n",
       "      <th>8590</th>\n",
       "      <td>SE</td>\n",
       "      <td>3732.0</td>\n",
       "      <td>7</td>\n",
       "      <td>5.0</td>\n",
       "      <td>6.0</td>\n",
       "      <td>4.0</td>\n",
       "      <td>4.0</td>\n",
       "      <td>10.0</td>\n",
       "      <td>6.0</td>\n",
       "      <td>3.0</td>\n",
       "      <td>1.0</td>\n",
       "      <td>15.0</td>\n",
       "      <td>2.0</td>\n",
       "    </tr>\n",
       "    <tr>\n",
       "      <th>8591</th>\n",
       "      <td>SE</td>\n",
       "      <td>3743.0</td>\n",
       "      <td>7</td>\n",
       "      <td>4.0</td>\n",
       "      <td>5.0</td>\n",
       "      <td>7.0</td>\n",
       "      <td>6.0</td>\n",
       "      <td>8.0</td>\n",
       "      <td>6.0</td>\n",
       "      <td>3.0</td>\n",
       "      <td>1.0</td>\n",
       "      <td>44.0</td>\n",
       "      <td>2.0</td>\n",
       "    </tr>\n",
       "    <tr>\n",
       "      <th>8592</th>\n",
       "      <td>SE</td>\n",
       "      <td>3744.0</td>\n",
       "      <td>7</td>\n",
       "      <td>5.0</td>\n",
       "      <td>8.0</td>\n",
       "      <td>8.0</td>\n",
       "      <td>6.0</td>\n",
       "      <td>9.0</td>\n",
       "      <td>7.0</td>\n",
       "      <td>3.0</td>\n",
       "      <td>1.0</td>\n",
       "      <td>15.0</td>\n",
       "      <td>2.0</td>\n",
       "    </tr>\n",
       "    <tr>\n",
       "      <th>8593</th>\n",
       "      <td>SE</td>\n",
       "      <td>3746.0</td>\n",
       "      <td>7</td>\n",
       "      <td>2.0</td>\n",
       "      <td>6.0</td>\n",
       "      <td>7.0</td>\n",
       "      <td>5.0</td>\n",
       "      <td>7.0</td>\n",
       "      <td>7.0</td>\n",
       "      <td>4.0</td>\n",
       "      <td>2.0</td>\n",
       "      <td>15.0</td>\n",
       "      <td>2.0</td>\n",
       "    </tr>\n",
       "  </tbody>\n",
       "</table>\n",
       "</div>"
      ],
      "text/plain": [
       "     cntry    idno  year  tvtot  ppltrst  pplfair  pplhlp  happy  sclmeet  \\\n",
       "8589    SE  3729.0     7    3.0      4.0      5.0     3.0    6.0      6.0   \n",
       "8590    SE  3732.0     7    5.0      6.0      4.0     4.0   10.0      6.0   \n",
       "8591    SE  3743.0     7    4.0      5.0      7.0     6.0    8.0      6.0   \n",
       "8592    SE  3744.0     7    5.0      8.0      8.0     6.0    9.0      7.0   \n",
       "8593    SE  3746.0     7    2.0      6.0      7.0     5.0    7.0      7.0   \n",
       "\n",
       "      sclact  gndr  agea  partner  \n",
       "8589     2.0   1.0  18.0      2.0  \n",
       "8590     3.0   1.0  15.0      2.0  \n",
       "8591     3.0   1.0  44.0      2.0  \n",
       "8592     3.0   1.0  15.0      2.0  \n",
       "8593     4.0   2.0  15.0      2.0  "
      ]
     },
     "execution_count": 5,
     "metadata": {},
     "output_type": "execute_result"
    }
   ],
   "source": [
    "c.tail()"
   ]
  },
  {
   "cell_type": "markdown",
   "metadata": {},
   "source": [
    "### Did people become less trusting from 2012 to 2014? Compute results for each country in the sample."
   ]
  },
  {
   "cell_type": "code",
   "execution_count": 9,
   "metadata": {},
   "outputs": [
    {
     "data": {
      "image/png": "[encoded data removed]",
      "text/plain": [
       "<matplotlib.figure.Figure at 0x10df0b748>"
      ]
     },
     "metadata": {},
     "output_type": "display_data"
    }
   ],
   "source": [
    "import matplotlib.pyplot as plt\n",
    "g = sns.FacetGrid(c, col=\"year\",  row=\"cntry\")\n",
    "g = g.map(plt.hist, \"ppltrst\")\n",
    "plt.show()"
   ]
  },
  {
   "cell_type": "markdown",
   "metadata": {},
   "source": [
    "Since the histograms follow a normal distribution, I will use Tukey's Honest Significance Differences Test."
   ]
  },
  {
   "cell_type": "code",
   "execution_count": 49,
   "metadata": {},
   "outputs": [
    {
     "name": "stdout",
     "output_type": "stream",
     "text": [
      "\n",
      "Country:  CH\n",
      "Year 6 mean:  5.67787839586\n",
      "Year 7 mean:  5.75161707633\n",
      "Multiple Comparison of Means - Tukey HSD,FWER=0.05\n",
      "===========================================\n",
      "group1 group2 meandiff  lower  upper reject\n",
      "-------------------------------------------\n",
      "  6      7     0.0737  -0.1395 0.287 False \n",
      "-------------------------------------------\n",
      "The people of CH did not became more trusting in 2014.\n",
      "\n",
      "\n",
      "Country:  CZ\n",
      "Year 6 mean:  4.36251920123\n",
      "Year 7 mean:  4.42465753425\n",
      "Multiple Comparison of Means - Tukey HSD,FWER=0.05\n",
      "============================================\n",
      "group1 group2 meandiff  lower  upper  reject\n",
      "--------------------------------------------\n",
      "  6      7     0.0621  -0.1937 0.3179 False \n",
      "--------------------------------------------\n",
      "The people of CZ did not became more trusting in 2014.\n",
      "\n",
      "\n",
      "Country:  DE\n",
      "Year 6 mean:  5.21428571429\n",
      "Year 7 mean:  5.35714285714\n",
      "Multiple Comparison of Means - Tukey HSD,FWER=0.05\n",
      "============================================\n",
      "group1 group2 meandiff  lower  upper  reject\n",
      "--------------------------------------------\n",
      "  6      7     0.1429  -1.4809 1.7666 False \n",
      "--------------------------------------------\n",
      "The people of DE did not became more trusting in 2014.\n",
      "\n",
      "\n",
      "Country:  ES\n",
      "Year 6 mean:  5.11459192086\n",
      "Year 7 mean:  4.89512799339\n",
      "Multiple Comparison of Means - Tukey HSD,FWER=0.05\n",
      "============================================\n",
      "group1 group2 meandiff lower   upper  reject\n",
      "--------------------------------------------\n",
      "  6      7    -0.2195  -0.392 -0.0469  True \n",
      "--------------------------------------------\n",
      "The people of ES did not became more trusting in 2014.\n",
      "\n",
      "\n",
      "Country:  NO\n",
      "Year 6 mean:  6.64931506849\n",
      "Year 7 mean:  6.59863013699\n",
      "Multiple Comparison of Means - Tukey HSD,FWER=0.05\n",
      "============================================\n",
      "group1 group2 meandiff  lower  upper  reject\n",
      "--------------------------------------------\n",
      "  6      7    -0.0507  -0.2335 0.1322 False \n",
      "--------------------------------------------\n",
      "The people of NO did not became more trusting in 2014.\n",
      "\n",
      "\n",
      "Country:  SE\n",
      "Year 6 mean:  6.05849889625\n",
      "Year 7 mean:  6.2577092511\n",
      "Multiple Comparison of Means - Tukey HSD,FWER=0.05\n",
      "===========================================\n",
      "group1 group2 meandiff lower  upper  reject\n",
      "-------------------------------------------\n",
      "  6      7     0.1992  0.0122 0.3862  True \n",
      "-------------------------------------------\n",
      "The people of SE became more trusting in 2014.\n",
      "\n"
     ]
    }
   ],
   "source": [
    "np.set_printoptions(threshold=np.inf)\n",
    "countries = c.cntry.unique()\n",
    "for country in countries:\n",
    "    country_df = c[c.cntry == country]\n",
    "    country_df = country_df[np.isfinite(country_df['ppltrst'])]\n",
    "    trusting = np.asarray(country_df['ppltrst'].tolist())\n",
    "    year = np.asarray(country_df['year'])\n",
    "\n",
    "    tukey = pairwise_tukeyhsd(endog=trusting,      # Data\n",
    "                              groups=year,   # Groups\n",
    "                              alpha=0.05)         # Significance level\n",
    "    \n",
    "    print('\\nCountry: ', country)\n",
    "    year6_mean = country_df[country_df.year == 6]['ppltrst'].mean()\n",
    "    year7_mean = country_df[country_df.year == 7]['ppltrst'].mean()\n",
    "    print('Year 6 mean: ', year6_mean)\n",
    "    print('Year 7 mean: ', year7_mean)\n",
    "    print(tukey.summary())\n",
    "    if (year7_mean > year6_mean) & (tukey.reject == True):\n",
    "        print('The people of {} became more trusting in 2014.\\n'.format(country))\n",
    "    else:\n",
    "        print('The people of {} did not became more trusting in 2014.\\n'.format(country))"
   ]
  },
  {
   "cell_type": "markdown",
   "metadata": {},
   "source": [
    "### Did people become happier from 2012 to 2014? Compute results for each country in the sample."
   ]
  },
  {
   "cell_type": "code",
   "execution_count": 10,
   "metadata": {},
   "outputs": [
    {
     "data": {
      "image/png": "[encoded data removed]",
      "text/plain": [
       "<matplotlib.figure.Figure at 0x109058748>"
      ]
     },
     "metadata": {},
     "output_type": "display_data"
    }
   ],
   "source": [
    "g = sns.FacetGrid(c, col=\"year\",  row=\"cntry\")\n",
    "g = g.map(plt.hist, \"happy\")\n",
    "plt.show()"
   ]
  },
  {
   "cell_type": "markdown",
   "metadata": {},
   "source": [
    "Since the histograms follow a normal distribution that skew right, I will use Tukey's Honest Significance Differences Test."
   ]
  },
  {
   "cell_type": "code",
   "execution_count": 50,
   "metadata": {},
   "outputs": [
    {
     "name": "stdout",
     "output_type": "stream",
     "text": [
      "\n",
      "Country:  CH\n",
      "Year 6 mean:  8.08831168831\n",
      "Year 7 mean:  8.11642949547\n",
      "Multiple Comparison of Means - Tukey HSD,FWER=0.05\n",
      "============================================\n",
      "group1 group2 meandiff  lower  upper  reject\n",
      "--------------------------------------------\n",
      "  6      7     0.0281  -0.1139 0.1701 False \n",
      "--------------------------------------------\n",
      "The people of CH did not became happier in 2014.\n",
      "\n",
      "\n",
      "Country:  CZ\n",
      "Year 6 mean:  6.77089783282\n",
      "Year 7 mean:  6.91411042945\n",
      "Multiple Comparison of Means - Tukey HSD,FWER=0.05\n",
      "============================================\n",
      "group1 group2 meandiff  lower  upper  reject\n",
      "--------------------------------------------\n",
      "  6      7     0.1432  -0.0723 0.3588 False \n",
      "--------------------------------------------\n",
      "The people of CZ did not became happier in 2014.\n",
      "\n",
      "\n",
      "Country:  DE\n",
      "Year 6 mean:  7.42857142857\n",
      "Year 7 mean:  7.85714285714\n",
      "Multiple Comparison of Means - Tukey HSD,FWER=0.05\n",
      "============================================\n",
      "group1 group2 meandiff  lower  upper  reject\n",
      "--------------------------------------------\n",
      "  6      7     0.4286  -0.7232 1.5803 False \n",
      "--------------------------------------------\n",
      "The people of DE did not became happier in 2014.\n",
      "\n",
      "\n",
      "Country:  ES\n",
      "Year 6 mean:  7.54867986799\n",
      "Year 7 mean:  7.4199669967\n",
      "Multiple Comparison of Means - Tukey HSD,FWER=0.05\n",
      "============================================\n",
      "group1 group2 meandiff  lower  upper  reject\n",
      "--------------------------------------------\n",
      "  6      7    -0.1287  -0.2795 0.0221 False \n",
      "--------------------------------------------\n",
      "The people of ES did not became happier in 2014.\n",
      "\n",
      "\n",
      "Country:  NO\n",
      "Year 6 mean:  8.25171939477\n",
      "Year 7 mean:  7.91518467852\n",
      "Multiple Comparison of Means - Tukey HSD,FWER=0.05\n",
      "=============================================\n",
      "group1 group2 meandiff  lower   upper  reject\n",
      "---------------------------------------------\n",
      "  6      7    -0.3365  -0.4913 -0.1818  True \n",
      "---------------------------------------------\n",
      "The people of NO did not became happier in 2014.\n",
      "\n",
      "\n",
      "Country:  SE\n",
      "Year 6 mean:  7.90738699008\n",
      "Year 7 mean:  7.94696132597\n",
      "Multiple Comparison of Means - Tukey HSD,FWER=0.05\n",
      "============================================\n",
      "group1 group2 meandiff  lower  upper  reject\n",
      "--------------------------------------------\n",
      "  6      7     0.0396  -0.0954 0.1746 False \n",
      "--------------------------------------------\n",
      "The people of SE did not became happier in 2014.\n",
      "\n"
     ]
    }
   ],
   "source": [
    "for country in countries:\n",
    "    country_df = c[c.cntry == country]\n",
    "    country_df = country_df[np.isfinite(country_df['happy'])]\n",
    "    is_happy = np.asarray(country_df['happy'].tolist())\n",
    "    year = np.asarray(country_df['year'])\n",
    "\n",
    "    tukey = pairwise_tukeyhsd(endog=is_happy,      # Data\n",
    "                              groups=year,   # Groups\n",
    "                              alpha=0.05)         # Significance level\n",
    "    \n",
    "    print('\\nCountry: ', country)\n",
    "    year6_mean = country_df[country_df.year == 6]['happy'].mean()\n",
    "    year7_mean = country_df[country_df.year == 7]['happy'].mean()\n",
    "    print('Year 6 mean: ', year6_mean)\n",
    "    print('Year 7 mean: ', year7_mean)\n",
    "    print(tukey.summary())\n",
    "    if (year7_mean > year6_mean) & (tukey.reject == True):\n",
    "        print('The people of {} became happier in 2014.\\n'.format(country))\n",
    "    else:\n",
    "        print('The people of {} did not became happier in 2014.\\n'.format(country))"
   ]
  },
  {
   "cell_type": "markdown",
   "metadata": {},
   "source": [
    "### Who reported watching more TV in 2012, men or women?"
   ]
  },
  {
   "cell_type": "code",
   "execution_count": 57,
   "metadata": {},
   "outputs": [
    {
     "data": {
      "image/png": "[encoded data removed]",
      "text/plain": [
       "<matplotlib.figure.Figure at 0x1166c9f98>"
      ]
     },
     "metadata": {},
     "output_type": "display_data"
    }
   ],
   "source": [
    "c_2012 = c[c.year == 6]\n",
    "c_2012 = c_2012[np.isfinite(c_2012['tvtot'])]\n",
    "g = sns.FacetGrid(c_2012, col=\"gndr\")\n",
    "g = g.map(plt.hist, \"tvtot\")\n",
    "plt.show()"
   ]
  },
  {
   "cell_type": "markdown",
   "metadata": {},
   "source": [
    "This data is not normalized, so I will use the Kruskal-Wallace test."
   ]
  },
  {
   "cell_type": "code",
   "execution_count": 100,
   "metadata": {},
   "outputs": [
    {
     "name": "stdout",
     "output_type": "stream",
     "text": [
      "(2151, 13)\n",
      "(2140, 13)\n"
     ]
    }
   ],
   "source": [
    "print(men_2012.shape)\n",
    "print(women_2012.shape)"
   ]
  },
  {
   "cell_type": "code",
   "execution_count": 82,
   "metadata": {},
   "outputs": [
    {
     "name": "stdout",
     "output_type": "stream",
     "text": [
      "1076.0\n",
      "1070.5\n",
      "\n",
      "\n",
      "KruskalResult(statistic=0.57660910205494509, pvalue=0.44764452250079501)\n",
      "\n",
      "There is no statistically significant difference between male and female TV habits\n"
     ]
    }
   ],
   "source": [
    "tv_df = pd.DataFrame()\n",
    "\n",
    "men_2012 = c_2012[c_2012.gndr == 1.0]\n",
    "women_2012 = c_2012[c_2012.gndr == 2.0]\n",
    "\n",
    "men_ranks = stats.rankdata(men_2012['tvtot'].tolist())\n",
    "women_ranks = stats.rankdata(women_2012['tvtot'].tolist())\n",
    "\n",
    "print(men_ranks.mean())\n",
    "print(women_ranks.mean())\n",
    " \n",
    "tv_means = stats.kruskal(men_2012['tvtot'], women_2012['tvtot'])\n",
    "\n",
    "print('\\n')\n",
    "print(tv_means)\n",
    "\n",
    "if tv_means.pvalue > 0.05:\n",
    "    print('\\nThere is no statistically significant difference between male and female TV habits')"
   ]
  },
  {
   "cell_type": "markdown",
   "metadata": {},
   "source": [
    "### Who was more likely to believe people were fair in 2012, people living with a partner or people living alone?"
   ]
  },
  {
   "cell_type": "code",
   "execution_count": 71,
   "metadata": {},
   "outputs": [
    {
     "data": {
      "image/png": "[encoded data removed]",
      "text/plain": [
       "<matplotlib.figure.Figure at 0x1164f9fd0>"
      ]
     },
     "metadata": {},
     "output_type": "display_data"
    }
   ],
   "source": [
    "df_2012 = c[c.year == 6] \n",
    "g = sns.FacetGrid(df_2012, col=\"partner\")\n",
    "g = g.map(plt.hist, \"pplfair\")\n",
    "plt.show()"
   ]
  },
  {
   "cell_type": "markdown",
   "metadata": {},
   "source": [
    "The data is mostly normal, so I will use Tukey's Honest Significance Differences Test."
   ]
  },
  {
   "cell_type": "code",
   "execution_count": 85,
   "metadata": {},
   "outputs": [
    {
     "name": "stdout",
     "output_type": "stream",
     "text": [
      "Has Partner mean:  6.08073601202\n",
      "No Partner mean: 5.85696517413\n",
      "\n",
      "\n",
      "Multiple Comparison of Means - Tukey HSD,FWER=0.05\n",
      "=============================================\n",
      "group1 group2 meandiff  lower   upper  reject\n",
      "---------------------------------------------\n",
      " 1.0    2.0   -0.2238  -0.3559 -0.0916  True \n",
      "---------------------------------------------\n",
      "\n",
      "People with partners are more trusting.\n"
     ]
    }
   ],
   "source": [
    "df_2012 = c[c.year == 6] \n",
    "df_2012 = df_2012[np.isfinite(df_2012['pplfair'])]\n",
    "df_2012 = df_2012[np.isfinite(df_2012['partner'])]\n",
    "\n",
    "\n",
    "partner_mean = df_2012[df_2012.partner == 1.0]['pplfair'].mean()\n",
    "no_partner_mean = df_2012[df_2012.partner == 2.0]['pplfair'].mean()\n",
    "\n",
    "print('Has Partner mean: ', partner_mean)\n",
    "print('No Partner mean:', no_partner_mean)\n",
    "\n",
    "\n",
    "fair = np.asarray(df_2012['pplfair'].tolist())\n",
    "partner = np.asarray(df_2012['partner'])\n",
    "\n",
    "tukey = pairwise_tukeyhsd(endog=fair,      # Data\n",
    "                              groups=partner,   # Groups\n",
    "                              alpha=0.05)         # Significance level\n",
    "\n",
    "print('\\n')\n",
    "print(tukey.summary())\n",
    "\n",
    "if (partner_mean > no_partner_mean) & (tukey.reject == True):\n",
    "    print('\\nPeople with partners are more trusting.')"
   ]
  },
  {
   "cell_type": "markdown",
   "metadata": {},
   "source": [
    "### Pick three or four of the countries in the sample and compare how often people met socially in 2014. Are there differences, and if so, which countries stand out?"
   ]
  },
  {
   "cell_type": "code",
   "execution_count": 26,
   "metadata": {},
   "outputs": [
    {
     "data": {
      "image/png": "[encoded data removed]",
      "text/plain": [
       "<matplotlib.figure.Figure at 0x10f86eb00>"
      ]
     },
     "metadata": {},
     "output_type": "display_data"
    }
   ],
   "source": [
    "df_2014 = c.loc[(c.year == 7)&((c.cntry == 'ES')|(c.cntry == 'NO')|(c.cntry == 'SE'))]\n",
    "g = sns.FacetGrid(df_2014, col=\"cntry\")\n",
    "g = g.map(plt.hist, \"sclmeet\")\n",
    "plt.show()"
   ]
  },
  {
   "cell_type": "markdown",
   "metadata": {},
   "source": [
    "This data is not normalized, so I will use the Kruskal-Wallace test."
   ]
  },
  {
   "cell_type": "code",
   "execution_count": 89,
   "metadata": {},
   "outputs": [
    {
     "name": "stdout",
     "output_type": "stream",
     "text": [
      "606.0\n",
      "366.0\n",
      "454.5\n",
      "\n",
      "\n",
      "KruskalResult(statistic=6.9040385192317366, pvalue=0.031681598372987542)\n"
     ]
    }
   ],
   "source": [
    "df_2014 = df_2014[np.isfinite(df_2014['sclmeet'])]\n",
    "\n",
    "es_2014 = df_2014[df_2014.cntry == 'ES']\n",
    "no_2014 = df_2014[df_2014.cntry == 'NO']\n",
    "se_2014 = df_2014[df_2014.cntry == 'SE']\n",
    "\n",
    "es_ranks = stats.rankdata(es_2014['sclmeet'].tolist())\n",
    "no_ranks = stats.rankdata(no_2014['sclmeet'].tolist())\n",
    "se_ranks = stats.rankdata(se_2014['sclmeet'].tolist())\n",
    "\n",
    "print(es_ranks.mean())\n",
    "print(no_ranks.mean())\n",
    "print(se_ranks.mean())\n",
    " \n",
    "\n",
    "sclmeet_means = stats.kruskal(es_2014['sclmeet'],no_2014['sclmeet'],se_2014['sclmeet'])\n",
    "\n",
    "print('\\n')\n",
    "print(sclmeet_means)"
   ]
  },
  {
   "cell_type": "code",
   "execution_count": 91,
   "metadata": {},
   "outputs": [
    {
     "name": "stdout",
     "output_type": "stream",
     "text": [
      "ES mean:  5.26011560694\n",
      "NO mean: 5.3023255814\n",
      "SE mean: 5.42621145374\n",
      "\n",
      "\n",
      "Multiple Comparison of Means - Tukey HSD,FWER=0.05\n",
      "============================================\n",
      "group1 group2 meandiff  lower  upper  reject\n",
      "--------------------------------------------\n",
      "  ES     NO    0.0422  -0.1124 0.1968 False \n",
      "  ES     SE    0.1661   0.0212 0.311   True \n",
      "  NO     SE    0.1239  -0.0402 0.2879 False \n",
      "--------------------------------------------\n"
     ]
    }
   ],
   "source": [
    "es_mean = df_2014[df_2014.cntry == 'ES']['sclmeet'].mean()\n",
    "no_mean = df_2014[df_2014.cntry == 'NO']['sclmeet'].mean()\n",
    "se_mean = df_2014[df_2014.cntry == 'SE']['sclmeet'].mean()\n",
    "\n",
    "print('ES mean: ', es_mean)\n",
    "print('NO mean:', no_mean)\n",
    "print('SE mean:', se_mean)\n",
    "\n",
    "\n",
    "social_meet = np.asarray(df_2014['sclmeet'].tolist())\n",
    "country = np.asarray(df_2014['cntry'])\n",
    "\n",
    "tukey = pairwise_tukeyhsd(endog=social_meet,      # Data\n",
    "                              groups=country,   # Groups\n",
    "                              alpha=0.05)         # Significance level\n",
    "\n",
    "print('\\n')\n",
    "print(tukey.summary())"
   ]
  },
  {
   "cell_type": "markdown",
   "metadata": {},
   "source": [
    "### Pick three or four of the countries in the sample and compare how often people took part in social activities, relative to others their age, in 2014. Are there differences, and if so, which countries stand out?"
   ]
  },
  {
   "cell_type": "code",
   "execution_count": 96,
   "metadata": {},
   "outputs": [],
   "source": [
    "df_2014 = c.loc[(c.year == 7)&((c.cntry == 'ES')|(c.cntry == 'NO')|(c.cntry == 'SE'))]\n",
    "df_2014 = df_2014[np.isfinite(df_2014['agea'])]"
   ]
  },
  {
   "cell_type": "code",
   "execution_count": 98,
   "metadata": {},
   "outputs": [],
   "source": [
    "age_cats = []\n",
    "\n",
    "for age in df_2014['agea']:\n",
    "    if (age >= 15.0) & (age < 25.0):\n",
    "        age_cats.append('15-24')\n",
    "    elif (age >= 25.0) & (age < 35.0):\n",
    "        age_cats.append('25-34')\n",
    "    elif (age >= 35.0) & (age < 45.0):\n",
    "        age_cats.append('35-44')\n",
    "    elif (age >= 45.0) & (age < 55.0):\n",
    "        age_cats.append('45-54')\n",
    "    elif (age >= 55.0) & (age < 65.0):\n",
    "        age_cats.append('55-64')\n",
    "    elif (age >= 65.0) & (age < 75.0):\n",
    "        age_cats.append('65-74')\n",
    "    elif (age >= 75.0) & (age < 85.0):\n",
    "        age_cats.append('75-84')\n",
    "    elif (age >= 85.0) & (age < 95.0):\n",
    "        age_cats.append('85-94')\n",
    "    elif (age >= 95.0) & (age < 105.0):\n",
    "        age_cats.append('95-105')\n",
    "    else:\n",
    "        age_cats.append('Over 105')\n",
    "\n",
    "df_2014['age_cats'] = age_cats"
   ]
  },
  {
   "cell_type": "code",
   "execution_count": 99,
   "metadata": {
    "scrolled": false
   },
   "outputs": [
    {
     "data": {
      "image/png": "[encoded data removed]",
      "text/plain": [
       "<matplotlib.figure.Figure at 0x111de1be0>"
      ]
     },
     "metadata": {},
     "output_type": "display_data"
    }
   ],
   "source": [
    "g = sns.FacetGrid(df_2014, col=\"cntry\", row='age_cats')\n",
    "g = g.map(plt.hist, \"sclact\")\n",
    "plt.show()"
   ]
  },
  {
   "cell_type": "code",
   "execution_count": null,
   "metadata": {},
   "outputs": [],
   "source": []
  }
 ],
 "metadata": {
  "kernelspec": {
   "display_name": "Python 3",
   "language": "python",
   "name": "python3"
  },
  "language_info": {
   "codemirror_mode": {
    "name": "ipython",
    "version": 3
   },
   "file_extension": ".py",
   "mimetype": "text/x-python",
   "name": "python",
   "nbconvert_exporter": "python",
   "pygments_lexer": "ipython3",
   "version": "3.5.2"
  }
 },
 "nbformat": 4,
 "nbformat_minor": 2
}
