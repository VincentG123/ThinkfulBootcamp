{
 "cells": [
  {
   "cell_type": "code",
   "execution_count": 1,
   "metadata": {
    "collapsed": true
   },
   "outputs": [],
   "source": [
    "%matplotlib inline\n",
    "import numpy as np\n",
    "import pandas as pd\n",
    "import scipy\n",
    "import sklearn\n",
    "import matplotlib.pyplot as plt\n",
    "import seaborn as sns"
   ]
  },
  {
   "cell_type": "code",
   "execution_count": 2,
   "metadata": {},
   "outputs": [
    {
     "name": "stdout",
     "output_type": "stream",
     "text": [
      "                                             message  pos_or_neg\n",
      "0  So there is no way for me to plug it in here i...           0\n",
      "1                        Good case, Excellent value.           1\n",
      "2                             Great for the jawbone.           1\n",
      "3  Tied to charger for conversations lasting more...           0\n",
      "4                                  The mic is great.           1\n"
     ]
    }
   ],
   "source": [
    "sms_raw = pd.read_csv('amazon_cells_labelled.txt', delimiter= '\\t', header=None)\n",
    "\n",
    "sms_raw.columns = ['message', 'pos_or_neg']\n",
    "print(sms_raw.head())"
   ]
  },
  {
   "cell_type": "code",
   "execution_count": 3,
   "metadata": {},
   "outputs": [
    {
     "name": "stdout",
     "output_type": "stream",
     "text": [
      "                                             message  pos_or_neg  excellent  \\\n",
      "0  So there is no way for me to plug it in here i...           0      False   \n",
      "1                        Good case, Excellent value.           1       True   \n",
      "2                             Great for the jawbone.           1      False   \n",
      "3  Tied to charger for conversations lasting more...           0      False   \n",
      "4                                  The mic is great.           1      False   \n",
      "\n",
      "   great  winner   good  satisfied  impressed   best  pleased  \n",
      "0  False   False  False      False      False  False    False  \n",
      "1  False   False  False      False      False  False    False  \n",
      "2  False   False  False      False      False  False    False  \n",
      "3  False   False  False      False      False  False    False  \n",
      "4  False   False  False      False      False  False    False  \n"
     ]
    }
   ],
   "source": [
    "keywords = ['excellent', 'great', 'winner', 'good', 'satisfied', 'impressed', 'best','pleased']\n",
    "\n",
    "for key in keywords:\n",
    "    # Note that we add spaces around the key so that we're getting the word,\n",
    "    # not just pattern matching.\n",
    "    sms_raw[str(key)] = sms_raw.message.str.contains(\n",
    "        ' ' + str(key) + ' ',\n",
    "        case=False\n",
    "    )\n",
    "print(sms_raw.head())"
   ]
  },
  {
   "cell_type": "code",
   "execution_count": 4,
   "metadata": {},
   "outputs": [
    {
     "name": "stdout",
     "output_type": "stream",
     "text": [
      "                                               message  pos_or_neg  excellent  \\\n",
      "0    So there is no way for me to plug it in here i...           0      False   \n",
      "1                          Good case, Excellent value.           1       True   \n",
      "2                               Great for the jawbone.           1      False   \n",
      "3    Tied to charger for conversations lasting more...           0      False   \n",
      "4                                    The mic is great.           1      False   \n",
      "5    I have to jiggle the plug to get it to line up...           0      False   \n",
      "6    If you have several dozen or several hundred c...           0      False   \n",
      "7          If you are Razr owner...you must have this!           1      False   \n",
      "8                  Needless to say, I wasted my money.           0      False   \n",
      "9                     What a waste of money and time!.           0      False   \n",
      "10                     And the sound quality is great.           1      False   \n",
      "11   He was very impressed when going from the orig...           1      False   \n",
      "12   If the two were seperated by a mere 5+ ft I st...           0      False   \n",
      "13                            Very good quality though           1      False   \n",
      "14   The design is very odd, as the ear \"clip\" is n...           0      False   \n",
      "15   Highly recommend for any one who has a blue to...           1      False   \n",
      "16                 I advise EVERYONE DO NOT BE FOOLED!           0      False   \n",
      "17                                    So Far So Good!.           1      False   \n",
      "18                                       Works great!.           1      False   \n",
      "19   It clicks into place in a way that makes you w...           0      False   \n",
      "20   I went on Motorola's website and followed all ...           0      False   \n",
      "21   I bought this to use with my Kindle Fire and a...           1      False   \n",
      "22            The commercials are the most misleading.           0      False   \n",
      "23   I have yet to run this new battery below two b...           1      False   \n",
      "24   I bought it for my mother and she had a proble...           0      False   \n",
      "25                Great Pocket PC / phone combination.           1      False   \n",
      "26   I've owned this phone for 7 months now and can...           1      False   \n",
      "27   I didn't think that the instructions provided ...           0      False   \n",
      "28   People couldnt hear me talk and I had to pull ...           0      False   \n",
      "29                                Doesn't hold charge.           0      False   \n",
      "..                                                 ...         ...        ...   \n",
      "970  I plugged it in only to find out not a darn th...           0      False   \n",
      "971                                 Excellent product.           1      False   \n",
      "972                        Earbud piece breaks easily.           0      False   \n",
      "973                                     Lousy product.           0      False   \n",
      "974  This phone tries very hard to do everything bu...           0      False   \n",
      "975  It is the best charger I have seen on the mark...           1      False   \n",
      "976                                  SWEETEST PHONE!!!           1      False   \n",
      "977             :-)Oh, the charger seems to work fine.           1      False   \n",
      "978  It fits so securely that the ear hook does not...           1      False   \n",
      "979                                 Not enough volume.           0      False   \n",
      "980                Echo Problem....Very unsatisfactory           0      False   \n",
      "981  you could only take 2 videos at a time and the...           0      False   \n",
      "982                            don't waste your money.           0      False   \n",
      "983  I am going to have to be the first to negative...           0      False   \n",
      "984  Adapter does not provide enough charging current.           0      False   \n",
      "985  There was so much hype over this phone that I ...           0      False   \n",
      "986  You also cannot take pictures with it in the c...           0      False   \n",
      "987                            Phone falls out easily.           0      False   \n",
      "988  It didn't work, people can not hear me when I ...           0      False   \n",
      "989  The text messaging feature is really tricky to...           0      False   \n",
      "990  I'm really disappointed all I have now is a ch...           0      False   \n",
      "991                                Painful on the ear.           0      False   \n",
      "992                   Lasted one day and then blew up.           0      False   \n",
      "993                                      disappointed.           0      False   \n",
      "994                              Kind of flops around.           0      False   \n",
      "995  The screen does get smudged easily because it ...           0      False   \n",
      "996  What a piece of junk.. I lose more calls on th...           0      False   \n",
      "997                       Item Does Not Match Picture.           0      False   \n",
      "998  The only thing that disappoint me is the infra...           0      False   \n",
      "999  You can not answer calls with the unit, never ...           0      False   \n",
      "\n",
      "     great  winner   good  satisfied  impressed   best  pleased  allcaps  \n",
      "0    False   False  False      False      False  False    False    False  \n",
      "1    False   False  False      False      False  False    False    False  \n",
      "2    False   False  False      False      False  False    False    False  \n",
      "3    False   False  False      False      False  False    False    False  \n",
      "4    False   False  False      False      False  False    False    False  \n",
      "5    False   False  False      False      False  False    False    False  \n",
      "6    False   False  False      False      False  False    False    False  \n",
      "7    False   False  False      False      False  False    False    False  \n",
      "8    False   False  False      False      False  False    False    False  \n",
      "9    False   False  False      False      False  False    False    False  \n",
      "10   False   False  False      False      False  False    False    False  \n",
      "11   False   False  False      False       True  False    False    False  \n",
      "12   False   False  False      False      False  False    False    False  \n",
      "13   False   False   True      False      False  False    False    False  \n",
      "14   False   False  False      False      False  False    False    False  \n",
      "15   False   False  False      False      False  False    False    False  \n",
      "16   False   False  False      False      False  False    False    False  \n",
      "17   False   False  False      False      False  False    False    False  \n",
      "18   False   False  False      False      False  False    False    False  \n",
      "19   False   False  False      False      False  False    False    False  \n",
      "20   False   False  False      False      False  False    False    False  \n",
      "21   False   False  False      False      False  False    False    False  \n",
      "22   False   False  False      False      False  False    False    False  \n",
      "23   False   False  False      False      False  False    False    False  \n",
      "24   False   False  False      False      False  False    False    False  \n",
      "25   False   False  False      False      False  False    False    False  \n",
      "26   False   False  False      False      False   True    False    False  \n",
      "27   False   False  False      False      False  False    False    False  \n",
      "28   False   False  False      False      False  False    False    False  \n",
      "29   False   False  False      False      False  False    False    False  \n",
      "..     ...     ...    ...        ...        ...    ...      ...      ...  \n",
      "970  False   False  False      False      False  False    False    False  \n",
      "971  False   False  False      False      False  False    False    False  \n",
      "972  False   False  False      False      False  False    False    False  \n",
      "973  False   False  False      False      False  False    False    False  \n",
      "974  False   False  False      False      False  False    False    False  \n",
      "975  False   False  False      False      False   True    False    False  \n",
      "976  False   False  False      False      False  False    False     True  \n",
      "977  False   False  False      False      False  False    False    False  \n",
      "978  False   False  False      False      False  False    False    False  \n",
      "979  False   False  False      False      False  False    False    False  \n",
      "980  False   False  False      False      False  False    False    False  \n",
      "981  False   False  False      False      False  False    False    False  \n",
      "982  False   False  False      False      False  False    False    False  \n",
      "983  False   False  False      False      False  False    False    False  \n",
      "984  False   False  False      False      False  False    False    False  \n",
      "985  False   False  False      False      False  False    False    False  \n",
      "986  False   False  False      False      False  False    False    False  \n",
      "987  False   False  False      False      False  False    False    False  \n",
      "988  False   False  False      False      False  False    False    False  \n",
      "989  False   False  False      False      False  False    False    False  \n",
      "990  False   False  False      False      False  False    False    False  \n",
      "991  False   False  False      False      False  False    False    False  \n",
      "992  False   False  False      False      False  False    False    False  \n",
      "993  False   False  False      False      False  False    False    False  \n",
      "994  False   False  False      False      False  False    False    False  \n",
      "995  False   False  False      False      False  False    False    False  \n",
      "996  False   False  False      False      False  False    False    False  \n",
      "997  False   False  False      False      False  False    False    False  \n",
      "998  False   False  False      False      False  False    False    False  \n",
      "999  False   False  False      False      False  False    False    False  \n",
      "\n",
      "[1000 rows x 11 columns]\n"
     ]
    }
   ],
   "source": [
    "sms_raw['allcaps'] = sms_raw.message.str.isupper()\n",
    "print(sms_raw)"
   ]
  },
  {
   "cell_type": "code",
   "execution_count": 5,
   "metadata": {},
   "outputs": [
    {
     "name": "stdout",
     "output_type": "stream",
     "text": [
      "                                             message  pos_or_neg  excellent  \\\n",
      "0  So there is no way for me to plug it in here i...           0      False   \n",
      "1                        Good case, Excellent value.           1       True   \n",
      "2                             Great for the jawbone.           1      False   \n",
      "3  Tied to charger for conversations lasting more...           0      False   \n",
      "4                                  The mic is great.           1      False   \n",
      "\n",
      "   great  winner   good  satisfied  impressed   best  pleased  allcaps  \\\n",
      "0  False   False  False      False      False  False    False    False   \n",
      "1  False   False  False      False      False  False    False    False   \n",
      "2  False   False  False      False      False  False    False    False   \n",
      "3  False   False  False      False      False  False    False    False   \n",
      "4  False   False  False      False      False  False    False    False   \n",
      "\n",
      "   positive  \n",
      "0     False  \n",
      "1      True  \n",
      "2      True  \n",
      "3     False  \n",
      "4      True  \n"
     ]
    }
   ],
   "source": [
    "sms_raw['positive'] = (sms_raw['pos_or_neg'] == 1)\n",
    "print(sms_raw.head())"
   ]
  },
  {
   "cell_type": "code",
   "execution_count": 6,
   "metadata": {},
   "outputs": [
    {
     "data": {
      "text/plain": [
       "<matplotlib.axes._subplots.AxesSubplot at 0x10b14ec88>"
      ]
     },
     "execution_count": 6,
     "metadata": {},
     "output_type": "execute_result"
    },
    {
     "data": {
      "image/png": "[encoded data removed]",
      "text/plain": [
       "<matplotlib.figure.Figure at 0x10b14e128>"
      ]
     },
     "metadata": {},
     "output_type": "display_data"
    }
   ],
   "source": [
    "sns.heatmap(sms_raw.corr())"
   ]
  },
  {
   "cell_type": "code",
   "execution_count": 7,
   "metadata": {},
   "outputs": [
    {
     "name": "stdout",
     "output_type": "stream",
     "text": [
      "   excellent  great  winner   good  satisfied  impressed   best  pleased  \\\n",
      "0      False  False   False  False      False      False  False    False   \n",
      "1       True  False   False  False      False      False  False    False   \n",
      "2      False  False   False  False      False      False  False    False   \n",
      "3      False  False   False  False      False      False  False    False   \n",
      "4      False  False   False  False      False      False  False    False   \n",
      "\n",
      "   allcaps  \n",
      "0    False  \n",
      "1    False  \n",
      "2    False  \n",
      "3    False  \n",
      "4    False  \n",
      "0    False\n",
      "1     True\n",
      "2     True\n",
      "3    False\n",
      "4     True\n",
      "Name: positive, dtype: bool\n"
     ]
    }
   ],
   "source": [
    "data = sms_raw[keywords + ['allcaps']]\n",
    "print(data.head())\n",
    "target = sms_raw['positive']\n",
    "print(target.head())"
   ]
  },
  {
   "cell_type": "code",
   "execution_count": 8,
   "metadata": {
    "scrolled": false
   },
   "outputs": [
    {
     "name": "stdout",
     "output_type": "stream",
     "text": [
      "BernoulliNB(alpha=1.0, binarize=0.0, class_prior=None, fit_prior=True)\n",
      "[False  True False False False False False False False False]\n",
      "Number of mislabeled points out of a total 1000 points : 588\n",
      "success rate = 0.588\n"
     ]
    }
   ],
   "source": [
    "# Our data is binary / boolean, so we're importing the Bernoulli classifier.\n",
    "from sklearn.naive_bayes import BernoulliNB\n",
    "\n",
    "# Instantiate our model and store it in a new variable.\n",
    "bnb = BernoulliNB()\n",
    "\n",
    "print(bnb)\n",
    "\n",
    "# Fit our model to the data.\n",
    "# bnb.fit(data, target)\n",
    "\n",
    "# Classify, storing the result in a new variable.\n",
    "y_pred = bnb.fit(data, target).predict(data)\n",
    "\n",
    "print(y_pred[:10])\n",
    "# Display our results.\n",
    "print(\"Number of mislabeled points out of a total {} points : {}\".format(\n",
    "    data.shape[0],\n",
    "    (target == y_pred).sum()\n",
    "))\n",
    "\n",
    "print('success rate = %s' % ((data.shape[0] - (target != y_pred).sum())/data.shape[0]))"
   ]
  },
  {
   "cell_type": "markdown",
   "metadata": {
    "collapsed": true
   },
   "source": [
    "# Now to Increase My Success Rate!\n",
    "\n",
    "Strategy 1: Lowercase message"
   ]
  },
  {
   "cell_type": "code",
   "execution_count": 12,
   "metadata": {},
   "outputs": [
    {
     "name": "stdout",
     "output_type": "stream",
     "text": [
      "                                             message  pos_or_neg\n",
      "0  So there is no way for me to plug it in here i...           0\n",
      "1                        Good case, Excellent value.           1\n",
      "2                             Great for the jawbone.           1\n",
      "3  Tied to charger for conversations lasting more...           0\n",
      "4                                  The mic is great.           1\n",
      "                                             message  pos_or_neg  \\\n",
      "0  So there is no way for me to plug it in here i...           0   \n",
      "1                        Good case, Excellent value.           1   \n",
      "2                             Great for the jawbone.           1   \n",
      "3  Tied to charger for conversations lasting more...           0   \n",
      "4                                  The mic is great.           1   \n",
      "\n",
      "                                       lower_message  \n",
      "0   so there is no way for me to plug it in here ...  \n",
      "1                       good case, excellent value.   \n",
      "2                            great for the jawbone.   \n",
      "3   tied to charger for conversations lasting mor...  \n",
      "4                                 the mic is great.   \n",
      "                                             message  pos_or_neg  \\\n",
      "0  So there is no way for me to plug it in here i...           0   \n",
      "1                        Good case, Excellent value.           1   \n",
      "2                             Great for the jawbone.           1   \n",
      "3  Tied to charger for conversations lasting more...           0   \n",
      "4                                  The mic is great.           1   \n",
      "\n",
      "                                       lower_message  excellent  great  \\\n",
      "0   so there is no way for me to plug it in here ...      False  False   \n",
      "1                       good case, excellent value.        True  False   \n",
      "2                            great for the jawbone.       False   True   \n",
      "3   tied to charger for conversations lasting mor...      False  False   \n",
      "4                                 the mic is great.       False  False   \n",
      "\n",
      "   winner   good  satisfied  impressed   best  pleased  \n",
      "0   False  False      False      False  False    False  \n",
      "1   False   True      False      False  False    False  \n",
      "2   False  False      False      False  False    False  \n",
      "3   False  False      False      False  False    False  \n",
      "4   False  False      False      False  False    False  \n"
     ]
    }
   ],
   "source": [
    "sms_raw2 = pd.read_csv('amazon_cells_labelled.txt', delimiter= '\\t', header=None)\n",
    "\n",
    "sms_raw2.columns = ['message', 'pos_or_neg']\n",
    "print(sms_raw2.head())\n",
    "\n",
    "sms_raw2['lower_message'] = \" \" + sms_raw2.message.str.lower() + \" \"\n",
    "print(sms_raw2.head())\n",
    "\n",
    "for key in keywords:\n",
    "    # Note that we add spaces around the key so that we're getting the word,\n",
    "    # not just pattern matching.\n",
    "    sms_raw2[str(key)] = sms_raw2.lower_message.str.contains(\n",
    "        ' ' + str(key) + ' ',\n",
    "        case=False\n",
    "    )\n",
    "print(sms_raw2.head())"
   ]
  },
  {
   "cell_type": "code",
   "execution_count": 13,
   "metadata": {},
   "outputs": [
    {
     "name": "stdout",
     "output_type": "stream",
     "text": [
      "                                             message  pos_or_neg  \\\n",
      "0  So there is no way for me to plug it in here i...           0   \n",
      "1                        Good case, Excellent value.           1   \n",
      "2                             Great for the jawbone.           1   \n",
      "3  Tied to charger for conversations lasting more...           0   \n",
      "4                                  The mic is great.           1   \n",
      "\n",
      "                                       lower_message  excellent  great  \\\n",
      "0   so there is no way for me to plug it in here ...      False  False   \n",
      "1                       good case, excellent value.        True  False   \n",
      "2                            great for the jawbone.       False   True   \n",
      "3   tied to charger for conversations lasting mor...      False  False   \n",
      "4                                 the mic is great.       False  False   \n",
      "\n",
      "   winner   good  satisfied  impressed   best  pleased  positive  allcaps  \n",
      "0   False  False      False      False  False    False     False    False  \n",
      "1   False   True      False      False  False    False      True    False  \n",
      "2   False  False      False      False  False    False      True    False  \n",
      "3   False  False      False      False  False    False     False    False  \n",
      "4   False  False      False      False  False    False      True    False  \n",
      "[False  True False False False False False False False False]\n",
      "Number of mislabeled points out of a total 1000 points : 639\n",
      "success rate = 0.639\n"
     ]
    }
   ],
   "source": [
    "sms_raw2['positive'] = (sms_raw2['pos_or_neg'] == 1)\n",
    "sms_raw2['allcaps'] = sms_raw2.message.str.isupper()\n",
    "print(sms_raw2.head())\n",
    "\n",
    "data2 = sms_raw2[keywords + ['allcaps']]\n",
    "\n",
    "target2 = sms_raw2['positive']\n",
    "\n",
    "\n",
    "y_pred2 = bnb.fit(data2, target2).predict(data2)\n",
    "\n",
    "print(y_pred[:10])\n",
    "# Display our results.\n",
    "print(\"Number of mislabeled points out of a total {} points : {}\".format(\n",
    "    data2.shape[0],\n",
    "    (target2 == y_pred2).sum()\n",
    "))\n",
    "\n",
    "print('success rate = %s' % ((data2.shape[0] - (target2 != y_pred2).sum())/data2.shape[0]))"
   ]
  },
  {
   "cell_type": "code",
   "execution_count": null,
   "metadata": {
    "collapsed": true
   },
   "outputs": [],
   "source": []
  }
 ],
 "metadata": {
  "kernelspec": {
   "display_name": "Python 3",
   "language": "python",
   "name": "python3"
  },
  "language_info": {
   "codemirror_mode": {
    "name": "ipython",
    "version": 3
   },
   "file_extension": ".py",
   "mimetype": "text/x-python",
   "name": "python",
   "nbconvert_exporter": "python",
   "pygments_lexer": "ipython3",
   "version": "3.5.2"
  }
 },
 "nbformat": 4,
 "nbformat_minor": 2
}
