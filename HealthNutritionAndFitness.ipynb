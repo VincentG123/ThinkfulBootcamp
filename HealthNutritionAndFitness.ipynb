{
 "cells": [
  {
   "cell_type": "code",
   "execution_count": 10,
   "metadata": {
    "collapsed": true
   },
   "outputs": [],
   "source": [
    "import pandas as pd\n",
    "import matplotlib.pyplot as plt\n",
    "import seaborn as sns\n",
    "import numpy as np\n",
    "%matplotlib inline\n",
    "\n",
    "pd.options.display.max_rows = None\n",
    "pd.options.display.max_columns = None"
   ]
  },
  {
   "cell_type": "code",
   "execution_count": 11,
   "metadata": {
    "collapsed": true
   },
   "outputs": [],
   "source": [
    "us_health = pd.read_csv('US_Health.csv')"
   ]
  },
  {
   "cell_type": "code",
   "execution_count": 12,
   "metadata": {},
   "outputs": [
    {
     "data": {
      "text/plain": [
       "(48772, 33)"
      ]
     },
     "execution_count": 12,
     "metadata": {},
     "output_type": "execute_result"
    }
   ],
   "source": [
    "us_health.shape"
   ]
  },
  {
   "cell_type": "code",
   "execution_count": 13,
   "metadata": {},
   "outputs": [
    {
     "data": {
      "text/plain": [
       "Index(['YearStart', 'YearEnd', 'LocationAbbr', 'LocationDesc', 'Datasource',\n",
       "       'Class', 'Topic', 'Question', 'Data_Value_Unit', 'Data_Value_Type',\n",
       "       'Data_Value', 'Data_Value_Alt', 'Data_Value_Footnote_Symbol',\n",
       "       'Data_Value_Footnote', 'Low_Confidence_Limit', 'High_Confidence_Limit ',\n",
       "       'Sample_Size', 'Total', 'Age(years)', 'Education', 'Gender', 'Income',\n",
       "       'Race/Ethnicity', 'GeoLocation', 'ClassID', 'TopicID', 'QuestionID',\n",
       "       'DataValueTypeID', 'LocationID', 'StratificationCategory1',\n",
       "       'Stratification1', 'StratificationCategoryId1', 'StratificationID1'],\n",
       "      dtype='object')"
      ]
     },
     "execution_count": 13,
     "metadata": {},
     "output_type": "execute_result"
    }
   ],
   "source": [
    "us_health.columns"
   ]
  },
  {
   "cell_type": "code",
   "execution_count": 14,
   "metadata": {},
   "outputs": [
    {
     "data": {
      "text/plain": [
       "YearStart                       int64\n",
       "YearEnd                         int64\n",
       "LocationAbbr                   object\n",
       "LocationDesc                   object\n",
       "Datasource                     object\n",
       "Class                          object\n",
       "Topic                          object\n",
       "Question                       object\n",
       "Data_Value_Unit               float64\n",
       "Data_Value_Type                object\n",
       "Data_Value                    float64\n",
       "Data_Value_Alt                float64\n",
       "Data_Value_Footnote_Symbol     object\n",
       "Data_Value_Footnote            object\n",
       "Low_Confidence_Limit          float64\n",
       "High_Confidence_Limit         float64\n",
       "Sample_Size                   float64\n",
       "Total                          object\n",
       "Age(years)                     object\n",
       "Education                      object\n",
       "Gender                         object\n",
       "Income                         object\n",
       "Race/Ethnicity                 object\n",
       "GeoLocation                    object\n",
       "ClassID                        object\n",
       "TopicID                        object\n",
       "QuestionID                     object\n",
       "DataValueTypeID                object\n",
       "LocationID                      int64\n",
       "StratificationCategory1        object\n",
       "Stratification1                object\n",
       "StratificationCategoryId1      object\n",
       "StratificationID1              object\n",
       "dtype: object"
      ]
     },
     "execution_count": 14,
     "metadata": {},
     "output_type": "execute_result"
    }
   ],
   "source": [
    "us_health.dtypes"
   ]
  },
  {
   "cell_type": "code",
   "execution_count": 15,
   "metadata": {},
   "outputs": [
    {
     "data": {
      "text/html": [
       "<div>\n",
       "<style>\n",
       "    .dataframe thead tr:only-child th {\n",
       "        text-align: right;\n",
       "    }\n",
       "\n",
       "    .dataframe thead th {\n",
       "        text-align: left;\n",
       "    }\n",
       "\n",
       "    .dataframe tbody tr th {\n",
       "        vertical-align: top;\n",
       "    }\n",
       "</style>\n",
       "<table border=\"1\" class=\"dataframe\">\n",
       "  <thead>\n",
       "    <tr style=\"text-align: right;\">\n",
       "      <th></th>\n",
       "      <th>YearStart</th>\n",
       "      <th>YearEnd</th>\n",
       "      <th>LocationAbbr</th>\n",
       "      <th>LocationDesc</th>\n",
       "      <th>Datasource</th>\n",
       "      <th>Class</th>\n",
       "      <th>Topic</th>\n",
       "      <th>Question</th>\n",
       "      <th>Data_Value_Unit</th>\n",
       "      <th>Data_Value_Type</th>\n",
       "      <th>Data_Value</th>\n",
       "      <th>Data_Value_Alt</th>\n",
       "      <th>Data_Value_Footnote_Symbol</th>\n",
       "      <th>Data_Value_Footnote</th>\n",
       "      <th>Low_Confidence_Limit</th>\n",
       "      <th>High_Confidence_Limit</th>\n",
       "      <th>Sample_Size</th>\n",
       "      <th>Total</th>\n",
       "      <th>Age(years)</th>\n",
       "      <th>Education</th>\n",
       "      <th>Gender</th>\n",
       "      <th>Income</th>\n",
       "      <th>Race/Ethnicity</th>\n",
       "      <th>GeoLocation</th>\n",
       "      <th>ClassID</th>\n",
       "      <th>TopicID</th>\n",
       "      <th>QuestionID</th>\n",
       "      <th>DataValueTypeID</th>\n",
       "      <th>LocationID</th>\n",
       "      <th>StratificationCategory1</th>\n",
       "      <th>Stratification1</th>\n",
       "      <th>StratificationCategoryId1</th>\n",
       "      <th>StratificationID1</th>\n",
       "    </tr>\n",
       "  </thead>\n",
       "  <tbody>\n",
       "    <tr>\n",
       "      <th>0</th>\n",
       "      <td>2011</td>\n",
       "      <td>2011</td>\n",
       "      <td>AL</td>\n",
       "      <td>Alabama</td>\n",
       "      <td>Behavioral Risk Factor Surveillance System</td>\n",
       "      <td>Obesity / Weight Status</td>\n",
       "      <td>Obesity / Weight Status</td>\n",
       "      <td>Percent of adults aged 18 years and older who ...</td>\n",
       "      <td>NaN</td>\n",
       "      <td>Value</td>\n",
       "      <td>32.0</td>\n",
       "      <td>32.0</td>\n",
       "      <td>NaN</td>\n",
       "      <td>NaN</td>\n",
       "      <td>30.5</td>\n",
       "      <td>33.5</td>\n",
       "      <td>7304.0</td>\n",
       "      <td>Total</td>\n",
       "      <td>NaN</td>\n",
       "      <td>NaN</td>\n",
       "      <td>NaN</td>\n",
       "      <td>NaN</td>\n",
       "      <td>NaN</td>\n",
       "      <td>(32.84057112200048, -86.63186076199969)</td>\n",
       "      <td>OWS</td>\n",
       "      <td>OWS1</td>\n",
       "      <td>Q036</td>\n",
       "      <td>VALUE</td>\n",
       "      <td>1</td>\n",
       "      <td>Total</td>\n",
       "      <td>Total</td>\n",
       "      <td>OVR</td>\n",
       "      <td>OVERALL</td>\n",
       "    </tr>\n",
       "    <tr>\n",
       "      <th>1</th>\n",
       "      <td>2011</td>\n",
       "      <td>2011</td>\n",
       "      <td>AL</td>\n",
       "      <td>Alabama</td>\n",
       "      <td>Behavioral Risk Factor Surveillance System</td>\n",
       "      <td>Obesity / Weight Status</td>\n",
       "      <td>Obesity / Weight Status</td>\n",
       "      <td>Percent of adults aged 18 years and older who ...</td>\n",
       "      <td>NaN</td>\n",
       "      <td>Value</td>\n",
       "      <td>32.3</td>\n",
       "      <td>32.3</td>\n",
       "      <td>NaN</td>\n",
       "      <td>NaN</td>\n",
       "      <td>29.9</td>\n",
       "      <td>34.7</td>\n",
       "      <td>2581.0</td>\n",
       "      <td>NaN</td>\n",
       "      <td>NaN</td>\n",
       "      <td>NaN</td>\n",
       "      <td>Male</td>\n",
       "      <td>NaN</td>\n",
       "      <td>NaN</td>\n",
       "      <td>(32.84057112200048, -86.63186076199969)</td>\n",
       "      <td>OWS</td>\n",
       "      <td>OWS1</td>\n",
       "      <td>Q036</td>\n",
       "      <td>VALUE</td>\n",
       "      <td>1</td>\n",
       "      <td>Gender</td>\n",
       "      <td>Male</td>\n",
       "      <td>GEN</td>\n",
       "      <td>MALE</td>\n",
       "    </tr>\n",
       "    <tr>\n",
       "      <th>2</th>\n",
       "      <td>2011</td>\n",
       "      <td>2011</td>\n",
       "      <td>AL</td>\n",
       "      <td>Alabama</td>\n",
       "      <td>Behavioral Risk Factor Surveillance System</td>\n",
       "      <td>Obesity / Weight Status</td>\n",
       "      <td>Obesity / Weight Status</td>\n",
       "      <td>Percent of adults aged 18 years and older who ...</td>\n",
       "      <td>NaN</td>\n",
       "      <td>Value</td>\n",
       "      <td>31.8</td>\n",
       "      <td>31.8</td>\n",
       "      <td>NaN</td>\n",
       "      <td>NaN</td>\n",
       "      <td>30.0</td>\n",
       "      <td>33.6</td>\n",
       "      <td>4723.0</td>\n",
       "      <td>NaN</td>\n",
       "      <td>NaN</td>\n",
       "      <td>NaN</td>\n",
       "      <td>Female</td>\n",
       "      <td>NaN</td>\n",
       "      <td>NaN</td>\n",
       "      <td>(32.84057112200048, -86.63186076199969)</td>\n",
       "      <td>OWS</td>\n",
       "      <td>OWS1</td>\n",
       "      <td>Q036</td>\n",
       "      <td>VALUE</td>\n",
       "      <td>1</td>\n",
       "      <td>Gender</td>\n",
       "      <td>Female</td>\n",
       "      <td>GEN</td>\n",
       "      <td>FEMALE</td>\n",
       "    </tr>\n",
       "    <tr>\n",
       "      <th>3</th>\n",
       "      <td>2011</td>\n",
       "      <td>2011</td>\n",
       "      <td>AL</td>\n",
       "      <td>Alabama</td>\n",
       "      <td>Behavioral Risk Factor Surveillance System</td>\n",
       "      <td>Obesity / Weight Status</td>\n",
       "      <td>Obesity / Weight Status</td>\n",
       "      <td>Percent of adults aged 18 years and older who ...</td>\n",
       "      <td>NaN</td>\n",
       "      <td>Value</td>\n",
       "      <td>33.6</td>\n",
       "      <td>33.6</td>\n",
       "      <td>NaN</td>\n",
       "      <td>NaN</td>\n",
       "      <td>29.9</td>\n",
       "      <td>37.6</td>\n",
       "      <td>1153.0</td>\n",
       "      <td>NaN</td>\n",
       "      <td>NaN</td>\n",
       "      <td>Less than high school</td>\n",
       "      <td>NaN</td>\n",
       "      <td>NaN</td>\n",
       "      <td>NaN</td>\n",
       "      <td>(32.84057112200048, -86.63186076199969)</td>\n",
       "      <td>OWS</td>\n",
       "      <td>OWS1</td>\n",
       "      <td>Q036</td>\n",
       "      <td>VALUE</td>\n",
       "      <td>1</td>\n",
       "      <td>Education</td>\n",
       "      <td>Less than high school</td>\n",
       "      <td>EDU</td>\n",
       "      <td>EDUHS</td>\n",
       "    </tr>\n",
       "    <tr>\n",
       "      <th>4</th>\n",
       "      <td>2011</td>\n",
       "      <td>2011</td>\n",
       "      <td>AL</td>\n",
       "      <td>Alabama</td>\n",
       "      <td>Behavioral Risk Factor Surveillance System</td>\n",
       "      <td>Obesity / Weight Status</td>\n",
       "      <td>Obesity / Weight Status</td>\n",
       "      <td>Percent of adults aged 18 years and older who ...</td>\n",
       "      <td>NaN</td>\n",
       "      <td>Value</td>\n",
       "      <td>32.8</td>\n",
       "      <td>32.8</td>\n",
       "      <td>NaN</td>\n",
       "      <td>NaN</td>\n",
       "      <td>30.2</td>\n",
       "      <td>35.6</td>\n",
       "      <td>2402.0</td>\n",
       "      <td>NaN</td>\n",
       "      <td>NaN</td>\n",
       "      <td>High school graduate</td>\n",
       "      <td>NaN</td>\n",
       "      <td>NaN</td>\n",
       "      <td>NaN</td>\n",
       "      <td>(32.84057112200048, -86.63186076199969)</td>\n",
       "      <td>OWS</td>\n",
       "      <td>OWS1</td>\n",
       "      <td>Q036</td>\n",
       "      <td>VALUE</td>\n",
       "      <td>1</td>\n",
       "      <td>Education</td>\n",
       "      <td>High school graduate</td>\n",
       "      <td>EDU</td>\n",
       "      <td>EDUHSGRAD</td>\n",
       "    </tr>\n",
       "  </tbody>\n",
       "</table>\n",
       "</div>"
      ],
      "text/plain": [
       "   YearStart  YearEnd LocationAbbr LocationDesc  \\\n",
       "0       2011     2011           AL      Alabama   \n",
       "1       2011     2011           AL      Alabama   \n",
       "2       2011     2011           AL      Alabama   \n",
       "3       2011     2011           AL      Alabama   \n",
       "4       2011     2011           AL      Alabama   \n",
       "\n",
       "                                   Datasource                    Class  \\\n",
       "0  Behavioral Risk Factor Surveillance System  Obesity / Weight Status   \n",
       "1  Behavioral Risk Factor Surveillance System  Obesity / Weight Status   \n",
       "2  Behavioral Risk Factor Surveillance System  Obesity / Weight Status   \n",
       "3  Behavioral Risk Factor Surveillance System  Obesity / Weight Status   \n",
       "4  Behavioral Risk Factor Surveillance System  Obesity / Weight Status   \n",
       "\n",
       "                     Topic                                           Question  \\\n",
       "0  Obesity / Weight Status  Percent of adults aged 18 years and older who ...   \n",
       "1  Obesity / Weight Status  Percent of adults aged 18 years and older who ...   \n",
       "2  Obesity / Weight Status  Percent of adults aged 18 years and older who ...   \n",
       "3  Obesity / Weight Status  Percent of adults aged 18 years and older who ...   \n",
       "4  Obesity / Weight Status  Percent of adults aged 18 years and older who ...   \n",
       "\n",
       "   Data_Value_Unit Data_Value_Type  Data_Value  Data_Value_Alt  \\\n",
       "0              NaN           Value        32.0            32.0   \n",
       "1              NaN           Value        32.3            32.3   \n",
       "2              NaN           Value        31.8            31.8   \n",
       "3              NaN           Value        33.6            33.6   \n",
       "4              NaN           Value        32.8            32.8   \n",
       "\n",
       "  Data_Value_Footnote_Symbol Data_Value_Footnote  Low_Confidence_Limit  \\\n",
       "0                        NaN                 NaN                  30.5   \n",
       "1                        NaN                 NaN                  29.9   \n",
       "2                        NaN                 NaN                  30.0   \n",
       "3                        NaN                 NaN                  29.9   \n",
       "4                        NaN                 NaN                  30.2   \n",
       "\n",
       "   High_Confidence_Limit   Sample_Size  Total Age(years)  \\\n",
       "0                    33.5       7304.0  Total        NaN   \n",
       "1                    34.7       2581.0    NaN        NaN   \n",
       "2                    33.6       4723.0    NaN        NaN   \n",
       "3                    37.6       1153.0    NaN        NaN   \n",
       "4                    35.6       2402.0    NaN        NaN   \n",
       "\n",
       "               Education  Gender Income Race/Ethnicity  \\\n",
       "0                    NaN     NaN    NaN            NaN   \n",
       "1                    NaN    Male    NaN            NaN   \n",
       "2                    NaN  Female    NaN            NaN   \n",
       "3  Less than high school     NaN    NaN            NaN   \n",
       "4   High school graduate     NaN    NaN            NaN   \n",
       "\n",
       "                               GeoLocation ClassID TopicID QuestionID  \\\n",
       "0  (32.84057112200048, -86.63186076199969)     OWS    OWS1       Q036   \n",
       "1  (32.84057112200048, -86.63186076199969)     OWS    OWS1       Q036   \n",
       "2  (32.84057112200048, -86.63186076199969)     OWS    OWS1       Q036   \n",
       "3  (32.84057112200048, -86.63186076199969)     OWS    OWS1       Q036   \n",
       "4  (32.84057112200048, -86.63186076199969)     OWS    OWS1       Q036   \n",
       "\n",
       "  DataValueTypeID  LocationID StratificationCategory1        Stratification1  \\\n",
       "0           VALUE           1                   Total                  Total   \n",
       "1           VALUE           1                  Gender                   Male   \n",
       "2           VALUE           1                  Gender                 Female   \n",
       "3           VALUE           1               Education  Less than high school   \n",
       "4           VALUE           1               Education   High school graduate   \n",
       "\n",
       "  StratificationCategoryId1 StratificationID1  \n",
       "0                       OVR           OVERALL  \n",
       "1                       GEN              MALE  \n",
       "2                       GEN            FEMALE  \n",
       "3                       EDU             EDUHS  \n",
       "4                       EDU         EDUHSGRAD  "
      ]
     },
     "execution_count": 15,
     "metadata": {},
     "output_type": "execute_result"
    }
   ],
   "source": [
    "us_health.head()"
   ]
  },
  {
   "cell_type": "code",
   "execution_count": 69,
   "metadata": {
    "scrolled": false
   },
   "outputs": [],
   "source": [
    "education_total_obese = us_health[(us_health['LocationDesc'] == 'National')&(us_health['YearStart'] == 2015)\n",
    "         &(us_health['StratificationCategory1'] == 'Education')\n",
    "        &(us_health['Question']=='Percent of adults aged 18 years and older who have obesity')][['Question','Data_Value','Education']]"
   ]
  },
  {
   "cell_type": "code",
   "execution_count": 72,
   "metadata": {
    "collapsed": true
   },
   "outputs": [],
   "source": [
    "education_total_overweight = us_health[(us_health['LocationDesc'] == 'National')&(us_health['YearStart'] == 2015)\n",
    "         &(us_health['StratificationCategory1'] == 'Education')\n",
    "        &(us_health['Question']=='Percent of adults aged 18 years and older who have an overweight classification')][['Question','Data_Value','Education']]"
   ]
  },
  {
   "cell_type": "code",
   "execution_count": 70,
   "metadata": {},
   "outputs": [
    {
     "data": {
      "text/html": [
       "<div>\n",
       "<style>\n",
       "    .dataframe thead tr:only-child th {\n",
       "        text-align: right;\n",
       "    }\n",
       "\n",
       "    .dataframe thead th {\n",
       "        text-align: left;\n",
       "    }\n",
       "\n",
       "    .dataframe tbody tr th {\n",
       "        vertical-align: top;\n",
       "    }\n",
       "</style>\n",
       "<table border=\"1\" class=\"dataframe\">\n",
       "  <thead>\n",
       "    <tr style=\"text-align: right;\">\n",
       "      <th></th>\n",
       "      <th>Question</th>\n",
       "      <th>Data_Value</th>\n",
       "      <th>Education</th>\n",
       "    </tr>\n",
       "  </thead>\n",
       "  <tbody>\n",
       "    <tr>\n",
       "      <th>48613</th>\n",
       "      <td>Percent of adults aged 18 years and older who ...</td>\n",
       "      <td>21.7</td>\n",
       "      <td>College graduate</td>\n",
       "    </tr>\n",
       "    <tr>\n",
       "      <th>48614</th>\n",
       "      <td>Percent of adults aged 18 years and older who ...</td>\n",
       "      <td>30.2</td>\n",
       "      <td>Some college or technical school</td>\n",
       "    </tr>\n",
       "    <tr>\n",
       "      <th>48615</th>\n",
       "      <td>Percent of adults aged 18 years and older who ...</td>\n",
       "      <td>31.7</td>\n",
       "      <td>High school graduate</td>\n",
       "    </tr>\n",
       "    <tr>\n",
       "      <th>48616</th>\n",
       "      <td>Percent of adults aged 18 years and older who ...</td>\n",
       "      <td>34.0</td>\n",
       "      <td>Less than high school</td>\n",
       "    </tr>\n",
       "  </tbody>\n",
       "</table>\n",
       "</div>"
      ],
      "text/plain": [
       "                                                Question  Data_Value  \\\n",
       "48613  Percent of adults aged 18 years and older who ...        21.7   \n",
       "48614  Percent of adults aged 18 years and older who ...        30.2   \n",
       "48615  Percent of adults aged 18 years and older who ...        31.7   \n",
       "48616  Percent of adults aged 18 years and older who ...        34.0   \n",
       "\n",
       "                              Education  \n",
       "48613                  College graduate  \n",
       "48614  Some college or technical school  \n",
       "48615              High school graduate  \n",
       "48616             Less than high school  "
      ]
     },
     "execution_count": 70,
     "metadata": {},
     "output_type": "execute_result"
    }
   ],
   "source": [
    "education_total_obese"
   ]
  },
  {
   "cell_type": "code",
   "execution_count": 73,
   "metadata": {},
   "outputs": [
    {
     "data": {
      "text/html": [
       "<div>\n",
       "<style>\n",
       "    .dataframe thead tr:only-child th {\n",
       "        text-align: right;\n",
       "    }\n",
       "\n",
       "    .dataframe thead th {\n",
       "        text-align: left;\n",
       "    }\n",
       "\n",
       "    .dataframe tbody tr th {\n",
       "        vertical-align: top;\n",
       "    }\n",
       "</style>\n",
       "<table border=\"1\" class=\"dataframe\">\n",
       "  <thead>\n",
       "    <tr style=\"text-align: right;\">\n",
       "      <th></th>\n",
       "      <th>Question</th>\n",
       "      <th>Data_Value</th>\n",
       "      <th>Education</th>\n",
       "    </tr>\n",
       "  </thead>\n",
       "  <tbody>\n",
       "    <tr>\n",
       "      <th>48638</th>\n",
       "      <td>Percent of adults aged 18 years and older who ...</td>\n",
       "      <td>34.9</td>\n",
       "      <td>High school graduate</td>\n",
       "    </tr>\n",
       "    <tr>\n",
       "      <th>48639</th>\n",
       "      <td>Percent of adults aged 18 years and older who ...</td>\n",
       "      <td>35.1</td>\n",
       "      <td>Some college or technical school</td>\n",
       "    </tr>\n",
       "    <tr>\n",
       "      <th>48640</th>\n",
       "      <td>Percent of adults aged 18 years and older who ...</td>\n",
       "      <td>35.8</td>\n",
       "      <td>Less than high school</td>\n",
       "    </tr>\n",
       "    <tr>\n",
       "      <th>48641</th>\n",
       "      <td>Percent of adults aged 18 years and older who ...</td>\n",
       "      <td>37.1</td>\n",
       "      <td>College graduate</td>\n",
       "    </tr>\n",
       "  </tbody>\n",
       "</table>\n",
       "</div>"
      ],
      "text/plain": [
       "                                                Question  Data_Value  \\\n",
       "48638  Percent of adults aged 18 years and older who ...        34.9   \n",
       "48639  Percent of adults aged 18 years and older who ...        35.1   \n",
       "48640  Percent of adults aged 18 years and older who ...        35.8   \n",
       "48641  Percent of adults aged 18 years and older who ...        37.1   \n",
       "\n",
       "                              Education  \n",
       "48638              High school graduate  \n",
       "48639  Some college or technical school  \n",
       "48640             Less than high school  \n",
       "48641                  College graduate  "
      ]
     },
     "execution_count": 73,
     "metadata": {},
     "output_type": "execute_result"
    }
   ],
   "source": [
    "education_total_overweight"
   ]
  },
  {
   "cell_type": "code",
   "execution_count": 71,
   "metadata": {},
   "outputs": [
    {
     "data": {
      "text/plain": [
       "<matplotlib.axes._subplots.AxesSubplot at 0x10b4a3518>"
      ]
     },
     "execution_count": 71,
     "metadata": {},
     "output_type": "execute_result"
    },
    {
     "data": {
      "image/png": "[encoded data removed]",
      "text/plain": [
       "<matplotlib.figure.Figure at 0x10304bf60>"
      ]
     },
     "metadata": {},
     "output_type": "display_data"
    }
   ],
   "source": [
    "sns.barplot(x=\"Question\", y=\"Data_Value\", hue='Education', data=education_total_obese)"
   ]
  },
  {
   "cell_type": "code",
   "execution_count": 77,
   "metadata": {
    "collapsed": true
   },
   "outputs": [],
   "source": [
    "education_total_overweight['Education'] = pd.Categorical(education_total_overweight['Education'], [\"College graduate\", \"Some college or technical school\",\n",
    "                                                                                                   \"High school graduate\",\"Less than high school\"])"
   ]
  },
  {
   "cell_type": "code",
   "execution_count": 82,
   "metadata": {},
   "outputs": [],
   "source": [
    "education_total_overweight = education_total_overweight.sort_values('Education')"
   ]
  },
  {
   "cell_type": "code",
   "execution_count": 114,
   "metadata": {},
   "outputs": [],
   "source": [
    "edu_overweight_obese = pd.DataFrame()"
   ]
  },
  {
   "cell_type": "code",
   "execution_count": 115,
   "metadata": {
    "collapsed": true
   },
   "outputs": [],
   "source": [
    "education_total_overweight = education_total_overweight.set_index(education_total_obese.index)"
   ]
  },
  {
   "cell_type": "code",
   "execution_count": 116,
   "metadata": {},
   "outputs": [
    {
     "data": {
      "text/plain": [
       "48613    58.8\n",
       "48614    65.3\n",
       "48615    66.6\n",
       "48616    69.8\n",
       "Name: Data_Value, dtype: float64"
      ]
     },
     "execution_count": 116,
     "metadata": {},
     "output_type": "execute_result"
    }
   ],
   "source": [
    "education_total_overweight['Data_Value']+education_total_obese['Data_Value']"
   ]
  },
  {
   "cell_type": "code",
   "execution_count": 117,
   "metadata": {},
   "outputs": [],
   "source": [
    "edu_overweight_obese['Percent'] = education_total_overweight['Data_Value']+education_total_obese['Data_Value']\n",
    "edu_overweight_obese['Education'] = education_total_overweight['Education']\n",
    "edu_overweight_obese['Question'] = education_total_overweight['Question']"
   ]
  },
  {
   "cell_type": "code",
   "execution_count": 118,
   "metadata": {},
   "outputs": [
    {
     "data": {
      "text/html": [
       "<div>\n",
       "<style>\n",
       "    .dataframe thead tr:only-child th {\n",
       "        text-align: right;\n",
       "    }\n",
       "\n",
       "    .dataframe thead th {\n",
       "        text-align: left;\n",
       "    }\n",
       "\n",
       "    .dataframe tbody tr th {\n",
       "        vertical-align: top;\n",
       "    }\n",
       "</style>\n",
       "<table border=\"1\" class=\"dataframe\">\n",
       "  <thead>\n",
       "    <tr style=\"text-align: right;\">\n",
       "      <th></th>\n",
       "      <th>Percent</th>\n",
       "      <th>Education</th>\n",
       "      <th>Question</th>\n",
       "    </tr>\n",
       "  </thead>\n",
       "  <tbody>\n",
       "    <tr>\n",
       "      <th>48613</th>\n",
       "      <td>58.8</td>\n",
       "      <td>College graduate</td>\n",
       "      <td>Percent of adults aged 18 years and older who ...</td>\n",
       "    </tr>\n",
       "    <tr>\n",
       "      <th>48614</th>\n",
       "      <td>65.3</td>\n",
       "      <td>Some college or technical school</td>\n",
       "      <td>Percent of adults aged 18 years and older who ...</td>\n",
       "    </tr>\n",
       "    <tr>\n",
       "      <th>48615</th>\n",
       "      <td>66.6</td>\n",
       "      <td>High school graduate</td>\n",
       "      <td>Percent of adults aged 18 years and older who ...</td>\n",
       "    </tr>\n",
       "    <tr>\n",
       "      <th>48616</th>\n",
       "      <td>69.8</td>\n",
       "      <td>Less than high school</td>\n",
       "      <td>Percent of adults aged 18 years and older who ...</td>\n",
       "    </tr>\n",
       "  </tbody>\n",
       "</table>\n",
       "</div>"
      ],
      "text/plain": [
       "       Percent                         Education  \\\n",
       "48613     58.8                  College graduate   \n",
       "48614     65.3  Some college or technical school   \n",
       "48615     66.6              High school graduate   \n",
       "48616     69.8             Less than high school   \n",
       "\n",
       "                                                Question  \n",
       "48613  Percent of adults aged 18 years and older who ...  \n",
       "48614  Percent of adults aged 18 years and older who ...  \n",
       "48615  Percent of adults aged 18 years and older who ...  \n",
       "48616  Percent of adults aged 18 years and older who ...  "
      ]
     },
     "execution_count": 118,
     "metadata": {},
     "output_type": "execute_result"
    }
   ],
   "source": [
    "edu_overweight_obese"
   ]
  },
  {
   "cell_type": "code",
   "execution_count": 119,
   "metadata": {},
   "outputs": [
    {
     "data": {
      "text/plain": [
       "<matplotlib.axes._subplots.AxesSubplot at 0x10ce066a0>"
      ]
     },
     "execution_count": 119,
     "metadata": {},
     "output_type": "execute_result"
    },
    {
     "data": {
      "image/png": "[encoded data removed]",
      "text/plain": [
       "<matplotlib.figure.Figure at 0x10cfbd5f8>"
      ]
     },
     "metadata": {},
     "output_type": "display_data"
    }
   ],
   "source": [
    "sns.barplot(x=\"Question\", y=\"Data_Value\", hue='Education', data=education_total_overweight)"
   ]
  },
  {
   "cell_type": "code",
   "execution_count": 120,
   "metadata": {
    "collapsed": true
   },
   "outputs": [],
   "source": [
    "edu_overweight_obese.loc[:, \"Question\"] = \"Overweight and Obese\""
   ]
  },
  {
   "cell_type": "code",
   "execution_count": 122,
   "metadata": {},
   "outputs": [
    {
     "data": {
      "text/plain": [
       "<matplotlib.axes._subplots.AxesSubplot at 0x10f302630>"
      ]
     },
     "execution_count": 122,
     "metadata": {},
     "output_type": "execute_result"
    },
    {
     "data": {
      "image/png": "[encoded data removed]",
      "text/plain": [
       "<matplotlib.figure.Figure at 0x10e32f9b0>"
      ]
     },
     "metadata": {},
     "output_type": "display_data"
    }
   ],
   "source": [
    "sns.barplot(x=\"Question\", y=\"Percent\", hue='Education', data=edu_overweight_obese)"
   ]
  },
  {
   "cell_type": "code",
   "execution_count": 17,
   "metadata": {},
   "outputs": [
    {
     "data": {
      "text/plain": [
       "array(['Percent of adults aged 18 years and older who have obesity',\n",
       "       'Percent of adults aged 18 years and older who have an overweight classification',\n",
       "       'Percent of adults who report consuming fruit less than one time daily',\n",
       "       'Percent of adults who report consuming vegetables less than one time daily',\n",
       "       'Percent of adults who engage in muscle-strengthening activities on 2 or more days a week',\n",
       "       'Percent of adults who achieve at least 150 minutes a week of moderate-intensity aerobic physical activity or 75 minutes a week of vigorous-intensity aerobic activity (or an equivalent combination)',\n",
       "       'Percent of adults who achieve at least 150 minutes a week of moderate-intensity aerobic physical activity or 75 minutes a week of vigorous-intensity aerobic physical activity and engage in muscle-strengthening activities on 2 or more days a week',\n",
       "       'Percent of adults who achieve at least 300 minutes a week of moderate-intensity aerobic physical activity or 150 minutes a week of vigorous-intensity aerobic activity (or an equivalent combination)',\n",
       "       'Percent of adults who engage in no leisure-time physical activity'], dtype=object)"
      ]
     },
     "execution_count": 17,
     "metadata": {},
     "output_type": "execute_result"
    }
   ],
   "source": [
    "us_health['Question'].unique()"
   ]
  },
  {
   "cell_type": "code",
   "execution_count": 18,
   "metadata": {},
   "outputs": [
    {
     "data": {
      "text/plain": [
       "array(['Total', 'Gender', 'Education', 'Age (years)', 'Income',\n",
       "       'Race/Ethnicity'], dtype=object)"
      ]
     },
     "execution_count": 18,
     "metadata": {},
     "output_type": "execute_result"
    }
   ],
   "source": [
    "us_health['StratificationCategory1'].unique()"
   ]
  },
  {
   "cell_type": "code",
   "execution_count": 19,
   "metadata": {
    "collapsed": true
   },
   "outputs": [],
   "source": [
    "state_names = us_health['LocationDesc'].unique()"
   ]
  },
  {
   "cell_type": "code",
   "execution_count": 20,
   "metadata": {
    "collapsed": true
   },
   "outputs": [],
   "source": [
    "data_value = us_health[(us_health['StratificationCategory1']== 'Total')\n",
    "          &(us_health['Question']=='Percent of adults aged 18 years and older who have obesity')\n",
    "         &(us_health['YearStart']== 2015)][['Data_Value']]"
   ]
  },
  {
   "cell_type": "code",
   "execution_count": 21,
   "metadata": {},
   "outputs": [
    {
     "data": {
      "text/plain": [
       "array([ 28.9,  35.6,  29.8,  28.4,  34.5,  24.2,  20.2,  25.3,  29.7,\n",
       "        22.1,  26.8,  30.7,  22.7,  28.6,  30.8,  31.3,  32.1,  34.2,\n",
       "        34.6,  36.2,  30. ,  28.9,  24.3,  31.2,  26.1,  35.6,  32.4,\n",
       "        23.6,  31.4,  26.7,  26.3,  25.6,  28.8,  25. ,  30.1,  31. ,\n",
       "        29.8,  33.9,  30.1,  30. ,  26. ,  31.7,  30.4,  33.8,  32.4,\n",
       "        24.5,  25.1,  29.2,  26.4,  35.6,  30.7,  29. ,  31.6,  29.5])"
      ]
     },
     "execution_count": 21,
     "metadata": {},
     "output_type": "execute_result"
    }
   ],
   "source": [
    "np.array(data_value['Data_Value'])"
   ]
  },
  {
   "cell_type": "code",
   "execution_count": 22,
   "metadata": {
    "collapsed": true
   },
   "outputs": [],
   "source": [
    "empty_df = pd.DataFrame(index = state_names)"
   ]
  },
  {
   "cell_type": "code",
   "execution_count": 23,
   "metadata": {},
   "outputs": [
    {
     "data": {
      "text/html": [
       "<div>\n",
       "<style>\n",
       "    .dataframe thead tr:only-child th {\n",
       "        text-align: right;\n",
       "    }\n",
       "\n",
       "    .dataframe thead th {\n",
       "        text-align: left;\n",
       "    }\n",
       "\n",
       "    .dataframe tbody tr th {\n",
       "        vertical-align: top;\n",
       "    }\n",
       "</style>\n",
       "<table border=\"1\" class=\"dataframe\">\n",
       "  <thead>\n",
       "    <tr style=\"text-align: right;\">\n",
       "      <th></th>\n",
       "    </tr>\n",
       "  </thead>\n",
       "  <tbody>\n",
       "    <tr>\n",
       "      <th>Alabama</th>\n",
       "    </tr>\n",
       "    <tr>\n",
       "      <th>National</th>\n",
       "    </tr>\n",
       "    <tr>\n",
       "      <th>Alaska</th>\n",
       "    </tr>\n",
       "    <tr>\n",
       "      <th>Arizona</th>\n",
       "    </tr>\n",
       "    <tr>\n",
       "      <th>Arkansas</th>\n",
       "    </tr>\n",
       "  </tbody>\n",
       "</table>\n",
       "</div>"
      ],
      "text/plain": [
       "Empty DataFrame\n",
       "Columns: []\n",
       "Index: [Alabama, National, Alaska, Arizona, Arkansas]"
      ]
     },
     "execution_count": 23,
     "metadata": {},
     "output_type": "execute_result"
    }
   ],
   "source": [
    "empty_df.head()"
   ]
  },
  {
   "cell_type": "code",
   "execution_count": 24,
   "metadata": {
    "collapsed": true
   },
   "outputs": [],
   "source": [
    "empty_df['% Obese'] = np.array(data_value['Data_Value'])"
   ]
  },
  {
   "cell_type": "code",
   "execution_count": 25,
   "metadata": {},
   "outputs": [
    {
     "data": {
      "text/html": [
       "<div>\n",
       "<style>\n",
       "    .dataframe thead tr:only-child th {\n",
       "        text-align: right;\n",
       "    }\n",
       "\n",
       "    .dataframe thead th {\n",
       "        text-align: left;\n",
       "    }\n",
       "\n",
       "    .dataframe tbody tr th {\n",
       "        vertical-align: top;\n",
       "    }\n",
       "</style>\n",
       "<table border=\"1\" class=\"dataframe\">\n",
       "  <thead>\n",
       "    <tr style=\"text-align: right;\">\n",
       "      <th></th>\n",
       "      <th>% Obese</th>\n",
       "    </tr>\n",
       "  </thead>\n",
       "  <tbody>\n",
       "    <tr>\n",
       "      <th>Alabama</th>\n",
       "      <td>28.9</td>\n",
       "    </tr>\n",
       "    <tr>\n",
       "      <th>National</th>\n",
       "      <td>35.6</td>\n",
       "    </tr>\n",
       "    <tr>\n",
       "      <th>Alaska</th>\n",
       "      <td>29.8</td>\n",
       "    </tr>\n",
       "    <tr>\n",
       "      <th>Arizona</th>\n",
       "      <td>28.4</td>\n",
       "    </tr>\n",
       "    <tr>\n",
       "      <th>Arkansas</th>\n",
       "      <td>34.5</td>\n",
       "    </tr>\n",
       "  </tbody>\n",
       "</table>\n",
       "</div>"
      ],
      "text/plain": [
       "          % Obese\n",
       "Alabama      28.9\n",
       "National     35.6\n",
       "Alaska       29.8\n",
       "Arizona      28.4\n",
       "Arkansas     34.5"
      ]
     },
     "execution_count": 25,
     "metadata": {},
     "output_type": "execute_result"
    }
   ],
   "source": [
    "empty_df.head()"
   ]
  },
  {
   "cell_type": "code",
   "execution_count": 26,
   "metadata": {
    "collapsed": true
   },
   "outputs": [],
   "source": [
    "data_value2 = us_health[(us_health['StratificationCategory1']== 'Total')\n",
    "          &(us_health['Question']=='Percent of adults aged 18 years and older who have an overweight classification')\n",
    "         &(us_health['YearStart']== 2015)][['Data_Value']]"
   ]
  },
  {
   "cell_type": "code",
   "execution_count": 27,
   "metadata": {
    "collapsed": true
   },
   "outputs": [],
   "source": [
    "empty_df['% Over Weight'] = np.array(data_value2['Data_Value'])"
   ]
  },
  {
   "cell_type": "code",
   "execution_count": 28,
   "metadata": {},
   "outputs": [
    {
     "data": {
      "text/html": [
       "<div>\n",
       "<style>\n",
       "    .dataframe thead tr:only-child th {\n",
       "        text-align: right;\n",
       "    }\n",
       "\n",
       "    .dataframe thead th {\n",
       "        text-align: left;\n",
       "    }\n",
       "\n",
       "    .dataframe tbody tr th {\n",
       "        vertical-align: top;\n",
       "    }\n",
       "</style>\n",
       "<table border=\"1\" class=\"dataframe\">\n",
       "  <thead>\n",
       "    <tr style=\"text-align: right;\">\n",
       "      <th></th>\n",
       "      <th>% Obese</th>\n",
       "      <th>% Over Weight</th>\n",
       "    </tr>\n",
       "  </thead>\n",
       "  <tbody>\n",
       "    <tr>\n",
       "      <th>Alabama</th>\n",
       "      <td>28.9</td>\n",
       "      <td>33.0</td>\n",
       "    </tr>\n",
       "    <tr>\n",
       "      <th>National</th>\n",
       "      <td>35.6</td>\n",
       "      <td>37.4</td>\n",
       "    </tr>\n",
       "    <tr>\n",
       "      <th>Alaska</th>\n",
       "      <td>29.8</td>\n",
       "      <td>36.9</td>\n",
       "    </tr>\n",
       "    <tr>\n",
       "      <th>Arizona</th>\n",
       "      <td>28.4</td>\n",
       "      <td>35.0</td>\n",
       "    </tr>\n",
       "    <tr>\n",
       "      <th>Arkansas</th>\n",
       "      <td>34.5</td>\n",
       "      <td>36.2</td>\n",
       "    </tr>\n",
       "  </tbody>\n",
       "</table>\n",
       "</div>"
      ],
      "text/plain": [
       "          % Obese  % Over Weight\n",
       "Alabama      28.9           33.0\n",
       "National     35.6           37.4\n",
       "Alaska       29.8           36.9\n",
       "Arizona      28.4           35.0\n",
       "Arkansas     34.5           36.2"
      ]
     },
     "execution_count": 28,
     "metadata": {},
     "output_type": "execute_result"
    }
   ],
   "source": [
    "empty_df.head()"
   ]
  },
  {
   "cell_type": "code",
   "execution_count": 29,
   "metadata": {
    "collapsed": true
   },
   "outputs": [],
   "source": [
    "data_value3 = us_health[(us_health['StratificationCategory1']== 'Total')\n",
    "          &(us_health['Question']=='Percent of adults who report consuming fruit less than one time daily')\n",
    "         &(us_health['YearStart']== 2015)][['Data_Value']]"
   ]
  },
  {
   "cell_type": "code",
   "execution_count": 30,
   "metadata": {
    "collapsed": true
   },
   "outputs": [],
   "source": [
    "empty_df['%_Eats_Fruit'] = np.array(data_value3['Data_Value'])"
   ]
  },
  {
   "cell_type": "code",
   "execution_count": 31,
   "metadata": {
    "collapsed": true
   },
   "outputs": [],
   "source": [
    "empty_df['%_Eats_Fruit'] = 100 - empty_df['%_Eats_Fruit']"
   ]
  },
  {
   "cell_type": "code",
   "execution_count": 32,
   "metadata": {},
   "outputs": [
    {
     "data": {
      "text/html": [
       "<div>\n",
       "<style>\n",
       "    .dataframe thead tr:only-child th {\n",
       "        text-align: right;\n",
       "    }\n",
       "\n",
       "    .dataframe thead th {\n",
       "        text-align: left;\n",
       "    }\n",
       "\n",
       "    .dataframe tbody tr th {\n",
       "        vertical-align: top;\n",
       "    }\n",
       "</style>\n",
       "<table border=\"1\" class=\"dataframe\">\n",
       "  <thead>\n",
       "    <tr style=\"text-align: right;\">\n",
       "      <th></th>\n",
       "      <th>% Obese</th>\n",
       "      <th>% Over Weight</th>\n",
       "      <th>%_Eats_Fruit</th>\n",
       "    </tr>\n",
       "  </thead>\n",
       "  <tbody>\n",
       "    <tr>\n",
       "      <th>Alabama</th>\n",
       "      <td>28.9</td>\n",
       "      <td>33.0</td>\n",
       "      <td>51.7</td>\n",
       "    </tr>\n",
       "    <tr>\n",
       "      <th>National</th>\n",
       "      <td>35.6</td>\n",
       "      <td>37.4</td>\n",
       "      <td>59.0</td>\n",
       "    </tr>\n",
       "    <tr>\n",
       "      <th>Alaska</th>\n",
       "      <td>29.8</td>\n",
       "      <td>36.9</td>\n",
       "      <td>60.3</td>\n",
       "    </tr>\n",
       "    <tr>\n",
       "      <th>Arizona</th>\n",
       "      <td>28.4</td>\n",
       "      <td>35.0</td>\n",
       "      <td>50.4</td>\n",
       "    </tr>\n",
       "    <tr>\n",
       "      <th>Arkansas</th>\n",
       "      <td>34.5</td>\n",
       "      <td>36.2</td>\n",
       "      <td>64.2</td>\n",
       "    </tr>\n",
       "  </tbody>\n",
       "</table>\n",
       "</div>"
      ],
      "text/plain": [
       "          % Obese  % Over Weight  %_Eats_Fruit\n",
       "Alabama      28.9           33.0          51.7\n",
       "National     35.6           37.4          59.0\n",
       "Alaska       29.8           36.9          60.3\n",
       "Arizona      28.4           35.0          50.4\n",
       "Arkansas     34.5           36.2          64.2"
      ]
     },
     "execution_count": 32,
     "metadata": {},
     "output_type": "execute_result"
    }
   ],
   "source": [
    "empty_df.head()"
   ]
  },
  {
   "cell_type": "code",
   "execution_count": 33,
   "metadata": {
    "collapsed": true
   },
   "outputs": [],
   "source": [
    "data_value4 = us_health[(us_health['StratificationCategory1']== 'Total')\n",
    "          &(us_health['Question']=='Percent of adults who report consuming vegetables less than one time daily')\n",
    "         &(us_health['YearStart']== 2015)][['Data_Value']]"
   ]
  },
  {
   "cell_type": "code",
   "execution_count": 34,
   "metadata": {
    "collapsed": true
   },
   "outputs": [],
   "source": [
    "empty_df['%_Eats_Veg'] = np.array(data_value4['Data_Value'])\n",
    "empty_df['%_Eats_Veg'] = 100 - empty_df['%_Eats_Veg']"
   ]
  },
  {
   "cell_type": "code",
   "execution_count": 35,
   "metadata": {},
   "outputs": [
    {
     "data": {
      "text/html": [
       "<div>\n",
       "<style>\n",
       "    .dataframe thead tr:only-child th {\n",
       "        text-align: right;\n",
       "    }\n",
       "\n",
       "    .dataframe thead th {\n",
       "        text-align: left;\n",
       "    }\n",
       "\n",
       "    .dataframe tbody tr th {\n",
       "        vertical-align: top;\n",
       "    }\n",
       "</style>\n",
       "<table border=\"1\" class=\"dataframe\">\n",
       "  <thead>\n",
       "    <tr style=\"text-align: right;\">\n",
       "      <th></th>\n",
       "      <th>% Obese</th>\n",
       "      <th>% Over Weight</th>\n",
       "      <th>%_Eats_Fruit</th>\n",
       "      <th>%_Eats_Veg</th>\n",
       "    </tr>\n",
       "  </thead>\n",
       "  <tbody>\n",
       "    <tr>\n",
       "      <th>Alabama</th>\n",
       "      <td>28.9</td>\n",
       "      <td>33.0</td>\n",
       "      <td>51.7</td>\n",
       "      <td>72.2</td>\n",
       "    </tr>\n",
       "    <tr>\n",
       "      <th>National</th>\n",
       "      <td>35.6</td>\n",
       "      <td>37.4</td>\n",
       "      <td>59.0</td>\n",
       "      <td>81.1</td>\n",
       "    </tr>\n",
       "    <tr>\n",
       "      <th>Alaska</th>\n",
       "      <td>29.8</td>\n",
       "      <td>36.9</td>\n",
       "      <td>60.3</td>\n",
       "      <td>79.5</td>\n",
       "    </tr>\n",
       "    <tr>\n",
       "      <th>Arizona</th>\n",
       "      <td>28.4</td>\n",
       "      <td>35.0</td>\n",
       "      <td>50.4</td>\n",
       "      <td>71.9</td>\n",
       "    </tr>\n",
       "    <tr>\n",
       "      <th>Arkansas</th>\n",
       "      <td>34.5</td>\n",
       "      <td>36.2</td>\n",
       "      <td>64.2</td>\n",
       "      <td>81.4</td>\n",
       "    </tr>\n",
       "  </tbody>\n",
       "</table>\n",
       "</div>"
      ],
      "text/plain": [
       "          % Obese  % Over Weight  %_Eats_Fruit  %_Eats_Veg\n",
       "Alabama      28.9           33.0          51.7        72.2\n",
       "National     35.6           37.4          59.0        81.1\n",
       "Alaska       29.8           36.9          60.3        79.5\n",
       "Arizona      28.4           35.0          50.4        71.9\n",
       "Arkansas     34.5           36.2          64.2        81.4"
      ]
     },
     "execution_count": 35,
     "metadata": {},
     "output_type": "execute_result"
    }
   ],
   "source": [
    "empty_df.head()"
   ]
  },
  {
   "cell_type": "code",
   "execution_count": 36,
   "metadata": {},
   "outputs": [
    {
     "data": {
      "text/html": [
       "<div>\n",
       "<style>\n",
       "    .dataframe thead tr:only-child th {\n",
       "        text-align: right;\n",
       "    }\n",
       "\n",
       "    .dataframe thead th {\n",
       "        text-align: left;\n",
       "    }\n",
       "\n",
       "    .dataframe tbody tr th {\n",
       "        vertical-align: top;\n",
       "    }\n",
       "</style>\n",
       "<table border=\"1\" class=\"dataframe\">\n",
       "  <thead>\n",
       "    <tr style=\"text-align: right;\">\n",
       "      <th></th>\n",
       "      <th>% Obese</th>\n",
       "      <th>% Over Weight</th>\n",
       "      <th>%_Eats_Fruit</th>\n",
       "      <th>%_Eats_Veg</th>\n",
       "      <th>%_Lift</th>\n",
       "    </tr>\n",
       "  </thead>\n",
       "  <tbody>\n",
       "    <tr>\n",
       "      <th>Alabama</th>\n",
       "      <td>28.9</td>\n",
       "      <td>33.0</td>\n",
       "      <td>51.7</td>\n",
       "      <td>72.2</td>\n",
       "      <td>25.7</td>\n",
       "    </tr>\n",
       "    <tr>\n",
       "      <th>National</th>\n",
       "      <td>35.6</td>\n",
       "      <td>37.4</td>\n",
       "      <td>59.0</td>\n",
       "      <td>81.1</td>\n",
       "      <td>34.1</td>\n",
       "    </tr>\n",
       "    <tr>\n",
       "      <th>Alaska</th>\n",
       "      <td>29.8</td>\n",
       "      <td>36.9</td>\n",
       "      <td>60.3</td>\n",
       "      <td>79.5</td>\n",
       "      <td>30.7</td>\n",
       "    </tr>\n",
       "    <tr>\n",
       "      <th>Arizona</th>\n",
       "      <td>28.4</td>\n",
       "      <td>35.0</td>\n",
       "      <td>50.4</td>\n",
       "      <td>71.9</td>\n",
       "      <td>24.4</td>\n",
       "    </tr>\n",
       "    <tr>\n",
       "      <th>Arkansas</th>\n",
       "      <td>34.5</td>\n",
       "      <td>36.2</td>\n",
       "      <td>64.2</td>\n",
       "      <td>81.4</td>\n",
       "      <td>33.0</td>\n",
       "    </tr>\n",
       "  </tbody>\n",
       "</table>\n",
       "</div>"
      ],
      "text/plain": [
       "          % Obese  % Over Weight  %_Eats_Fruit  %_Eats_Veg  %_Lift\n",
       "Alabama      28.9           33.0          51.7        72.2    25.7\n",
       "National     35.6           37.4          59.0        81.1    34.1\n",
       "Alaska       29.8           36.9          60.3        79.5    30.7\n",
       "Arizona      28.4           35.0          50.4        71.9    24.4\n",
       "Arkansas     34.5           36.2          64.2        81.4    33.0"
      ]
     },
     "execution_count": 36,
     "metadata": {},
     "output_type": "execute_result"
    }
   ],
   "source": [
    "data_value5 = us_health[(us_health['StratificationCategory1']== 'Total')\n",
    "          &(us_health['Question']=='Percent of adults who engage in muscle-strengthening activities on 2 or more days a week')\n",
    "         &(us_health['YearStart']== 2015)][['Data_Value']]\n",
    "empty_df['%_Lift'] = np.array(data_value5['Data_Value'])\n",
    "empty_df.head()"
   ]
  },
  {
   "cell_type": "code",
   "execution_count": 37,
   "metadata": {},
   "outputs": [
    {
     "data": {
      "text/html": [
       "<div>\n",
       "<style>\n",
       "    .dataframe thead tr:only-child th {\n",
       "        text-align: right;\n",
       "    }\n",
       "\n",
       "    .dataframe thead th {\n",
       "        text-align: left;\n",
       "    }\n",
       "\n",
       "    .dataframe tbody tr th {\n",
       "        vertical-align: top;\n",
       "    }\n",
       "</style>\n",
       "<table border=\"1\" class=\"dataframe\">\n",
       "  <thead>\n",
       "    <tr style=\"text-align: right;\">\n",
       "      <th></th>\n",
       "      <th>% Obese</th>\n",
       "      <th>% Over Weight</th>\n",
       "      <th>%_Eats_Fruit</th>\n",
       "      <th>%_Eats_Veg</th>\n",
       "      <th>%_Lift</th>\n",
       "      <th>%_Min_Cardio</th>\n",
       "    </tr>\n",
       "  </thead>\n",
       "  <tbody>\n",
       "    <tr>\n",
       "      <th>Alabama</th>\n",
       "      <td>28.9</td>\n",
       "      <td>33.0</td>\n",
       "      <td>51.7</td>\n",
       "      <td>72.2</td>\n",
       "      <td>25.7</td>\n",
       "      <td>44.6</td>\n",
       "    </tr>\n",
       "    <tr>\n",
       "      <th>National</th>\n",
       "      <td>35.6</td>\n",
       "      <td>37.4</td>\n",
       "      <td>59.0</td>\n",
       "      <td>81.1</td>\n",
       "      <td>34.1</td>\n",
       "      <td>58.3</td>\n",
       "    </tr>\n",
       "    <tr>\n",
       "      <th>Alaska</th>\n",
       "      <td>29.8</td>\n",
       "      <td>36.9</td>\n",
       "      <td>60.3</td>\n",
       "      <td>79.5</td>\n",
       "      <td>30.7</td>\n",
       "      <td>53.8</td>\n",
       "    </tr>\n",
       "    <tr>\n",
       "      <th>Arizona</th>\n",
       "      <td>28.4</td>\n",
       "      <td>35.0</td>\n",
       "      <td>50.4</td>\n",
       "      <td>71.9</td>\n",
       "      <td>24.4</td>\n",
       "      <td>45.1</td>\n",
       "    </tr>\n",
       "    <tr>\n",
       "      <th>Arkansas</th>\n",
       "      <td>34.5</td>\n",
       "      <td>36.2</td>\n",
       "      <td>64.2</td>\n",
       "      <td>81.4</td>\n",
       "      <td>33.0</td>\n",
       "      <td>57.3</td>\n",
       "    </tr>\n",
       "  </tbody>\n",
       "</table>\n",
       "</div>"
      ],
      "text/plain": [
       "          % Obese  % Over Weight  %_Eats_Fruit  %_Eats_Veg  %_Lift  \\\n",
       "Alabama      28.9           33.0          51.7        72.2    25.7   \n",
       "National     35.6           37.4          59.0        81.1    34.1   \n",
       "Alaska       29.8           36.9          60.3        79.5    30.7   \n",
       "Arizona      28.4           35.0          50.4        71.9    24.4   \n",
       "Arkansas     34.5           36.2          64.2        81.4    33.0   \n",
       "\n",
       "          %_Min_Cardio  \n",
       "Alabama           44.6  \n",
       "National          58.3  \n",
       "Alaska            53.8  \n",
       "Arizona           45.1  \n",
       "Arkansas          57.3  "
      ]
     },
     "execution_count": 37,
     "metadata": {},
     "output_type": "execute_result"
    }
   ],
   "source": [
    "data_value6 = us_health[(us_health['StratificationCategory1']== 'Total')\n",
    "          &(us_health['Question']=='Percent of adults who achieve at least 150 minutes a week of moderate-intensity aerobic physical activity or 75 minutes a week of vigorous-intensity aerobic activity (or an equivalent combination)')\n",
    "         &(us_health['YearStart']== 2015)][['Data_Value']]\n",
    "empty_df['%_Min_Cardio'] = np.array(data_value6['Data_Value'])\n",
    "empty_df.head()"
   ]
  },
  {
   "cell_type": "code",
   "execution_count": 38,
   "metadata": {},
   "outputs": [
    {
     "data": {
      "text/html": [
       "<div>\n",
       "<style>\n",
       "    .dataframe thead tr:only-child th {\n",
       "        text-align: right;\n",
       "    }\n",
       "\n",
       "    .dataframe thead th {\n",
       "        text-align: left;\n",
       "    }\n",
       "\n",
       "    .dataframe tbody tr th {\n",
       "        vertical-align: top;\n",
       "    }\n",
       "</style>\n",
       "<table border=\"1\" class=\"dataframe\">\n",
       "  <thead>\n",
       "    <tr style=\"text-align: right;\">\n",
       "      <th></th>\n",
       "      <th>% Obese</th>\n",
       "      <th>% Over Weight</th>\n",
       "      <th>%_Eats_Fruit</th>\n",
       "      <th>%_Eats_Veg</th>\n",
       "      <th>%_Lift</th>\n",
       "      <th>%_Min_Cardio</th>\n",
       "      <th>%_Lift_Cardio</th>\n",
       "    </tr>\n",
       "  </thead>\n",
       "  <tbody>\n",
       "    <tr>\n",
       "      <th>Alabama</th>\n",
       "      <td>28.9</td>\n",
       "      <td>33.0</td>\n",
       "      <td>51.7</td>\n",
       "      <td>72.2</td>\n",
       "      <td>25.7</td>\n",
       "      <td>44.6</td>\n",
       "      <td>16.7</td>\n",
       "    </tr>\n",
       "    <tr>\n",
       "      <th>National</th>\n",
       "      <td>35.6</td>\n",
       "      <td>37.4</td>\n",
       "      <td>59.0</td>\n",
       "      <td>81.1</td>\n",
       "      <td>34.1</td>\n",
       "      <td>58.3</td>\n",
       "      <td>24.3</td>\n",
       "    </tr>\n",
       "    <tr>\n",
       "      <th>Alaska</th>\n",
       "      <td>29.8</td>\n",
       "      <td>36.9</td>\n",
       "      <td>60.3</td>\n",
       "      <td>79.5</td>\n",
       "      <td>30.7</td>\n",
       "      <td>53.8</td>\n",
       "      <td>21.8</td>\n",
       "    </tr>\n",
       "    <tr>\n",
       "      <th>Arizona</th>\n",
       "      <td>28.4</td>\n",
       "      <td>35.0</td>\n",
       "      <td>50.4</td>\n",
       "      <td>71.9</td>\n",
       "      <td>24.4</td>\n",
       "      <td>45.1</td>\n",
       "      <td>15.6</td>\n",
       "    </tr>\n",
       "    <tr>\n",
       "      <th>Arkansas</th>\n",
       "      <td>34.5</td>\n",
       "      <td>36.2</td>\n",
       "      <td>64.2</td>\n",
       "      <td>81.4</td>\n",
       "      <td>33.0</td>\n",
       "      <td>57.3</td>\n",
       "      <td>22.9</td>\n",
       "    </tr>\n",
       "  </tbody>\n",
       "</table>\n",
       "</div>"
      ],
      "text/plain": [
       "          % Obese  % Over Weight  %_Eats_Fruit  %_Eats_Veg  %_Lift  \\\n",
       "Alabama      28.9           33.0          51.7        72.2    25.7   \n",
       "National     35.6           37.4          59.0        81.1    34.1   \n",
       "Alaska       29.8           36.9          60.3        79.5    30.7   \n",
       "Arizona      28.4           35.0          50.4        71.9    24.4   \n",
       "Arkansas     34.5           36.2          64.2        81.4    33.0   \n",
       "\n",
       "          %_Min_Cardio  %_Lift_Cardio  \n",
       "Alabama           44.6           16.7  \n",
       "National          58.3           24.3  \n",
       "Alaska            53.8           21.8  \n",
       "Arizona           45.1           15.6  \n",
       "Arkansas          57.3           22.9  "
      ]
     },
     "execution_count": 38,
     "metadata": {},
     "output_type": "execute_result"
    }
   ],
   "source": [
    "data_value7 = us_health[(us_health['StratificationCategory1']== 'Total')\n",
    "          &(us_health['Question']=='Percent of adults who achieve at least 150 minutes a week of moderate-intensity aerobic physical activity or 75 minutes a week of vigorous-intensity aerobic physical activity and engage in muscle-strengthening activities on 2 or more days a week')\n",
    "         &(us_health['YearStart']== 2015)][['Data_Value']]\n",
    "empty_df['%_Lift_Cardio'] = np.array(data_value7['Data_Value'])\n",
    "empty_df.head()"
   ]
  },
  {
   "cell_type": "code",
   "execution_count": 39,
   "metadata": {},
   "outputs": [
    {
     "data": {
      "text/html": [
       "<div>\n",
       "<style>\n",
       "    .dataframe thead tr:only-child th {\n",
       "        text-align: right;\n",
       "    }\n",
       "\n",
       "    .dataframe thead th {\n",
       "        text-align: left;\n",
       "    }\n",
       "\n",
       "    .dataframe tbody tr th {\n",
       "        vertical-align: top;\n",
       "    }\n",
       "</style>\n",
       "<table border=\"1\" class=\"dataframe\">\n",
       "  <thead>\n",
       "    <tr style=\"text-align: right;\">\n",
       "      <th></th>\n",
       "      <th>% Obese</th>\n",
       "      <th>% Over Weight</th>\n",
       "      <th>%_Eats_Fruit</th>\n",
       "      <th>%_Eats_Veg</th>\n",
       "      <th>%_Lift</th>\n",
       "      <th>%_Min_Cardio</th>\n",
       "      <th>%_Lift_Cardio</th>\n",
       "      <th>%_Max_Cardio</th>\n",
       "    </tr>\n",
       "  </thead>\n",
       "  <tbody>\n",
       "    <tr>\n",
       "      <th>Alabama</th>\n",
       "      <td>28.9</td>\n",
       "      <td>33.0</td>\n",
       "      <td>51.7</td>\n",
       "      <td>72.2</td>\n",
       "      <td>25.7</td>\n",
       "      <td>44.6</td>\n",
       "      <td>16.7</td>\n",
       "      <td>26.1</td>\n",
       "    </tr>\n",
       "    <tr>\n",
       "      <th>National</th>\n",
       "      <td>35.6</td>\n",
       "      <td>37.4</td>\n",
       "      <td>59.0</td>\n",
       "      <td>81.1</td>\n",
       "      <td>34.1</td>\n",
       "      <td>58.3</td>\n",
       "      <td>24.3</td>\n",
       "      <td>37.0</td>\n",
       "    </tr>\n",
       "    <tr>\n",
       "      <th>Alaska</th>\n",
       "      <td>29.8</td>\n",
       "      <td>36.9</td>\n",
       "      <td>60.3</td>\n",
       "      <td>79.5</td>\n",
       "      <td>30.7</td>\n",
       "      <td>53.8</td>\n",
       "      <td>21.8</td>\n",
       "      <td>33.4</td>\n",
       "    </tr>\n",
       "    <tr>\n",
       "      <th>Arizona</th>\n",
       "      <td>28.4</td>\n",
       "      <td>35.0</td>\n",
       "      <td>50.4</td>\n",
       "      <td>71.9</td>\n",
       "      <td>24.4</td>\n",
       "      <td>45.1</td>\n",
       "      <td>15.6</td>\n",
       "      <td>28.3</td>\n",
       "    </tr>\n",
       "    <tr>\n",
       "      <th>Arkansas</th>\n",
       "      <td>34.5</td>\n",
       "      <td>36.2</td>\n",
       "      <td>64.2</td>\n",
       "      <td>81.4</td>\n",
       "      <td>33.0</td>\n",
       "      <td>57.3</td>\n",
       "      <td>22.9</td>\n",
       "      <td>35.3</td>\n",
       "    </tr>\n",
       "  </tbody>\n",
       "</table>\n",
       "</div>"
      ],
      "text/plain": [
       "          % Obese  % Over Weight  %_Eats_Fruit  %_Eats_Veg  %_Lift  \\\n",
       "Alabama      28.9           33.0          51.7        72.2    25.7   \n",
       "National     35.6           37.4          59.0        81.1    34.1   \n",
       "Alaska       29.8           36.9          60.3        79.5    30.7   \n",
       "Arizona      28.4           35.0          50.4        71.9    24.4   \n",
       "Arkansas     34.5           36.2          64.2        81.4    33.0   \n",
       "\n",
       "          %_Min_Cardio  %_Lift_Cardio  %_Max_Cardio  \n",
       "Alabama           44.6           16.7          26.1  \n",
       "National          58.3           24.3          37.0  \n",
       "Alaska            53.8           21.8          33.4  \n",
       "Arizona           45.1           15.6          28.3  \n",
       "Arkansas          57.3           22.9          35.3  "
      ]
     },
     "execution_count": 39,
     "metadata": {},
     "output_type": "execute_result"
    }
   ],
   "source": [
    "data_value8 = us_health[(us_health['StratificationCategory1']== 'Total')\n",
    "          &(us_health['Question']=='Percent of adults who achieve at least 300 minutes a week of moderate-intensity aerobic physical activity or 150 minutes a week of vigorous-intensity aerobic activity (or an equivalent combination)')\n",
    "         &(us_health['YearStart']== 2015)][['Data_Value']]\n",
    "empty_df['%_Max_Cardio'] = np.array(data_value8['Data_Value'])\n",
    "empty_df.head()"
   ]
  },
  {
   "cell_type": "code",
   "execution_count": 40,
   "metadata": {},
   "outputs": [
    {
     "data": {
      "text/html": [
       "<div>\n",
       "<style>\n",
       "    .dataframe thead tr:only-child th {\n",
       "        text-align: right;\n",
       "    }\n",
       "\n",
       "    .dataframe thead th {\n",
       "        text-align: left;\n",
       "    }\n",
       "\n",
       "    .dataframe tbody tr th {\n",
       "        vertical-align: top;\n",
       "    }\n",
       "</style>\n",
       "<table border=\"1\" class=\"dataframe\">\n",
       "  <thead>\n",
       "    <tr style=\"text-align: right;\">\n",
       "      <th></th>\n",
       "      <th>% Obese</th>\n",
       "      <th>% Over Weight</th>\n",
       "      <th>%_Eats_Fruit</th>\n",
       "      <th>%_Eats_Veg</th>\n",
       "      <th>%_Lift</th>\n",
       "      <th>%_Min_Cardio</th>\n",
       "      <th>%_Lift_Cardio</th>\n",
       "      <th>%_Max_Cardio</th>\n",
       "      <th>%_Inactive</th>\n",
       "    </tr>\n",
       "  </thead>\n",
       "  <tbody>\n",
       "    <tr>\n",
       "      <th>Alabama</th>\n",
       "      <td>28.9</td>\n",
       "      <td>33.0</td>\n",
       "      <td>51.7</td>\n",
       "      <td>72.2</td>\n",
       "      <td>25.7</td>\n",
       "      <td>44.6</td>\n",
       "      <td>16.7</td>\n",
       "      <td>26.1</td>\n",
       "      <td>24.7</td>\n",
       "    </tr>\n",
       "    <tr>\n",
       "      <th>National</th>\n",
       "      <td>35.6</td>\n",
       "      <td>37.4</td>\n",
       "      <td>59.0</td>\n",
       "      <td>81.1</td>\n",
       "      <td>34.1</td>\n",
       "      <td>58.3</td>\n",
       "      <td>24.3</td>\n",
       "      <td>37.0</td>\n",
       "      <td>17.9</td>\n",
       "    </tr>\n",
       "    <tr>\n",
       "      <th>Alaska</th>\n",
       "      <td>29.8</td>\n",
       "      <td>36.9</td>\n",
       "      <td>60.3</td>\n",
       "      <td>79.5</td>\n",
       "      <td>30.7</td>\n",
       "      <td>53.8</td>\n",
       "      <td>21.8</td>\n",
       "      <td>33.4</td>\n",
       "      <td>26.5</td>\n",
       "    </tr>\n",
       "    <tr>\n",
       "      <th>Arizona</th>\n",
       "      <td>28.4</td>\n",
       "      <td>35.0</td>\n",
       "      <td>50.4</td>\n",
       "      <td>71.9</td>\n",
       "      <td>24.4</td>\n",
       "      <td>45.1</td>\n",
       "      <td>15.6</td>\n",
       "      <td>28.3</td>\n",
       "      <td>36.8</td>\n",
       "    </tr>\n",
       "    <tr>\n",
       "      <th>Arkansas</th>\n",
       "      <td>34.5</td>\n",
       "      <td>36.2</td>\n",
       "      <td>64.2</td>\n",
       "      <td>81.4</td>\n",
       "      <td>33.0</td>\n",
       "      <td>57.3</td>\n",
       "      <td>22.9</td>\n",
       "      <td>35.3</td>\n",
       "      <td>18.8</td>\n",
       "    </tr>\n",
       "  </tbody>\n",
       "</table>\n",
       "</div>"
      ],
      "text/plain": [
       "          % Obese  % Over Weight  %_Eats_Fruit  %_Eats_Veg  %_Lift  \\\n",
       "Alabama      28.9           33.0          51.7        72.2    25.7   \n",
       "National     35.6           37.4          59.0        81.1    34.1   \n",
       "Alaska       29.8           36.9          60.3        79.5    30.7   \n",
       "Arizona      28.4           35.0          50.4        71.9    24.4   \n",
       "Arkansas     34.5           36.2          64.2        81.4    33.0   \n",
       "\n",
       "          %_Min_Cardio  %_Lift_Cardio  %_Max_Cardio  %_Inactive  \n",
       "Alabama           44.6           16.7          26.1        24.7  \n",
       "National          58.3           24.3          37.0        17.9  \n",
       "Alaska            53.8           21.8          33.4        26.5  \n",
       "Arizona           45.1           15.6          28.3        36.8  \n",
       "Arkansas          57.3           22.9          35.3        18.8  "
      ]
     },
     "execution_count": 40,
     "metadata": {},
     "output_type": "execute_result"
    }
   ],
   "source": [
    "data_value9 = us_health[(us_health['StratificationCategory1']== 'Total')\n",
    "          &(us_health['Question']=='Percent of adults who engage in no leisure-time physical activity')\n",
    "         &(us_health['YearStart']== 2015)][['Data_Value']]\n",
    "empty_df['%_Inactive'] = np.array(data_value9['Data_Value'])\n",
    "empty_df.head()"
   ]
  },
  {
   "cell_type": "code",
   "execution_count": 41,
   "metadata": {
    "collapsed": true
   },
   "outputs": [],
   "source": [
    "empty_df = empty_df.drop(['National'])"
   ]
  },
  {
   "cell_type": "code",
   "execution_count": 42,
   "metadata": {},
   "outputs": [
    {
     "data": {
      "text/html": [
       "<div>\n",
       "<style>\n",
       "    .dataframe thead tr:only-child th {\n",
       "        text-align: right;\n",
       "    }\n",
       "\n",
       "    .dataframe thead th {\n",
       "        text-align: left;\n",
       "    }\n",
       "\n",
       "    .dataframe tbody tr th {\n",
       "        vertical-align: top;\n",
       "    }\n",
       "</style>\n",
       "<table border=\"1\" class=\"dataframe\">\n",
       "  <thead>\n",
       "    <tr style=\"text-align: right;\">\n",
       "      <th></th>\n",
       "      <th>% Obese</th>\n",
       "      <th>% Over Weight</th>\n",
       "      <th>%_Eats_Fruit</th>\n",
       "      <th>%_Eats_Veg</th>\n",
       "      <th>%_Lift</th>\n",
       "      <th>%_Min_Cardio</th>\n",
       "      <th>%_Lift_Cardio</th>\n",
       "      <th>%_Max_Cardio</th>\n",
       "      <th>%_Inactive</th>\n",
       "    </tr>\n",
       "  </thead>\n",
       "  <tbody>\n",
       "    <tr>\n",
       "      <th>Connecticut</th>\n",
       "      <td>20.2</td>\n",
       "      <td>36.4</td>\n",
       "      <td>64.5</td>\n",
       "      <td>80.5</td>\n",
       "      <td>31.2</td>\n",
       "      <td>54.5</td>\n",
       "      <td>21.3</td>\n",
       "      <td>33.7</td>\n",
       "      <td>31.9</td>\n",
       "    </tr>\n",
       "    <tr>\n",
       "      <th>Florida</th>\n",
       "      <td>22.1</td>\n",
       "      <td>37.3</td>\n",
       "      <td>61.0</td>\n",
       "      <td>78.7</td>\n",
       "      <td>31.9</td>\n",
       "      <td>51.6</td>\n",
       "      <td>21.7</td>\n",
       "      <td>32.8</td>\n",
       "      <td>20.0</td>\n",
       "    </tr>\n",
       "    <tr>\n",
       "      <th>Guam</th>\n",
       "      <td>22.7</td>\n",
       "      <td>36.6</td>\n",
       "      <td>60.6</td>\n",
       "      <td>81.4</td>\n",
       "      <td>29.9</td>\n",
       "      <td>55.3</td>\n",
       "      <td>21.3</td>\n",
       "      <td>34.6</td>\n",
       "      <td>19.4</td>\n",
       "    </tr>\n",
       "    <tr>\n",
       "      <th>Missouri</th>\n",
       "      <td>23.6</td>\n",
       "      <td>35.6</td>\n",
       "      <td>58.9</td>\n",
       "      <td>75.3</td>\n",
       "      <td>31.2</td>\n",
       "      <td>51.3</td>\n",
       "      <td>21.8</td>\n",
       "      <td>29.4</td>\n",
       "      <td>27.0</td>\n",
       "    </tr>\n",
       "    <tr>\n",
       "      <th>California</th>\n",
       "      <td>24.2</td>\n",
       "      <td>36.4</td>\n",
       "      <td>64.2</td>\n",
       "      <td>82.2</td>\n",
       "      <td>35.4</td>\n",
       "      <td>60.6</td>\n",
       "      <td>26.2</td>\n",
       "      <td>39.0</td>\n",
       "      <td>22.2</td>\n",
       "    </tr>\n",
       "  </tbody>\n",
       "</table>\n",
       "</div>"
      ],
      "text/plain": [
       "             % Obese  % Over Weight  %_Eats_Fruit  %_Eats_Veg  %_Lift  \\\n",
       "Connecticut     20.2           36.4          64.5        80.5    31.2   \n",
       "Florida         22.1           37.3          61.0        78.7    31.9   \n",
       "Guam            22.7           36.6          60.6        81.4    29.9   \n",
       "Missouri        23.6           35.6          58.9        75.3    31.2   \n",
       "California      24.2           36.4          64.2        82.2    35.4   \n",
       "\n",
       "             %_Min_Cardio  %_Lift_Cardio  %_Max_Cardio  %_Inactive  \n",
       "Connecticut          54.5           21.3          33.7        31.9  \n",
       "Florida              51.6           21.7          32.8        20.0  \n",
       "Guam                 55.3           21.3          34.6        19.4  \n",
       "Missouri             51.3           21.8          29.4        27.0  \n",
       "California           60.6           26.2          39.0        22.2  "
      ]
     },
     "execution_count": 42,
     "metadata": {},
     "output_type": "execute_result"
    }
   ],
   "source": [
    "empty_df.sort_values(['% Obese']).head()"
   ]
  },
  {
   "cell_type": "code",
   "execution_count": 45,
   "metadata": {},
   "outputs": [
    {
     "data": {
      "text/html": [
       "<div>\n",
       "<style>\n",
       "    .dataframe thead tr:only-child th {\n",
       "        text-align: right;\n",
       "    }\n",
       "\n",
       "    .dataframe thead th {\n",
       "        text-align: left;\n",
       "    }\n",
       "\n",
       "    .dataframe tbody tr th {\n",
       "        vertical-align: top;\n",
       "    }\n",
       "</style>\n",
       "<table border=\"1\" class=\"dataframe\">\n",
       "  <thead>\n",
       "    <tr style=\"text-align: right;\">\n",
       "      <th></th>\n",
       "      <th>%_Max_Cardio</th>\n",
       "      <th>%_Min_Cardio</th>\n",
       "    </tr>\n",
       "  </thead>\n",
       "  <tbody>\n",
       "    <tr>\n",
       "      <th>Wyoming</th>\n",
       "      <td>17.2</td>\n",
       "      <td>34.1</td>\n",
       "    </tr>\n",
       "    <tr>\n",
       "      <th>Michigan</th>\n",
       "      <td>21.9</td>\n",
       "      <td>38.0</td>\n",
       "    </tr>\n",
       "    <tr>\n",
       "      <th>South Carolina</th>\n",
       "      <td>24.9</td>\n",
       "      <td>44.3</td>\n",
       "    </tr>\n",
       "    <tr>\n",
       "      <th>Alabama</th>\n",
       "      <td>26.1</td>\n",
       "      <td>44.6</td>\n",
       "    </tr>\n",
       "    <tr>\n",
       "      <th>Idaho</th>\n",
       "      <td>26.2</td>\n",
       "      <td>44.1</td>\n",
       "    </tr>\n",
       "    <tr>\n",
       "      <th>New York</th>\n",
       "      <td>27.2</td>\n",
       "      <td>47.0</td>\n",
       "    </tr>\n",
       "    <tr>\n",
       "      <th>Rhode Island</th>\n",
       "      <td>27.6</td>\n",
       "      <td>45.4</td>\n",
       "    </tr>\n",
       "    <tr>\n",
       "      <th>Illinois</th>\n",
       "      <td>27.7</td>\n",
       "      <td>48.8</td>\n",
       "    </tr>\n",
       "    <tr>\n",
       "      <th>New Mexico</th>\n",
       "      <td>27.8</td>\n",
       "      <td>48.1</td>\n",
       "    </tr>\n",
       "    <tr>\n",
       "      <th>Kansas</th>\n",
       "      <td>28.2</td>\n",
       "      <td>46.2</td>\n",
       "    </tr>\n",
       "    <tr>\n",
       "      <th>North Dakota</th>\n",
       "      <td>28.2</td>\n",
       "      <td>46.6</td>\n",
       "    </tr>\n",
       "    <tr>\n",
       "      <th>Arizona</th>\n",
       "      <td>28.3</td>\n",
       "      <td>45.1</td>\n",
       "    </tr>\n",
       "    <tr>\n",
       "      <th>New Jersey</th>\n",
       "      <td>28.5</td>\n",
       "      <td>47.1</td>\n",
       "    </tr>\n",
       "    <tr>\n",
       "      <th>Iowa</th>\n",
       "      <td>28.6</td>\n",
       "      <td>45.2</td>\n",
       "    </tr>\n",
       "    <tr>\n",
       "      <th>Nevada</th>\n",
       "      <td>29.3</td>\n",
       "      <td>48.9</td>\n",
       "    </tr>\n",
       "    <tr>\n",
       "      <th>Missouri</th>\n",
       "      <td>29.4</td>\n",
       "      <td>51.3</td>\n",
       "    </tr>\n",
       "    <tr>\n",
       "      <th>Oregon</th>\n",
       "      <td>29.7</td>\n",
       "      <td>50.4</td>\n",
       "    </tr>\n",
       "    <tr>\n",
       "      <th>Hawaii</th>\n",
       "      <td>29.8</td>\n",
       "      <td>49.8</td>\n",
       "    </tr>\n",
       "    <tr>\n",
       "      <th>Colorado</th>\n",
       "      <td>30.2</td>\n",
       "      <td>48.5</td>\n",
       "    </tr>\n",
       "    <tr>\n",
       "      <th>Indiana</th>\n",
       "      <td>30.2</td>\n",
       "      <td>50.0</td>\n",
       "    </tr>\n",
       "    <tr>\n",
       "      <th>Texas</th>\n",
       "      <td>30.6</td>\n",
       "      <td>51.0</td>\n",
       "    </tr>\n",
       "    <tr>\n",
       "      <th>District of Columbia</th>\n",
       "      <td>30.7</td>\n",
       "      <td>48.0</td>\n",
       "    </tr>\n",
       "    <tr>\n",
       "      <th>Oklahoma</th>\n",
       "      <td>31.1</td>\n",
       "      <td>49.8</td>\n",
       "    </tr>\n",
       "    <tr>\n",
       "      <th>Louisiana</th>\n",
       "      <td>31.1</td>\n",
       "      <td>52.9</td>\n",
       "    </tr>\n",
       "    <tr>\n",
       "      <th>Maine</th>\n",
       "      <td>31.2</td>\n",
       "      <td>51.8</td>\n",
       "    </tr>\n",
       "    <tr>\n",
       "      <th>Washington</th>\n",
       "      <td>31.3</td>\n",
       "      <td>50.9</td>\n",
       "    </tr>\n",
       "    <tr>\n",
       "      <th>Pennsylvania</th>\n",
       "      <td>31.4</td>\n",
       "      <td>50.5</td>\n",
       "    </tr>\n",
       "    <tr>\n",
       "      <th>Wisconsin</th>\n",
       "      <td>31.9</td>\n",
       "      <td>48.9</td>\n",
       "    </tr>\n",
       "    <tr>\n",
       "      <th>Minnesota</th>\n",
       "      <td>32.0</td>\n",
       "      <td>50.5</td>\n",
       "    </tr>\n",
       "    <tr>\n",
       "      <th>North Carolina</th>\n",
       "      <td>32.2</td>\n",
       "      <td>50.2</td>\n",
       "    </tr>\n",
       "    <tr>\n",
       "      <th>Puerto Rico</th>\n",
       "      <td>32.5</td>\n",
       "      <td>53.6</td>\n",
       "    </tr>\n",
       "    <tr>\n",
       "      <th>Florida</th>\n",
       "      <td>32.8</td>\n",
       "      <td>51.6</td>\n",
       "    </tr>\n",
       "    <tr>\n",
       "      <th>Vermont</th>\n",
       "      <td>32.8</td>\n",
       "      <td>48.0</td>\n",
       "    </tr>\n",
       "    <tr>\n",
       "      <th>Maryland</th>\n",
       "      <td>33.4</td>\n",
       "      <td>52.1</td>\n",
       "    </tr>\n",
       "    <tr>\n",
       "      <th>Alaska</th>\n",
       "      <td>33.4</td>\n",
       "      <td>53.8</td>\n",
       "    </tr>\n",
       "    <tr>\n",
       "      <th>Massachusetts</th>\n",
       "      <td>33.7</td>\n",
       "      <td>54.9</td>\n",
       "    </tr>\n",
       "    <tr>\n",
       "      <th>Connecticut</th>\n",
       "      <td>33.7</td>\n",
       "      <td>54.5</td>\n",
       "    </tr>\n",
       "    <tr>\n",
       "      <th>South Dakota</th>\n",
       "      <td>33.9</td>\n",
       "      <td>55.3</td>\n",
       "    </tr>\n",
       "    <tr>\n",
       "      <th>Guam</th>\n",
       "      <td>34.6</td>\n",
       "      <td>55.3</td>\n",
       "    </tr>\n",
       "    <tr>\n",
       "      <th>Delaware</th>\n",
       "      <td>34.8</td>\n",
       "      <td>57.9</td>\n",
       "    </tr>\n",
       "    <tr>\n",
       "      <th>Arkansas</th>\n",
       "      <td>35.3</td>\n",
       "      <td>57.3</td>\n",
       "    </tr>\n",
       "    <tr>\n",
       "      <th>Kentucky</th>\n",
       "      <td>35.6</td>\n",
       "      <td>53.9</td>\n",
       "    </tr>\n",
       "    <tr>\n",
       "      <th>West Virginia</th>\n",
       "      <td>36.2</td>\n",
       "      <td>54.4</td>\n",
       "    </tr>\n",
       "    <tr>\n",
       "      <th>New Hampshire</th>\n",
       "      <td>36.4</td>\n",
       "      <td>56.0</td>\n",
       "    </tr>\n",
       "    <tr>\n",
       "      <th>Virginia</th>\n",
       "      <td>36.4</td>\n",
       "      <td>56.8</td>\n",
       "    </tr>\n",
       "    <tr>\n",
       "      <th>Montana</th>\n",
       "      <td>36.6</td>\n",
       "      <td>54.5</td>\n",
       "    </tr>\n",
       "    <tr>\n",
       "      <th>Georgia</th>\n",
       "      <td>37.0</td>\n",
       "      <td>56.6</td>\n",
       "    </tr>\n",
       "    <tr>\n",
       "      <th>Nebraska</th>\n",
       "      <td>37.3</td>\n",
       "      <td>57.6</td>\n",
       "    </tr>\n",
       "    <tr>\n",
       "      <th>Utah</th>\n",
       "      <td>37.9</td>\n",
       "      <td>58.4</td>\n",
       "    </tr>\n",
       "    <tr>\n",
       "      <th>California</th>\n",
       "      <td>39.0</td>\n",
       "      <td>60.6</td>\n",
       "    </tr>\n",
       "    <tr>\n",
       "      <th>Tennessee</th>\n",
       "      <td>39.1</td>\n",
       "      <td>58.9</td>\n",
       "    </tr>\n",
       "    <tr>\n",
       "      <th>Ohio</th>\n",
       "      <td>39.8</td>\n",
       "      <td>60.4</td>\n",
       "    </tr>\n",
       "    <tr>\n",
       "      <th>Mississippi</th>\n",
       "      <td>40.1</td>\n",
       "      <td>58.2</td>\n",
       "    </tr>\n",
       "  </tbody>\n",
       "</table>\n",
       "</div>"
      ],
      "text/plain": [
       "                      %_Max_Cardio  %_Min_Cardio\n",
       "Wyoming                       17.2          34.1\n",
       "Michigan                      21.9          38.0\n",
       "South Carolina                24.9          44.3\n",
       "Alabama                       26.1          44.6\n",
       "Idaho                         26.2          44.1\n",
       "New York                      27.2          47.0\n",
       "Rhode Island                  27.6          45.4\n",
       "Illinois                      27.7          48.8\n",
       "New Mexico                    27.8          48.1\n",
       "Kansas                        28.2          46.2\n",
       "North Dakota                  28.2          46.6\n",
       "Arizona                       28.3          45.1\n",
       "New Jersey                    28.5          47.1\n",
       "Iowa                          28.6          45.2\n",
       "Nevada                        29.3          48.9\n",
       "Missouri                      29.4          51.3\n",
       "Oregon                        29.7          50.4\n",
       "Hawaii                        29.8          49.8\n",
       "Colorado                      30.2          48.5\n",
       "Indiana                       30.2          50.0\n",
       "Texas                         30.6          51.0\n",
       "District of Columbia          30.7          48.0\n",
       "Oklahoma                      31.1          49.8\n",
       "Louisiana                     31.1          52.9\n",
       "Maine                         31.2          51.8\n",
       "Washington                    31.3          50.9\n",
       "Pennsylvania                  31.4          50.5\n",
       "Wisconsin                     31.9          48.9\n",
       "Minnesota                     32.0          50.5\n",
       "North Carolina                32.2          50.2\n",
       "Puerto Rico                   32.5          53.6\n",
       "Florida                       32.8          51.6\n",
       "Vermont                       32.8          48.0\n",
       "Maryland                      33.4          52.1\n",
       "Alaska                        33.4          53.8\n",
       "Massachusetts                 33.7          54.9\n",
       "Connecticut                   33.7          54.5\n",
       "South Dakota                  33.9          55.3\n",
       "Guam                          34.6          55.3\n",
       "Delaware                      34.8          57.9\n",
       "Arkansas                      35.3          57.3\n",
       "Kentucky                      35.6          53.9\n",
       "West Virginia                 36.2          54.4\n",
       "New Hampshire                 36.4          56.0\n",
       "Virginia                      36.4          56.8\n",
       "Montana                       36.6          54.5\n",
       "Georgia                       37.0          56.6\n",
       "Nebraska                      37.3          57.6\n",
       "Utah                          37.9          58.4\n",
       "California                    39.0          60.6\n",
       "Tennessee                     39.1          58.9\n",
       "Ohio                          39.8          60.4\n",
       "Mississippi                   40.1          58.2"
      ]
     },
     "execution_count": 45,
     "metadata": {},
     "output_type": "execute_result"
    }
   ],
   "source": [
    "empty_df[['%_Max_Cardio','%_Min_Cardio']].sort_values('%_Max_Cardio')"
   ]
  },
  {
   "cell_type": "code",
   "execution_count": null,
   "metadata": {},
   "outputs": [],
   "source": [
    "sns.regplot(x=empty_df['% Obese'] , y=empty_df['%_Inactive'] , color=\"g\")\n",
    "plt.show()"
   ]
  },
  {
   "cell_type": "code",
   "execution_count": null,
   "metadata": {},
   "outputs": [],
   "source": [
    "sns.regplot(x=empty_df['% Obese'] , y=empty_df[\"%_Eats_Veg\"] , color=\"g\")\n",
    "plt.show()"
   ]
  },
  {
   "cell_type": "code",
   "execution_count": null,
   "metadata": {},
   "outputs": [],
   "source": [
    "sns.regplot(x=empty_df['% Obese'] , y=empty_df[\"%_Lift\"] , color=\"g\")\n",
    "plt.show()"
   ]
  },
  {
   "cell_type": "code",
   "execution_count": null,
   "metadata": {},
   "outputs": [],
   "source": [
    "sns.regplot(x=empty_df['% Obese'] , y=empty_df[\"%_Max_Cardio\"] , color=\"g\")\n",
    "plt.show()"
   ]
  },
  {
   "cell_type": "code",
   "execution_count": null,
   "metadata": {},
   "outputs": [],
   "source": [
    "sns.regplot(x=empty_df['% Obese'] , y=empty_df[\"%_Min_Cardio\"] , color=\"g\")\n",
    "plt.show()"
   ]
  },
  {
   "cell_type": "code",
   "execution_count": null,
   "metadata": {},
   "outputs": [],
   "source": [
    "sns.regplot(x=empty_df['% Obese'] , y=empty_df[\"%_Eats_Fruit\"] , color=\"g\")\n",
    "plt.show()"
   ]
  },
  {
   "cell_type": "code",
   "execution_count": null,
   "metadata": {},
   "outputs": [],
   "source": [
    "empty_df.columns"
   ]
  },
  {
   "cell_type": "code",
   "execution_count": null,
   "metadata": {
    "collapsed": true
   },
   "outputs": [],
   "source": [
    "column_titles = empty_df.columns\n",
    "def create_df(cat_type_1, cat_1):\n",
    "    temp_df = pd.DataFrame(index = state_names)\n",
    "    for c, ind in enumerate(us_health['Question'].unique()):\n",
    "        temp_value = us_health[(us_health['StratificationCategory1']== cat_type_1) \n",
    "                               & (us_health['Stratification1']== cat_1)\n",
    "                               &(us_health['Question']== ind)\n",
    "                               &(us_health['YearStart']== 2015)][['Data_Value']]\n",
    "        temp_df[column_titles[c]] = np.array(temp_value['Data_Value'])\n",
    "    temp_df = temp_df.drop(['National'])\n",
    "    temp_df['%_Eats_Fruit'] = 100 - temp_df['%_Eats_Fruit']\n",
    "    temp_df['%_Eats_Veg'] = 100 - temp_df['%_Eats_Veg']\n",
    "    return temp_df"
   ]
  },
  {
   "cell_type": "code",
   "execution_count": null,
   "metadata": {
    "collapsed": true
   },
   "outputs": [],
   "source": [
    "male_df = create_df('Gender','Male')"
   ]
  },
  {
   "cell_type": "code",
   "execution_count": null,
   "metadata": {},
   "outputs": [],
   "source": [
    "male_df.head()"
   ]
  },
  {
   "cell_type": "code",
   "execution_count": null,
   "metadata": {},
   "outputs": [],
   "source": [
    "us_health['Stratification1'].unique()"
   ]
  },
  {
   "cell_type": "code",
   "execution_count": null,
   "metadata": {},
   "outputs": [],
   "source": [
    "sns.regplot(x=male_df['% Obese'] , y=male_df['%_Inactive'] , color=\"g\")\n",
    "plt.show()"
   ]
  },
  {
   "cell_type": "code",
   "execution_count": null,
   "metadata": {},
   "outputs": [],
   "source": [
    "sns.regplot(x=male_df['% Obese'] , y=male_df[\"%_Min_Cardio\"] , color=\"g\")\n",
    "plt.show()"
   ]
  },
  {
   "cell_type": "code",
   "execution_count": null,
   "metadata": {},
   "outputs": [],
   "source": [
    "sns.regplot(x=male_df['% Obese'] , y=male_df[\"%_Max_Cardio\"] , color=\"g\")\n",
    "plt.show()"
   ]
  },
  {
   "cell_type": "code",
   "execution_count": null,
   "metadata": {},
   "outputs": [],
   "source": [
    "sns.regplot(x=male_df['% Obese'] , y=male_df[\"%_Lift\"] , color=\"g\")\n",
    "plt.show()"
   ]
  },
  {
   "cell_type": "code",
   "execution_count": null,
   "metadata": {},
   "outputs": [],
   "source": [
    "sns.regplot(x=male_df['% Obese'] , y=male_df[\"%_Lift_Cardio\"] , color=\"g\")\n",
    "plt.show()"
   ]
  },
  {
   "cell_type": "code",
   "execution_count": null,
   "metadata": {},
   "outputs": [],
   "source": [
    "sns.regplot(x=male_df['% Obese'] , y=male_df[\"%_Eats_Fruit\"] , color=\"g\")\n",
    "plt.show()"
   ]
  },
  {
   "cell_type": "code",
   "execution_count": null,
   "metadata": {},
   "outputs": [],
   "source": [
    "sns.regplot(x=male_df['% Obese'] , y=male_df[\"%_Eats_Veg\"] , color=\"g\")\n",
    "plt.show()"
   ]
  },
  {
   "cell_type": "code",
   "execution_count": null,
   "metadata": {},
   "outputs": [],
   "source": [
    "sns.regplot(x=male_df['% Over Weight'] , y=male_df['%_Inactive'] , color=\"g\")\n",
    "plt.show()"
   ]
  },
  {
   "cell_type": "code",
   "execution_count": null,
   "metadata": {},
   "outputs": [],
   "source": [
    "sns.regplot(x=male_df['% Over Weight'] , y=male_df['%_Min_Cardio'] , color=\"g\")\n",
    "plt.show()"
   ]
  },
  {
   "cell_type": "code",
   "execution_count": null,
   "metadata": {},
   "outputs": [],
   "source": [
    "sns.regplot(x=male_df['% Over Weight'] , y=male_df[\"%_Max_Cardio\"] , color=\"g\")\n",
    "plt.show()"
   ]
  },
  {
   "cell_type": "code",
   "execution_count": null,
   "metadata": {},
   "outputs": [],
   "source": [
    "sns.regplot(x=male_df['% Over Weight'] , y=male_df[\"%_Lift\"] , color=\"g\")\n",
    "plt.show()"
   ]
  },
  {
   "cell_type": "code",
   "execution_count": null,
   "metadata": {},
   "outputs": [],
   "source": [
    "sns.regplot(x=male_df['% Over Weight'] , y=male_df[\"%_Lift_Cardio\"] , color=\"g\")\n",
    "plt.show()"
   ]
  },
  {
   "cell_type": "code",
   "execution_count": null,
   "metadata": {},
   "outputs": [],
   "source": [
    "sns.regplot(x=male_df['% Over Weight'] , y=male_df['%_Eats_Fruit'] , color=\"g\")\n",
    "plt.show()"
   ]
  },
  {
   "cell_type": "code",
   "execution_count": null,
   "metadata": {},
   "outputs": [],
   "source": [
    "sns.regplot(x=male_df['% Over Weight'] , y=male_df[\"%_Eats_Veg\"] , color=\"g\")\n",
    "plt.show()"
   ]
  },
  {
   "cell_type": "code",
   "execution_count": null,
   "metadata": {},
   "outputs": [],
   "source": [
    "fig = plt.figure(figsize= (16,16))\n",
    "\n",
    "fig.add_subplot(4,2,1)\n",
    "sns.regplot(x=male_df['% Over Weight'] , y=male_df[\"%_Eats_Veg\"])\n",
    "\n",
    "fig.add_subplot(4,2,2)\n",
    "sns.regplot(x=male_df['% Over Weight'] , y=male_df['%_Eats_Fruit'])\n",
    "\n",
    "fig.add_subplot(4,2,3)\n",
    "sns.regplot(x=male_df['% Over Weight'] , y=male_df[\"%_Lift_Cardio\"])\n",
    "\n",
    "fig.add_subplot(4,2,4)\n",
    "sns.regplot(x=male_df['% Over Weight'] , y=male_df[\"%_Lift\"])\n",
    "\n",
    "fig.add_subplot(4,2,5)\n",
    "sns.regplot(x=male_df['% Over Weight'] , y=male_df[\"%_Max_Cardio\"])\n",
    "\n",
    "fig.add_subplot(4,2,6)\n",
    "sns.regplot(x=male_df['% Over Weight'] , y=male_df['%_Min_Cardio'])\n",
    "\n",
    "fig.add_subplot(4,2,7)\n",
    "sns.regplot(x=male_df['% Over Weight'] , y=male_df['%_Inactive'])\n",
    "\n",
    "plt.show()"
   ]
  },
  {
   "cell_type": "code",
   "execution_count": null,
   "metadata": {
    "collapsed": true
   },
   "outputs": [],
   "source": [
    "plot_y = ['%_Eats_Fruit', '%_Eats_Veg', '%_Lift',\n",
    "       '%_Min_Cardio', '%_Lift_Cardio', '%_Max_Cardio', '%_Inactive']\n",
    "def create_plots(data_frame, weight_class):\n",
    "    fig = plt.figure(figsize= (16,16))\n",
    "    for num, col in enumerate(plot_y, start =1):\n",
    "        fig.add_subplot(4,2,num)\n",
    "        sns.regplot(x=data_frame[weight_class] , y=data_frame[col])\n",
    "    plt.show()"
   ]
  },
  {
   "cell_type": "code",
   "execution_count": null,
   "metadata": {},
   "outputs": [],
   "source": [
    "create_plots(male_df,'% Obese')"
   ]
  },
  {
   "cell_type": "code",
   "execution_count": null,
   "metadata": {
    "collapsed": true
   },
   "outputs": [],
   "source": [
    "female_df = create_df('Gender','Female')"
   ]
  },
  {
   "cell_type": "code",
   "execution_count": null,
   "metadata": {},
   "outputs": [],
   "source": [
    "create_plots(female_df,'% Obese')"
   ]
  },
  {
   "cell_type": "code",
   "execution_count": null,
   "metadata": {},
   "outputs": [],
   "source": [
    "create_plots(female_df,'% Over Weight')"
   ]
  },
  {
   "cell_type": "code",
   "execution_count": null,
   "metadata": {
    "collapsed": true
   },
   "outputs": [],
   "source": [
    "less_than_hs_df = create_df('Education','Less than high school')\n",
    "hs_df = create_df('Education','High school graduate')\n",
    "some_college_df = create_df('Education','Some college or technical school')\n",
    "college_df = create_df('Education','College graduate')"
   ]
  },
  {
   "cell_type": "code",
   "execution_count": null,
   "metadata": {},
   "outputs": [],
   "source": [
    "create_plots(less_than_hs_df,'% Over Weight')"
   ]
  },
  {
   "cell_type": "code",
   "execution_count": null,
   "metadata": {},
   "outputs": [],
   "source": [
    "create_plots(hs_df,'% Over Weight')"
   ]
  },
  {
   "cell_type": "code",
   "execution_count": null,
   "metadata": {},
   "outputs": [],
   "source": [
    "create_plots(some_college_df,'% Over Weight')"
   ]
  },
  {
   "cell_type": "code",
   "execution_count": null,
   "metadata": {},
   "outputs": [],
   "source": [
    "create_plots(college_df,'% Over Weight')"
   ]
  },
  {
   "cell_type": "code",
   "execution_count": null,
   "metadata": {},
   "outputs": [],
   "source": [
    "create_plots(college_df,'% Obese')"
   ]
  },
  {
   "cell_type": "code",
   "execution_count": null,
   "metadata": {
    "collapsed": true
   },
   "outputs": [],
   "source": [
    "def create_df_all_years(cat_type_1, cat_1):\n",
    "    temp_df = pd.DataFrame()\n",
    "    for c, ind in enumerate(us_health['Question'].unique()):\n",
    "        temp_value = us_health[(us_health['StratificationCategory1']== cat_type_1) \n",
    "                               & (us_health['Stratification1']== cat_1)\n",
    "                               &(us_health['Question']== ind)][['Data_Value']]\n",
    "        temp_df[column_titles[c]] = np.array(temp_value['Data_Value'])\n",
    "    temp_df = temp_df.drop(['National'])\n",
    "    temp_df['%_Eats_Fruit'] = 100 - temp_df['%_Eats_Fruit']\n",
    "    temp_df['%_Eats_Veg'] = 100 - temp_df['%_Eats_Veg']\n",
    "    return temp_df"
   ]
  },
  {
   "cell_type": "code",
   "execution_count": null,
   "metadata": {
    "collapsed": true
   },
   "outputs": [],
   "source": [
    "# men_obese = create_df_all_years('Gender', 'Male')"
   ]
  },
  {
   "cell_type": "code",
   "execution_count": null,
   "metadata": {},
   "outputs": [],
   "source": [
    "state_names"
   ]
  },
  {
   "cell_type": "code",
   "execution_count": null,
   "metadata": {},
   "outputs": [],
   "source": [
    "us_health.head()"
   ]
  },
  {
   "cell_type": "code",
   "execution_count": null,
   "metadata": {
    "collapsed": true
   },
   "outputs": [],
   "source": [
    "table = pd.pivot_table(us_health, values='Data_Value', \n",
    "                    index=['LocationDesc', 'Question','StratificationCategory1', 'Stratification1'], \n",
    "                    columns=['YearStart'])"
   ]
  },
  {
   "cell_type": "code",
   "execution_count": null,
   "metadata": {},
   "outputs": [],
   "source": [
    "table.head()"
   ]
  },
  {
   "cell_type": "code",
   "execution_count": null,
   "metadata": {},
   "outputs": [],
   "source": [
    "table.tail()"
   ]
  },
  {
   "cell_type": "code",
   "execution_count": null,
   "metadata": {},
   "outputs": [],
   "source": [
    "table.ix[\"Wyoming\",\"Percent of adults who report consuming vegetables less than one time daily\"]"
   ]
  },
  {
   "cell_type": "code",
   "execution_count": null,
   "metadata": {
    "collapsed": true
   },
   "outputs": [],
   "source": []
  },
  {
   "cell_type": "code",
   "execution_count": null,
   "metadata": {},
   "outputs": [],
   "source": [
    "us_health.shape"
   ]
  },
  {
   "cell_type": "code",
   "execution_count": null,
   "metadata": {},
   "outputs": [],
   "source": [
    "us_health.columns"
   ]
  },
  {
   "cell_type": "code",
   "execution_count": null,
   "metadata": {
    "collapsed": true
   },
   "outputs": [],
   "source": [
    "men = us_health[(us_health['Stratification1']== 'Male')\n",
    "               & (us_health['YearStart']== 2015)]"
   ]
  },
  {
   "cell_type": "code",
   "execution_count": null,
   "metadata": {},
   "outputs": [],
   "source": [
    "men[men[\"LocationDesc\"]== 'National']"
   ]
  },
  {
   "cell_type": "code",
   "execution_count": null,
   "metadata": {
    "scrolled": false
   },
   "outputs": [],
   "source": [
    "plt.figure(figsize= (16,16))\n",
    "sns.barplot( x='Question', y=\"Data_Value\", data=men[men[\"LocationDesc\"]== 'National'])\n",
    "plt.xticks(rotation=90)\n",
    "plt.show()"
   ]
  },
  {
   "cell_type": "code",
   "execution_count": null,
   "metadata": {},
   "outputs": [],
   "source": [
    "json = pd.read_json('https://project-open-data.cio.gov/v1.1/schema/catalog.json')"
   ]
  },
  {
   "cell_type": "code",
   "execution_count": null,
   "metadata": {
    "collapsed": true
   },
   "outputs": [],
   "source": []
  }
 ],
 "metadata": {
  "kernelspec": {
   "display_name": "Python 3",
   "language": "python",
   "name": "python3"
  },
  "language_info": {
   "codemirror_mode": {
    "name": "ipython",
    "version": 3
   },
   "file_extension": ".py",
   "mimetype": "text/x-python",
   "name": "python",
   "nbconvert_exporter": "python",
   "pygments_lexer": "ipython3",
   "version": "3.5.2"
  }
 },
 "nbformat": 4,
 "nbformat_minor": 2
}
