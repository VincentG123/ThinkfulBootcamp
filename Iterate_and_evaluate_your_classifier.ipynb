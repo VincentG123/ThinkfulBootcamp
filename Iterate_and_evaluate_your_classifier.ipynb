{
 "cells": [
  {
   "cell_type": "code",
   "execution_count": 5,
   "metadata": {
    "collapsed": true
   },
   "outputs": [],
   "source": [
    "%matplotlib inline\n",
    "import numpy as np\n",
    "import pandas as pd\n",
    "import scipy\n",
    "import sklearn\n",
    "import matplotlib.pyplot as plt\n",
    "import seaborn as sns"
   ]
  },
  {
   "cell_type": "markdown",
   "metadata": {},
   "source": [
    "# What I Have So Far..."
   ]
  },
  {
   "cell_type": "code",
   "execution_count": 6,
   "metadata": {},
   "outputs": [
    {
     "name": "stdout",
     "output_type": "stream",
     "text": [
      "https://raw.githubusercontent.com/Thinkful-Ed/data-201-resources/master/sms_spam_collection/SMSSpamCollection\n",
      "      0                                                  1\n",
      "0   ham  Go until jurong point, crazy.. Available only ...\n",
      "1   ham                      Ok lar... Joking wif u oni...\n",
      "2  spam  Free entry in 2 a wkly comp to win FA Cup fina...\n",
      "3   ham  U dun say so early hor... U c already then say...\n",
      "4   ham  Nah I don't think he goes to usf, he lives aro...\n",
      "Index(['spam', 'message'], dtype='object')\n",
      "   spam                                            message\n",
      "0   ham  Go until jurong point, crazy.. Available only ...\n",
      "1   ham                      Ok lar... Joking wif u oni...\n",
      "2  spam  Free entry in 2 a wkly comp to win FA Cup fina...\n",
      "3   ham  U dun say so early hor... U c already then say...\n",
      "4   ham  Nah I don't think he goes to usf, he lives aro...\n"
     ]
    }
   ],
   "source": [
    "# Grab and process the raw data.\n",
    "data_path = (\"https://raw.githubusercontent.com/Thinkful-Ed/data-201-resources/\"\n",
    "             \"master/sms_spam_collection/SMSSpamCollection\"\n",
    "            )\n",
    "print(data_path)\n",
    "sms_raw = pd.read_csv(data_path, delimiter= '\\t', header=None)\n",
    "print(sms_raw.head())\n",
    "sms_raw.columns = ['spam', 'message']\n",
    "print(sms_raw.columns)\n",
    "print(sms_raw.head())"
   ]
  },
  {
   "cell_type": "code",
   "execution_count": 7,
   "metadata": {},
   "outputs": [
    {
     "name": "stdout",
     "output_type": "stream",
     "text": [
      "   spam                                            message  click  offer  \\\n",
      "0   ham  Go until jurong point, crazy.. Available only ...  False  False   \n",
      "1   ham                      Ok lar... Joking wif u oni...  False  False   \n",
      "2  spam  Free entry in 2 a wkly comp to win FA Cup fina...  False  False   \n",
      "3   ham  U dun say so early hor... U c already then say...  False  False   \n",
      "4   ham  Nah I don't think he goes to usf, he lives aro...  False  False   \n",
      "\n",
      "   winner    buy   free   cash   sale  limited  urgent  \n",
      "0   False  False  False  False  False    False   False  \n",
      "1   False  False  False  False  False    False   False  \n",
      "2   False  False  False  False  False    False   False  \n",
      "3   False  False  False  False  False    False   False  \n",
      "4   False  False  False  False  False    False   False  \n"
     ]
    }
   ],
   "source": [
    "keywords = ['click', 'offer', 'winner', 'buy', 'free', 'cash', 'sale', 'limited','urgent']\n",
    "\n",
    "for key in keywords:\n",
    "    # Note that we add spaces around the key so that we're getting the word,\n",
    "    # not just pattern matching.\n",
    "    sms_raw[str(key)] = sms_raw.message.str.contains(\n",
    "        ' ' + str(key) + ' ',\n",
    "        case=False\n",
    "    )\n",
    "print(sms_raw.head())"
   ]
  },
  {
   "cell_type": "code",
   "execution_count": 8,
   "metadata": {},
   "outputs": [
    {
     "name": "stdout",
     "output_type": "stream",
     "text": [
      "   spam                                            message  click  offer  \\\n",
      "0   ham  Go until jurong point, crazy.. Available only ...  False  False   \n",
      "1   ham                      Ok lar... Joking wif u oni...  False  False   \n",
      "2  spam  Free entry in 2 a wkly comp to win FA Cup fina...  False  False   \n",
      "3   ham  U dun say so early hor... U c already then say...  False  False   \n",
      "4   ham  Nah I don't think he goes to usf, he lives aro...  False  False   \n",
      "\n",
      "   winner    buy   free   cash   sale  limited  urgent  allcaps  \n",
      "0   False  False  False  False  False    False   False    False  \n",
      "1   False  False  False  False  False    False   False    False  \n",
      "2   False  False  False  False  False    False   False    False  \n",
      "3   False  False  False  False  False    False   False    False  \n",
      "4   False  False  False  False  False    False   False    False  \n"
     ]
    }
   ],
   "source": [
    "sms_raw['allcaps'] = sms_raw.message.str.isupper()\n",
    "print(sms_raw.head())"
   ]
  },
  {
   "cell_type": "code",
   "execution_count": 9,
   "metadata": {},
   "outputs": [
    {
     "name": "stdout",
     "output_type": "stream",
     "text": [
      "    spam                                            message  click  offer  \\\n",
      "0  False  Go until jurong point, crazy.. Available only ...  False  False   \n",
      "1  False                      Ok lar... Joking wif u oni...  False  False   \n",
      "2   True  Free entry in 2 a wkly comp to win FA Cup fina...  False  False   \n",
      "3  False  U dun say so early hor... U c already then say...  False  False   \n",
      "4  False  Nah I don't think he goes to usf, he lives aro...  False  False   \n",
      "\n",
      "   winner    buy   free   cash   sale  limited  urgent  allcaps  \n",
      "0   False  False  False  False  False    False   False    False  \n",
      "1   False  False  False  False  False    False   False    False  \n",
      "2   False  False  False  False  False    False   False    False  \n",
      "3   False  False  False  False  False    False   False    False  \n",
      "4   False  False  False  False  False    False   False    False  \n"
     ]
    }
   ],
   "source": [
    "sms_raw['spam'] = (sms_raw['spam'] == 'spam')\n",
    "# Note that if you run this cell a second time everything will become false.\n",
    "# So... Don't.\n",
    "print(sms_raw.head())"
   ]
  },
  {
   "cell_type": "code",
   "execution_count": 10,
   "metadata": {},
   "outputs": [
    {
     "name": "stdout",
     "output_type": "stream",
     "text": [
      "   click  offer  winner    buy   free   cash   sale  limited  urgent  allcaps\n",
      "0  False  False   False  False  False  False  False    False   False    False\n",
      "1  False  False   False  False  False  False  False    False   False    False\n",
      "2  False  False   False  False  False  False  False    False   False    False\n",
      "3  False  False   False  False  False  False  False    False   False    False\n",
      "4  False  False   False  False  False  False  False    False   False    False\n",
      "0    False\n",
      "1    False\n",
      "2     True\n",
      "3    False\n",
      "4    False\n",
      "Name: spam, dtype: bool\n"
     ]
    }
   ],
   "source": [
    "data = sms_raw[keywords + ['allcaps']]\n",
    "print(data.head())\n",
    "target = sms_raw['spam']\n",
    "print(target.head())"
   ]
  },
  {
   "cell_type": "code",
   "execution_count": 12,
   "metadata": {},
   "outputs": [
    {
     "name": "stdout",
     "output_type": "stream",
     "text": [
      "BernoulliNB(alpha=1.0, binarize=0.0, class_prior=None, fit_prior=True)\n",
      "[False False False ..., False False False]\n",
      "Number of mislabeled points out of a total 5572 points : 604\n",
      "(5572, 10)\n",
      "success rate = 0.89160086145\n"
     ]
    }
   ],
   "source": [
    "# Our data is binary / boolean, so we're importing the Bernoulli classifier.\n",
    "from sklearn.naive_bayes import BernoulliNB\n",
    "\n",
    "# Instantiate our model and store it in a new variable.\n",
    "bnb = BernoulliNB()\n",
    "\n",
    "print(bnb)\n",
    "\n",
    "# Fit our model to the data.\n",
    "bnb.fit(data, target)\n",
    "\n",
    "# Classify, storing the result in a new variable.\n",
    "y_pred = bnb.predict(data)\n",
    "\n",
    "print(y_pred)\n",
    "# Display our results.\n",
    "print(\"Number of mislabeled points out of a total {} points : {}\".format(\n",
    "    data.shape[0],\n",
    "    (target != y_pred).sum()\n",
    "))\n",
    "print(data.shape)\n",
    "\n",
    "print('success rate = %s' % ((data.shape[0] - (target != y_pred).sum())/data.shape[0]))"
   ]
  },
  {
   "cell_type": "markdown",
   "metadata": {},
   "source": [
    "# Going to try to increase the success rate!"
   ]
  },
  {
   "cell_type": "code",
   "execution_count": null,
   "metadata": {
    "collapsed": true
   },
   "outputs": [],
   "source": [
    "sms_raw[lower_message] = sms_raw.message.str"
   ]
  }
 ],
 "metadata": {
  "kernelspec": {
   "display_name": "Python 3",
   "language": "python",
   "name": "python3"
  },
  "language_info": {
   "codemirror_mode": {
    "name": "ipython",
    "version": 3
   },
   "file_extension": ".py",
   "mimetype": "text/x-python",
   "name": "python",
   "nbconvert_exporter": "python",
   "pygments_lexer": "ipython3",
   "version": "3.5.2"
  }
 },
 "nbformat": 4,
 "nbformat_minor": 2
}
