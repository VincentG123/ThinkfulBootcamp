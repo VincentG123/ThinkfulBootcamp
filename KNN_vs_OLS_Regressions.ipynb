{
 "cells": [
  {
   "cell_type": "code",
   "execution_count": 1,
   "metadata": {
    "collapsed": true
   },
   "outputs": [],
   "source": [
    "import numpy as np\n",
    "import pandas as pd\n",
    "import scipy\n",
    "import sklearn\n",
    "import matplotlib.pyplot as plt\n",
    "import seaborn as sns\n",
    "from sklearn import linear_model\n",
    "import statsmodels.formula.api as smf\n",
    "%matplotlib inline"
   ]
  },
  {
   "cell_type": "markdown",
   "metadata": {},
   "source": [
    "First, I'll recopy the NYC crime regression I did a while back..."
   ]
  },
  {
   "cell_type": "code",
   "execution_count": 9,
   "metadata": {},
   "outputs": [
    {
     "data": {
      "text/html": [
       "<div>\n",
       "<style>\n",
       "    .dataframe thead tr:only-child th {\n",
       "        text-align: right;\n",
       "    }\n",
       "\n",
       "    .dataframe thead th {\n",
       "        text-align: left;\n",
       "    }\n",
       "\n",
       "    .dataframe tbody tr th {\n",
       "        vertical-align: top;\n",
       "    }\n",
       "</style>\n",
       "<table border=\"1\" class=\"dataframe\">\n",
       "  <thead>\n",
       "    <tr style=\"text-align: right;\">\n",
       "      <th></th>\n",
       "      <th>City</th>\n",
       "      <th>Population</th>\n",
       "      <th>Violent\n",
       "crime</th>\n",
       "      <th>Murder_and_Manslaughter</th>\n",
       "      <th>Rape\n",
       "(revised\n",
       "definition)1</th>\n",
       "      <th>Rape\n",
       "(legacy\n",
       "definition)2</th>\n",
       "      <th>Robbery</th>\n",
       "      <th>Aggravated\n",
       "assault</th>\n",
       "      <th>Property_Crime</th>\n",
       "      <th>Burglary</th>\n",
       "      <th>Larceny-\n",
       "theft</th>\n",
       "      <th>Motor\n",
       "vehicle\n",
       "theft</th>\n",
       "      <th>Arson3</th>\n",
       "      <th>Murder</th>\n",
       "      <th>Robbery2</th>\n",
       "    </tr>\n",
       "  </thead>\n",
       "  <tbody>\n",
       "    <tr>\n",
       "      <th>0</th>\n",
       "      <td>Adams Village</td>\n",
       "      <td>1861</td>\n",
       "      <td>0</td>\n",
       "      <td>0</td>\n",
       "      <td>NaN</td>\n",
       "      <td>0</td>\n",
       "      <td>0</td>\n",
       "      <td>0</td>\n",
       "      <td>12</td>\n",
       "      <td>2</td>\n",
       "      <td>10</td>\n",
       "      <td>0</td>\n",
       "      <td>0</td>\n",
       "      <td>0</td>\n",
       "      <td>0</td>\n",
       "    </tr>\n",
       "    <tr>\n",
       "      <th>1</th>\n",
       "      <td>Addison Town and Village</td>\n",
       "      <td>2577</td>\n",
       "      <td>3</td>\n",
       "      <td>0</td>\n",
       "      <td>NaN</td>\n",
       "      <td>0</td>\n",
       "      <td>0</td>\n",
       "      <td>3</td>\n",
       "      <td>24</td>\n",
       "      <td>3</td>\n",
       "      <td>20</td>\n",
       "      <td>1</td>\n",
       "      <td>0</td>\n",
       "      <td>0</td>\n",
       "      <td>0</td>\n",
       "    </tr>\n",
       "    <tr>\n",
       "      <th>2</th>\n",
       "      <td>Akron Village</td>\n",
       "      <td>2846</td>\n",
       "      <td>3</td>\n",
       "      <td>0</td>\n",
       "      <td>NaN</td>\n",
       "      <td>0</td>\n",
       "      <td>0</td>\n",
       "      <td>3</td>\n",
       "      <td>16</td>\n",
       "      <td>1</td>\n",
       "      <td>15</td>\n",
       "      <td>0</td>\n",
       "      <td>0</td>\n",
       "      <td>0</td>\n",
       "      <td>0</td>\n",
       "    </tr>\n",
       "    <tr>\n",
       "      <th>3</th>\n",
       "      <td>Albany</td>\n",
       "      <td>97956</td>\n",
       "      <td>791</td>\n",
       "      <td>8</td>\n",
       "      <td>NaN</td>\n",
       "      <td>30</td>\n",
       "      <td>227</td>\n",
       "      <td>526</td>\n",
       "      <td>4090</td>\n",
       "      <td>705</td>\n",
       "      <td>3243</td>\n",
       "      <td>142</td>\n",
       "      <td>NaN</td>\n",
       "      <td>1</td>\n",
       "      <td>1</td>\n",
       "    </tr>\n",
       "    <tr>\n",
       "      <th>4</th>\n",
       "      <td>Albion Village</td>\n",
       "      <td>6388</td>\n",
       "      <td>23</td>\n",
       "      <td>0</td>\n",
       "      <td>NaN</td>\n",
       "      <td>3</td>\n",
       "      <td>4</td>\n",
       "      <td>16</td>\n",
       "      <td>223</td>\n",
       "      <td>53</td>\n",
       "      <td>165</td>\n",
       "      <td>5</td>\n",
       "      <td>NaN</td>\n",
       "      <td>0</td>\n",
       "      <td>1</td>\n",
       "    </tr>\n",
       "  </tbody>\n",
       "</table>\n",
       "</div>"
      ],
      "text/plain": [
       "                       City Population Violent\\ncrime Murder_and_Manslaughter  \\\n",
       "0             Adams Village       1861              0                       0   \n",
       "1  Addison Town and Village       2577              3                       0   \n",
       "2             Akron Village       2846              3                       0   \n",
       "3                    Albany      97956            791                       8   \n",
       "4            Albion Village       6388             23                       0   \n",
       "\n",
       "  Rape\\n(revised\\ndefinition)1 Rape\\n(legacy\\ndefinition)2 Robbery  \\\n",
       "0                          NaN                           0       0   \n",
       "1                          NaN                           0       0   \n",
       "2                          NaN                           0       0   \n",
       "3                          NaN                          30     227   \n",
       "4                          NaN                           3       4   \n",
       "\n",
       "  Aggravated\\nassault Property_Crime Burglary Larceny-\\ntheft  \\\n",
       "0                   0             12        2              10   \n",
       "1                   3             24        3              20   \n",
       "2                   3             16        1              15   \n",
       "3                 526           4090      705            3243   \n",
       "4                  16            223       53             165   \n",
       "\n",
       "  Motor\\nvehicle\\ntheft Arson3  Murder  Robbery2  \n",
       "0                     0      0       0         0  \n",
       "1                     1      0       0         0  \n",
       "2                     0      0       0         0  \n",
       "3                   142    NaN       1         1  \n",
       "4                     5    NaN       0         1  "
      ]
     },
     "execution_count": 9,
     "metadata": {},
     "output_type": "execute_result"
    }
   ],
   "source": [
    "nyc_crime = pd.read_excel('nyc_crime.xls')\n",
    "nyc_crime.columns = nyc_crime.iloc[3].rename('')\n",
    "nyc_crime = nyc_crime.drop(nyc_crime.index[:4])\n",
    "nyc_crime = nyc_crime.reset_index(drop=True)\n",
    "nyc_crime.index.name = None\n",
    "nyc_crime['Murder'] = np.where(nyc_crime['Murder and\\nnonnegligent\\nmanslaughter'] > 0, 1, 0)\n",
    "nyc_crime['Robbery2'] = np.where(nyc_crime['Robbery'] > 0, 1, 0)\n",
    "nyc_crime = nyc_crime.rename(columns = {'Property\\ncrime':'Property_Crime', 'Murder and\\nnonnegligent\\nmanslaughter':'Murder_and_Manslaughter'})\n",
    "# nyc_crime = nyc_crime[['City','Population', 'Murder','Robbery2','Property\\ncrime']]\n",
    "nyc_crime.head()"
   ]
  },
  {
   "cell_type": "code",
   "execution_count": 10,
   "metadata": {},
   "outputs": [
    {
     "data": {
      "text/html": [
       "<div>\n",
       "<style>\n",
       "    .dataframe thead tr:only-child th {\n",
       "        text-align: right;\n",
       "    }\n",
       "\n",
       "    .dataframe thead th {\n",
       "        text-align: left;\n",
       "    }\n",
       "\n",
       "    .dataframe tbody tr th {\n",
       "        vertical-align: top;\n",
       "    }\n",
       "</style>\n",
       "<table border=\"1\" class=\"dataframe\">\n",
       "  <thead>\n",
       "    <tr style=\"text-align: right;\">\n",
       "      <th></th>\n",
       "      <th>City</th>\n",
       "      <th>Population</th>\n",
       "      <th>Violent\n",
       "crime</th>\n",
       "      <th>Murder_and_Manslaughter</th>\n",
       "      <th>Rape\n",
       "(revised\n",
       "definition)1</th>\n",
       "      <th>Rape\n",
       "(legacy\n",
       "definition)2</th>\n",
       "      <th>Robbery</th>\n",
       "      <th>Aggravated\n",
       "assault</th>\n",
       "      <th>Property_Crime</th>\n",
       "      <th>Burglary</th>\n",
       "      <th>Larceny-\n",
       "theft</th>\n",
       "      <th>Motor\n",
       "vehicle\n",
       "theft</th>\n",
       "      <th>Arson3</th>\n",
       "      <th>Murder</th>\n",
       "      <th>Robbery2</th>\n",
       "    </tr>\n",
       "  </thead>\n",
       "  <tbody>\n",
       "    <tr>\n",
       "      <th>0</th>\n",
       "      <td>Adams Village</td>\n",
       "      <td>1861</td>\n",
       "      <td>0</td>\n",
       "      <td>0</td>\n",
       "      <td>NaN</td>\n",
       "      <td>0</td>\n",
       "      <td>0</td>\n",
       "      <td>0</td>\n",
       "      <td>12</td>\n",
       "      <td>2</td>\n",
       "      <td>10</td>\n",
       "      <td>0</td>\n",
       "      <td>0</td>\n",
       "      <td>0</td>\n",
       "      <td>0</td>\n",
       "    </tr>\n",
       "    <tr>\n",
       "      <th>1</th>\n",
       "      <td>Addison Town and Village</td>\n",
       "      <td>2577</td>\n",
       "      <td>3</td>\n",
       "      <td>0</td>\n",
       "      <td>NaN</td>\n",
       "      <td>0</td>\n",
       "      <td>0</td>\n",
       "      <td>3</td>\n",
       "      <td>24</td>\n",
       "      <td>3</td>\n",
       "      <td>20</td>\n",
       "      <td>1</td>\n",
       "      <td>0</td>\n",
       "      <td>0</td>\n",
       "      <td>0</td>\n",
       "    </tr>\n",
       "    <tr>\n",
       "      <th>2</th>\n",
       "      <td>Akron Village</td>\n",
       "      <td>2846</td>\n",
       "      <td>3</td>\n",
       "      <td>0</td>\n",
       "      <td>NaN</td>\n",
       "      <td>0</td>\n",
       "      <td>0</td>\n",
       "      <td>3</td>\n",
       "      <td>16</td>\n",
       "      <td>1</td>\n",
       "      <td>15</td>\n",
       "      <td>0</td>\n",
       "      <td>0</td>\n",
       "      <td>0</td>\n",
       "      <td>0</td>\n",
       "    </tr>\n",
       "    <tr>\n",
       "      <th>3</th>\n",
       "      <td>Albany</td>\n",
       "      <td>97956</td>\n",
       "      <td>791</td>\n",
       "      <td>8</td>\n",
       "      <td>NaN</td>\n",
       "      <td>30</td>\n",
       "      <td>227</td>\n",
       "      <td>526</td>\n",
       "      <td>4090</td>\n",
       "      <td>705</td>\n",
       "      <td>3243</td>\n",
       "      <td>142</td>\n",
       "      <td>NaN</td>\n",
       "      <td>1</td>\n",
       "      <td>1</td>\n",
       "    </tr>\n",
       "    <tr>\n",
       "      <th>4</th>\n",
       "      <td>Albion Village</td>\n",
       "      <td>6388</td>\n",
       "      <td>23</td>\n",
       "      <td>0</td>\n",
       "      <td>NaN</td>\n",
       "      <td>3</td>\n",
       "      <td>4</td>\n",
       "      <td>16</td>\n",
       "      <td>223</td>\n",
       "      <td>53</td>\n",
       "      <td>165</td>\n",
       "      <td>5</td>\n",
       "      <td>NaN</td>\n",
       "      <td>0</td>\n",
       "      <td>1</td>\n",
       "    </tr>\n",
       "  </tbody>\n",
       "</table>\n",
       "</div>"
      ],
      "text/plain": [
       "                       City Population Violent\\ncrime Murder_and_Manslaughter  \\\n",
       "0             Adams Village       1861              0                       0   \n",
       "1  Addison Town and Village       2577              3                       0   \n",
       "2             Akron Village       2846              3                       0   \n",
       "3                    Albany      97956            791                       8   \n",
       "4            Albion Village       6388             23                       0   \n",
       "\n",
       "  Rape\\n(revised\\ndefinition)1 Rape\\n(legacy\\ndefinition)2 Robbery  \\\n",
       "0                          NaN                           0       0   \n",
       "1                          NaN                           0       0   \n",
       "2                          NaN                           0       0   \n",
       "3                          NaN                          30     227   \n",
       "4                          NaN                           3       4   \n",
       "\n",
       "  Aggravated\\nassault Property_Crime Burglary Larceny-\\ntheft  \\\n",
       "0                   0             12        2              10   \n",
       "1                   3             24        3              20   \n",
       "2                   3             16        1              15   \n",
       "3                 526           4090      705            3243   \n",
       "4                  16            223       53             165   \n",
       "\n",
       "  Motor\\nvehicle\\ntheft Arson3  Murder  Robbery2  \n",
       "0                     0      0       0         0  \n",
       "1                     1      0       0         0  \n",
       "2                     0      0       0         0  \n",
       "3                   142    NaN       1         1  \n",
       "4                     5    NaN       0         1  "
      ]
     },
     "execution_count": 10,
     "metadata": {},
     "output_type": "execute_result"
    }
   ],
   "source": [
    "lower_pop = nyc_crime[nyc_crime['Population']<100000]\n",
    "lower_pop.head()"
   ]
  },
  {
   "cell_type": "markdown",
   "metadata": {},
   "source": [
    "Going to run the regression to predict Property Crime using Population, Murder_and_Manslaughter, and Robbery as continuous data... This one had the highest R-squared score at 81%."
   ]
  },
  {
   "cell_type": "code",
   "execution_count": 12,
   "metadata": {},
   "outputs": [
    {
     "name": "stdout",
     "output_type": "stream",
     "text": [
      "\n",
      "Coefficients: \n",
      " [[  0.01794989 -11.83371065   6.75533668]]\n",
      "\n",
      "Intercept: \n",
      " [-6.04558793]\n",
      "\n",
      "R-squared:\n",
      "0.810005571783\n"
     ]
    },
    {
     "name": "stderr",
     "output_type": "stream",
     "text": [
      "/Library/Frameworks/Python.framework/Versions/3.5/lib/python3.5/site-packages/scipy/linalg/basic.py:1018: RuntimeWarning: internal gelsd driver lwork query error, required iwork dimension not returned. This is likely the result of LAPACK bug 0038, fixed in LAPACK 3.2.2 (released July 21, 2010). Falling back to 'gelss' driver.\n",
      "  warnings.warn(mesg, RuntimeWarning)\n"
     ]
    }
   ],
   "source": [
    "regr = linear_model.LinearRegression()\n",
    "Y = lower_pop['Property_Crime'].values.reshape(-1, 1)\n",
    "X = lower_pop[['Population', 'Murder_and_Manslaughter','Robbery']]\n",
    "Y = Y[:-3]\n",
    "X = X[:-3]\n",
    "\n",
    "regr.fit(X, Y)\n",
    "\n",
    "# Inspect the results.\n",
    "print('\\nCoefficients: \\n', regr.coef_)\n",
    "print('\\nIntercept: \\n', regr.intercept_)\n",
    "print('\\nR-squared:')\n",
    "print(regr.score(X, Y))"
   ]
  },
  {
   "cell_type": "markdown",
   "metadata": {},
   "source": [
    "Now, I'm going to run the NYC crime data with the same features with a KNN model. The R-squared score is only at 66%."
   ]
  },
  {
   "cell_type": "code",
   "execution_count": 14,
   "metadata": {
    "collapsed": true
   },
   "outputs": [],
   "source": [
    "from sklearn import neighbors"
   ]
  },
  {
   "cell_type": "code",
   "execution_count": 18,
   "metadata": {},
   "outputs": [
    {
     "data": {
      "text/plain": [
       "array([[1724.7]], dtype=object)"
      ]
     },
     "execution_count": 18,
     "metadata": {},
     "output_type": "execute_result"
    }
   ],
   "source": [
    "knn = neighbors.KNeighborsRegressor(n_neighbors=10)\n",
    "Y = lower_pop['Property_Crime'].values.reshape(-1, 1)\n",
    "X = lower_pop[['Population', 'Murder_and_Manslaughter','Robbery']]\n",
    "knn.fit(X, Y)\n",
    "\n",
    "knn.predict([[75000, 1, 25]])"
   ]
  },
  {
   "cell_type": "code",
   "execution_count": 17,
   "metadata": {},
   "outputs": [
    {
     "name": "stdout",
     "output_type": "stream",
     "text": [
      "Unweighted Accuracy: 0.66 (+/- 0.22)\n"
     ]
    }
   ],
   "source": [
    "from sklearn.model_selection import cross_val_score\n",
    "score = cross_val_score(knn, X, Y, cv=5)\n",
    "print(\"Unweighted Accuracy: %0.2f (+/- %0.2f)\" % (score.mean(), score.std() * 2))\n",
    "# score_w = cross_val_score(knn_w, X, Y, cv=5)\n",
    "# print(\"Weighted Accuracy: %0.2f (+/- %0.2f)\" % (score_w.mean(), score_w.std() * 2))"
   ]
  },
  {
   "cell_type": "markdown",
   "metadata": {},
   "source": [
    "I'm going to try it with just one feature... Just so that I can plot it..."
   ]
  },
  {
   "cell_type": "code",
   "execution_count": 22,
   "metadata": {},
   "outputs": [
    {
     "data": {
      "image/png": "[encoded data removed]",
      "text/plain": [
       "<matplotlib.figure.Figure at 0x10c5b59b0>"
      ]
     },
     "metadata": {},
     "output_type": "display_data"
    },
    {
     "name": "stdout",
     "output_type": "stream",
     "text": [
      "Unweighted Accuracy: 0.66 (+/- 0.24)\n"
     ]
    }
   ],
   "source": [
    "# Build our model.\n",
    "knn = neighbors.KNeighborsRegressor(n_neighbors=10)\n",
    "X = pd.DataFrame(lower_pop.Population)\n",
    "Y = lower_pop.Property_Crime\n",
    "knn.fit(X, Y)\n",
    "\n",
    "# Set up our prediction line.\n",
    "T = np.arange(0, 100000, 1000)[:, np.newaxis]\n",
    "\n",
    "# Trailing underscores are a common convention for a prediction.\n",
    "Y_ = knn.predict(T)\n",
    "\n",
    "plt.scatter(X, Y, c='k', label='data')\n",
    "plt.plot(T, Y_, c='g', label='prediction')\n",
    "plt.legend()\n",
    "plt.title('K=10, Unweighted')\n",
    "plt.show()\n",
    "\n",
    "score = cross_val_score(knn, X, Y, cv=5)\n",
    "print(\"Unweighted Accuracy: %0.2f (+/- %0.2f)\" % (score.mean(), score.std() * 2))"
   ]
  },
  {
   "cell_type": "markdown",
   "metadata": {},
   "source": [
    "Does the +/- 0.24 mean that it's accuracy can either be 90% or 42%?"
   ]
  },
  {
   "cell_type": "markdown",
   "metadata": {},
   "source": [
    "I tried it again weighted... and the R-squared score was even lower..."
   ]
  },
  {
   "cell_type": "code",
   "execution_count": 25,
   "metadata": {},
   "outputs": [
    {
     "data": {
      "image/png": "[encoded data removed]",
      "text/plain": [
       "<matplotlib.figure.Figure at 0x10c87fc88>"
      ]
     },
     "metadata": {},
     "output_type": "display_data"
    },
    {
     "name": "stdout",
     "output_type": "stream",
     "text": [
      "Weighted Accuracy: 0.61 (+/- 0.21)\n"
     ]
    }
   ],
   "source": [
    "knn_w = neighbors.KNeighborsRegressor(n_neighbors=5, weights='distance')\n",
    "\n",
    "X = pd.DataFrame(lower_pop.Population)\n",
    "Y = lower_pop.Property_Crime\n",
    "\n",
    "knn_w.fit(X, Y)\n",
    "\n",
    "# Set up our prediction line.\n",
    "T = np.arange(0, 100000, 1000)[:, np.newaxis]\n",
    "\n",
    "# Trailing underscores are a common convention for a prediction.\n",
    "Y_ = knn_w.predict(T)\n",
    "\n",
    "plt.scatter(X, Y, c='k', label='data')\n",
    "plt.plot(T, Y_, c='g', label='prediction')\n",
    "plt.legend()\n",
    "plt.title('K=10, Weighted')\n",
    "plt.show()\n",
    "\n",
    "score = cross_val_score(knn_w, X, Y, cv=5)\n",
    "print(\"Weighted Accuracy: %0.2f (+/- %0.2f)\" % (score.mean(), score.std() * 2))"
   ]
  },
  {
   "cell_type": "markdown",
   "metadata": {},
   "source": [
    "Does the +/- 0.21 mean that it's accuracy can either be 82% or 40%?"
   ]
  },
  {
   "cell_type": "code",
   "execution_count": 27,
   "metadata": {},
   "outputs": [
    {
     "data": {
      "image/png": "[encoded data removed]",
      "text/plain": [
       "<matplotlib.figure.Figure at 0x10cba2278>"
      ]
     },
     "metadata": {},
     "output_type": "display_data"
    },
    {
     "name": "stdout",
     "output_type": "stream",
     "text": [
      "\n",
      "Coefficients: \n",
      " [[ 0.02536236]]\n",
      "\n",
      "Intercept: \n",
      " [-46.55223753]\n",
      "\n",
      "R-squared:\n",
      "0.723970228506\n"
     ]
    }
   ],
   "source": [
    "regr = linear_model.LinearRegression()\n",
    "Y = lower_pop['Property_Crime'].values.reshape(-1, 1)\n",
    "X = lower_pop[['Population']]\n",
    "Y = Y[:-3]\n",
    "X = X[:-3]\n",
    "\n",
    "regr.fit(X, Y)\n",
    "\n",
    "plt.scatter(X, Y, color='black')\n",
    "plt.plot(X, regr.predict(X), color='blue', linewidth=3)\n",
    "plt.show()\n",
    "\n",
    "# Inspect the results.\n",
    "print('\\nCoefficients: \\n', regr.coef_)\n",
    "print('\\nIntercept: \\n', regr.intercept_)\n",
    "print('\\nR-squared:')\n",
    "print(regr.score(X, Y))"
   ]
  },
  {
   "cell_type": "markdown",
   "metadata": {},
   "source": [
    "Looking at the two plots comparing the weighted KNN vs the OLS regressions, the main difference that the OLS regression is a straight line while the weighted KNN is a scribble. \n",
    "\n",
    "I see how the KNN regression would be more useful if the data has a lot of variation and clusters at specific values of the independent variable. A linear regression would miss out on the highs and lows whereas with the KNN you may actually get a more accurate prediction."
   ]
  },
  {
   "cell_type": "code",
   "execution_count": null,
   "metadata": {
    "collapsed": true
   },
   "outputs": [],
   "source": []
  }
 ],
 "metadata": {
  "kernelspec": {
   "display_name": "Python 3",
   "language": "python",
   "name": "python3"
  },
  "language_info": {
   "codemirror_mode": {
    "name": "ipython",
    "version": 3
   },
   "file_extension": ".py",
   "mimetype": "text/x-python",
   "name": "python",
   "nbconvert_exporter": "python",
   "pygments_lexer": "ipython3",
   "version": "3.5.2"
  }
 },
 "nbformat": 4,
 "nbformat_minor": 2
}
