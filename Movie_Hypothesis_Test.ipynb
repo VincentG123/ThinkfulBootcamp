{
 "cells": [
  {
   "cell_type": "markdown",
   "metadata": {},
   "source": [
    "## Movie Hypothesis Test\n",
    "\n",
    "For this assignment, I will test if there is actually any significance between the mean of all of the movies verses the mean of just the animation movies.\n",
    "\n",
    "Here are my null and alternative hypotheses:\n",
    "\n",
    "$H_0$ = There is no statistical difference between the two groups.\n",
    "\n",
    "$H_1$ = There is a statistical difference between the two groups.\n",
    "\n",
    "I will first import the data and create the first data frame:"
   ]
  },
  {
   "cell_type": "code",
   "execution_count": 2,
   "metadata": {},
   "outputs": [
    {
     "data": {
      "text/html": [
       "<div>\n",
       "<style>\n",
       "    .dataframe thead tr:only-child th {\n",
       "        text-align: right;\n",
       "    }\n",
       "\n",
       "    .dataframe thead th {\n",
       "        text-align: left;\n",
       "    }\n",
       "\n",
       "    .dataframe tbody tr th {\n",
       "        vertical-align: top;\n",
       "    }\n",
       "</style>\n",
       "<table border=\"1\" class=\"dataframe\">\n",
       "  <thead>\n",
       "    <tr style=\"text-align: right;\">\n",
       "      <th></th>\n",
       "      <th>color</th>\n",
       "      <th>director_name</th>\n",
       "      <th>num_critic_for_reviews</th>\n",
       "      <th>duration</th>\n",
       "      <th>director_facebook_likes</th>\n",
       "      <th>actor_3_facebook_likes</th>\n",
       "      <th>actor_2_name</th>\n",
       "      <th>actor_1_facebook_likes</th>\n",
       "      <th>gross</th>\n",
       "      <th>genres</th>\n",
       "      <th>...</th>\n",
       "      <th>language</th>\n",
       "      <th>country</th>\n",
       "      <th>content_rating</th>\n",
       "      <th>budget</th>\n",
       "      <th>title_year</th>\n",
       "      <th>actor_2_facebook_likes</th>\n",
       "      <th>imdb_score</th>\n",
       "      <th>aspect_ratio</th>\n",
       "      <th>movie_facebook_likes</th>\n",
       "      <th>net</th>\n",
       "    </tr>\n",
       "  </thead>\n",
       "  <tbody>\n",
       "    <tr>\n",
       "      <th>0</th>\n",
       "      <td>Color</td>\n",
       "      <td>James Cameron</td>\n",
       "      <td>723.0</td>\n",
       "      <td>178.0</td>\n",
       "      <td>0.0</td>\n",
       "      <td>855.0</td>\n",
       "      <td>Joel David Moore</td>\n",
       "      <td>1000.0</td>\n",
       "      <td>760505847.0</td>\n",
       "      <td>Action|Adventure|Fantasy|Sci-Fi</td>\n",
       "      <td>...</td>\n",
       "      <td>English</td>\n",
       "      <td>USA</td>\n",
       "      <td>PG-13</td>\n",
       "      <td>237000000.0</td>\n",
       "      <td>2009.0</td>\n",
       "      <td>936.0</td>\n",
       "      <td>7.9</td>\n",
       "      <td>1.78</td>\n",
       "      <td>33000</td>\n",
       "      <td>523505847.0</td>\n",
       "    </tr>\n",
       "    <tr>\n",
       "      <th>2</th>\n",
       "      <td>Color</td>\n",
       "      <td>Sam Mendes</td>\n",
       "      <td>602.0</td>\n",
       "      <td>148.0</td>\n",
       "      <td>0.0</td>\n",
       "      <td>161.0</td>\n",
       "      <td>Rory Kinnear</td>\n",
       "      <td>11000.0</td>\n",
       "      <td>200074175.0</td>\n",
       "      <td>Action|Adventure|Thriller</td>\n",
       "      <td>...</td>\n",
       "      <td>English</td>\n",
       "      <td>UK</td>\n",
       "      <td>PG-13</td>\n",
       "      <td>245000000.0</td>\n",
       "      <td>2015.0</td>\n",
       "      <td>393.0</td>\n",
       "      <td>6.8</td>\n",
       "      <td>2.35</td>\n",
       "      <td>85000</td>\n",
       "      <td>-44925825.0</td>\n",
       "    </tr>\n",
       "    <tr>\n",
       "      <th>3</th>\n",
       "      <td>Color</td>\n",
       "      <td>Christopher Nolan</td>\n",
       "      <td>813.0</td>\n",
       "      <td>164.0</td>\n",
       "      <td>22000.0</td>\n",
       "      <td>23000.0</td>\n",
       "      <td>Christian Bale</td>\n",
       "      <td>27000.0</td>\n",
       "      <td>448130642.0</td>\n",
       "      <td>Action|Thriller</td>\n",
       "      <td>...</td>\n",
       "      <td>English</td>\n",
       "      <td>USA</td>\n",
       "      <td>PG-13</td>\n",
       "      <td>250000000.0</td>\n",
       "      <td>2012.0</td>\n",
       "      <td>23000.0</td>\n",
       "      <td>8.5</td>\n",
       "      <td>2.35</td>\n",
       "      <td>164000</td>\n",
       "      <td>198130642.0</td>\n",
       "    </tr>\n",
       "    <tr>\n",
       "      <th>5</th>\n",
       "      <td>Color</td>\n",
       "      <td>Andrew Stanton</td>\n",
       "      <td>462.0</td>\n",
       "      <td>132.0</td>\n",
       "      <td>475.0</td>\n",
       "      <td>530.0</td>\n",
       "      <td>Samantha Morton</td>\n",
       "      <td>640.0</td>\n",
       "      <td>73058679.0</td>\n",
       "      <td>Action|Adventure|Sci-Fi</td>\n",
       "      <td>...</td>\n",
       "      <td>English</td>\n",
       "      <td>USA</td>\n",
       "      <td>PG-13</td>\n",
       "      <td>263700000.0</td>\n",
       "      <td>2012.0</td>\n",
       "      <td>632.0</td>\n",
       "      <td>6.6</td>\n",
       "      <td>2.35</td>\n",
       "      <td>24000</td>\n",
       "      <td>-190641321.0</td>\n",
       "    </tr>\n",
       "    <tr>\n",
       "      <th>6</th>\n",
       "      <td>Color</td>\n",
       "      <td>Sam Raimi</td>\n",
       "      <td>392.0</td>\n",
       "      <td>156.0</td>\n",
       "      <td>0.0</td>\n",
       "      <td>4000.0</td>\n",
       "      <td>James Franco</td>\n",
       "      <td>24000.0</td>\n",
       "      <td>336530303.0</td>\n",
       "      <td>Action|Adventure|Romance</td>\n",
       "      <td>...</td>\n",
       "      <td>English</td>\n",
       "      <td>USA</td>\n",
       "      <td>PG-13</td>\n",
       "      <td>258000000.0</td>\n",
       "      <td>2007.0</td>\n",
       "      <td>11000.0</td>\n",
       "      <td>6.2</td>\n",
       "      <td>2.35</td>\n",
       "      <td>0</td>\n",
       "      <td>78530303.0</td>\n",
       "    </tr>\n",
       "  </tbody>\n",
       "</table>\n",
       "<p>5 rows × 29 columns</p>\n",
       "</div>"
      ],
      "text/plain": [
       "   color      director_name  num_critic_for_reviews  duration  \\\n",
       "0  Color      James Cameron                   723.0     178.0   \n",
       "2  Color         Sam Mendes                   602.0     148.0   \n",
       "3  Color  Christopher Nolan                   813.0     164.0   \n",
       "5  Color     Andrew Stanton                   462.0     132.0   \n",
       "6  Color          Sam Raimi                   392.0     156.0   \n",
       "\n",
       "   director_facebook_likes  actor_3_facebook_likes      actor_2_name  \\\n",
       "0                      0.0                   855.0  Joel David Moore   \n",
       "2                      0.0                   161.0      Rory Kinnear   \n",
       "3                  22000.0                 23000.0    Christian Bale   \n",
       "5                    475.0                   530.0   Samantha Morton   \n",
       "6                      0.0                  4000.0      James Franco   \n",
       "\n",
       "   actor_1_facebook_likes        gross                           genres  \\\n",
       "0                  1000.0  760505847.0  Action|Adventure|Fantasy|Sci-Fi   \n",
       "2                 11000.0  200074175.0        Action|Adventure|Thriller   \n",
       "3                 27000.0  448130642.0                  Action|Thriller   \n",
       "5                   640.0   73058679.0          Action|Adventure|Sci-Fi   \n",
       "6                 24000.0  336530303.0         Action|Adventure|Romance   \n",
       "\n",
       "      ...      language country  content_rating       budget title_year  \\\n",
       "0     ...       English     USA           PG-13  237000000.0     2009.0   \n",
       "2     ...       English      UK           PG-13  245000000.0     2015.0   \n",
       "3     ...       English     USA           PG-13  250000000.0     2012.0   \n",
       "5     ...       English     USA           PG-13  263700000.0     2012.0   \n",
       "6     ...       English     USA           PG-13  258000000.0     2007.0   \n",
       "\n",
       "   actor_2_facebook_likes imdb_score aspect_ratio  movie_facebook_likes  \\\n",
       "0                   936.0        7.9         1.78                 33000   \n",
       "2                   393.0        6.8         2.35                 85000   \n",
       "3                 23000.0        8.5         2.35                164000   \n",
       "5                   632.0        6.6         2.35                 24000   \n",
       "6                 11000.0        6.2         2.35                     0   \n",
       "\n",
       "           net  \n",
       "0  523505847.0  \n",
       "2  -44925825.0  \n",
       "3  198130642.0  \n",
       "5 -190641321.0  \n",
       "6   78530303.0  \n",
       "\n",
       "[5 rows x 29 columns]"
      ]
     },
     "execution_count": 2,
     "metadata": {},
     "output_type": "execute_result"
    }
   ],
   "source": [
    "import numpy as np\n",
    "import pandas as pd\n",
    "import matplotlib.pyplot as plt\n",
    "import scipy.stats as stats\n",
    "\n",
    "#Imported the data\n",
    "movie_metadata = pd.read_csv('movie_metadata.csv')\n",
    "\n",
    "#This is how I got rid of the foreign currency. I removed any budget of $300,000,000.00\n",
    "movie_metadata = movie_metadata.loc[movie_metadata.budget < 300000000] \n",
    "\n",
    "#Created a new \"net\" column from the gross - budget\n",
    "result = movie_metadata.gross - movie_metadata.budget\n",
    "movie_metadata['net'] = result\n",
    "\n",
    "movie_metadata.head()"
   ]
  },
  {
   "cell_type": "markdown",
   "metadata": {},
   "source": [
    "Now, I will index out the net data for each group:"
   ]
  },
  {
   "cell_type": "code",
   "execution_count": 3,
   "metadata": {
    "collapsed": true
   },
   "outputs": [],
   "source": [
    "movie_metadata_net_array = np.asarray(movie_metadata.net.dropna())"
   ]
  },
  {
   "cell_type": "code",
   "execution_count": 4,
   "metadata": {
    "collapsed": true
   },
   "outputs": [],
   "source": [
    "def genre_histogram(genre):\n",
    "    temp_df = movie_metadata.loc[movie_metadata.genres.str.contains(genre)]\n",
    "    temp_df_net = temp_df.gross - temp_df.budget\n",
    "    temp_df['net'] = temp_df_net\n",
    "    return temp_df.net.dropna()"
   ]
  },
  {
   "cell_type": "code",
   "execution_count": 5,
   "metadata": {
    "collapsed": true
   },
   "outputs": [],
   "source": [
    "import warnings\n",
    "warnings.filterwarnings('ignore')\n",
    "\n",
    "animation_df = genre_histogram(\"Animation\")"
   ]
  },
  {
   "cell_type": "markdown",
   "metadata": {},
   "source": [
    "Below is a plot of the overlaid histograms of both data sets:"
   ]
  },
  {
   "cell_type": "code",
   "execution_count": 6,
   "metadata": {},
   "outputs": [
    {
     "data": {
      "image/png": "[encoded data removed]",
      "text/plain": [
       "<matplotlib.figure.Figure at 0x10b549208>"
      ]
     },
     "metadata": {},
     "output_type": "display_data"
    },
    {
     "name": "stdout",
     "output_type": "stream",
     "text": [
      "All Movies Mean = 13385285.7897\n",
      "Animation Mean = 29649201.852\n",
      "Difference = 16263916.0623\n"
     ]
    }
   ],
   "source": [
    "plt.figure(figsize=(16,10))\n",
    "plt.hist(movie_metadata_net_array, color=\"Orange\", bins=50, alpha=0.5, label='All Movies')\n",
    "\n",
    "plt.axvline(movie_metadata_net_array.mean(), linestyle='solid', linewidth=2)\n",
    "plt.axvline(movie_metadata_net_array.mean() + movie_metadata_net_array.std(ddof=1), \n",
    "            linestyle='dashed', linewidth=2)\n",
    "plt.axvline(movie_metadata_net_array.mean()- movie_metadata_net_array.std(ddof=1), \n",
    "            linestyle='dashed', linewidth=2) \n",
    "\n",
    "plt.hist(animation_df, color=\"Purple\", bins=50, alpha=0.5, label='Animation')\n",
    "plt.axvline(animation_df.mean(), linestyle='solid', linewidth=2, color=\"Green\")\n",
    "plt.axvline(animation_df.mean() + animation_df.std(ddof=1), \n",
    "            linestyle='dashed', linewidth=2, color=\"Green\")\n",
    "plt.axvline(animation_df.mean()- animation_df.std(ddof=1), \n",
    "            linestyle='dashed', linewidth=2, color=\"Green\") \n",
    "\n",
    "plt.ylabel('Number of Movies')\n",
    "plt.xlabel('100 Millions')\n",
    "plt.title('Profit Histogram')\n",
    "\n",
    "plt.legend(loc='upper right')\n",
    "\n",
    "plt.show()\n",
    "print('All Movies Mean = ' + str(movie_metadata_net_array.mean()))\n",
    "print('Animation Mean = ' + str(animation_df.mean()))\n",
    "print('Difference = ' + str(animation_df.mean()-movie_metadata_net_array.mean()))"
   ]
  },
  {
   "cell_type": "markdown",
   "metadata": {},
   "source": [
    "As you can see, the mean for all movies is 13,385,285.79 while the animation mean is 29,649,201.85 for a difference of 16,263,916.06. \n",
    "\n",
    "That seems like quite a big difference. But, as you can see from plot, the two groups vary greatly in size. Will that factor into the validity of the null hypothesis?\n",
    "\n",
    "I will now run a function to get the t-value and p-value:"
   ]
  },
  {
   "cell_type": "code",
   "execution_count": 7,
   "metadata": {},
   "outputs": [
    {
     "name": "stdout",
     "output_type": "stream",
     "text": [
      "2.76677563145 0.00618307869214\n"
     ]
    }
   ],
   "source": [
    "tval,pval=stats.ttest_ind(animation_df, movie_metadata_net_array, equal_var=False)\n",
    "print(tval, pval)"
   ]
  },
  {
   "cell_type": "markdown",
   "metadata": {},
   "source": [
    "For my own leanring, I will also attempt to \"manually\" calculate the t-value using the formula given from the lesson to see if I get the same value.\n",
    "\n",
    "Here is the formula:\n",
    "\n",
    "\n",
    "$$t = \\frac{\\bar{y_1}-\\bar{y_2}}{\\sqrt{s^2_1/N_1+s^2_2/N_2}}$$\n",
    "\n",
    "I will need the following values to work the formula:"
   ]
  },
  {
   "cell_type": "code",
   "execution_count": 8,
   "metadata": {},
   "outputs": [
    {
     "name": "stdout",
     "output_type": "stream",
     "text": [
      "Animation\n",
      " mean = 29649201.852\n",
      " std = 81427519.7349\n",
      " count = 196\n"
     ]
    }
   ],
   "source": [
    "animation_mean = animation_df.mean()\n",
    "animation_std = animation_df.std(ddof=1)\n",
    "animation_count = len(animation_df)\n",
    "\n",
    "print('Animation\\n', \n",
    "      'mean = ' + str(animation_mean) + '\\n', \n",
    "      'std = ' + str(animation_std) + '\\n',\n",
    "      'count = ' + str(animation_count))"
   ]
  },
  {
   "cell_type": "code",
   "execution_count": 9,
   "metadata": {},
   "outputs": [
    {
     "name": "stdout",
     "output_type": "stream",
     "text": [
      "All Movies\n",
      " mean = 13385285.7897\n",
      " std = 53030137.6876\n",
      " count = 3876\n"
     ]
    }
   ],
   "source": [
    "all_movies_mean = movie_metadata_net_array.mean()\n",
    "all_movies_std = movie_metadata_net_array.std(ddof=1)\n",
    "all_movies_count = len(movie_metadata_net_array)\n",
    "\n",
    "print('All Movies\\n', \n",
    "      'mean = ' + str(all_movies_mean) + '\\n', \n",
    "      'std = ' + str(all_movies_std) + '\\n',\n",
    "      'count = ' + str(all_movies_count))"
   ]
  },
  {
   "cell_type": "markdown",
   "metadata": {},
   "source": [
    "I will now get the t-value:"
   ]
  },
  {
   "cell_type": "code",
   "execution_count": 10,
   "metadata": {
    "collapsed": true
   },
   "outputs": [],
   "source": [
    "top_part = animation_mean - all_movies_mean"
   ]
  },
  {
   "cell_type": "code",
   "execution_count": 11,
   "metadata": {
    "collapsed": true
   },
   "outputs": [],
   "source": [
    "bottom_part = (((animation_std**2)/animation_count) + ((all_movies_std**2)/all_movies_count))**0.5"
   ]
  },
  {
   "cell_type": "code",
   "execution_count": 12,
   "metadata": {
    "collapsed": true
   },
   "outputs": [],
   "source": [
    "tval2 = top_part/bottom_part"
   ]
  },
  {
   "cell_type": "code",
   "execution_count": 13,
   "metadata": {},
   "outputs": [
    {
     "name": "stdout",
     "output_type": "stream",
     "text": [
      "2.76677563145\n"
     ]
    }
   ],
   "source": [
    "print(tval2)"
   ]
  },
  {
   "cell_type": "markdown",
   "metadata": {},
   "source": [
    "Success! The t-values are both the same! :-P\n",
    "\n",
    "I was unable to find a way of calculating the p-value. All the sources I found just pointed to having the computer do it.\n",
    "\n",
    "Now that I have the t-values, it is time to run the actual T-test.\n",
    "\n",
    "I will use the following table as a reference from my T-test:"
   ]
  },
  {
   "cell_type": "code",
   "execution_count": 14,
   "metadata": {},
   "outputs": [
    {
     "data": {
      "text/html": [
       "<img src=\"https://jimgrange.files.wordpress.com/2015/12/ttable.png\"/>"
      ],
      "text/plain": [
       "<IPython.core.display.Image object>"
      ]
     },
     "execution_count": 14,
     "metadata": {},
     "output_type": "execute_result"
    }
   ],
   "source": [
    "from IPython.display import Image\n",
    "from IPython.core.display import HTML \n",
    "Image(url= \"https://jimgrange.files.wordpress.com/2015/12/ttable.png\")"
   ]
  },
  {
   "cell_type": "code",
   "execution_count": 15,
   "metadata": {},
   "outputs": [
    {
     "name": "stdout",
     "output_type": "stream",
     "text": [
      "4074\n"
     ]
    }
   ],
   "source": [
    "degree_of_freedom = all_movies_count + animation_count + 2\n",
    "print(degree_of_freedom)"
   ]
  },
  {
   "cell_type": "markdown",
   "metadata": {},
   "source": [
    "I will use a significance level of 5% (0.05) and a degree of freedome of 4074 (in this case $\\infty$). The significance threshold is 1.960.\n",
    "\n",
    "Since our calculated t-value of 2.76677563145 is greater that of the significance threshold, we can reject the null hypothesis.\n",
    "\n",
    "Thus, the alternative hypothesis is probably true and there is a statistical difference between the two groups.\n",
    "\n",
    "Usint the p-value of 0.00618307869214, we can also reject the null hypothese because the value is so low.\n",
    "\n",
    "I am now going to do a genre where the means are not too different, 'Action'. "
   ]
  },
  {
   "cell_type": "code",
   "execution_count": 16,
   "metadata": {},
   "outputs": [],
   "source": [
    "action_df = genre_histogram(\"Action\")"
   ]
  },
  {
   "cell_type": "code",
   "execution_count": 17,
   "metadata": {},
   "outputs": [
    {
     "name": "stdout",
     "output_type": "stream",
     "text": [
      "Animation\n",
      " mean = 11667793.0042\n",
      " std = 69961066.5159\n",
      " count = 962\n"
     ]
    }
   ],
   "source": [
    "action_mean = action_df.mean()\n",
    "action_std = action_df.std(ddof=1)\n",
    "action_count = len(action_df)\n",
    "\n",
    "print('Animation\\n', \n",
    "      'mean = ' + str(action_mean) + '\\n', \n",
    "      'std = ' + str(action_std) + '\\n',\n",
    "      'count = ' + str(action_count))"
   ]
  },
  {
   "cell_type": "markdown",
   "metadata": {},
   "source": [
    "So the  animation mean here is 11,667,793.00 while the all movies mean is 13,385,285.79 for a difference of 1,717,492.79.\n",
    "\n",
    "The animation standard deviation is 69,961,066.51 while the all movies standard deviation is once again 53,030,137.69.\n",
    "\n",
    "With such huge standard deviations, maybe the t value will be low enough to not reject the null hypothesis. "
   ]
  },
  {
   "cell_type": "code",
   "execution_count": 22,
   "metadata": {},
   "outputs": [
    {
     "name": "stdout",
     "output_type": "stream",
     "text": [
      "0.712325757882 0.476396187772\n"
     ]
    }
   ],
   "source": [
    "action_tval,action_pval=stats.ttest_ind(movie_metadata_net_array, action_df,  equal_var=False)\n",
    "print(action_tval, action_pval)"
   ]
  },
  {
   "cell_type": "markdown",
   "metadata": {},
   "source": [
    "Here the t-value is less than 1, so we can't reject the null hypothesis.\n",
    "\n",
    "The p-value is also pretty hight at 48%, which is way about the 5% threshold. \n",
    "\n",
    "So for both tests, the null hypothesis still stands.\n",
    "\n",
    "I'll do Horror to double check."
   ]
  },
  {
   "cell_type": "code",
   "execution_count": 27,
   "metadata": {},
   "outputs": [
    {
     "name": "stdout",
     "output_type": "stream",
     "text": [
      "Horror\n",
      " mean = 13159322.5455\n",
      " std = 29928380.4007\n",
      " count = 396\n",
      " mean difference = 225963.244277\n"
     ]
    }
   ],
   "source": [
    "horror_df = genre_histogram(\"Horror\")\n",
    "\n",
    "horror_mean = horror_df.mean()\n",
    "horror_std = horror_df.std(ddof=1)\n",
    "horror_count = len(horror_df)\n",
    "\n",
    "print('Horror\\n', \n",
    "      'mean = ' + str(horror_mean) + '\\n', \n",
    "      'std = ' + str(horror_std) + '\\n',\n",
    "      'count = ' + str(horror_count)+ '\\n',\n",
    "     'mean difference = ' + str(all_movies_mean - horror_mean))"
   ]
  },
  {
   "cell_type": "markdown",
   "metadata": {},
   "source": [
    "The difference in means is only 225,965.24. The STD is lower though at 29,928.380.40. But the count is lower too at 396. Will the t-value be lower enough to not reject the null hypothesis?"
   ]
  },
  {
   "cell_type": "code",
   "execution_count": 26,
   "metadata": {},
   "outputs": [
    {
     "name": "stdout",
     "output_type": "stream",
     "text": [
      "0.130734128364 0.896024191846\n"
     ]
    }
   ],
   "source": [
    "horror_tval,horror_pval=stats.ttest_ind(movie_metadata_net_array,horror_df, equal_var=False)\n",
    "print(horror_tval, horror_pval)"
   ]
  },
  {
   "cell_type": "markdown",
   "metadata": {},
   "source": [
    "For this one as well, t-value is lower than 1 and the p values comes in at a whopping 89.6%.\n",
    "\n",
    "For Horror as well, the null hypothesis still stands. "
   ]
  },
  {
   "cell_type": "code",
   "execution_count": null,
   "metadata": {
    "collapsed": true
   },
   "outputs": [],
   "source": []
  }
 ],
 "metadata": {
  "kernelspec": {
   "display_name": "Python 3",
   "language": "python",
   "name": "python3"
  },
  "language_info": {
   "codemirror_mode": {
    "name": "ipython",
    "version": 3
   },
   "file_extension": ".py",
   "mimetype": "text/x-python",
   "name": "python",
   "nbconvert_exporter": "python",
   "pygments_lexer": "ipython3",
   "version": "3.5.2"
  }
 },
 "nbformat": 4,
 "nbformat_minor": 2
}
