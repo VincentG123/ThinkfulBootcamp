{
 "cells": [
  {
   "cell_type": "markdown",
   "metadata": {},
   "source": [
    "# Adventures in P-Typing\n",
    "### Using Natural Language Processing and Data Science to Explore the Myers-Briggs Personality Test"
   ]
  },
  {
   "cell_type": "markdown",
   "metadata": {},
   "source": [
    "## Introduction\n",
    "\n",
    "The Myers-Brigs Type Indicator (MBTI) is a self-assessment questionnaire which helps people gain insight into how they work and learn. The test was developed by the mother-daughter partnership of Katharine Briggs and Isabel Briggs-Myers and is based on the typological theory of Carl Jung. The length of the test can range from 93 to 222 items that serve to identify a participant's personality type based on four key preferences on how they interract and deal with the world around them. \n",
    "\n",
    "These preferances are between the following traits:\n",
    "1. Extraversion (E) vs Introversion (I)\n",
    "2. Sensing (S) vs Intuition (N)\n",
    "3. Thinking (T) vs Feeling (F)\n",
    "4. Judging (J) vs Prospecting (P) \n",
    "\n",
    "The combination of these 4 preferences will determine which personality type a person would fall into. For example, an Extroverted, Sensing, Thinking, Judging person would be categorized as an ESTJ personality type. This particular type is labeled the \"Executive\" and is described as being dedicated, strong-willed, direct, loyal, patient, reliable, and well-ordered.   \n",
    "\n",
    "There are 16 types in total as well as another category that indicates the level of confidence one has in their abilities which ranges from Assertive (A) to Turbulent (T). But for the purposes of this project, that last category will be left out.\n",
    "\n",
    "## The Project\n",
    "\n",
    "As a person who has spent years working in the educational field, I feel that knowing the personality types of your students can be an invaluable asset. Knowing that your class is predominately introverted vs extroverted can be key to lesson planning and assessment. \n",
    "\n",
    "Thus, my intent is to use text samples from the different personality types to build a predictive model that would be accessable and easy for a teacher to use. With the knowledge of their student's, a teacher would be better able to cater to their students' needs and preferences. \n",
    "\n",
    "## The Dataset\n",
    "\n",
    "I found this [dataset](https://www.kaggle.com/datasnaek/mbti-type) on the Kaggle website. It is a collection of the last 50 forum posts from 8675 members of the [Personality Cafe](http://personalitycafe.com) community. Personality Cafe is an online platform that describes itself as \"a community dedicated to helping you develop your personality through interactions with people who have the same personality as you\".\n",
    "\n",
    "I find it fascinating that such a group exists. I'm tempted to join it myself after taking the test and being categorized as an INFP (Introvert, Intuitive, Feeling, Prospecting) also know as the 'Mediator'. The 'Mediator' profile was eerily accurate and I found myself in the company of my favorite playwright, William Shakespeare. It also explained many of my personality quirks and helped me put my own career path into pespective. \n",
    "\n",
    "Interestingly enough, two of my best friends also ended up testing as INFPs. Although with a recent retest, they both switched over to INFJ, the 'Advocate'. \n",
    "\n",
    "## The Analysis\n",
    "\n",
    "### Importing Data"
   ]
  },
  {
   "cell_type": "code",
   "execution_count": 1,
   "metadata": {},
   "outputs": [],
   "source": [
    "import numpy as np\n",
    "import pandas as pd\n",
    "import matplotlib.pyplot as plt\n",
    "import seaborn as sns"
   ]
  },
  {
   "cell_type": "code",
   "execution_count": 2,
   "metadata": {},
   "outputs": [],
   "source": [
    "data_download = pd.read_csv('mbti_1.csv')"
   ]
  },
  {
   "cell_type": "code",
   "execution_count": 3,
   "metadata": {},
   "outputs": [],
   "source": [
    "data = data_download.copy()"
   ]
  },
  {
   "cell_type": "markdown",
   "metadata": {},
   "source": [
    "We start with 2 columns and 8675 rows of data. One column is the represents the personality type and the other is represents the posts."
   ]
  },
  {
   "cell_type": "code",
   "execution_count": 4,
   "metadata": {},
   "outputs": [
    {
     "name": "stdout",
     "output_type": "stream",
     "text": [
      "(8675, 2)\n"
     ]
    },
    {
     "data": {
      "text/html": [
       "<div>\n",
       "<style>\n",
       "    .dataframe thead tr:only-child th {\n",
       "        text-align: right;\n",
       "    }\n",
       "\n",
       "    .dataframe thead th {\n",
       "        text-align: left;\n",
       "    }\n",
       "\n",
       "    .dataframe tbody tr th {\n",
       "        vertical-align: top;\n",
       "    }\n",
       "</style>\n",
       "<table border=\"1\" class=\"dataframe\">\n",
       "  <thead>\n",
       "    <tr style=\"text-align: right;\">\n",
       "      <th></th>\n",
       "      <th>type</th>\n",
       "      <th>posts</th>\n",
       "    </tr>\n",
       "  </thead>\n",
       "  <tbody>\n",
       "    <tr>\n",
       "      <th>0</th>\n",
       "      <td>INFJ</td>\n",
       "      <td>'http://www.youtube.com/watch?v=qsXHcwe3krw|||http://41.media.tumblr.com/tumblr_lfouy03PMA1qa1ro...</td>\n",
       "    </tr>\n",
       "    <tr>\n",
       "      <th>1</th>\n",
       "      <td>ENTP</td>\n",
       "      <td>'I'm finding the lack of me in these posts very alarming.|||Sex can be boring if it's in the sam...</td>\n",
       "    </tr>\n",
       "    <tr>\n",
       "      <th>2</th>\n",
       "      <td>INTP</td>\n",
       "      <td>'Good one  _____   https://www.youtube.com/watch?v=fHiGbolFFGw|||Of course, to which I say I kno...</td>\n",
       "    </tr>\n",
       "    <tr>\n",
       "      <th>3</th>\n",
       "      <td>INTJ</td>\n",
       "      <td>'Dear INTP,   I enjoyed our conversation the other day.  Esoteric gabbing about the nature of th...</td>\n",
       "    </tr>\n",
       "    <tr>\n",
       "      <th>4</th>\n",
       "      <td>ENTJ</td>\n",
       "      <td>'You're fired.|||That's another silly misconception. That approaching is logically is going to b...</td>\n",
       "    </tr>\n",
       "  </tbody>\n",
       "</table>\n",
       "</div>"
      ],
      "text/plain": [
       "   type  \\\n",
       "0  INFJ   \n",
       "1  ENTP   \n",
       "2  INTP   \n",
       "3  INTJ   \n",
       "4  ENTJ   \n",
       "\n",
       "                                                                                                 posts  \n",
       "0  'http://www.youtube.com/watch?v=qsXHcwe3krw|||http://41.media.tumblr.com/tumblr_lfouy03PMA1qa1ro...  \n",
       "1  'I'm finding the lack of me in these posts very alarming.|||Sex can be boring if it's in the sam...  \n",
       "2  'Good one  _____   https://www.youtube.com/watch?v=fHiGbolFFGw|||Of course, to which I say I kno...  \n",
       "3  'Dear INTP,   I enjoyed our conversation the other day.  Esoteric gabbing about the nature of th...  \n",
       "4  'You're fired.|||That's another silly misconception. That approaching is logically is going to b...  "
      ]
     },
     "execution_count": 4,
     "metadata": {},
     "output_type": "execute_result"
    }
   ],
   "source": [
    "print(data.shape)\n",
    "pd.options.display.max_colwidth = 100\n",
    "data.head()"
   ]
  },
  {
   "cell_type": "markdown",
   "metadata": {},
   "source": [
    "### Initial Exploration\n",
    "\n",
    "The graph below indicates that there is a vast imbalance in the representation of the different personality types.  This does not bode well for building a model that is capable of accurately predicting the different categories.\n",
    "\n",
    "The biggest group, INFP, has over 1,750 samples whereas the smallest group, ESTJ, has less than 50. I find it fascinating that these two groups are the exact opposite of one another. INFP stands for __I__ntrovert, I__n__tuitive, __F__eeling, and __P__rospecting while ESTJ stands for __E__xtrovert, __S__ensing, __T__hinking, and __J__udging. Perhaps it is the polarization of their traights that led them to being represented as such. \n",
    "\n",
    "I also find it interesting that the top four groups start with IN (Introvert/Intuitive) while the bottom four start with ES (Extrovert/Sensing). It would make sense that introverted people would spend more time communicating with other via these message boards while entroverts would prefer to interract with people in person. Also, it would be more likely that Intuitive people would enjoy the theoretical and complex topic of personality while sensing people maybe turned off by its lack of concrete definition."
   ]
  },
  {
   "cell_type": "code",
   "execution_count": 5,
   "metadata": {},
   "outputs": [
    {
     "data": {
      "image/png": "[encoded data removed]",
      "text/plain": [
       "<matplotlib.figure.Figure at 0x105381438>"
      ]
     },
     "metadata": {},
     "output_type": "display_data"
    }
   ],
   "source": [
    "plt.rcParams['figure.figsize'] = (20.0, 10.0)\n",
    "sns.countplot(x=\"type\", data=data, order = data.type.value_counts().index)\n",
    "plt.show()"
   ]
  },
  {
   "cell_type": "markdown",
   "metadata": {},
   "source": [
    "Below is a bigger look at the text.\n",
    "\n",
    "I see that I'll have to get rid of the ||| separators and a few embedded links. I will replace the links with 'https' since the presence of links may be a useful predictive feature.\n",
    "\n",
    "I see too that the writer mentions their personality classification. In this case, 'ENTP'. I will remove that since I would like to create a model that can predict the personality classification of people who are not aware of their classifications. Although even with the ommision of the types, I'm certain that this self awareness and the fact that these posts come from a forum where people explore and discuss the meaning of their personality types would still play a factor in the success of the model. "
   ]
  },
  {
   "cell_type": "code",
   "execution_count": 6,
   "metadata": {},
   "outputs": [
    {
     "name": "stdout",
     "output_type": "stream",
     "text": [
      "posts    'I'm finding the lack of me in these posts very alarming.|||Sex can be boring if it's in the same position often. For example me and my girlfriend are currently in an environment where we have to creatively use cowgirl and missionary. There isn't enough...|||Giving new meaning to 'Game' theory.|||Hello *ENTP Grin*  That's all it takes. Than we converse and they do most of the flirting while I acknowledge their presence and return their words with smooth wordplay and more cheeky grins.|||This + Lack of Balance and Hand Eye Coordination.|||Real IQ test I score 127. Internet IQ tests are funny. I score 140s or higher.  Now, like the former responses of this thread I will mention that I don't believe in the IQ test. Before you banish...|||You know you're an ENTP when you vanish from a site for a year and a half, return, and find people are still commenting on your posts and liking your ideas/thoughts. You know you're an ENTP when you...|||http://img188.imageshack.us/img188/6422/6020d1f...\n",
      "Name: 1, dtype: object\n"
     ]
    }
   ],
   "source": [
    "pd.options.display.max_colwidth = 1000\n",
    "print(data.loc[1,['posts']])"
   ]
  },
  {
   "cell_type": "markdown",
   "metadata": {},
   "source": [
    "### Processing the Data\n",
    "\n",
    "As with all text samples, there is some data processing to be done.\n",
    "\n",
    "For clean up, I will do the following:\n",
    "\n",
    "1.  replace urls with 'https'\n",
    "2.  punctuation removal (and other random symbols)\n",
    "3.  remove digits \n",
    "4.  lowercase and stop word removal\n",
    "5.  remove excess white space\n",
    "6.  remove the types"
   ]
  },
  {
   "cell_type": "code",
   "execution_count": 7,
   "metadata": {},
   "outputs": [],
   "source": [
    "import re\n",
    "from string import punctuation\n",
    "from nltk.corpus import stopwords"
   ]
  },
  {
   "cell_type": "code",
   "execution_count": 8,
   "metadata": {},
   "outputs": [],
   "source": [
    "def remove_url(x):\n",
    "    x = re.sub(r'(?i)\\b((?:https?://|www\\d{0,3}[.]|[a-z0-9.\\-]+[.][a-z]{2,4}     /)(?:[^\\s()<>]+|\\(([^\\s()<>]+|(\\([^\\s()<>]+\\)))*\\))+(?:\\(([^\\s()<>]+|(\\([^\\s()<>]+\\)))*\\)|[^\\s`!()\\[\\]{};:\\'\".,<>?«»“”‘’]))', 'https', x)\n",
    "    return x\n",
    "data.posts = data.posts.apply(remove_url)"
   ]
  },
  {
   "cell_type": "code",
   "execution_count": 9,
   "metadata": {},
   "outputs": [],
   "source": [
    "punctuation_symbols = []\n",
    "\n",
    "for each in list(punctuation):\n",
    "    punctuation_symbols.append((each, ' '))\n",
    "    \n",
    "def remove_puncuation(x):\n",
    "    for each in punctuation_symbols:\n",
    "        x = x.replace(*each)\n",
    "    return x\n",
    "\n",
    "data.posts = data.posts.apply(remove_puncuation)"
   ]
  },
  {
   "cell_type": "code",
   "execution_count": 10,
   "metadata": {},
   "outputs": [],
   "source": [
    "def remove_digits(x):\n",
    "    x = ''.join([i for i in x if not i.isdigit()])\n",
    "    return x\n",
    "\n",
    "data.posts = data.posts.apply(remove_digits)"
   ]
  },
  {
   "cell_type": "code",
   "execution_count": 11,
   "metadata": {},
   "outputs": [],
   "source": [
    "stop = stopwords.words('english')\n",
    "\n",
    "def remove_stop_words(x):\n",
    "    x = ' '.join([i for i in x.lower().split(' ') if i not in stop])\n",
    "    return x\n",
    "\n",
    "data.posts = data.posts.apply(remove_stop_words)"
   ]
  },
  {
   "cell_type": "code",
   "execution_count": 12,
   "metadata": {},
   "outputs": [],
   "source": [
    "def remove_extra_white_space(x):\n",
    "    x = ' '.join(x.split())\n",
    "    return x\n",
    "\n",
    "data.posts = data.posts.apply(remove_extra_white_space)"
   ]
  },
  {
   "cell_type": "markdown",
   "metadata": {},
   "source": [
    "Through several iterations of my project, I realized that not only would I need to remove the category labels but also some Myers-Briggs abbreviations such as 'e', 'j', 'p', 'ne', 'ti', and 'si'. \n",
    "\n",
    "I have included them below and will continue to remove more as I discover them as I continue working with this data set."
   ]
  },
  {
   "cell_type": "code",
   "execution_count": 13,
   "metadata": {},
   "outputs": [],
   "source": [
    "def remove_types(x):\n",
    "    x = re.sub(r'(i|e)(n|s)(t|f)(j|p)\\w*|\\b(ne|sx|ni|ti|fe|nt|se|si|nf)\\b', '', x)\n",
    "    return x\n",
    "\n",
    "data.posts = data.posts.apply(remove_types)"
   ]
  },
  {
   "cell_type": "code",
   "execution_count": 14,
   "metadata": {},
   "outputs": [
    {
     "name": "stdout",
     "output_type": "stream",
     "text": [
      "posts    finding lack posts alarming sex boring position often example girlfriend currently environment creatively use cowgirl missionary enough giving new meaning game theory hello  grin takes converse flirting acknowledge presence return words smooth wordplay cheeky grins lack balance hand eye coordination real iq test score internet iq tests funny score higher like former responses thread mention believe iq test banish know  vanish site year half return find people still commenting posts liking ideas thoughts know  https think things sometimes go old sherlock holmes quote perhaps man special knowledge special powers like rather encourages seek complex cheshirewolf tumblr com post really never thought e j p real functions judge use use   dominates  emotions rarely  also use  due strength know though ingenious saying really want try see happens playing first person shooter back drive around want see look rock paper one best makes lol guys lucky really high tumblr system hear new first pers...\n",
      "Name: 1, dtype: object\n"
     ]
    }
   ],
   "source": [
    "pd.options.display.max_colwidth = 1000\n",
    "print(data.loc[1,['posts']])"
   ]
  },
  {
   "cell_type": "markdown",
   "metadata": {},
   "source": [
    "## Predictive Model Using TF-IDF Words as Features\n",
    "\n",
    "I will now use the cleaned up texts and input them into the TF-IDF (Term Frequency-Inverse Document Frequency) Vectorizer. I did use both this and the 'bag of words' method and found that the TF-IDF method gave me a slightly better accuracy score. Which isn't surprising given that TF-IDF gives a greater weight to words that don't appear as often throughout the text.\n",
    "\n",
    "With the TF-IDF processed texts, I will create my predictive models."
   ]
  },
  {
   "cell_type": "code",
   "execution_count": 15,
   "metadata": {},
   "outputs": [],
   "source": [
    "from sklearn.feature_extraction.text import TfidfVectorizer"
   ]
  },
  {
   "cell_type": "code",
   "execution_count": 16,
   "metadata": {},
   "outputs": [],
   "source": [
    "tf = TfidfVectorizer(analyzer='word', ngram_range=(1,2), min_df = 0.02, stop_words = 'english', norm='l2')"
   ]
  },
  {
   "cell_type": "code",
   "execution_count": 17,
   "metadata": {},
   "outputs": [
    {
     "name": "stdout",
     "output_type": "stream",
     "text": [
      "Number of documents: 8675 , number of features: 3459\n"
     ]
    }
   ],
   "source": [
    "# fit & transform\n",
    "tfidf_matrix = tf.fit_transform(data.posts)\n",
    "\n",
    "print('Number of documents:', tfidf_matrix.shape[0], ', number of features:', tfidf_matrix.shape[1])"
   ]
  },
  {
   "cell_type": "code",
   "execution_count": 18,
   "metadata": {},
   "outputs": [
    {
     "data": {
      "text/html": [
       "<div>\n",
       "<style>\n",
       "    .dataframe thead tr:only-child th {\n",
       "        text-align: right;\n",
       "    }\n",
       "\n",
       "    .dataframe thead th {\n",
       "        text-align: left;\n",
       "    }\n",
       "\n",
       "    .dataframe tbody tr th {\n",
       "        vertical-align: top;\n",
       "    }\n",
       "</style>\n",
       "<table border=\"1\" class=\"dataframe\">\n",
       "  <thead>\n",
       "    <tr style=\"text-align: right;\">\n",
       "      <th></th>\n",
       "      <th>abilities</th>\n",
       "      <th>ability</th>\n",
       "      <th>able</th>\n",
       "      <th>absolute</th>\n",
       "      <th>absolutely</th>\n",
       "      <th>absolutely love</th>\n",
       "      <th>abstract</th>\n",
       "      <th>absurd</th>\n",
       "      <th>abuse</th>\n",
       "      <th>abusive</th>\n",
       "      <th>...</th>\n",
       "      <th>yes yes</th>\n",
       "      <th>yesterday</th>\n",
       "      <th>yo</th>\n",
       "      <th>young</th>\n",
       "      <th>younger</th>\n",
       "      <th>youth</th>\n",
       "      <th>youtube</th>\n",
       "      <th>yup</th>\n",
       "      <th>zero</th>\n",
       "      <th>zone</th>\n",
       "    </tr>\n",
       "  </thead>\n",
       "  <tbody>\n",
       "    <tr>\n",
       "      <th>0</th>\n",
       "      <td>0.0</td>\n",
       "      <td>0.000000</td>\n",
       "      <td>0.000000</td>\n",
       "      <td>0.000000</td>\n",
       "      <td>0.000000</td>\n",
       "      <td>0.0</td>\n",
       "      <td>0.0</td>\n",
       "      <td>0.0</td>\n",
       "      <td>0.0</td>\n",
       "      <td>0.0</td>\n",
       "      <td>...</td>\n",
       "      <td>0.0</td>\n",
       "      <td>0.0</td>\n",
       "      <td>0.083409</td>\n",
       "      <td>0.0</td>\n",
       "      <td>0.0</td>\n",
       "      <td>0.0</td>\n",
       "      <td>0.0</td>\n",
       "      <td>0.000000</td>\n",
       "      <td>0.0</td>\n",
       "      <td>0.0</td>\n",
       "    </tr>\n",
       "    <tr>\n",
       "      <th>1</th>\n",
       "      <td>0.0</td>\n",
       "      <td>0.000000</td>\n",
       "      <td>0.031013</td>\n",
       "      <td>0.000000</td>\n",
       "      <td>0.000000</td>\n",
       "      <td>0.0</td>\n",
       "      <td>0.0</td>\n",
       "      <td>0.0</td>\n",
       "      <td>0.0</td>\n",
       "      <td>0.0</td>\n",
       "      <td>...</td>\n",
       "      <td>0.0</td>\n",
       "      <td>0.0</td>\n",
       "      <td>0.000000</td>\n",
       "      <td>0.0</td>\n",
       "      <td>0.0</td>\n",
       "      <td>0.0</td>\n",
       "      <td>0.0</td>\n",
       "      <td>0.000000</td>\n",
       "      <td>0.0</td>\n",
       "      <td>0.0</td>\n",
       "    </tr>\n",
       "    <tr>\n",
       "      <th>2</th>\n",
       "      <td>0.0</td>\n",
       "      <td>0.108889</td>\n",
       "      <td>0.037769</td>\n",
       "      <td>0.000000</td>\n",
       "      <td>0.091012</td>\n",
       "      <td>0.0</td>\n",
       "      <td>0.0</td>\n",
       "      <td>0.0</td>\n",
       "      <td>0.0</td>\n",
       "      <td>0.0</td>\n",
       "      <td>...</td>\n",
       "      <td>0.0</td>\n",
       "      <td>0.0</td>\n",
       "      <td>0.000000</td>\n",
       "      <td>0.0</td>\n",
       "      <td>0.0</td>\n",
       "      <td>0.0</td>\n",
       "      <td>0.0</td>\n",
       "      <td>0.069786</td>\n",
       "      <td>0.0</td>\n",
       "      <td>0.0</td>\n",
       "    </tr>\n",
       "    <tr>\n",
       "      <th>3</th>\n",
       "      <td>0.0</td>\n",
       "      <td>0.000000</td>\n",
       "      <td>0.064068</td>\n",
       "      <td>0.060195</td>\n",
       "      <td>0.000000</td>\n",
       "      <td>0.0</td>\n",
       "      <td>0.0</td>\n",
       "      <td>0.0</td>\n",
       "      <td>0.0</td>\n",
       "      <td>0.0</td>\n",
       "      <td>...</td>\n",
       "      <td>0.0</td>\n",
       "      <td>0.0</td>\n",
       "      <td>0.000000</td>\n",
       "      <td>0.0</td>\n",
       "      <td>0.0</td>\n",
       "      <td>0.0</td>\n",
       "      <td>0.0</td>\n",
       "      <td>0.000000</td>\n",
       "      <td>0.0</td>\n",
       "      <td>0.0</td>\n",
       "    </tr>\n",
       "    <tr>\n",
       "      <th>4</th>\n",
       "      <td>0.0</td>\n",
       "      <td>0.000000</td>\n",
       "      <td>0.000000</td>\n",
       "      <td>0.000000</td>\n",
       "      <td>0.000000</td>\n",
       "      <td>0.0</td>\n",
       "      <td>0.0</td>\n",
       "      <td>0.0</td>\n",
       "      <td>0.0</td>\n",
       "      <td>0.0</td>\n",
       "      <td>...</td>\n",
       "      <td>0.0</td>\n",
       "      <td>0.0</td>\n",
       "      <td>0.000000</td>\n",
       "      <td>0.0</td>\n",
       "      <td>0.0</td>\n",
       "      <td>0.0</td>\n",
       "      <td>0.0</td>\n",
       "      <td>0.000000</td>\n",
       "      <td>0.0</td>\n",
       "      <td>0.0</td>\n",
       "    </tr>\n",
       "  </tbody>\n",
       "</table>\n",
       "<p>5 rows × 3459 columns</p>\n",
       "</div>"
      ],
      "text/plain": [
       "   abilities   ability      able  absolute  absolutely  absolutely love  \\\n",
       "0        0.0  0.000000  0.000000  0.000000    0.000000              0.0   \n",
       "1        0.0  0.000000  0.031013  0.000000    0.000000              0.0   \n",
       "2        0.0  0.108889  0.037769  0.000000    0.091012              0.0   \n",
       "3        0.0  0.000000  0.064068  0.060195    0.000000              0.0   \n",
       "4        0.0  0.000000  0.000000  0.000000    0.000000              0.0   \n",
       "\n",
       "   abstract  absurd  abuse  abusive  ...   yes yes  yesterday        yo  \\\n",
       "0       0.0     0.0    0.0      0.0  ...       0.0        0.0  0.083409   \n",
       "1       0.0     0.0    0.0      0.0  ...       0.0        0.0  0.000000   \n",
       "2       0.0     0.0    0.0      0.0  ...       0.0        0.0  0.000000   \n",
       "3       0.0     0.0    0.0      0.0  ...       0.0        0.0  0.000000   \n",
       "4       0.0     0.0    0.0      0.0  ...       0.0        0.0  0.000000   \n",
       "\n",
       "   young  younger  youth  youtube       yup  zero  zone  \n",
       "0    0.0      0.0    0.0      0.0  0.000000   0.0   0.0  \n",
       "1    0.0      0.0    0.0      0.0  0.000000   0.0   0.0  \n",
       "2    0.0      0.0    0.0      0.0  0.069786   0.0   0.0  \n",
       "3    0.0      0.0    0.0      0.0  0.000000   0.0   0.0  \n",
       "4    0.0      0.0    0.0      0.0  0.000000   0.0   0.0  \n",
       "\n",
       "[5 rows x 3459 columns]"
      ]
     },
     "execution_count": 18,
     "metadata": {},
     "output_type": "execute_result"
    }
   ],
   "source": [
    "tfidf_feature_matrix = pd.DataFrame(tfidf_matrix.toarray(), columns=tf.get_feature_names())\n",
    "tfidf_feature_matrix.head()"
   ]
  },
  {
   "cell_type": "markdown",
   "metadata": {},
   "source": [
    "Below are my first two models. \n",
    "\n",
    "I chose to go with the Random Forest and Logistic Regression Models.\n",
    "\n",
    "I did attempt them with Gradient Boosting and Support Vector Machines. The Gradient Boosting took far too long, so I stopped it before it could finish. The Support Vector Machine took about 15 minutes and yielded results similiar to the logistic regression model."
   ]
  },
  {
   "cell_type": "code",
   "execution_count": 19,
   "metadata": {},
   "outputs": [],
   "source": [
    "from sklearn import ensemble\n",
    "from sklearn.model_selection import train_test_split"
   ]
  },
  {
   "cell_type": "code",
   "execution_count": 20,
   "metadata": {},
   "outputs": [
    {
     "name": "stdout",
     "output_type": "stream",
     "text": [
      "\n",
      "Random Forest Classifier:\n",
      "Training set score: 0.990777743621\n",
      "Test set score: 0.200553250346\n"
     ]
    }
   ],
   "source": [
    "X = tfidf_feature_matrix\n",
    "Y = data['type']\n",
    "\n",
    "X_train, X_test, Y_train, Y_test = train_test_split(X, Y, test_size=0.25, random_state=42)\n",
    "\n",
    "rfc = ensemble.RandomForestClassifier()\n",
    "\n",
    "rfc.fit(X_train, Y_train)\n",
    "\n",
    "print('\\nRandom Forest Classifier:')\n",
    "print('Training set score:', rfc.score(X_train, Y_train))\n",
    "print('Test set score:', rfc.score(X_test, Y_test)) "
   ]
  },
  {
   "cell_type": "code",
   "execution_count": 21,
   "metadata": {},
   "outputs": [],
   "source": [
    "from sklearn.linear_model import LogisticRegression"
   ]
  },
  {
   "cell_type": "code",
   "execution_count": 22,
   "metadata": {},
   "outputs": [
    {
     "name": "stdout",
     "output_type": "stream",
     "text": [
      "\n",
      "Logistic Regression:\n",
      "Training set score: 0.583922533046\n",
      "Test set score: 0.359612724758\n"
     ]
    }
   ],
   "source": [
    "lr = LogisticRegression()\n",
    "lr.fit(X_train, Y_train)\n",
    "\n",
    "print('\\nLogistic Regression:')\n",
    "print('Training set score:', lr.score(X_train, Y_train))\n",
    "print('Test set score:', lr.score(X_test, Y_test))"
   ]
  },
  {
   "cell_type": "markdown",
   "metadata": {},
   "source": [
    "As somewhat expected, neither the Random Forest Classifier nor the Logistic Regression models did very well. This is primarily due to the fact that several of the groups were ill represented. \n",
    "\n",
    "The following confusion matrix supports that hypothesis as the 'IN' personality types are the ones that were identified most often. INFP, for example, had a 70% recall score. But that is only because the model kept predicting the category due to its high level of representation. Because of this, the INFP precision score suffered at 40% accuracy as 60% of the samples that were identified as INFP were actually some other category. \n",
    "\n",
    "Several of the other categories had ZERO recall and precision scores. This is due to their severe lack of representation. The model didn't even bother to even predict their precence at all. \n",
    "\n",
    "ISTJ and ISTP both had 100% precision but that is due such a low number of predictions made by the model in favor of those two categories. Meanwhile, their recall scores were just 1-2%. So the vast majority of the ISTJ and ISTP samples were left unidentified. "
   ]
  },
  {
   "cell_type": "code",
   "execution_count": 23,
   "metadata": {},
   "outputs": [
    {
     "data": {
      "image/png": "[encoded data removed]",
      "text/plain": [
       "<matplotlib.figure.Figure at 0x11f7baba8>"
      ]
     },
     "metadata": {},
     "output_type": "display_data"
    },
    {
     "name": "stdout",
     "output_type": "stream",
     "text": [
      "             precision    recall  f1-score   support\n",
      "\n",
      "       ENFJ       0.00      0.00      0.00        49\n",
      "       ENFP       0.34      0.15      0.21       160\n",
      "       ENTJ       0.00      0.00      0.00        51\n",
      "       ENTP       0.18      0.05      0.08       165\n",
      "       ESFJ       0.00      0.00      0.00         8\n",
      "       ESFP       0.00      0.00      0.00         8\n",
      "       ESTJ       0.00      0.00      0.00        12\n",
      "       ESTP       0.00      0.00      0.00        20\n",
      "       INFJ       0.30      0.40      0.34       361\n",
      "       INFP       0.40      0.70      0.51       475\n",
      "       INTJ       0.32      0.35      0.33       251\n",
      "       INTP       0.40      0.52      0.45       350\n",
      "       ISFJ       0.00      0.00      0.00        54\n",
      "       ISFP       0.00      0.00      0.00        64\n",
      "       ISTJ       1.00      0.02      0.04        56\n",
      "       ISTP       1.00      0.01      0.02        85\n",
      "\n",
      "avg / total       0.34      0.36      0.30      2169\n",
      "\n"
     ]
    },
    {
     "name": "stderr",
     "output_type": "stream",
     "text": [
      "/Library/Frameworks/Python.framework/Versions/3.5/lib/python3.5/site-packages/sklearn/metrics/classification.py:1135: UndefinedMetricWarning: Precision and F-score are ill-defined and being set to 0.0 in labels with no predicted samples.\n",
      "  'precision', 'predicted', average, warn_for)\n"
     ]
    }
   ],
   "source": [
    "from sklearn.metrics import confusion_matrix\n",
    "personality_types = sorted(data.type.unique())\n",
    "\n",
    "Y_pred = lr.predict(X_test)\n",
    "confusion_array = confusion_matrix(Y_test, Y_pred)\n",
    "\n",
    "df_cm = pd.DataFrame(confusion_array, index = [i for i in personality_types],\n",
    "                  columns = [i for i in personality_types])\n",
    "\n",
    "plt.figure(figsize = (18,18))\n",
    "sns.heatmap(df_cm, annot=True)\n",
    "plt.show()\n",
    "\n",
    "from sklearn.metrics import classification_report\n",
    "print(classification_report(Y_test, Y_pred, target_names=personality_types))"
   ]
  },
  {
   "cell_type": "markdown",
   "metadata": {},
   "source": [
    "---\n",
    "## Predictive Models Based on Individual Traits \n",
    "\n",
    "Upon reflection and the suggestion of my mentor, I decided to create new columns that would identify each sample by their individual traits. Meaning, I would have a separate column for Introvert/Extrovert, Intuitive/Sensing, Thinking/Feeling, and Judging/Prospecting."
   ]
  },
  {
   "cell_type": "code",
   "execution_count": 24,
   "metadata": {},
   "outputs": [],
   "source": [
    "tfidf_feature_matrix2 = tfidf_feature_matrix.copy()"
   ]
  },
  {
   "cell_type": "code",
   "execution_count": 25,
   "metadata": {},
   "outputs": [],
   "source": [
    "tfidf_feature_matrix2['type_IE'] = [x[0] for x in data.type]\n",
    "tfidf_feature_matrix2['type_NS'] = [x[1] for x in data.type]\n",
    "tfidf_feature_matrix2['type_TF'] = [x[2] for x in data.type]\n",
    "tfidf_feature_matrix2['type_JP'] = [x[3] for x in data.type]"
   ]
  },
  {
   "cell_type": "code",
   "execution_count": 26,
   "metadata": {},
   "outputs": [
    {
     "data": {
      "text/html": [
       "<div>\n",
       "<style>\n",
       "    .dataframe thead tr:only-child th {\n",
       "        text-align: right;\n",
       "    }\n",
       "\n",
       "    .dataframe thead th {\n",
       "        text-align: left;\n",
       "    }\n",
       "\n",
       "    .dataframe tbody tr th {\n",
       "        vertical-align: top;\n",
       "    }\n",
       "</style>\n",
       "<table border=\"1\" class=\"dataframe\">\n",
       "  <thead>\n",
       "    <tr style=\"text-align: right;\">\n",
       "      <th></th>\n",
       "      <th>abilities</th>\n",
       "      <th>ability</th>\n",
       "      <th>able</th>\n",
       "      <th>absolute</th>\n",
       "      <th>absolutely</th>\n",
       "      <th>absolutely love</th>\n",
       "      <th>abstract</th>\n",
       "      <th>absurd</th>\n",
       "      <th>abuse</th>\n",
       "      <th>abusive</th>\n",
       "      <th>...</th>\n",
       "      <th>younger</th>\n",
       "      <th>youth</th>\n",
       "      <th>youtube</th>\n",
       "      <th>yup</th>\n",
       "      <th>zero</th>\n",
       "      <th>zone</th>\n",
       "      <th>type_IE</th>\n",
       "      <th>type_NS</th>\n",
       "      <th>type_TF</th>\n",
       "      <th>type_JP</th>\n",
       "    </tr>\n",
       "  </thead>\n",
       "  <tbody>\n",
       "    <tr>\n",
       "      <th>0</th>\n",
       "      <td>0.0</td>\n",
       "      <td>0.000000</td>\n",
       "      <td>0.000000</td>\n",
       "      <td>0.000000</td>\n",
       "      <td>0.000000</td>\n",
       "      <td>0.0</td>\n",
       "      <td>0.0</td>\n",
       "      <td>0.0</td>\n",
       "      <td>0.0</td>\n",
       "      <td>0.0</td>\n",
       "      <td>...</td>\n",
       "      <td>0.0</td>\n",
       "      <td>0.0</td>\n",
       "      <td>0.0</td>\n",
       "      <td>0.000000</td>\n",
       "      <td>0.0</td>\n",
       "      <td>0.0</td>\n",
       "      <td>I</td>\n",
       "      <td>N</td>\n",
       "      <td>F</td>\n",
       "      <td>J</td>\n",
       "    </tr>\n",
       "    <tr>\n",
       "      <th>1</th>\n",
       "      <td>0.0</td>\n",
       "      <td>0.000000</td>\n",
       "      <td>0.031013</td>\n",
       "      <td>0.000000</td>\n",
       "      <td>0.000000</td>\n",
       "      <td>0.0</td>\n",
       "      <td>0.0</td>\n",
       "      <td>0.0</td>\n",
       "      <td>0.0</td>\n",
       "      <td>0.0</td>\n",
       "      <td>...</td>\n",
       "      <td>0.0</td>\n",
       "      <td>0.0</td>\n",
       "      <td>0.0</td>\n",
       "      <td>0.000000</td>\n",
       "      <td>0.0</td>\n",
       "      <td>0.0</td>\n",
       "      <td>E</td>\n",
       "      <td>N</td>\n",
       "      <td>T</td>\n",
       "      <td>P</td>\n",
       "    </tr>\n",
       "    <tr>\n",
       "      <th>2</th>\n",
       "      <td>0.0</td>\n",
       "      <td>0.108889</td>\n",
       "      <td>0.037769</td>\n",
       "      <td>0.000000</td>\n",
       "      <td>0.091012</td>\n",
       "      <td>0.0</td>\n",
       "      <td>0.0</td>\n",
       "      <td>0.0</td>\n",
       "      <td>0.0</td>\n",
       "      <td>0.0</td>\n",
       "      <td>...</td>\n",
       "      <td>0.0</td>\n",
       "      <td>0.0</td>\n",
       "      <td>0.0</td>\n",
       "      <td>0.069786</td>\n",
       "      <td>0.0</td>\n",
       "      <td>0.0</td>\n",
       "      <td>I</td>\n",
       "      <td>N</td>\n",
       "      <td>T</td>\n",
       "      <td>P</td>\n",
       "    </tr>\n",
       "    <tr>\n",
       "      <th>3</th>\n",
       "      <td>0.0</td>\n",
       "      <td>0.000000</td>\n",
       "      <td>0.064068</td>\n",
       "      <td>0.060195</td>\n",
       "      <td>0.000000</td>\n",
       "      <td>0.0</td>\n",
       "      <td>0.0</td>\n",
       "      <td>0.0</td>\n",
       "      <td>0.0</td>\n",
       "      <td>0.0</td>\n",
       "      <td>...</td>\n",
       "      <td>0.0</td>\n",
       "      <td>0.0</td>\n",
       "      <td>0.0</td>\n",
       "      <td>0.000000</td>\n",
       "      <td>0.0</td>\n",
       "      <td>0.0</td>\n",
       "      <td>I</td>\n",
       "      <td>N</td>\n",
       "      <td>T</td>\n",
       "      <td>J</td>\n",
       "    </tr>\n",
       "    <tr>\n",
       "      <th>4</th>\n",
       "      <td>0.0</td>\n",
       "      <td>0.000000</td>\n",
       "      <td>0.000000</td>\n",
       "      <td>0.000000</td>\n",
       "      <td>0.000000</td>\n",
       "      <td>0.0</td>\n",
       "      <td>0.0</td>\n",
       "      <td>0.0</td>\n",
       "      <td>0.0</td>\n",
       "      <td>0.0</td>\n",
       "      <td>...</td>\n",
       "      <td>0.0</td>\n",
       "      <td>0.0</td>\n",
       "      <td>0.0</td>\n",
       "      <td>0.000000</td>\n",
       "      <td>0.0</td>\n",
       "      <td>0.0</td>\n",
       "      <td>E</td>\n",
       "      <td>N</td>\n",
       "      <td>T</td>\n",
       "      <td>J</td>\n",
       "    </tr>\n",
       "  </tbody>\n",
       "</table>\n",
       "<p>5 rows × 3463 columns</p>\n",
       "</div>"
      ],
      "text/plain": [
       "   abilities   ability      able  absolute  absolutely  absolutely love  \\\n",
       "0        0.0  0.000000  0.000000  0.000000    0.000000              0.0   \n",
       "1        0.0  0.000000  0.031013  0.000000    0.000000              0.0   \n",
       "2        0.0  0.108889  0.037769  0.000000    0.091012              0.0   \n",
       "3        0.0  0.000000  0.064068  0.060195    0.000000              0.0   \n",
       "4        0.0  0.000000  0.000000  0.000000    0.000000              0.0   \n",
       "\n",
       "   abstract  absurd  abuse  abusive   ...     younger  youth  youtube  \\\n",
       "0       0.0     0.0    0.0      0.0   ...         0.0    0.0      0.0   \n",
       "1       0.0     0.0    0.0      0.0   ...         0.0    0.0      0.0   \n",
       "2       0.0     0.0    0.0      0.0   ...         0.0    0.0      0.0   \n",
       "3       0.0     0.0    0.0      0.0   ...         0.0    0.0      0.0   \n",
       "4       0.0     0.0    0.0      0.0   ...         0.0    0.0      0.0   \n",
       "\n",
       "        yup  zero  zone  type_IE  type_NS  type_TF  type_JP  \n",
       "0  0.000000   0.0   0.0        I        N        F        J  \n",
       "1  0.000000   0.0   0.0        E        N        T        P  \n",
       "2  0.069786   0.0   0.0        I        N        T        P  \n",
       "3  0.000000   0.0   0.0        I        N        T        J  \n",
       "4  0.000000   0.0   0.0        E        N        T        J  \n",
       "\n",
       "[5 rows x 3463 columns]"
      ]
     },
     "execution_count": 26,
     "metadata": {},
     "output_type": "execute_result"
    }
   ],
   "source": [
    "tfidf_feature_matrix2.head()"
   ]
  },
  {
   "cell_type": "markdown",
   "metadata": {},
   "source": [
    "Below is a breakdown of how balanced the number of samples are in each pair. The most even numbered being Thinking/Feeling while the least being Intuitive/Sensing. "
   ]
  },
  {
   "cell_type": "code",
   "execution_count": 27,
   "metadata": {},
   "outputs": [
    {
     "name": "stdout",
     "output_type": "stream",
     "text": [
      "I    6676\n",
      "E    1999\n",
      "Name: type_IE, dtype: int64 \n",
      "\n",
      "N    7478\n",
      "S    1197\n",
      "Name: type_NS, dtype: int64 \n",
      "\n",
      "F    4694\n",
      "T    3981\n",
      "Name: type_TF, dtype: int64 \n",
      "\n",
      "P    5241\n",
      "J    3434\n",
      "Name: type_JP, dtype: int64 \n",
      "\n"
     ]
    },
    {
     "data": {
      "image/png": "[encoded data removed]",
      "text/plain": [
       "<matplotlib.figure.Figure at 0x10c15b4a8>"
      ]
     },
     "metadata": {},
     "output_type": "display_data"
    }
   ],
   "source": [
    "print(tfidf_feature_matrix2.type_IE.value_counts(), '\\n')\n",
    "print(tfidf_feature_matrix2.type_NS.value_counts(), '\\n')\n",
    "print(tfidf_feature_matrix2.type_TF.value_counts(), '\\n')\n",
    "print(tfidf_feature_matrix2.type_JP.value_counts(), '\\n')\n",
    "\n",
    "N = 4\n",
    "but = (tfidf_feature_matrix2.type_IE.value_counts()[0], tfidf_feature_matrix2.type_NS.value_counts()[0], \n",
    "       tfidf_feature_matrix2.type_TF.value_counts()[0], tfidf_feature_matrix2.type_JP.value_counts()[0])\n",
    "top = (tfidf_feature_matrix2.type_IE.value_counts()[1], tfidf_feature_matrix2.type_NS.value_counts()[1], \n",
    "       tfidf_feature_matrix2.type_TF.value_counts()[1], tfidf_feature_matrix2.type_JP.value_counts()[1])\n",
    "\n",
    "ind = np.arange(N)    # the x locations for the groups\n",
    "width = 0.7      # the width of the bars: can also be len(x) sequence\n",
    "\n",
    "p1 = plt.bar(ind, but, width)\n",
    "p2 = plt.bar(ind, top, width, bottom=but)\n",
    "\n",
    "plt.ylabel('Count')\n",
    "plt.title('Distribution accoss types indicators')\n",
    "plt.xticks(ind, ('I/E',  'N/S', 'T/F', 'J/P',))\n",
    "\n",
    "plt.show()"
   ]
  },
  {
   "cell_type": "markdown",
   "metadata": {},
   "source": [
    "I will do a random sampling of Introvert/Extrovert, Intuitive/Sensing, and Judging/Prospecting to get a more balanced set of numbers. I'm sure, however, that these models won't do as well due to the smaller sample sizes.\n",
    "\n",
    "The Thinking/Feeling samples will be left alone since they are well balanced. \n",
    "\n",
    "I will do them in order of sample sizes from smallest to biggest.\n",
    "\n",
    "### Intuitive/Sensing Model:"
   ]
  },
  {
   "cell_type": "code",
   "execution_count": 28,
   "metadata": {},
   "outputs": [
    {
     "name": "stdout",
     "output_type": "stream",
     "text": [
      "(1197, 3463)\n",
      "(1197, 3463)\n",
      "(2394, 3463)\n"
     ]
    }
   ],
   "source": [
    "data_N = tfidf_feature_matrix2.loc[tfidf_feature_matrix2['type_NS'] == 'N'].sample(n=1197)\n",
    "print(data_N.shape)\n",
    "data_S = tfidf_feature_matrix2.loc[tfidf_feature_matrix2['type_NS'] == 'S']\n",
    "print(data_S.shape)\n",
    "data_NS = pd.concat([data_N, data_S])\n",
    "print(data_NS.shape)"
   ]
  },
  {
   "cell_type": "code",
   "execution_count": 29,
   "metadata": {},
   "outputs": [],
   "source": [
    "from sklearn.model_selection import cross_val_score\n",
    "from sklearn.metrics import classification_report\n",
    "\n",
    "drop_list = ['type_IE','type_NS',\"type_TF\",'type_JP']"
   ]
  },
  {
   "cell_type": "code",
   "execution_count": 79,
   "metadata": {},
   "outputs": [
    {
     "name": "stdout",
     "output_type": "stream",
     "text": [
      "\n",
      "Random Forest Classifier:\n",
      "Training set score: 0.98495821727\n",
      "Cross Validation Scores:  [ 0.56666667  0.57291667  0.53556485  0.55857741  0.5041841 ]\n",
      "Average score:  0.547581938633\n",
      "\n",
      "Logistic Regression:\n",
      "Training set score: 0.889136490251\n",
      "Cross Validation Scores:  [ 0.67916667  0.65        0.67782427  0.67573222  0.65690377]\n",
      "Average score:  0.667925383543\n"
     ]
    },
    {
     "data": {
      "image/png": "[encoded data removed]",
      "text/plain": [
       "<matplotlib.figure.Figure at 0x11fe0a5f8>"
      ]
     },
     "metadata": {},
     "output_type": "display_data"
    }
   ],
   "source": [
    "Y = data_NS['type_NS']\n",
    "X = data_NS.drop(drop_list, axis=1)\n",
    "\n",
    "X_train, X_test, Y_train, Y_test = train_test_split(X, Y, test_size=0.25, random_state=42)\n",
    "\n",
    "rfc_NS = ensemble.RandomForestClassifier()\n",
    "\n",
    "rfc_NS.fit(X_train, Y_train)\n",
    "\n",
    "print('\\nRandom Forest Classifier:')\n",
    "print('Training set score:', rfc_NS.score(X_train, Y_train))\n",
    "rfc_scores_NS = cross_val_score(rfc_NS, X, Y, cv=5)\n",
    "print('Cross Validation Scores: ' , rfc_scores_NS )  \n",
    "print('Average score: ', np.mean(rfc_scores_NS))\n",
    "\n",
    "lr_NS = LogisticRegression()\n",
    "lr_NS.fit(X_train, Y_train)\n",
    "\n",
    "print('\\nLogistic Regression:')\n",
    "print('Training set score:', lr_NS.score(X_train, Y_train))\n",
    "lr_scores_NS = cross_val_score(lr_NS, X, Y, cv=5)\n",
    "print('Cross Validation Scores: ' , lr_scores_NS)\n",
    "print('Average score: ', np.mean(lr_scores_NS))\n",
    "\n",
    "features = X.columns\n",
    "importances = rfc_NS.feature_importances_\n",
    "indices = np.argsort(importances)[::-1]\n",
    "top_k = 20\n",
    "indices = indices[:top_k]\n",
    "\n",
    "plt.title('Intuitive vs Sensing Feature Importances')\n",
    "plt.barh(range(len(indices)), importances[indices], color='b', align='center')\n",
    "plt.yticks(range(len(indices)), features[indices])\n",
    "plt.xlabel('Relative Importance')\n",
    "plt.show()"
   ]
  },
  {
   "cell_type": "markdown",
   "metadata": {},
   "source": [
    "With an average Random Forest Score of about 0.55 and Logistic Regression score of 0.67, this model didn't do too well. Although the feature importance taken from the Random Forest Model did offer some insight. \n",
    "\n",
    "Intuitive vs Sensing refers to how a person takes in information. As the name would imply, a sensing person has a preference for accessing information through their senses. Basically, what they can see, hear, touch, taste, and smell. An intuitive person would try to gain knowledge beyond the concrete senses and will interpret information through more abstract ideas and feelings. Not just solely on what's right in front of them. \n",
    "\n",
    "It is appropriate then that some of the key features would be the words 'believe', 'fact', and 'idea'. \n",
    "\n",
    "Admittedly, the other top features where not stable at all. That is probably due to the small sample size of 1197 for both I and S. But 'believe', 'fact', and 'idea' were consistently in the top 20.\n",
    "\n",
    "The confusion matrix below based off of the Logistic Regression model was consistent with the average scores."
   ]
  },
  {
   "cell_type": "code",
   "execution_count": 64,
   "metadata": {},
   "outputs": [
    {
     "data": {
      "image/png": "[encoded data removed]",
      "text/plain": [
       "<matplotlib.figure.Figure at 0x128ca9dd8>"
      ]
     },
     "metadata": {},
     "output_type": "display_data"
    },
    {
     "name": "stdout",
     "output_type": "stream",
     "text": [
      "             precision    recall  f1-score   support\n",
      "\n",
      "          N       0.65      0.67      0.66       298\n",
      "          S       0.67      0.65      0.66       301\n",
      "\n",
      "avg / total       0.66      0.66      0.66       599\n",
      "\n"
     ]
    }
   ],
   "source": [
    "personality_types_NS = sorted(data_NS.type_NS.unique() )\n",
    "\n",
    "Y_pred = lr_NS.predict(X_test)\n",
    "confusion_array = confusion_matrix(Y_test, Y_pred)\n",
    "\n",
    "df_cm = pd.DataFrame(confusion_array, index = [i for i in personality_types_NS],\n",
    "                  columns = [i for i in personality_types_NS])\n",
    "\n",
    "plt.figure()\n",
    "sns.heatmap(df_cm, annot=True)\n",
    "plt.title('Intuitive vs Sensing Confusion Matrix')\n",
    "plt.xlabel('Actual')\n",
    "plt.ylabel('Predicted')\n",
    "plt.show()\n",
    "\n",
    "print(classification_report(Y_pred, Y_test,  target_names=personality_types_NS))"
   ]
  },
  {
   "cell_type": "markdown",
   "metadata": {},
   "source": [
    "---\n",
    "### Introverted/Extroverted Model:"
   ]
  },
  {
   "cell_type": "code",
   "execution_count": 32,
   "metadata": {},
   "outputs": [
    {
     "name": "stdout",
     "output_type": "stream",
     "text": [
      "(1999, 3463)\n",
      "(1999, 3463)\n",
      "(3998, 3463)\n"
     ]
    }
   ],
   "source": [
    "data_I = tfidf_feature_matrix2.loc[tfidf_feature_matrix2['type_IE'] == 'I'].sample(n=1999)\n",
    "print(data_I.shape)\n",
    "data_E = tfidf_feature_matrix2.loc[tfidf_feature_matrix2['type_IE'] == 'E']\n",
    "print(data_E.shape)\n",
    "data_IE = pd.concat([data_I, data_E])\n",
    "print(data_IE.shape)"
   ]
  },
  {
   "cell_type": "code",
   "execution_count": 82,
   "metadata": {},
   "outputs": [
    {
     "name": "stdout",
     "output_type": "stream",
     "text": [
      "\n",
      "Random Forest Classifier:\n",
      "Training set score: 0.989326217478\n",
      "Cross Validation Scores: [ 0.5075      0.585       0.58125     0.55625     0.58270677]\n",
      "Average Score:  0.562541353383\n",
      "\n",
      "Logistic Regression:\n",
      "Training set score: 0.845897264843\n",
      "Cross Validation Scores:  [ 0.66625     0.675       0.695       0.67875     0.67042607]\n",
      "Average Score:  0.677085213033\n"
     ]
    },
    {
     "data": {
      "image/png": "[encoded data removed]",
      "text/plain": [
       "<matplotlib.figure.Figure at 0x12797b0b8>"
      ]
     },
     "metadata": {},
     "output_type": "display_data"
    }
   ],
   "source": [
    "Y = data_IE['type_IE']\n",
    "X = data_IE.drop(drop_list, axis=1)\n",
    "\n",
    "X_train, X_test, Y_train, Y_test = train_test_split(X, Y, test_size=0.25, random_state=42)\n",
    "\n",
    "rfc_IE = ensemble.RandomForestClassifier()\n",
    "\n",
    "rfc_IE.fit(X_train, Y_train)\n",
    "\n",
    "print('\\nRandom Forest Classifier:')\n",
    "print('Training set score:', rfc_IE.score(X_train, Y_train))\n",
    "rfc_score_IE = cross_val_score(rfc_IE, X, Y, cv=5)\n",
    "print('Cross Validation Scores:' , rfc_score_IE)\n",
    "print('Average Score: ', np.mean(rfc_score_IE))\n",
    "\n",
    "lr_IE = LogisticRegression()\n",
    "lr_IE.fit(X_train, Y_train)\n",
    "\n",
    "print('\\nLogistic Regression:')\n",
    "print('Training set score:', lr_IE.score(X_train, Y_train))\n",
    "lr_score_IE = cross_val_score(lr_IE, X, Y, cv=5)\n",
    "print('Cross Validation Scores: ' , lr_score_IE)\n",
    "print('Average Score: ', np.mean(lr_score_IE))\n",
    "\n",
    "features = X.columns\n",
    "importances = rfc_IE.feature_importances_\n",
    "indices = np.argsort(importances)[::-1]\n",
    "top_k = 20\n",
    "indices = indices[:top_k]\n",
    "\n",
    "plt.title('Introvert vs Extrovert Feature Importances')\n",
    "plt.barh(range(len(indices)), importances[indices], color='b', align='center')\n",
    "plt.yticks(range(len(indices)), features[indices])\n",
    "plt.xlabel('Relative Importance')\n",
    "plt.show()"
   ]
  },
  {
   "cell_type": "markdown",
   "metadata": {},
   "source": [
    "The Introvert vs Extrovert model did about as well as the Intuitive vs Sensing model.\n",
    "\n",
    "Contrary to popular belief, introversion vs extroversion isn't about shyness. It has more to do with how much social stimulation a person can sustain before starting to tire. An introverted person has a low threshold for stimulation and thus can't spend too much time in large and busy social situations. An extroverted person, on the other hand, would thrive in such a situation since they require and enjoy the extra stimulation. \n",
    "\n",
    "There were a few features that did show up consistantly, although not everytime, in the top 20 that I found to be insightful. Words like 'fun', 'friends', 'bored' and 'lol' could indicate a more extroverted personality while words like 'think' and 'quiet' could be associated with introversion.\n",
    "\n",
    "The confusion matrix was in accordance with the above scores."
   ]
  },
  {
   "cell_type": "code",
   "execution_count": 66,
   "metadata": {},
   "outputs": [
    {
     "data": {
      "image/png": "[encoded data removed]",
      "text/plain": [
       "<matplotlib.figure.Figure at 0x1241a7ac8>"
      ]
     },
     "metadata": {},
     "output_type": "display_data"
    },
    {
     "name": "stdout",
     "output_type": "stream",
     "text": [
      "             precision    recall  f1-score   support\n",
      "\n",
      "          E       0.68      0.64      0.66       504\n",
      "          I       0.66      0.69      0.67       496\n",
      "\n",
      "avg / total       0.67      0.67      0.66      1000\n",
      "\n"
     ]
    }
   ],
   "source": [
    "personality_types_IE = sorted(data_IE.type_IE.unique() )\n",
    "\n",
    "Y_pred = lr_IE.predict(X_test)\n",
    "confusion_array = confusion_matrix(Y_test, Y_pred)\n",
    "\n",
    "df_cm = pd.DataFrame(confusion_array, index = [i for i in personality_types_IE],\n",
    "                  columns = [i for i in personality_types_IE])\n",
    "\n",
    "plt.figure()\n",
    "sns.heatmap(df_cm, annot=True)\n",
    "plt.title('Introvert vs Extrovert Confusion Matrix')\n",
    "plt.xlabel('Actual')\n",
    "plt.ylabel('Predicted')\n",
    "plt.show()\n",
    "\n",
    "print(classification_report(Y_pred, Y_test,  target_names=personality_types_IE))"
   ]
  },
  {
   "cell_type": "markdown",
   "metadata": {},
   "source": [
    "---\n",
    "### Judging/Prospecting Model:"
   ]
  },
  {
   "cell_type": "code",
   "execution_count": 45,
   "metadata": {},
   "outputs": [
    {
     "name": "stdout",
     "output_type": "stream",
     "text": [
      "(3434, 3463)\n",
      "(3434, 3463)\n",
      "(6868, 3463)\n"
     ]
    }
   ],
   "source": [
    "data_P = tfidf_feature_matrix2.loc[tfidf_feature_matrix2['type_JP'] == 'P'].sample(n=3434)\n",
    "print(data_P.shape)\n",
    "data_J = tfidf_feature_matrix2.loc[tfidf_feature_matrix2['type_JP'] == 'J']\n",
    "print(data_J.shape)\n",
    "data_JP = pd.concat([data_J, data_P])\n",
    "print(data_JP.shape)"
   ]
  },
  {
   "cell_type": "code",
   "execution_count": 85,
   "metadata": {},
   "outputs": [
    {
     "name": "stdout",
     "output_type": "stream",
     "text": [
      "\n",
      "Random Forest Classifier:\n",
      "Training set score: 0.98738109105\n",
      "Cross Validation Scores:  [ 0.53129549  0.5363901   0.52765648  0.5342067   0.52332362]\n",
      "Average Scores:  0.530574475579\n",
      "\n",
      "Logistic Regression:\n",
      "Training set score: 0.805086390992\n",
      "\n",
      "Cross Validation Scores:\n",
      " [ 0.63027656  0.62299854  0.62081514  0.6411936   0.64504373]\n",
      "Average Scores:  0.632065514915\n"
     ]
    },
    {
     "data": {
      "image/png": "[encoded data removed]",
      "text/plain": [
       "<matplotlib.figure.Figure at 0x1245c0588>"
      ]
     },
     "metadata": {},
     "output_type": "display_data"
    }
   ],
   "source": [
    "Y = data_JP['type_JP']\n",
    "X = data_JP.drop(drop_list, axis=1)\n",
    "\n",
    "X_train, X_test, Y_train, Y_test = train_test_split(X, Y, test_size=0.25, random_state=42)\n",
    "\n",
    "rfc_JP = ensemble.RandomForestClassifier()\n",
    "\n",
    "rfc_JP.fit(X_train, Y_train)\n",
    "\n",
    "print('\\nRandom Forest Classifier:')\n",
    "print('Training set score:', rfc_JP.score(X_train, Y_train))\n",
    "rfc_scores_JP = cross_val_score(rfc_JP, X, Y, cv=5)\n",
    "print('Cross Validation Scores: ' , rfc_scores_JP)\n",
    "print('Average Scores: ', np.mean(rfc_scores_JP))\n",
    "\n",
    "lr_JP = LogisticRegression()\n",
    "lr_JP.fit(X_train, Y_train)\n",
    "\n",
    "print('\\nLogistic Regression:')\n",
    "print('Training set score:', lr_JP.score(X_train, Y_train))\n",
    "lr_scores_JP = cross_val_score(lr_JP, X, Y, cv=5)\n",
    "print('\\nCross Validation Scores:\\n' , lr_scores_JP)\n",
    "print('Average Scores: ', np.mean(lr_scores_JP))\n",
    "\n",
    "features = X.columns\n",
    "importances = rfc_JP.feature_importances_\n",
    "indices = np.argsort(importances)[::-1]\n",
    "top_k = 20\n",
    "indices = indices[:top_k]\n",
    "\n",
    "plt.title('Judging vs Prospecting Feature Importances')\n",
    "plt.barh(range(len(indices)), importances[indices], color='b', align='center')\n",
    "plt.yticks(range(len(indices)), features[indices])\n",
    "plt.xlabel('Relative Importance')\n",
    "plt.show()"
   ]
  },
  {
   "cell_type": "markdown",
   "metadata": {},
   "source": [
    "Despite having more samples, the Judging vs Prospecting model did unexpectedly worse than the previous two. \n",
    "\n",
    "This maybe due to the nature of the two traits. To clarify, the word Judging as it is used in this context isn't about forming an opinion or conclusion about something. Instead, it has to do with how structured a person is. According the Myers-Briggs, a judging person likes to make plans and stay organized. In contrast to that, a prospecting person likes to keep their options open and be spontaneous.\n",
    "\n",
    "This may be why the model did worse even though it had more samples. Since a person would demonstrate this in their writing more by the stucture and style of their writing as opposed to their word choice.\n",
    "\n",
    "The feature importance as well was completely instable where the same words rarely showed up consistently and none of them made any sense. "
   ]
  },
  {
   "cell_type": "code",
   "execution_count": 68,
   "metadata": {},
   "outputs": [
    {
     "data": {
      "image/png": "[encoded data removed]",
      "text/plain": [
       "<matplotlib.figure.Figure at 0x11c1712e8>"
      ]
     },
     "metadata": {},
     "output_type": "display_data"
    },
    {
     "name": "stdout",
     "output_type": "stream",
     "text": [
      "             precision    recall  f1-score   support\n",
      "\n",
      "          J       0.60      0.64      0.62       834\n",
      "          P       0.64      0.60      0.62       883\n",
      "\n",
      "avg / total       0.62      0.62      0.62      1717\n",
      "\n"
     ]
    }
   ],
   "source": [
    "personality_types_JP = sorted(tfidf_feature_matrix2.type_JP.unique())\n",
    "\n",
    "Y_pred = lr_JP.predict(X_test)\n",
    "confusion_array = confusion_matrix(Y_test, Y_pred)\n",
    "\n",
    "df_cm = pd.DataFrame(confusion_array, index = [i for i in personality_types_JP],\n",
    "                  columns = [i for i in personality_types_JP])\n",
    "\n",
    "plt.figure()\n",
    "sns.heatmap(df_cm, annot=True)\n",
    "plt.title('Judging vs Prospecting Confusion Matrix')\n",
    "plt.xlabel('Actual')\n",
    "plt.ylabel('Predicted')\n",
    "plt.show()\n",
    "\n",
    "print(classification_report(Y_pred, Y_test,  target_names=personality_types_JP))"
   ]
  },
  {
   "cell_type": "markdown",
   "metadata": {},
   "source": [
    "---\n",
    "### Thinking/Feeling Model:"
   ]
  },
  {
   "cell_type": "code",
   "execution_count": 87,
   "metadata": {},
   "outputs": [
    {
     "name": "stdout",
     "output_type": "stream",
     "text": [
      "\n",
      "Random Forest Classifier:\n",
      "Training set score: 0.988164770981\n",
      "Cross Validation Scores:  [ 0.64343318  0.64092219  0.60057637  0.62305476  0.6372549 ]\n",
      "Average Score:  0.629048279161\n",
      "\n",
      "Logistic Regression:\n",
      "Training set score: 0.861512450046\n",
      "\n",
      "Cross Validation Scores:\n",
      " [ 0.81278802  0.78847262  0.78270893  0.78789625  0.78200692]\n",
      "Average Score:  0.790774549729\n"
     ]
    },
    {
     "data": {
      "image/png": "[encoded data removed]",
      "text/plain": [
       "<matplotlib.figure.Figure at 0x122609f60>"
      ]
     },
     "metadata": {},
     "output_type": "display_data"
    }
   ],
   "source": [
    "Y = tfidf_feature_matrix2['type_TF']\n",
    "X = tfidf_feature_matrix2.drop(drop_list, axis=1)\n",
    "\n",
    "X_train, X_test, Y_train, Y_test = train_test_split(X, Y, test_size=0.25, random_state=42)\n",
    "\n",
    "rfc_TF = ensemble.RandomForestClassifier()\n",
    "\n",
    "rfc_TF.fit(X_train, Y_train)\n",
    "\n",
    "print('\\nRandom Forest Classifier:')\n",
    "print('Training set score:', rfc_TF.score(X_train, Y_train))\n",
    "rfc_scores_TF = cross_val_score(rfc_TF, X, Y, cv=5)\n",
    "print('Cross Validation Scores: ' , rfc_scores_TF)  \n",
    "print('Average Score: ', np.mean(rfc_scores_TF))\n",
    "\n",
    "lr_TF = LogisticRegression()\n",
    "lr_TF.fit(X_train, Y_train)\n",
    "\n",
    "print('\\nLogistic Regression:')\n",
    "print('Training set score:', lr_TF.score(X_train, Y_train))\n",
    "lr_scores_TF = cross_val_score(lr_TF, X, Y, cv=5)\n",
    "print('\\nCross Validation Scores:\\n' , lr_scores_TF)\n",
    "print('Average Score: ', np.mean(lr_scores_TF))\n",
    "\n",
    "features = X.columns\n",
    "importances = rfc_TF.feature_importances_\n",
    "indices = np.argsort(importances)[::-1]\n",
    "top_k = 20\n",
    "indices = indices[:top_k]\n",
    "\n",
    "plt.title('Thinking vs Feeling Feature Importances')\n",
    "plt.barh(range(len(indices)), importances[indices], color='b', align='center')\n",
    "plt.yticks(range(len(indices)), features[indices])\n",
    "plt.xlabel('Relative Importance')\n",
    "plt.show()"
   ]
  },
  {
   "cell_type": "markdown",
   "metadata": {},
   "source": [
    "This model did by far the strongest which makes sense given that it had the biggest sample size. \n",
    "\n",
    "The feature importance was also very stable. Thinking vs Feeling is more about how a person makes  their decisions. A Thinking person will base decisions solely on facts and are very absolute in their judgments. They see things in black or white. A Feeling person will base their decisions on how it would affect others. They take a more relative stance on issues and are more willing to bend the rules for the benefit of others.   \n",
    "\n",
    "Thus, words like 'feel', feeling' and 'feel like' would point to a Feeling person whereas 'think' and 'knowledge' would indicate a Thinking person."
   ]
  },
  {
   "cell_type": "code",
   "execution_count": 70,
   "metadata": {},
   "outputs": [
    {
     "data": {
      "image/png": "[encoded data removed]",
      "text/plain": [
       "<matplotlib.figure.Figure at 0x11e33bcc0>"
      ]
     },
     "metadata": {},
     "output_type": "display_data"
    },
    {
     "name": "stdout",
     "output_type": "stream",
     "text": [
      "             precision    recall  f1-score   support\n",
      "\n",
      "          F       0.81      0.79      0.80      1217\n",
      "          T       0.74      0.77      0.75       952\n",
      "\n",
      "avg / total       0.78      0.78      0.78      2169\n",
      "\n"
     ]
    }
   ],
   "source": [
    "personality_types_TF = sorted(tfidf_feature_matrix2.type_TF.unique())\n",
    "\n",
    "Y_pred = lr_TF.predict(X_test)\n",
    "confusion_array = confusion_matrix(Y_test, Y_pred)\n",
    "\n",
    "df_cm = pd.DataFrame(confusion_array, index = [i for i in personality_types_TF],\n",
    "                  columns = [i for i in personality_types_TF])\n",
    "\n",
    "plt.figure()\n",
    "\n",
    "sns.heatmap(df_cm, annot=True)\n",
    "plt.title('Thinking vs Feeling Confusion Matrix')\n",
    "plt.xlabel('Actual')\n",
    "plt.ylabel('Predicted')\n",
    "\n",
    "plt.show()\n",
    "\n",
    "print(classification_report(Y_pred, Y_test,  target_names=personality_types_TF))"
   ]
  },
  {
   "cell_type": "markdown",
   "metadata": {},
   "source": [
    "## Summary\n",
    "\n",
    "For this model to work more successfully, we would first of all need more text samples. These samples...\n",
    "\n",
    "# Hey Julie... to be continued... lol... Quick thought, these last 4 confusion matrices seem redundant to me. Would it be okay if I took them out?"
   ]
  },
  {
   "cell_type": "markdown",
   "metadata": {},
   "source": [
    "## Twitter Application"
   ]
  },
  {
   "cell_type": "code",
   "execution_count": 50,
   "metadata": {},
   "outputs": [],
   "source": [
    "import tweepy\n",
    "\n",
    "ckey = \"zLceR2GtRk7LiUMXRzLAYQ1ML\"\n",
    "csecret = \"gUQWOfGKI7voYlfLD5rpl5KiQrXQTpzIQXLmPjsaYQO3cGhefo\"\n",
    "atoken = \"819671108-WsXdRIP2tk9oBbh9ISPXAnKfVv567xPX1OsBDfSt\"\n",
    "asecret = \"FSGAGxj2atE2HKqGlLYUS3KC9NGtzc8akeqlNBDrfgc1C\"\n",
    "\n",
    "auth = tweepy.OAuthHandler(ckey, csecret)"
   ]
  },
  {
   "cell_type": "code",
   "execution_count": 72,
   "metadata": {},
   "outputs": [
    {
     "name": "stdout",
     "output_type": "stream",
     "text": [
      "❀ ιrocнιcнαɴ\n",
      "❄️Snowflake❄️✍️\n",
      "Bouncy Boxer Media\n",
      "凸面鏡の自画像\n",
      "nary 🌻.\n",
      "ʷ ❀\n",
      "Sunshine Girl 🌼\n",
      "Kaizen\n",
      "C. James the Savage\n",
      "RahafKOOK\n"
     ]
    }
   ],
   "source": [
    "from langdetect import detect\n",
    "\n",
    "MAX_TWEETS = 500\n",
    "\n",
    "auth = tweepy.OAuthHandler(ckey, csecret)\n",
    "api = tweepy.API(auth)\n",
    "\n",
    "for tweet in tweepy.Cursor(api.search, q='#INFP', rpp=100).items(MAX_TWEETS):\n",
    "    if detect(tweet._json['text']) == 'en':\n",
    "      print(tweet.user.name)\n",
    "    pass"
   ]
  },
  {
   "cell_type": "code",
   "execution_count": 52,
   "metadata": {},
   "outputs": [],
   "source": [
    "def get_twitter_type(twitter_handle):\n",
    "    auth.set_access_token(atoken, asecret)\n",
    "\n",
    "    api = tweepy.API(auth)\n",
    "\n",
    "    stuff = api.user_timeline(screen_name = twitter_handle, count = 300, include_rts = False)\n",
    "\n",
    "    twitter_text = ''\n",
    "    for status in stuff:\n",
    "        twitter_text += status.text\n",
    "        twitter_text += ' '\n",
    "\n",
    "    twitter_text = remove_url(twitter_text)\n",
    "    twitter_text = remove_puncuation(twitter_text)\n",
    "    twitter_text = remove_digits(twitter_text)\n",
    "    twitter_text = remove_stop_words(twitter_text)\n",
    "    twitter_text = remove_extra_white_space(twitter_text)\n",
    "    twitter_text = remove_types(twitter_text)\n",
    "\n",
    "    my_tfidf_matrix2 = tf.transform([twitter_text])\n",
    "\n",
    "    my_tfidf_feature_matrix2 = pd.DataFrame(my_tfidf_matrix2.toarray(), columns=tf.get_feature_names())\n",
    "    my_tfidf_feature_matrix2.head()\n",
    "\n",
    "    print(lr_IE.predict(my_tfidf_feature_matrix2)[0] \n",
    "          + lr_NS.predict(my_tfidf_feature_matrix2)[0] \n",
    "          + lr_TF.predict(my_tfidf_feature_matrix2)[0] \n",
    "          + lr_JP.predict(my_tfidf_feature_matrix2)[0])"
   ]
  },
  {
   "cell_type": "code",
   "execution_count": 88,
   "metadata": {},
   "outputs": [
    {
     "name": "stdout",
     "output_type": "stream",
     "text": [
      "ESFP\n",
      "ESFP\n",
      "ISTJ\n",
      "ESFP\n",
      "INFP\n"
     ]
    }
   ],
   "source": [
    "get_twitter_type('VincentCleopeGo')\n",
    "get_twitter_type('Vivianne Ouya')\n",
    "get_twitter_type('Kaizen')\n",
    "get_twitter_type('Eliza Kinde')\n",
    "get_twitter_type('inkandstars')"
   ]
  },
  {
   "cell_type": "code",
   "execution_count": null,
   "metadata": {},
   "outputs": [],
   "source": []
  }
 ],
 "metadata": {
  "kernelspec": {
   "display_name": "Python 3",
   "language": "python",
   "name": "python3"
  },
  "language_info": {
   "codemirror_mode": {
    "name": "ipython",
    "version": 3
   },
   "file_extension": ".py",
   "mimetype": "text/x-python",
   "name": "python",
   "nbconvert_exporter": "python",
   "pygments_lexer": "ipython3",
   "version": "3.5.2"
  }
 },
 "nbformat": 4,
 "nbformat_minor": 2
}
