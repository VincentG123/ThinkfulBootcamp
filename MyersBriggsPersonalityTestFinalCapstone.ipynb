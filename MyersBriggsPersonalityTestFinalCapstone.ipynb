{
 "cells": [
  {
   "cell_type": "markdown",
   "metadata": {},
   "source": [
    "# Adventures in P-Typing\n",
    "### Using Natural Language Processing and Data Science to Explore the Myers-Briggs Personality Test"
   ]
  },
  {
   "cell_type": "markdown",
   "metadata": {},
   "source": [
    "## Introduction\n",
    "\n",
    "The Myers-Brigs Type Indicator (MBTI) is a self-assessment questionnaire which helps people gain insight into how they work and learn. The test was developed by the mother-daughter partnership of Katharine Briggs and Isabel Briggs-Myers and is based on the typological theory of Carl Jung. The length of the test can range from 93 to 222 items that serve to identify a participant's personality type based on four key preferences on how they interract and deal with the world around them. \n",
    "\n",
    "These preferances are choices between the following:\n",
    "1. People and things- Extraversion (E) vs Ideas and information- Introversion (I)\n",
    "2. Facts and reality- Sensing (S) vs Possibilities and potential- Intuition (N)\n",
    "3. Logic and truth- Thinking (T) vs Values and relationships- Feeling (F)\n",
    "4. A lifestyle that is well-structured- Judgment (J) vs One that goes with the flow- Perception (P) \n",
    "\n",
    "The combination of these 4 preferences will determine which personality type a person would fall into. For example, an Extroverted, Sensing, Thinking, Judgment based person would be categorized as an ESTJ personality type. This particular type is labeled the \"Executive\" and is described as being dedicated, strong-willed, direct, loyal, patient, reliable, and well-ordered.   \n",
    "\n",
    "There are 16 types in total as well as another category that indicates the level of confidence one has in their abilities which ranges from Assertive (A) to Turbulent (T). But for the purposes of this project, that last category will be left out.\n",
    "\n",
    "## The Project\n",
    "\n",
    "My intent is to use text samples from the different personality types to build a predictive model. \n",
    "\n",
    "As stated earlier, the MBTI can range from 93 to 222 items. Would it be possible to avoid having to take the test and get one's personality type based off of their writing samples alone?\n",
    "\n",
    "## The Dataset\n",
    "\n",
    "I found this [dataset](https://www.kaggle.com/datasnaek/mbti-type) on the Kaggle website. It is a collection of the last 50 forum posts from 8675 members of the [Personality Cafe](http://personalitycafe.com) community. Personality Cafe is an online platform that describes itself as \"a community dedicated to helping you develop your personality through interactions with people who have the same personality as you\".\n",
    "\n",
    "## The Analysis\n",
    "\n",
    "### Importing Data"
   ]
  },
  {
   "cell_type": "code",
   "execution_count": 1,
   "metadata": {},
   "outputs": [],
   "source": [
    "import numpy as np\n",
    "import pandas as pd\n",
    "import matplotlib.pyplot as plt\n",
    "import seaborn as sns"
   ]
  },
  {
   "cell_type": "code",
   "execution_count": 2,
   "metadata": {},
   "outputs": [],
   "source": [
    "data_download = pd.read_csv('mbti_1.csv')"
   ]
  },
  {
   "cell_type": "code",
   "execution_count": 3,
   "metadata": {},
   "outputs": [],
   "source": [
    "data = data_download.copy()"
   ]
  },
  {
   "cell_type": "markdown",
   "metadata": {},
   "source": [
    "We start with 2 columns and 8675 rows of data. One column is the represents the personality type and the other is represents the posts."
   ]
  },
  {
   "cell_type": "code",
   "execution_count": 95,
   "metadata": {},
   "outputs": [
    {
     "name": "stdout",
     "output_type": "stream",
     "text": [
      "(8675, 2)\n"
     ]
    },
    {
     "data": {
      "text/html": [
       "<div>\n",
       "<style>\n",
       "    .dataframe thead tr:only-child th {\n",
       "        text-align: right;\n",
       "    }\n",
       "\n",
       "    .dataframe thead th {\n",
       "        text-align: left;\n",
       "    }\n",
       "\n",
       "    .dataframe tbody tr th {\n",
       "        vertical-align: top;\n",
       "    }\n",
       "</style>\n",
       "<table border=\"1\" class=\"dataframe\">\n",
       "  <thead>\n",
       "    <tr style=\"text-align: right;\">\n",
       "      <th></th>\n",
       "      <th>type</th>\n",
       "      <th>posts</th>\n",
       "    </tr>\n",
       "  </thead>\n",
       "  <tbody>\n",
       "    <tr>\n",
       "      <th>0</th>\n",
       "      <td>INFJ</td>\n",
       "      <td>https  moments https sportscenter top ten plays https pranks life changing experience life https...</td>\n",
       "    </tr>\n",
       "    <tr>\n",
       "      <th>1</th>\n",
       "      <td>ENTP</td>\n",
       "      <td>finding lack posts alarming sex boring position often example girlfriend currently environment c...</td>\n",
       "    </tr>\n",
       "    <tr>\n",
       "      <th>2</th>\n",
       "      <td>INTP</td>\n",
       "      <td>good one https course say know blessing curse absolutely positive best friend could amazing coup...</td>\n",
       "    </tr>\n",
       "    <tr>\n",
       "      <th>3</th>\n",
       "      <td>INTJ</td>\n",
       "      <td>dear  enjoyed conversation day esoteric gabbing nature universe idea every rule social code arbi...</td>\n",
       "    </tr>\n",
       "    <tr>\n",
       "      <th>4</th>\n",
       "      <td>ENTJ</td>\n",
       "      <td>fired another silly misconception approaching logically going key unlocking whatever think entit...</td>\n",
       "    </tr>\n",
       "  </tbody>\n",
       "</table>\n",
       "</div>"
      ],
      "text/plain": [
       "   type  \\\n",
       "0  INFJ   \n",
       "1  ENTP   \n",
       "2  INTP   \n",
       "3  INTJ   \n",
       "4  ENTJ   \n",
       "\n",
       "                                                                                                 posts  \n",
       "0  https  moments https sportscenter top ten plays https pranks life changing experience life https...  \n",
       "1  finding lack posts alarming sex boring position often example girlfriend currently environment c...  \n",
       "2  good one https course say know blessing curse absolutely positive best friend could amazing coup...  \n",
       "3  dear  enjoyed conversation day esoteric gabbing nature universe idea every rule social code arbi...  \n",
       "4  fired another silly misconception approaching logically going key unlocking whatever think entit...  "
      ]
     },
     "execution_count": 95,
     "metadata": {},
     "output_type": "execute_result"
    }
   ],
   "source": [
    "print(data.shape)\n",
    "pd.options.display.max_colwidth = 100\n",
    "data.head()"
   ]
  },
  {
   "cell_type": "markdown",
   "metadata": {},
   "source": [
    "### Initial Exploration\n",
    "\n",
    "The graph below indicates that there is a vast imbalance in the representation of the different personality types.  This does not bode well for building a model that is capible of accurately predicting the different categories.\n",
    "\n",
    "The biggest group, INFP, has over 1,750 samples whereas the smallest group, ESTJ, has less than 50. I find it fascinating that these two groups are the exact opposite of one another. INFP stands for __I__ntrovert, I__n__tuitive, __F__eeling, and __P__rospecting while ESTJ stands for __E__xtrovert, __S__ensing, __T__hinking, and __J__udging. Perhaps it is the polarization of their traights that led them to being represented as such. \n",
    "\n",
    "I also find it interesting that the top four groups start with IN (Introvert/Intuitive) while the bottom four start with ES (Extrovert/Sensing). It would make sense that introverted people would spend more time communicating with other via these message boards while entroverts would prefer to interract with people in person. Also, it would be more likely that Intuitive people would enjoy the theoretical and complex topic of personality while sensing people maybe turned off by its lack of concrete definition."
   ]
  },
  {
   "cell_type": "code",
   "execution_count": 6,
   "metadata": {},
   "outputs": [
    {
     "data": {
      "image/png": "[encoded data removed]",
      "text/plain": [
       "<matplotlib.figure.Figure at 0x105904358>"
      ]
     },
     "metadata": {},
     "output_type": "display_data"
    }
   ],
   "source": [
    "plt.rcParams['figure.figsize'] = (20.0, 10.0)\n",
    "sns.countplot(x=\"type\", data=data, order = data.type.value_counts().index)\n",
    "plt.show()"
   ]
  },
  {
   "cell_type": "markdown",
   "metadata": {},
   "source": [
    "Here is a bigger look at the text.\n",
    "\n",
    "I see that I'll have to get rid of the ||| separators and a few embedded links. I will replace the links with 'https' since the presence of links may be a useful predictive feature.\n",
    "\n",
    "I see too that the writer mentions their personality classification. In this case, 'ENTP'. I will remove that since I would like to create a model that can predict the personality classification of people who are not aware of their classifications. Although even with the ommision of the types, I'm certain that this self awareness and the fact that these posts come from a forum where people explore and discuss the meaning of their personality types would still play a factor in the success of the model. "
   ]
  },
  {
   "cell_type": "code",
   "execution_count": 11,
   "metadata": {},
   "outputs": [
    {
     "name": "stdout",
     "output_type": "stream",
     "text": [
      "posts    'I'm finding the lack of me in these posts very alarming.|||Sex can be boring if it's in the same position often. For example me and my girlfriend are currently in an environment where we have to creatively use cowgirl and missionary. There isn't enough...|||Giving new meaning to 'Game' theory.|||Hello *ENTP Grin*  That's all it takes. Than we converse and they do most of the flirting while I acknowledge their presence and return their words with smooth wordplay and more cheeky grins.|||This + Lack of Balance and Hand Eye Coordination.|||Real IQ test I score 127. Internet IQ tests are funny. I score 140s or higher.  Now, like the former responses of this thread I will mention that I don't believe in the IQ test. Before you banish...|||You know you're an ENTP when you vanish from a site for a year and a half, return, and find people are still commenting on your posts and liking your ideas/thoughts. You know you're an ENTP when you...|||http://img188.imageshack.us/img188/6422/6020d1f...\n",
      "Name: 1, dtype: object\n"
     ]
    }
   ],
   "source": [
    "pd.options.display.max_colwidth = 1000\n",
    "print(data.loc[1,['posts']])"
   ]
  },
  {
   "cell_type": "markdown",
   "metadata": {},
   "source": [
    "### Processing the Data\n",
    "\n",
    "As with all text samples, there is some data processing to be done.\n",
    "\n",
    "For clean up, I will do the following:\n",
    "\n",
    "1.  replace urls with 'https'\n",
    "2.  punctuation removal (and other random symbols)\n",
    "3.  remove digits \n",
    "4.  lowercase and stop word removal\n",
    "5.  remove excess white space\n",
    "6.  remove the types"
   ]
  },
  {
   "cell_type": "code",
   "execution_count": 13,
   "metadata": {},
   "outputs": [],
   "source": [
    "import re\n",
    "from string import punctuation\n",
    "from nltk.corpus import stopwords\n",
    "\n",
    "def remove_url(x):\n",
    "    x = re.sub(r'(?i)\\b((?:https?://|www\\d{0,3}[.]|[a-z0-9.\\-]+[.][a-z]{2,4}     /)(?:[^\\s()<>]+|\\(([^\\s()<>]+|(\\([^\\s()<>]+\\)))*\\))+(?:\\(([^\\s()<>]+|(\\([^\\s()<>]+\\)))*\\)|[^\\s`!()\\[\\]{};:\\'\".,<>?«»“”‘’]))', 'https', x)\n",
    "    return x\n",
    "data.posts = data.posts.apply(remove_url)"
   ]
  },
  {
   "cell_type": "code",
   "execution_count": 14,
   "metadata": {},
   "outputs": [],
   "source": [
    "punctuation_symbols = []\n",
    "\n",
    "for each in list(punctuation):\n",
    "    punctuation_symbols.append((each, ' '))\n",
    "    \n",
    "def remove_puncuation(x):\n",
    "    for each in punctuation_symbols:\n",
    "        x = x.replace(*each)\n",
    "    return x\n",
    "\n",
    "data.posts = data.posts.apply(remove_puncuation)"
   ]
  },
  {
   "cell_type": "code",
   "execution_count": 15,
   "metadata": {},
   "outputs": [],
   "source": [
    "def remove_digits(x):\n",
    "    x = ''.join([i for i in x if not i.isdigit()])\n",
    "    return x\n",
    "\n",
    "data.posts = data.posts.apply(remove_digits)"
   ]
  },
  {
   "cell_type": "code",
   "execution_count": 16,
   "metadata": {},
   "outputs": [],
   "source": [
    "stop = stopwords.words('english')\n",
    "\n",
    "def remove_stop_words(x):\n",
    "    x = ' '.join([i for i in x.lower().split(' ') if i not in stop])\n",
    "    return x\n",
    "\n",
    "data.posts = data.posts.apply(remove_stop_words)"
   ]
  },
  {
   "cell_type": "code",
   "execution_count": 17,
   "metadata": {},
   "outputs": [],
   "source": [
    "def remove_extra_white_space(x):\n",
    "    x = ' '.join(x.split())\n",
    "    return x\n",
    "\n",
    "data.posts = data.posts.apply(remove_extra_white_space)"
   ]
  },
  {
   "cell_type": "code",
   "execution_count": 18,
   "metadata": {},
   "outputs": [],
   "source": [
    "def remove_types(x):\n",
    "    x = re.sub(r'(i|e)(n|s)(t|f)(j|p)\\w*', '', x)\n",
    "    return x\n",
    "\n",
    "data.posts = data.posts.apply(remove_types)"
   ]
  },
  {
   "cell_type": "markdown",
   "metadata": {},
   "source": [
    "Looking at the cleaned up text, I see that there are still issues with some Myers-Briggs abbreviations such as 'e', 'j', 'p', 'ne', 'ti', and 'si'. I will leave these in for now since I don't know enough about the MBIT to do a thorough job of removing them all. "
   ]
  },
  {
   "cell_type": "code",
   "execution_count": 19,
   "metadata": {},
   "outputs": [
    {
     "name": "stdout",
     "output_type": "stream",
     "text": [
      "posts    finding lack posts alarming sex boring position often example girlfriend currently environment creatively use cowgirl missionary enough giving new meaning game theory hello  grin takes converse flirting acknowledge presence return words smooth wordplay cheeky grins lack balance hand eye coordination real iq test score internet iq tests funny score higher like former responses thread mention believe iq test banish know  vanish site year half return find people still commenting posts liking ideas thoughts know  https think things sometimes go old sherlock holmes quote perhaps man special knowledge special powers like rather encourages seek complex cheshirewolf tumblr com post really never thought e j p real functions judge use use ne ti dominates fe emotions rarely si also use ni due strength know though ingenious saying really want try see happens playing first person shooter back drive around want see look rock paper one best makes lol guys lucky really high tumblr system hear new ...\n",
      "Name: 1, dtype: object\n"
     ]
    }
   ],
   "source": [
    "print(data.loc[1,['posts']])"
   ]
  },
  {
   "cell_type": "markdown",
   "metadata": {},
   "source": [
    "## Predictive Model Using TF-IDF Words as Features\n",
    "\n",
    "I will now use the cleaned up text and input into the TF-IDF Vectorizer. From there, I will create my predictive models."
   ]
  },
  {
   "cell_type": "code",
   "execution_count": 20,
   "metadata": {},
   "outputs": [],
   "source": [
    "from sklearn.feature_extraction.text import TfidfVectorizer"
   ]
  },
  {
   "cell_type": "code",
   "execution_count": 21,
   "metadata": {},
   "outputs": [],
   "source": [
    "tf = TfidfVectorizer(analyzer='word', ngram_range=(1,2), min_df=0.1, max_df=0.98, stop_words = 'english', norm='l2')"
   ]
  },
  {
   "cell_type": "code",
   "execution_count": 119,
   "metadata": {},
   "outputs": [],
   "source": [
    "tf3 = TfidfVectorizer(analyzer='word', ngram_range=(1,2), min_df=0.02, max_df=0.98, stop_words = 'english', norm='l2')"
   ]
  },
  {
   "cell_type": "code",
   "execution_count": 120,
   "metadata": {},
   "outputs": [
    {
     "name": "stdout",
     "output_type": "stream",
     "text": [
      "Number of documents: 8675 , number of features: 3476\n"
     ]
    }
   ],
   "source": [
    "# fit & transform\n",
    "tfidf_matrix3 = tf3.fit_transform(data.posts)\n",
    "\n",
    "print('Number of documents:', tfidf_matrix3.shape[0], ', number of features:', tfidf_matrix3.shape[1])"
   ]
  },
  {
   "cell_type": "code",
   "execution_count": 121,
   "metadata": {},
   "outputs": [
    {
     "data": {
      "text/html": [
       "<div>\n",
       "<style>\n",
       "    .dataframe thead tr:only-child th {\n",
       "        text-align: right;\n",
       "    }\n",
       "\n",
       "    .dataframe thead th {\n",
       "        text-align: left;\n",
       "    }\n",
       "\n",
       "    .dataframe tbody tr th {\n",
       "        vertical-align: top;\n",
       "    }\n",
       "</style>\n",
       "<table border=\"1\" class=\"dataframe\">\n",
       "  <thead>\n",
       "    <tr style=\"text-align: right;\">\n",
       "      <th></th>\n",
       "      <th>abilities</th>\n",
       "      <th>ability</th>\n",
       "      <th>able</th>\n",
       "      <th>absolute</th>\n",
       "      <th>absolutely</th>\n",
       "      <th>absolutely love</th>\n",
       "      <th>abstract</th>\n",
       "      <th>absurd</th>\n",
       "      <th>abuse</th>\n",
       "      <th>abusive</th>\n",
       "      <th>...</th>\n",
       "      <th>yes yes</th>\n",
       "      <th>yesterday</th>\n",
       "      <th>yo</th>\n",
       "      <th>young</th>\n",
       "      <th>younger</th>\n",
       "      <th>youth</th>\n",
       "      <th>youtube</th>\n",
       "      <th>yup</th>\n",
       "      <th>zero</th>\n",
       "      <th>zone</th>\n",
       "    </tr>\n",
       "  </thead>\n",
       "  <tbody>\n",
       "    <tr>\n",
       "      <th>0</th>\n",
       "      <td>0.0</td>\n",
       "      <td>0.000000</td>\n",
       "      <td>0.000000</td>\n",
       "      <td>0.000000</td>\n",
       "      <td>0.000000</td>\n",
       "      <td>0.0</td>\n",
       "      <td>0.0</td>\n",
       "      <td>0.0</td>\n",
       "      <td>0.0</td>\n",
       "      <td>0.0</td>\n",
       "      <td>...</td>\n",
       "      <td>0.0</td>\n",
       "      <td>0.0</td>\n",
       "      <td>0.083541</td>\n",
       "      <td>0.0</td>\n",
       "      <td>0.0</td>\n",
       "      <td>0.0</td>\n",
       "      <td>0.0</td>\n",
       "      <td>0.00000</td>\n",
       "      <td>0.0</td>\n",
       "      <td>0.0</td>\n",
       "    </tr>\n",
       "    <tr>\n",
       "      <th>1</th>\n",
       "      <td>0.0</td>\n",
       "      <td>0.000000</td>\n",
       "      <td>0.031305</td>\n",
       "      <td>0.000000</td>\n",
       "      <td>0.000000</td>\n",
       "      <td>0.0</td>\n",
       "      <td>0.0</td>\n",
       "      <td>0.0</td>\n",
       "      <td>0.0</td>\n",
       "      <td>0.0</td>\n",
       "      <td>...</td>\n",
       "      <td>0.0</td>\n",
       "      <td>0.0</td>\n",
       "      <td>0.000000</td>\n",
       "      <td>0.0</td>\n",
       "      <td>0.0</td>\n",
       "      <td>0.0</td>\n",
       "      <td>0.0</td>\n",
       "      <td>0.00000</td>\n",
       "      <td>0.0</td>\n",
       "      <td>0.0</td>\n",
       "    </tr>\n",
       "    <tr>\n",
       "      <th>2</th>\n",
       "      <td>0.0</td>\n",
       "      <td>0.108566</td>\n",
       "      <td>0.037657</td>\n",
       "      <td>0.000000</td>\n",
       "      <td>0.090742</td>\n",
       "      <td>0.0</td>\n",
       "      <td>0.0</td>\n",
       "      <td>0.0</td>\n",
       "      <td>0.0</td>\n",
       "      <td>0.0</td>\n",
       "      <td>...</td>\n",
       "      <td>0.0</td>\n",
       "      <td>0.0</td>\n",
       "      <td>0.000000</td>\n",
       "      <td>0.0</td>\n",
       "      <td>0.0</td>\n",
       "      <td>0.0</td>\n",
       "      <td>0.0</td>\n",
       "      <td>0.06958</td>\n",
       "      <td>0.0</td>\n",
       "      <td>0.0</td>\n",
       "    </tr>\n",
       "    <tr>\n",
       "      <th>3</th>\n",
       "      <td>0.0</td>\n",
       "      <td>0.000000</td>\n",
       "      <td>0.063677</td>\n",
       "      <td>0.059827</td>\n",
       "      <td>0.000000</td>\n",
       "      <td>0.0</td>\n",
       "      <td>0.0</td>\n",
       "      <td>0.0</td>\n",
       "      <td>0.0</td>\n",
       "      <td>0.0</td>\n",
       "      <td>...</td>\n",
       "      <td>0.0</td>\n",
       "      <td>0.0</td>\n",
       "      <td>0.000000</td>\n",
       "      <td>0.0</td>\n",
       "      <td>0.0</td>\n",
       "      <td>0.0</td>\n",
       "      <td>0.0</td>\n",
       "      <td>0.00000</td>\n",
       "      <td>0.0</td>\n",
       "      <td>0.0</td>\n",
       "    </tr>\n",
       "    <tr>\n",
       "      <th>4</th>\n",
       "      <td>0.0</td>\n",
       "      <td>0.000000</td>\n",
       "      <td>0.000000</td>\n",
       "      <td>0.000000</td>\n",
       "      <td>0.000000</td>\n",
       "      <td>0.0</td>\n",
       "      <td>0.0</td>\n",
       "      <td>0.0</td>\n",
       "      <td>0.0</td>\n",
       "      <td>0.0</td>\n",
       "      <td>...</td>\n",
       "      <td>0.0</td>\n",
       "      <td>0.0</td>\n",
       "      <td>0.000000</td>\n",
       "      <td>0.0</td>\n",
       "      <td>0.0</td>\n",
       "      <td>0.0</td>\n",
       "      <td>0.0</td>\n",
       "      <td>0.00000</td>\n",
       "      <td>0.0</td>\n",
       "      <td>0.0</td>\n",
       "    </tr>\n",
       "  </tbody>\n",
       "</table>\n",
       "<p>5 rows × 3476 columns</p>\n",
       "</div>"
      ],
      "text/plain": [
       "   abilities   ability      able  absolute  absolutely  absolutely love  \\\n",
       "0        0.0  0.000000  0.000000  0.000000    0.000000              0.0   \n",
       "1        0.0  0.000000  0.031305  0.000000    0.000000              0.0   \n",
       "2        0.0  0.108566  0.037657  0.000000    0.090742              0.0   \n",
       "3        0.0  0.000000  0.063677  0.059827    0.000000              0.0   \n",
       "4        0.0  0.000000  0.000000  0.000000    0.000000              0.0   \n",
       "\n",
       "   abstract  absurd  abuse  abusive  ...   yes yes  yesterday        yo  \\\n",
       "0       0.0     0.0    0.0      0.0  ...       0.0        0.0  0.083541   \n",
       "1       0.0     0.0    0.0      0.0  ...       0.0        0.0  0.000000   \n",
       "2       0.0     0.0    0.0      0.0  ...       0.0        0.0  0.000000   \n",
       "3       0.0     0.0    0.0      0.0  ...       0.0        0.0  0.000000   \n",
       "4       0.0     0.0    0.0      0.0  ...       0.0        0.0  0.000000   \n",
       "\n",
       "   young  younger  youth  youtube      yup  zero  zone  \n",
       "0    0.0      0.0    0.0      0.0  0.00000   0.0   0.0  \n",
       "1    0.0      0.0    0.0      0.0  0.00000   0.0   0.0  \n",
       "2    0.0      0.0    0.0      0.0  0.06958   0.0   0.0  \n",
       "3    0.0      0.0    0.0      0.0  0.00000   0.0   0.0  \n",
       "4    0.0      0.0    0.0      0.0  0.00000   0.0   0.0  \n",
       "\n",
       "[5 rows x 3476 columns]"
      ]
     },
     "execution_count": 121,
     "metadata": {},
     "output_type": "execute_result"
    }
   ],
   "source": [
    "tfidf_feature_matrix3 = pd.DataFrame(tfidf_matrix3.toarray(), columns=tf3.get_feature_names())\n",
    "tfidf_feature_matrix3.head()"
   ]
  },
  {
   "cell_type": "code",
   "execution_count": 122,
   "metadata": {},
   "outputs": [
    {
     "name": "stdout",
     "output_type": "stream",
     "text": [
      "\n",
      "Random Forest Classifier:\n",
      "Training set score: 0.991853673532\n",
      "Test set score: 0.218994928538\n"
     ]
    }
   ],
   "source": [
    "X = tfidf_feature_matrix3\n",
    "Y = data['type']\n",
    "\n",
    "X_train, X_test, Y_train, Y_test = train_test_split(X, Y, test_size=0.25, random_state=42)\n",
    "\n",
    "rfc_experiment = ensemble.RandomForestClassifier()\n",
    "\n",
    "rfc_experiment.fit(X_train, Y_train)\n",
    "\n",
    "print('\\nRandom Forest Classifier:')\n",
    "print('Training set score:', rfc_experiment.score(X_train, Y_train))\n",
    "print('Test set score:', rfc_experiment.score(X_test, Y_test)) "
   ]
  },
  {
   "cell_type": "code",
   "execution_count": 123,
   "metadata": {},
   "outputs": [
    {
     "name": "stdout",
     "output_type": "stream",
     "text": [
      "\n",
      "Logistic Regression:\n",
      "Training set score: 0.601905932985\n",
      "Test set score: 0.39234670355\n"
     ]
    }
   ],
   "source": [
    "lr_experiment = LogisticRegression()\n",
    "lr_experiment.fit(X_train, Y_train)\n",
    "\n",
    "print('\\nLogistic Regression:')\n",
    "print('Training set score:', lr_experiment.score(X_train, Y_train))\n",
    "print('Test set score:', lr_experiment.score(X_test, Y_test))"
   ]
  },
  {
   "cell_type": "code",
   "execution_count": 22,
   "metadata": {},
   "outputs": [
    {
     "name": "stdout",
     "output_type": "stream",
     "text": [
      "Number of documents: 8675 , number of features: 755\n"
     ]
    }
   ],
   "source": [
    "# fit & transform\n",
    "tfidf_matrix = tf.fit_transform(data.posts)\n",
    "\n",
    "print('Number of documents:', tfidf_matrix.shape[0], ', number of features:', tfidf_matrix.shape[1])"
   ]
  },
  {
   "cell_type": "code",
   "execution_count": 74,
   "metadata": {},
   "outputs": [
    {
     "data": {
      "text/html": [
       "<div>\n",
       "<style>\n",
       "    .dataframe thead tr:only-child th {\n",
       "        text-align: right;\n",
       "    }\n",
       "\n",
       "    .dataframe thead th {\n",
       "        text-align: left;\n",
       "    }\n",
       "\n",
       "    .dataframe tbody tr th {\n",
       "        vertical-align: top;\n",
       "    }\n",
       "</style>\n",
       "<table border=\"1\" class=\"dataframe\">\n",
       "  <thead>\n",
       "    <tr style=\"text-align: right;\">\n",
       "      <th></th>\n",
       "      <th>ability</th>\n",
       "      <th>able</th>\n",
       "      <th>absolutely</th>\n",
       "      <th>accept</th>\n",
       "      <th>accurate</th>\n",
       "      <th>act</th>\n",
       "      <th>action</th>\n",
       "      <th>actual</th>\n",
       "      <th>actually</th>\n",
       "      <th>add</th>\n",
       "      <th>...</th>\n",
       "      <th>wrote</th>\n",
       "      <th>xd</th>\n",
       "      <th>yeah</th>\n",
       "      <th>year</th>\n",
       "      <th>years</th>\n",
       "      <th>years ago</th>\n",
       "      <th>yes</th>\n",
       "      <th>yesterday</th>\n",
       "      <th>young</th>\n",
       "      <th>younger</th>\n",
       "    </tr>\n",
       "  </thead>\n",
       "  <tbody>\n",
       "    <tr>\n",
       "      <th>0</th>\n",
       "      <td>0.00000</td>\n",
       "      <td>0.000000</td>\n",
       "      <td>0.000000</td>\n",
       "      <td>0.0</td>\n",
       "      <td>0.000000</td>\n",
       "      <td>0.0</td>\n",
       "      <td>0.000000</td>\n",
       "      <td>0.00000</td>\n",
       "      <td>0.000000</td>\n",
       "      <td>0.0</td>\n",
       "      <td>...</td>\n",
       "      <td>0.0</td>\n",
       "      <td>0.000000</td>\n",
       "      <td>0.000000</td>\n",
       "      <td>0.000000</td>\n",
       "      <td>0.040039</td>\n",
       "      <td>0.072941</td>\n",
       "      <td>0.000000</td>\n",
       "      <td>0.0</td>\n",
       "      <td>0.0</td>\n",
       "      <td>0.0</td>\n",
       "    </tr>\n",
       "    <tr>\n",
       "      <th>1</th>\n",
       "      <td>0.00000</td>\n",
       "      <td>0.047144</td>\n",
       "      <td>0.000000</td>\n",
       "      <td>0.0</td>\n",
       "      <td>0.000000</td>\n",
       "      <td>0.0</td>\n",
       "      <td>0.000000</td>\n",
       "      <td>0.00000</td>\n",
       "      <td>0.000000</td>\n",
       "      <td>0.0</td>\n",
       "      <td>...</td>\n",
       "      <td>0.0</td>\n",
       "      <td>0.000000</td>\n",
       "      <td>0.000000</td>\n",
       "      <td>0.043771</td>\n",
       "      <td>0.000000</td>\n",
       "      <td>0.000000</td>\n",
       "      <td>0.000000</td>\n",
       "      <td>0.0</td>\n",
       "      <td>0.0</td>\n",
       "      <td>0.0</td>\n",
       "    </tr>\n",
       "    <tr>\n",
       "      <th>2</th>\n",
       "      <td>0.15479</td>\n",
       "      <td>0.053690</td>\n",
       "      <td>0.129377</td>\n",
       "      <td>0.0</td>\n",
       "      <td>0.077485</td>\n",
       "      <td>0.0</td>\n",
       "      <td>0.000000</td>\n",
       "      <td>0.00000</td>\n",
       "      <td>0.070600</td>\n",
       "      <td>0.0</td>\n",
       "      <td>...</td>\n",
       "      <td>0.0</td>\n",
       "      <td>0.000000</td>\n",
       "      <td>0.000000</td>\n",
       "      <td>0.049849</td>\n",
       "      <td>0.163880</td>\n",
       "      <td>0.000000</td>\n",
       "      <td>0.036847</td>\n",
       "      <td>0.0</td>\n",
       "      <td>0.0</td>\n",
       "      <td>0.0</td>\n",
       "    </tr>\n",
       "    <tr>\n",
       "      <th>3</th>\n",
       "      <td>0.00000</td>\n",
       "      <td>0.087732</td>\n",
       "      <td>0.000000</td>\n",
       "      <td>0.0</td>\n",
       "      <td>0.000000</td>\n",
       "      <td>0.0</td>\n",
       "      <td>0.068561</td>\n",
       "      <td>0.06791</td>\n",
       "      <td>0.057681</td>\n",
       "      <td>0.0</td>\n",
       "      <td>...</td>\n",
       "      <td>0.0</td>\n",
       "      <td>0.000000</td>\n",
       "      <td>0.036255</td>\n",
       "      <td>0.000000</td>\n",
       "      <td>0.000000</td>\n",
       "      <td>0.000000</td>\n",
       "      <td>0.000000</td>\n",
       "      <td>0.0</td>\n",
       "      <td>0.0</td>\n",
       "      <td>0.0</td>\n",
       "    </tr>\n",
       "    <tr>\n",
       "      <th>4</th>\n",
       "      <td>0.00000</td>\n",
       "      <td>0.000000</td>\n",
       "      <td>0.000000</td>\n",
       "      <td>0.0</td>\n",
       "      <td>0.000000</td>\n",
       "      <td>0.0</td>\n",
       "      <td>0.000000</td>\n",
       "      <td>0.00000</td>\n",
       "      <td>0.030009</td>\n",
       "      <td>0.0</td>\n",
       "      <td>...</td>\n",
       "      <td>0.0</td>\n",
       "      <td>0.067559</td>\n",
       "      <td>0.000000</td>\n",
       "      <td>0.042377</td>\n",
       "      <td>0.000000</td>\n",
       "      <td>0.000000</td>\n",
       "      <td>0.031324</td>\n",
       "      <td>0.0</td>\n",
       "      <td>0.0</td>\n",
       "      <td>0.0</td>\n",
       "    </tr>\n",
       "  </tbody>\n",
       "</table>\n",
       "<p>5 rows × 755 columns</p>\n",
       "</div>"
      ],
      "text/plain": [
       "   ability      able  absolutely  accept  accurate  act    action   actual  \\\n",
       "0  0.00000  0.000000    0.000000     0.0  0.000000  0.0  0.000000  0.00000   \n",
       "1  0.00000  0.047144    0.000000     0.0  0.000000  0.0  0.000000  0.00000   \n",
       "2  0.15479  0.053690    0.129377     0.0  0.077485  0.0  0.000000  0.00000   \n",
       "3  0.00000  0.087732    0.000000     0.0  0.000000  0.0  0.068561  0.06791   \n",
       "4  0.00000  0.000000    0.000000     0.0  0.000000  0.0  0.000000  0.00000   \n",
       "\n",
       "   actually  add   ...     wrote        xd      yeah      year     years  \\\n",
       "0  0.000000  0.0   ...       0.0  0.000000  0.000000  0.000000  0.040039   \n",
       "1  0.000000  0.0   ...       0.0  0.000000  0.000000  0.043771  0.000000   \n",
       "2  0.070600  0.0   ...       0.0  0.000000  0.000000  0.049849  0.163880   \n",
       "3  0.057681  0.0   ...       0.0  0.000000  0.036255  0.000000  0.000000   \n",
       "4  0.030009  0.0   ...       0.0  0.067559  0.000000  0.042377  0.000000   \n",
       "\n",
       "   years ago       yes  yesterday  young  younger  \n",
       "0   0.072941  0.000000        0.0    0.0      0.0  \n",
       "1   0.000000  0.000000        0.0    0.0      0.0  \n",
       "2   0.000000  0.036847        0.0    0.0      0.0  \n",
       "3   0.000000  0.000000        0.0    0.0      0.0  \n",
       "4   0.000000  0.031324        0.0    0.0      0.0  \n",
       "\n",
       "[5 rows x 755 columns]"
      ]
     },
     "execution_count": 74,
     "metadata": {},
     "output_type": "execute_result"
    }
   ],
   "source": [
    "tfidf_feature_matrix = pd.DataFrame(tfidf_matrix.toarray(), columns=tf.get_feature_names())\n",
    "tfidf_feature_matrix.head()"
   ]
  },
  {
   "cell_type": "code",
   "execution_count": 29,
   "metadata": {},
   "outputs": [],
   "source": [
    "from sklearn import ensemble\n",
    "from sklearn.model_selection import train_test_split"
   ]
  },
  {
   "cell_type": "code",
   "execution_count": 75,
   "metadata": {},
   "outputs": [
    {
     "name": "stdout",
     "output_type": "stream",
     "text": [
      "\n",
      "Random Forest Classifier:\n",
      "Training set score: 0.992007377805\n",
      "Test set score: 0.198248040572\n"
     ]
    }
   ],
   "source": [
    "X = tfidf_feature_matrix\n",
    "Y = data['type']\n",
    "\n",
    "X_train, X_test, Y_train, Y_test = train_test_split(X, Y, test_size=0.25, random_state=42)\n",
    "\n",
    "rfc = ensemble.RandomForestClassifier()\n",
    "\n",
    "rfc.fit(X_train, Y_train)\n",
    "\n",
    "print('\\nRandom Forest Classifier:')\n",
    "print('Training set score:', rfc.score(X_train, Y_train))\n",
    "print('Test set score:', rfc.score(X_test, Y_test)) "
   ]
  },
  {
   "cell_type": "code",
   "execution_count": 31,
   "metadata": {},
   "outputs": [],
   "source": [
    "from sklearn.linear_model import LogisticRegression"
   ]
  },
  {
   "cell_type": "code",
   "execution_count": 76,
   "metadata": {},
   "outputs": [
    {
     "name": "stdout",
     "output_type": "stream",
     "text": [
      "\n",
      "Logistic Regression:\n",
      "Training set score: 0.490777743621\n",
      "Test set score: 0.366989396035\n"
     ]
    }
   ],
   "source": [
    "lr = LogisticRegression()\n",
    "lr.fit(X_train, Y_train)\n",
    "\n",
    "print('\\nLogistic Regression:')\n",
    "print('Training set score:', lr.score(X_train, Y_train))\n",
    "print('Test set score:', lr.score(X_test, Y_test))"
   ]
  },
  {
   "cell_type": "markdown",
   "metadata": {},
   "source": [
    "As somewhat expected, neither the Random Forest Classifier nor the Logistic Regression models did very well. This is primarily due to the fact that several of the groups were ill represented. \n",
    "\n",
    "The following confusion matrix supports that hypothesis as the 'IN' personality types are the ones that were identified most often. They also had higher recall and precision scores."
   ]
  },
  {
   "cell_type": "code",
   "execution_count": 77,
   "metadata": {},
   "outputs": [
    {
     "data": {
      "image/png": "[encoded data removed]",
      "text/plain": [
       "<matplotlib.figure.Figure at 0x11ccce8d0>"
      ]
     },
     "metadata": {},
     "output_type": "display_data"
    },
    {
     "name": "stdout",
     "output_type": "stream",
     "text": [
      "             precision    recall  f1-score   support\n",
      "\n",
      "       ENFJ       0.00      0.00      0.00        49\n",
      "       ENFP       0.22      0.10      0.14       160\n",
      "       ENTJ       0.00      0.00      0.00        51\n",
      "       ENTP       0.29      0.12      0.17       165\n",
      "       ESFJ       0.00      0.00      0.00         8\n",
      "       ESFP       0.00      0.00      0.00         8\n",
      "       ESTJ       0.00      0.00      0.00        12\n",
      "       ESTP       0.00      0.00      0.00        20\n",
      "       INFJ       0.36      0.44      0.40       361\n",
      "       INFP       0.40      0.71      0.51       475\n",
      "       INTJ       0.31      0.34      0.32       251\n",
      "       INTP       0.39      0.50      0.44       350\n",
      "       ISFJ       0.00      0.00      0.00        54\n",
      "       ISFP       0.00      0.00      0.00        64\n",
      "       ISTJ       0.00      0.00      0.00        56\n",
      "       ISTP       0.67      0.05      0.09        85\n",
      "\n",
      "avg / total       0.31      0.37      0.31      2169\n",
      "\n"
     ]
    },
    {
     "name": "stderr",
     "output_type": "stream",
     "text": [
      "/Library/Frameworks/Python.framework/Versions/3.5/lib/python3.5/site-packages/sklearn/metrics/classification.py:1135: UndefinedMetricWarning: Precision and F-score are ill-defined and being set to 0.0 in labels with no predicted samples.\n",
      "  'precision', 'predicted', average, warn_for)\n"
     ]
    }
   ],
   "source": [
    "from sklearn.metrics import confusion_matrix\n",
    "personality_types = sorted(data.type.unique())\n",
    "\n",
    "Y_pred = lr.predict(X_test)\n",
    "confusion_array = confusion_matrix(Y_test, Y_pred)\n",
    "\n",
    "df_cm = pd.DataFrame(confusion_array, index = [i for i in personality_types],\n",
    "                  columns = [i for i in personality_types])\n",
    "\n",
    "plt.figure(figsize = (18,18))\n",
    "sns.heatmap(df_cm, annot=True)\n",
    "plt.show()\n",
    "\n",
    "from sklearn.metrics import classification_report\n",
    "print(classification_report(Y_test, Y_pred, target_names=personality_types))"
   ]
  },
  {
   "cell_type": "markdown",
   "metadata": {},
   "source": [
    "---\n",
    "## Predictive Models Based on Individual Traits \n",
    "\n",
    "Upon reflection and the suggestion of my mentor, I decided to create new columns that would identify each sample by their individual traits. Meaning, I would have a separate column for Introvert/Extrovert, Intuitive/Sensing, Thinking/Feeling, and Judging/Prospecting."
   ]
  },
  {
   "cell_type": "code",
   "execution_count": 78,
   "metadata": {},
   "outputs": [],
   "source": [
    "tfidf_feature_matrix2 = tfidf_feature_matrix.copy()"
   ]
  },
  {
   "cell_type": "code",
   "execution_count": 79,
   "metadata": {},
   "outputs": [],
   "source": [
    "tfidf_feature_matrix2['type_IE'] = [x[0] for x in data.type]\n",
    "tfidf_feature_matrix2['type_NS'] = [x[1] for x in data.type]\n",
    "tfidf_feature_matrix2['type_TF'] = [x[2] for x in data.type]\n",
    "tfidf_feature_matrix2['type_JP'] = [x[3] for x in data.type]"
   ]
  },
  {
   "cell_type": "code",
   "execution_count": 80,
   "metadata": {},
   "outputs": [
    {
     "data": {
      "text/html": [
       "<div>\n",
       "<style>\n",
       "    .dataframe thead tr:only-child th {\n",
       "        text-align: right;\n",
       "    }\n",
       "\n",
       "    .dataframe thead th {\n",
       "        text-align: left;\n",
       "    }\n",
       "\n",
       "    .dataframe tbody tr th {\n",
       "        vertical-align: top;\n",
       "    }\n",
       "</style>\n",
       "<table border=\"1\" class=\"dataframe\">\n",
       "  <thead>\n",
       "    <tr style=\"text-align: right;\">\n",
       "      <th></th>\n",
       "      <th>ability</th>\n",
       "      <th>able</th>\n",
       "      <th>absolutely</th>\n",
       "      <th>accept</th>\n",
       "      <th>accurate</th>\n",
       "      <th>act</th>\n",
       "      <th>action</th>\n",
       "      <th>actual</th>\n",
       "      <th>actually</th>\n",
       "      <th>add</th>\n",
       "      <th>...</th>\n",
       "      <th>years</th>\n",
       "      <th>years ago</th>\n",
       "      <th>yes</th>\n",
       "      <th>yesterday</th>\n",
       "      <th>young</th>\n",
       "      <th>younger</th>\n",
       "      <th>type_IE</th>\n",
       "      <th>type_NS</th>\n",
       "      <th>type_TF</th>\n",
       "      <th>type_JP</th>\n",
       "    </tr>\n",
       "  </thead>\n",
       "  <tbody>\n",
       "    <tr>\n",
       "      <th>0</th>\n",
       "      <td>0.00000</td>\n",
       "      <td>0.000000</td>\n",
       "      <td>0.000000</td>\n",
       "      <td>0.0</td>\n",
       "      <td>0.000000</td>\n",
       "      <td>0.0</td>\n",
       "      <td>0.000000</td>\n",
       "      <td>0.00000</td>\n",
       "      <td>0.000000</td>\n",
       "      <td>0.0</td>\n",
       "      <td>...</td>\n",
       "      <td>0.040039</td>\n",
       "      <td>0.072941</td>\n",
       "      <td>0.000000</td>\n",
       "      <td>0.0</td>\n",
       "      <td>0.0</td>\n",
       "      <td>0.0</td>\n",
       "      <td>I</td>\n",
       "      <td>N</td>\n",
       "      <td>F</td>\n",
       "      <td>J</td>\n",
       "    </tr>\n",
       "    <tr>\n",
       "      <th>1</th>\n",
       "      <td>0.00000</td>\n",
       "      <td>0.047144</td>\n",
       "      <td>0.000000</td>\n",
       "      <td>0.0</td>\n",
       "      <td>0.000000</td>\n",
       "      <td>0.0</td>\n",
       "      <td>0.000000</td>\n",
       "      <td>0.00000</td>\n",
       "      <td>0.000000</td>\n",
       "      <td>0.0</td>\n",
       "      <td>...</td>\n",
       "      <td>0.000000</td>\n",
       "      <td>0.000000</td>\n",
       "      <td>0.000000</td>\n",
       "      <td>0.0</td>\n",
       "      <td>0.0</td>\n",
       "      <td>0.0</td>\n",
       "      <td>E</td>\n",
       "      <td>N</td>\n",
       "      <td>T</td>\n",
       "      <td>P</td>\n",
       "    </tr>\n",
       "    <tr>\n",
       "      <th>2</th>\n",
       "      <td>0.15479</td>\n",
       "      <td>0.053690</td>\n",
       "      <td>0.129377</td>\n",
       "      <td>0.0</td>\n",
       "      <td>0.077485</td>\n",
       "      <td>0.0</td>\n",
       "      <td>0.000000</td>\n",
       "      <td>0.00000</td>\n",
       "      <td>0.070600</td>\n",
       "      <td>0.0</td>\n",
       "      <td>...</td>\n",
       "      <td>0.163880</td>\n",
       "      <td>0.000000</td>\n",
       "      <td>0.036847</td>\n",
       "      <td>0.0</td>\n",
       "      <td>0.0</td>\n",
       "      <td>0.0</td>\n",
       "      <td>I</td>\n",
       "      <td>N</td>\n",
       "      <td>T</td>\n",
       "      <td>P</td>\n",
       "    </tr>\n",
       "    <tr>\n",
       "      <th>3</th>\n",
       "      <td>0.00000</td>\n",
       "      <td>0.087732</td>\n",
       "      <td>0.000000</td>\n",
       "      <td>0.0</td>\n",
       "      <td>0.000000</td>\n",
       "      <td>0.0</td>\n",
       "      <td>0.068561</td>\n",
       "      <td>0.06791</td>\n",
       "      <td>0.057681</td>\n",
       "      <td>0.0</td>\n",
       "      <td>...</td>\n",
       "      <td>0.000000</td>\n",
       "      <td>0.000000</td>\n",
       "      <td>0.000000</td>\n",
       "      <td>0.0</td>\n",
       "      <td>0.0</td>\n",
       "      <td>0.0</td>\n",
       "      <td>I</td>\n",
       "      <td>N</td>\n",
       "      <td>T</td>\n",
       "      <td>J</td>\n",
       "    </tr>\n",
       "    <tr>\n",
       "      <th>4</th>\n",
       "      <td>0.00000</td>\n",
       "      <td>0.000000</td>\n",
       "      <td>0.000000</td>\n",
       "      <td>0.0</td>\n",
       "      <td>0.000000</td>\n",
       "      <td>0.0</td>\n",
       "      <td>0.000000</td>\n",
       "      <td>0.00000</td>\n",
       "      <td>0.030009</td>\n",
       "      <td>0.0</td>\n",
       "      <td>...</td>\n",
       "      <td>0.000000</td>\n",
       "      <td>0.000000</td>\n",
       "      <td>0.031324</td>\n",
       "      <td>0.0</td>\n",
       "      <td>0.0</td>\n",
       "      <td>0.0</td>\n",
       "      <td>E</td>\n",
       "      <td>N</td>\n",
       "      <td>T</td>\n",
       "      <td>J</td>\n",
       "    </tr>\n",
       "  </tbody>\n",
       "</table>\n",
       "<p>5 rows × 759 columns</p>\n",
       "</div>"
      ],
      "text/plain": [
       "   ability      able  absolutely  accept  accurate  act    action   actual  \\\n",
       "0  0.00000  0.000000    0.000000     0.0  0.000000  0.0  0.000000  0.00000   \n",
       "1  0.00000  0.047144    0.000000     0.0  0.000000  0.0  0.000000  0.00000   \n",
       "2  0.15479  0.053690    0.129377     0.0  0.077485  0.0  0.000000  0.00000   \n",
       "3  0.00000  0.087732    0.000000     0.0  0.000000  0.0  0.068561  0.06791   \n",
       "4  0.00000  0.000000    0.000000     0.0  0.000000  0.0  0.000000  0.00000   \n",
       "\n",
       "   actually  add   ...        years  years ago       yes  yesterday  young  \\\n",
       "0  0.000000  0.0   ...     0.040039   0.072941  0.000000        0.0    0.0   \n",
       "1  0.000000  0.0   ...     0.000000   0.000000  0.000000        0.0    0.0   \n",
       "2  0.070600  0.0   ...     0.163880   0.000000  0.036847        0.0    0.0   \n",
       "3  0.057681  0.0   ...     0.000000   0.000000  0.000000        0.0    0.0   \n",
       "4  0.030009  0.0   ...     0.000000   0.000000  0.031324        0.0    0.0   \n",
       "\n",
       "   younger  type_IE  type_NS  type_TF  type_JP  \n",
       "0      0.0        I        N        F        J  \n",
       "1      0.0        E        N        T        P  \n",
       "2      0.0        I        N        T        P  \n",
       "3      0.0        I        N        T        J  \n",
       "4      0.0        E        N        T        J  \n",
       "\n",
       "[5 rows x 759 columns]"
      ]
     },
     "execution_count": 80,
     "metadata": {},
     "output_type": "execute_result"
    }
   ],
   "source": [
    "tfidf_feature_matrix2.head()"
   ]
  },
  {
   "cell_type": "markdown",
   "metadata": {},
   "source": [
    "Below is a breakdown of how balanced the number of samples are in each pair. The most even numbered being Thinking/Feeling while the least being Intuitive/Sensing. "
   ]
  },
  {
   "cell_type": "code",
   "execution_count": 81,
   "metadata": {},
   "outputs": [
    {
     "name": "stdout",
     "output_type": "stream",
     "text": [
      "I    6676\n",
      "E    1999\n",
      "Name: type_IE, dtype: int64 \n",
      "\n",
      "N    7478\n",
      "S    1197\n",
      "Name: type_NS, dtype: int64 \n",
      "\n",
      "F    4694\n",
      "T    3981\n",
      "Name: type_TF, dtype: int64 \n",
      "\n",
      "P    5241\n",
      "J    3434\n",
      "Name: type_JP, dtype: int64 \n",
      "\n"
     ]
    },
    {
     "data": {
      "image/png": "[encoded data removed]",
      "text/plain": [
       "<matplotlib.figure.Figure at 0x124ca0240>"
      ]
     },
     "metadata": {},
     "output_type": "display_data"
    }
   ],
   "source": [
    "print(tfidf_feature_matrix2.type_IE.value_counts(), '\\n')\n",
    "print(tfidf_feature_matrix2.type_NS.value_counts(), '\\n')\n",
    "print(tfidf_feature_matrix2.type_TF.value_counts(), '\\n')\n",
    "print(tfidf_feature_matrix2.type_JP.value_counts(), '\\n')\n",
    "\n",
    "N = 4\n",
    "but = (tfidf_feature_matrix2.type_IE.value_counts()[0], tfidf_feature_matrix2.type_NS.value_counts()[0], \n",
    "       tfidf_feature_matrix2.type_TF.value_counts()[0], tfidf_feature_matrix2.type_JP.value_counts()[0])\n",
    "top = (tfidf_feature_matrix2.type_IE.value_counts()[1], tfidf_feature_matrix2.type_NS.value_counts()[1], \n",
    "       tfidf_feature_matrix2.type_TF.value_counts()[1], tfidf_feature_matrix2.type_JP.value_counts()[1])\n",
    "\n",
    "ind = np.arange(N)    # the x locations for the groups\n",
    "width = 0.7      # the width of the bars: can also be len(x) sequence\n",
    "\n",
    "p1 = plt.bar(ind, but, width)\n",
    "p2 = plt.bar(ind, top, width, bottom=but)\n",
    "\n",
    "plt.ylabel('Count')\n",
    "plt.title('Distribution accoss types indicators')\n",
    "plt.xticks(ind, ('I/E',  'N/S', 'T/F', 'J/P',))\n",
    "\n",
    "plt.show()"
   ]
  },
  {
   "cell_type": "markdown",
   "metadata": {},
   "source": [
    "I will do a random sampling of Introvert/Extrovert and Intuitive/Sensing to get a more balanced set of numbers. I'm sure, however, that these models won't do as well due to the smaller sample sizes. \n",
    "\n",
    "### Introvert/Extrovert Model:"
   ]
  },
  {
   "cell_type": "code",
   "execution_count": 82,
   "metadata": {},
   "outputs": [
    {
     "name": "stdout",
     "output_type": "stream",
     "text": [
      "(1999, 759)\n",
      "(1999, 759)\n",
      "(3998, 759)\n"
     ]
    }
   ],
   "source": [
    "data_I = tfidf_feature_matrix2.loc[tfidf_feature_matrix2['type_IE'] == 'I'].sample(n=1999)\n",
    "print(data_I.shape)\n",
    "data_E = tfidf_feature_matrix2.loc[tfidf_feature_matrix2['type_IE'] == 'E']\n",
    "print(data_E.shape)\n",
    "data_IE = pd.concat([data_I, data_E])\n",
    "print(data_IE.shape)"
   ]
  },
  {
   "cell_type": "code",
   "execution_count": 46,
   "metadata": {},
   "outputs": [],
   "source": [
    "drop_list = ['type_IE','type_NS',\"type_TF\",'type_JP']\n",
    "# test = data_IE.drop(drop_list, axis=1).shape"
   ]
  },
  {
   "cell_type": "code",
   "execution_count": 83,
   "metadata": {},
   "outputs": [
    {
     "name": "stdout",
     "output_type": "stream",
     "text": [
      "\n",
      "Random Forest Classifier:\n",
      "Training set score: 0.985657104736\n",
      "\n",
      "Cross Validation Scores:\n",
      " [ 0.53625     0.54        0.55875     0.53375     0.55012531]\n",
      "\n",
      "Logistic Regression:\n",
      "Training set score: 0.766511007338\n",
      "\n",
      "Cross Validation Scores:\n",
      " [ 0.6475      0.66625     0.6725      0.67375     0.66917293]\n"
     ]
    },
    {
     "data": {
      "image/png": "[encoded data removed]",
      "text/plain": [
       "<matplotlib.figure.Figure at 0x11c650198>"
      ]
     },
     "metadata": {},
     "output_type": "display_data"
    }
   ],
   "source": [
    "from sklearn.model_selection import cross_val_score\n",
    "\n",
    "Y = data_IE['type_IE']\n",
    "X = data_IE.drop(drop_list, axis=1)\n",
    "\n",
    "X_train, X_test, Y_train, Y_test = train_test_split(X, Y, test_size=0.25, random_state=42)\n",
    "\n",
    "rfc_IE = ensemble.RandomForestClassifier()\n",
    "\n",
    "rfc_IE.fit(X_train, Y_train)\n",
    "\n",
    "print('\\nRandom Forest Classifier:')\n",
    "print('Training set score:', rfc_IE.score(X_train, Y_train))\n",
    "\n",
    "print('\\nCross Validation Scores:\\n' , cross_val_score(rfc_IE, X, Y, cv=5))  \n",
    "\n",
    "lr_IE = LogisticRegression()\n",
    "lr_IE.fit(X_train, Y_train)\n",
    "\n",
    "print('\\nLogistic Regression:')\n",
    "print('Training set score:', lr_IE.score(X_train, Y_train))\n",
    "print('\\nCross Validation Scores:\\n' , cross_val_score(lr_IE, X, Y, cv=5))  \n",
    "\n",
    "features = X.columns\n",
    "importances = rfc_IE.feature_importances_\n",
    "indices = np.argsort(importances)[::-1]\n",
    "top_k = 20\n",
    "indices = indices[:top_k]\n",
    "\n",
    "plt.title('Feature Importances')\n",
    "plt.barh(range(len(indices)), importances[indices], color='b', align='center')\n",
    "plt.yticks(range(len(indices)), features[indices])\n",
    "plt.xlabel('Relative Importance')\n",
    "plt.show()"
   ]
  },
  {
   "cell_type": "markdown",
   "metadata": {},
   "source": [
    "The Introvert/Extrovert models scored in the mid 50s for Random Forest Classifier and mid 60s for Logistic Regression.\n",
    "\n",
    "I ran a feature importance that ended up being rather unstable, which is understandably given the lower scores. There were a few words that did show up consistantly that I found to be insightful though. Words like 'fun', 'haha', and 'lol' could indicate a more outgoing personality while words like 'think' and 'listen' could be associated with introversion. \n",
    "\n",
    "The presence of 'https' shows a preference for sharing links to other websites. As in Introvert, I can identify to posting links since it saves me the effort of actually communicating with others.\n",
    "\n",
    "---\n",
    "### Intuitive/Sensing Model:"
   ]
  },
  {
   "cell_type": "code",
   "execution_count": 84,
   "metadata": {},
   "outputs": [
    {
     "name": "stdout",
     "output_type": "stream",
     "text": [
      "(1197, 759)\n",
      "(1197, 759)\n",
      "(2394, 759)\n"
     ]
    }
   ],
   "source": [
    "data_N = tfidf_feature_matrix2.loc[tfidf_feature_matrix2['type_NS'] == 'N'].sample(n=1197)\n",
    "print(data_N.shape)\n",
    "data_S = tfidf_feature_matrix2.loc[tfidf_feature_matrix2['type_NS'] == 'S']\n",
    "print(data_S.shape)\n",
    "data_NS = pd.concat([data_N, data_S])\n",
    "print(data_NS.shape)"
   ]
  },
  {
   "cell_type": "code",
   "execution_count": 85,
   "metadata": {},
   "outputs": [
    {
     "name": "stdout",
     "output_type": "stream",
     "text": [
      "\n",
      "Random Forest Classifier:\n",
      "Training set score: 0.988857938719\n",
      "\n",
      "Cross Validation Scores:\n",
      " [ 0.51458333  0.53125     0.5209205   0.5292887   0.5292887 ]\n",
      "\n",
      "Logistic Regression:\n",
      "Training set score: 0.795543175487\n",
      "\n",
      "Cross Validation Scores:\n",
      " [ 0.64375     0.63333333  0.60669456  0.65062762  0.66945607]\n"
     ]
    },
    {
     "data": {
      "image/png": "[encoded data removed]",
      "text/plain": [
       "<matplotlib.figure.Figure at 0x11e664ac8>"
      ]
     },
     "metadata": {},
     "output_type": "display_data"
    }
   ],
   "source": [
    "Y = data_NS['type_NS']\n",
    "X = data_NS.drop(drop_list, axis=1)\n",
    "\n",
    "X_train, X_test, Y_train, Y_test = train_test_split(X, Y, test_size=0.25, random_state=42)\n",
    "\n",
    "rfc_NS = ensemble.RandomForestClassifier()\n",
    "\n",
    "rfc_NS.fit(X_train, Y_train)\n",
    "\n",
    "print('\\nRandom Forest Classifier:')\n",
    "print('Training set score:', rfc_NS.score(X_train, Y_train))\n",
    "print('\\nCross Validation Scores:\\n' , cross_val_score(rfc_NS, X, Y, cv=5))  \n",
    "\n",
    "lr_NS = LogisticRegression()\n",
    "lr_NS.fit(X_train, Y_train)\n",
    "\n",
    "print('\\nLogistic Regression:')\n",
    "print('Training set score:', lr_NS.score(X_train, Y_train))\n",
    "print('\\nCross Validation Scores:\\n' , cross_val_score(lr_NS, X, Y, cv=5))\n",
    "\n",
    "features = X.columns\n",
    "importances = rfc_NS.feature_importances_\n",
    "indices = np.argsort(importances)[::-1]\n",
    "top_k = 20\n",
    "indices = indices[:top_k]\n",
    "\n",
    "plt.title('Feature Importances')\n",
    "plt.barh(range(len(indices)), importances[indices], color='b', align='center')\n",
    "plt.yticks(range(len(indices)), features[indices])\n",
    "plt.xlabel('Relative Importance')\n",
    "plt.show()"
   ]
  },
  {
   "cell_type": "markdown",
   "metadata": {},
   "source": [
    "With the lower scores, this model as well had unstable features. It did, however, have a handful of words that consistantly showed up.\n",
    "\n",
    "Sensing types base their understanding of the world on concrete and measurable facts. Words like 'know', 'knowledge', and 'reality' could definitely indicate a sensing type person.\n",
    "\n",
    "On the opposite end, intuitive types are more likely to go by their internal feelings and concepts about the world. The word features that could distinguish an Intuitive personality are 'feel', 'believe', and 'thoughts'.\n",
    "\n",
    "---\n",
    "### Judging/Prospecting Model:"
   ]
  },
  {
   "cell_type": "code",
   "execution_count": 89,
   "metadata": {},
   "outputs": [
    {
     "name": "stdout",
     "output_type": "stream",
     "text": [
      "\n",
      "Random Forest Classifier:\n",
      "Training set score: 0.98970181371\n",
      "\n",
      "Cross Validation Scores:\n",
      " [ 0.55184332  0.56195965  0.57694524  0.56772334  0.56113033]\n",
      "\n",
      "Logistic Regression:\n",
      "Training set score: 0.722563787273\n",
      "\n",
      "Cross Validation Scores:\n",
      " [ 0.66301843  0.65821326  0.6685879   0.65417867  0.66666667]\n"
     ]
    },
    {
     "data": {
      "image/png": "[encoded data removed]",
      "text/plain": [
       "<matplotlib.figure.Figure at 0x11fe5a4a8>"
      ]
     },
     "metadata": {},
     "output_type": "display_data"
    }
   ],
   "source": [
    "Y = tfidf_feature_matrix2['type_JP']\n",
    "X = tfidf_feature_matrix2.drop(drop_list, axis=1)\n",
    "\n",
    "X_train, X_test, Y_train, Y_test = train_test_split(X, Y, test_size=0.25, random_state=42)\n",
    "\n",
    "rfc_JP = ensemble.RandomForestClassifier()\n",
    "\n",
    "rfc_JP.fit(X_train, Y_train)\n",
    "\n",
    "print('\\nRandom Forest Classifier:')\n",
    "print('Training set score:', rfc_JP.score(X_train, Y_train))\n",
    "print('\\nCross Validation Scores:\\n' , cross_val_score(rfc_JP, X, Y, cv=5))  \n",
    "\n",
    "lr_JP = LogisticRegression()\n",
    "lr_JP.fit(X_train, Y_train)\n",
    "\n",
    "print('\\nLogistic Regression:')\n",
    "print('Training set score:', lr_JP.score(X_train, Y_train))\n",
    "print('\\nCross Validation Scores:\\n' , cross_val_score(lr_JP, X, Y, cv=5)) \n",
    "\n",
    "features = X.columns\n",
    "importances = rfc_JP.feature_importances_\n",
    "indices = np.argsort(importances)[::-1]\n",
    "top_k = 20\n",
    "indices = indices[:top_k]\n",
    "\n",
    "plt.title('Feature Importances')\n",
    "plt.barh(range(len(indices)), importances[indices], color='b', align='center')\n",
    "plt.yticks(range(len(indices)), features[indices])\n",
    "plt.xlabel('Relative Importance')\n",
    "plt.show()"
   ]
  },
  {
   "cell_type": "markdown",
   "metadata": {},
   "source": [
    "Despite having a bigger sample size, the Judging/Prospecting model didn't do much better. \n",
    "\n",
    "I partial attribute this to the criteria that separates the Judging from Prospecting. Judging types are more structured and like to plan whereas Propspecting types or more likely to be spontaneous and go with the flow. This may be difficult for the model to pick up on. \n",
    "\n",
    "The one word that I noticed that would be a good indicator is 'plan'. The others didn't stand out to me much."
   ]
  },
  {
   "cell_type": "markdown",
   "metadata": {},
   "source": [
    "### Thinking/Feeling Model:"
   ]
  },
  {
   "cell_type": "code",
   "execution_count": 87,
   "metadata": {},
   "outputs": [
    {
     "name": "stdout",
     "output_type": "stream",
     "text": [
      "\n",
      "Random Forest Classifier:\n",
      "Training set score: 0.989240700891\n",
      "\n",
      "Cross Validation Scores:\n",
      " [ 0.64400922  0.65821326  0.63688761  0.63804035  0.62456747]\n",
      "\n",
      "Logistic Regression:\n",
      "Training set score: 0.815247463879\n",
      "\n",
      "Cross Validation Scores:\n",
      " [ 0.78917051  0.76311239  0.7556196   0.76253602  0.7733564 ]\n"
     ]
    },
    {
     "data": {
      "image/png": "[encoded data removed]",
      "text/plain": [
       "<matplotlib.figure.Figure at 0x126dc2f60>"
      ]
     },
     "metadata": {},
     "output_type": "display_data"
    }
   ],
   "source": [
    "Y = tfidf_feature_matrix2['type_TF']\n",
    "X = tfidf_feature_matrix2.drop(drop_list, axis=1)\n",
    "\n",
    "X_train, X_test, Y_train, Y_test = train_test_split(X, Y, test_size=0.25, random_state=42)\n",
    "\n",
    "rfc_TF = ensemble.RandomForestClassifier()\n",
    "\n",
    "rfc_TF.fit(X_train, Y_train)\n",
    "\n",
    "print('\\nRandom Forest Classifier:')\n",
    "print('Training set score:', rfc_TF.score(X_train, Y_train))\n",
    "print('\\nCross Validation Scores:\\n' , cross_val_score(rfc_TF, X, Y, cv=5))  \n",
    "\n",
    "lr_TF = LogisticRegression()\n",
    "lr_TF.fit(X_train, Y_train)\n",
    "\n",
    "print('\\nLogistic Regression:')\n",
    "print('Training set score:', lr_TF.score(X_train, Y_train))\n",
    "print('\\nCross Validation Scores:\\n' , cross_val_score(lr_TF, X, Y, cv=5))  \n",
    "\n",
    "features = X.columns\n",
    "importances = rfc_TF.feature_importances_\n",
    "indices = np.argsort(importances)[::-1]\n",
    "top_k = 20\n",
    "indices = indices[:top_k]\n",
    "\n",
    "plt.title('Feature Importances')\n",
    "plt.barh(range(len(indices)), importances[indices], color='b', align='center')\n",
    "plt.yticks(range(len(indices)), features[indices])\n",
    "plt.xlabel('Relative Importance')\n",
    "plt.show()"
   ]
  },
  {
   "cell_type": "markdown",
   "metadata": {},
   "source": [
    "This model did by far the strongest which makes sense given that it had the biggest sample size. \n",
    "\n",
    "The feature importance was also very stable. Thinking/Feeling is more about how somebody will make decisions based on facts vs emotions. Thus, words like 'feel', feeling' and 'feel like' would of course point to a Feeling person whereas 'think' and 'knowledge' would indicate a Thinking person."
   ]
  },
  {
   "cell_type": "code",
   "execution_count": 98,
   "metadata": {},
   "outputs": [
    {
     "name": "stdout",
     "output_type": "stream",
     "text": [
      "#NoMoreGuns #NoMoreThoughtsAndPrayers #GunControlNow https://t.co/pkekABBxTb @LearningNerd @LearnToCodeLA I am SOOOOO gonna be there next time. Sorry, I haven't been around. Been in transition... lol @HPSupport I just moved and am having trouble reconnecting my printer to my laptop via the wifi #hpsa #hpprnt I... can't... wait!!! https://t.co/CmomgAyYnx Learning Python and now I'm a 4 kyū blue belt on @codewars! Come join me #codewarriors!. https://t.co/QkYIJelFjc Learning to code is like a reveal in a great movie. You're shocked and then realize the answer was in front of you the whole time. This is SO TRUE! And the struggles make the triumphs all the more satisfying! #javascript :-P # https://t.co/loy1KhTk9E Encountered challenges on @codewars that were similar to ones that have eluded me in the past. It's gratifying to \"get\" it now... :-P @LearningNerd @CodiePieInc @freeCodeCamp Thanks! It's like an itch I have to scratch! lol After 6 months of coding, I still end up teaching! Except now, I can teach coding too. #javascript @CodiePieInc… https://t.co/CkLrxwefTf @CodiePieInc @BottegaRomanaLA You're welcome! It was my pleasure! :-P Developing a curriculum for @CodiePieInc. The experience has DEEPENED my understanding of code in ways that I did n… https://t.co/OoJxMWsMfX I'm now a 5 kyū yellow belt on @codewars! Come join me #codewarriors!. https://t.co/QkYIJelFjc :-P https://t.co/l8hJPtIys1 Busting out with my math skills to solve @codewars problem 'Double Cola'! Didn't think I'd have to draw one of thes… https://t.co/KEq5c3todX Is it odd that I find doing coding algorithm challenges soothing? lol #JavaScript #Nerd https://t.co/7CPtZaLRXB @RoyCode11 @freeCodeCamp Great! I've heard a lot about React! I'll definitely check it out! And finding a job would be very nice! :-P @RoyCode11 @freeCodeCamp Good question! I haven't thought that far in advanced yet. Do you have any recommendations? :-P @aki29queen @freeCodeCamp Thanks! :-P @thecodezx @freeCodeCamp Thanks! :-P @valeriaoshiro @freeCodeCamp Each took me about 2 weeks! I found TTT especially complicated. And I needed to learn how to draw for Simon! @554c46 @freeCodeCamp THANKS! :-P @congratsbot THANKS! :-P @iamwakan @freeCodeCamp THANKS! :-P @webtechnelson @freeCodeCamp Thanks! It was definitely a struggle! I started not knowing ANYTHING! :-P @httpspauline Thanks! @dev_gouse @freeCodeCamp Thanks! 😀 @silkcitymedia @freeCodeCamp Thanks Richard! @valeriaoshiro @freeCodeCamp Thanks Val! I'm sure you'll be done soon. If you're not finished already! @jspadgett82 @freeCodeCamp Thanks buddy! :-P After 5-6 challenging months, I've finally completed @freeCodeCamp Front End Development Program! ☺️… https://t.co/Zexsl1y82p @jspadgett82 @freeCodeCamp Thanks! Turning in my LAST project on @freeCodeCamp : Simon! Now just have to go back and fix my portfolio page and I'll ap… https://t.co/biIrujTDke @valeriaoshiro @freeCodeCamp Sure Val! Here you go... https://t.co/D53LDVVTKl Finished Tic Tac Toe Project this past Wednesday! Onto the final project and finishing up @freeCodeCamp!!! https://t.co/QqwiEDxhO2 @MsKellyMHayes This is disgusting! SO CLOSE to finishing @freeCodeCamp front end certificate! SO CLOSE! #javascript #TicTacToe #Simon https://t.co/QCXwaAyinS @willsentance definitely! @valeriaoshiro Awesome! What time exactly? After 4 months of learning and @FreeCodeCamp, it's time to look for WERK! \"TechFair LA\" on Thursday! https://t.co/0X1ICzw1bW via @Eventbrite #MyHero https://t.co/c5CTwPkiYi @valeriaoshiro Awesome! Let me know which meetup you're going to be at and I'll do my best to show up!  :-P @valeriaoshiro Hey Val! Let's hang out soon! Miss you! :-P Just finished \"Pairwise\" on @freeCodeCamp. One challenge away from completing #JavaScript Advanced Algorithm Script… https://t.co/T4tfP3SGqs Visualizing a code challenge about permutations from @freeCodeCamp! I finally understand how to do a recursion with… https://t.co/qD8du9mXlQ With my #CodeGuru @BTunbutr learning to code at @CrossCampusLA ! #MatchingOutfits https://t.co/w43rbTr9CP It's not what you know, it's how you handle not knowing... #CodingBlues Just turned in 8 coding challenges and the results of an ALEKS online Math assessment for a job that I'm applying f… https://t.co/oeM4616Hm0 First sprint COMPLETE! Thanks @LearningNerd and @jendiamond for partnering with me on my \"visualizing fractions\" we… https://t.co/3pWjPVPs6K I just accidentally solved the \"Everything Be True\" challenge from @FreeCodeCamp . And it's LESS CODE than the other ones online! #crazy Did 4 @FreeCodeCamp challenges today! The first took 2 hrs, the 2nd took almost ALL day, and the last 2 took 15 min… https://t.co/ZhxTmiJV2m @jspadgett82 @FreeCodeCamp It's all a process! So challenging and I love it! :-P Over 1/2 way done with @FreeCodeCamp Intermediate Algorithm Scripting! It's actually easier than Basic since I KNOW… https://t.co/sBWBxjXq2h Figured out how to get #JSONP with only #javascript. Not easy. NOBODY does it with pure JS. There were no examples. But I did it! #stubborn After recovering from the knowledge overload of @girldevelopit #javascript Intermediate class, I'm almost ready to learn again... almost Thanks @nataliemac and @girldevelopit for the AWESOME Intermediate #JavaScript class! It was SUPER fun and helpful! https://t.co/qNhb0MrBJA When you code something and it doesn't work and then you try it again using the EXACT same code and then it works..… https://t.co/ZVdTgQ1jhs The brilliant @CodiePieInc teaching some eager students at our fab workshop at @ThePaintedBrain 😜 https://t.co/9FelWFbetJ @want2code @FreeCodeCamp Definitely! It's like climbing a mountain! The second Sunday of our Intermediate #JavaScript Class from @girldevelopit was sort of like \"The Empire Strikes Ba… https://t.co/tjm7zLS4Q0 This made me laugh… And cry… a little… lol #JavaScript #SlowlyButSurely https://t.co/cZ5R7LdNgn Just finished the \"Basic Algorithm Scripting\" section in @FreeCodeCamp. It was an ENORMOUS challenge and I let out… https://t.co/s6qi1XRYL7 Yesterday's @girldevelopit Intermediate JavaScript class was a godsend! Totally cleared up a ton of confusion for me! #SlowlyButSurely Thanks @LearningNerd and Daniel De La Rosa for the AWESOME Intro to JavaScript class! I learned TONS! :-P… https://t.co/kM8hPwI4jR @agenttuy Thanks for introducing it to me! I LOVE it! :-P Logic-2! DONE! :-P https://t.co/veAEplVAbC GREAT \"Intro to JavaScript\" class today. Nice to hear the info I was learning online in person. Came home and slept 11 hours. #NeededIt I just realized the other day. It's called code WRITING. I'm a WRITER! And a damn good one! No wonder why I like it so much! Why does JavaScript seem so much harder than the rest of the other stuff? https://t.co/m5OgF1qRuc Just finished Warmup-1! :-P https://t.co/oYw0zPh4fI @codingbat String-1 complete!!! https://t.co/G1ZRulvtpk It's 3:30 in the morning and I just finished Array-1... I need to get a life... lol https://t.co/k7l16bjngR Literally yelled out \"Oh my goodness!\" after solving a @codingbat Array-1 problem that I spent a few hours researching. #truecalling About a month into coding, I've accomplished a lot. But at least 3 times a day, this is how I feel... https://t.co/lZmVkvcjm2 A month into HTML and CSS and was told that I have mastery over it and asked to mentor others... My response... https://t.co/iZyuNvmkLY Spent all day, on and off, trying to solve the makeChocolate problem on @CodingBat_ . Literally solved it in the 11th hour! Just finished Logic-1 section in CodingBat for Java! Took me 2 days! Just started doing this stuff and I'm crazy ab… https://t.co/DPlti5T0TI Just solved CodingBat \"Logic-1 &gt; alarmClock\" problem ON MY OWN and I'm really excited about it! #BabySteps #SlowlyButSurely Just discovered that I REALLY enjoy computer coding! Thanks @CircadianBlue for the Java class, great teaching, and amazing support! My friend and coding guru, @BTunbutr, said I should start tweeting about my coding experiences... so here we go... :-P @GLAMathCouncil @joboaler @ncsm @SFUSDMath @growthmindset1 @Virtuouscm Where? When? So much fun! #MathRevLA https://t.co/duY0gunEwa A \"Where's Waldo\" moment. Can you find me in the pic? A great day of Math! Thanks @joboaler! #mathrevla  https://t.co/EIwGmcAxg0 @MichelleBinMA Will the have this archived? I will be at work at that time and won't be able to listen live. :-/ @amylin1962 Amazing! What you're doing is very inspiring! @PanacheDesai Is this poster available for purchase? @GraemeAnshaw #MindBlown Thank you so much for sharing! This is exactly what I was looking for! #ScrewFinalExams @MathMinds You're welcome!! :-P @MathMinds Very useful and enlightening! Thank you for sharing! @nathankraft1 @Desmos How do you make algebra tiles on Desmos? @joboaler Saw you at #cmcs15 Your work has literally changed my life and my math teaching for the better! Ignore the haters! Go Jo! @DaveRynkEDU @joboaler One of the MANY words of wisdom from an #amazing presentation! Thanks @joboaler for the inspiration to carry on! @mjfenton Thanks for posting! Was sad to have missed your talk... Definitely next time though! #CMCS15 With the #MathSquad @ the #CMCS15. Had a great time! #MyBrainHurtsAndThatsAGoodThing! https://t.co/PrUTUUK4Gc \n"
     ]
    }
   ],
   "source": [
    "import tweepy\n",
    "\n",
    "ckey = \"zLceR2GtRk7LiUMXRzLAYQ1ML\"\n",
    "csecret = \"gUQWOfGKI7voYlfLD5rpl5KiQrXQTpzIQXLmPjsaYQO3cGhefo\"\n",
    "atoken = \"819671108-WsXdRIP2tk9oBbh9ISPXAnKfVv567xPX1OsBDfSt\"\n",
    "asecret = \"FSGAGxj2atE2HKqGlLYUS3KC9NGtzc8akeqlNBDrfgc1C\"\n",
    "\n",
    "auth = tweepy.OAuthHandler(ckey, csecret)\n",
    "\n",
    "auth.set_access_token(atoken, asecret)\n",
    "\n",
    "api = tweepy.API(auth)\n",
    "\n",
    "stuff = api.user_timeline(screen_name = 'VincentCleopeGo', count = 100, include_rts = False)\n",
    "\n",
    "twitter_text = ''\n",
    "for status in stuff:\n",
    "    twitter_text += status.text\n",
    "    twitter_text += ' '\n",
    "    \n",
    "print(twitter_text)"
   ]
  },
  {
   "cell_type": "code",
   "execution_count": 100,
   "metadata": {},
   "outputs": [
    {
     "name": "stdout",
     "output_type": "stream",
     "text": [
      "nomoreguns nomorethoughtsandprayers guncontrolnow https learningnerd learntocodela sooooo gonna next time sorry around transition lol hpsupport moved trouble reconnecting printer laptop via wifi hpsa hpprnt wait https learning python kyū blue belt codewars come join codewarriors https learning code like reveal great movie shocked realize answer front whole time true struggles make triumphs satisfying javascript p https encountered challenges codewars similar ones eluded past gratifying get p learningnerd codiepieinc freecodecamp thanks like itch scratch lol months coding still end teaching except teach coding javascript codiepieinc… https codiepieinc bottegaromanala welcome pleasure p developing curriculum codiepieinc experience deepened understanding code ways n… https kyū yellow belt codewars come join codewarriors https p https busting math skills solve codewars problem double cola think draw one thes… https odd find coding algorithm challenges soothing lol javascript nerd https roycode freecodecamp great heard lot react definitely check finding job would nice p roycode freecodecamp good question thought far advanced yet recommendations p akiqueen freecodecamp thanks p thecodezx freecodecamp thanks p valeriaoshiro freecodecamp took weeks found ttt especially complicated needed learn draw simon c freecodecamp thanks p congratsbot thanks p iamwakan freecodecamp thanks p webtechnelson freecodecamp thanks definitely struggle started knowing anything p httpspauline thanks dev gouse freecodecamp thanks 😀 silkcitymedia freecodecamp thanks richard valeriaoshiro freecodecamp thanks val sure done soon finished already jspadgett freecodecamp thanks buddy p challenging months finally completed freecodecamp front end development program ☺️… https jspadgett freecodecamp thanks turning last project freecodecamp simon go back fix portfolio page ap… https valeriaoshiro freecodecamp sure val go https finished tic tac toe project past wednesday onto final project finishing freecodecamp https mskellymhayes disgusting close finishing freecodecamp front end certificate close javascript tictactoe simon https willsentance definitely valeriaoshiro awesome time exactly months learning freecodecamp time look werk techfair la thursday https via eventbrite myhero https valeriaoshiro awesome let know meetup going best show p valeriaoshiro hey val let hang soon miss p finished pairwise freecodecamp one challenge away completing javascript advanced algorithm script… https visualizing code challenge permutations freecodecamp finally understand recursion with… https codeguru btunbutr learning code crosscampusla matchingoutfits https know handle knowing codingblues turned coding challenges results aleks online math assessment job applying f… https first sprint complete thanks learningnerd jendiamond partnering visualizing fractions we… https accidentally solved everything true challenge freecodecamp less code ones online crazy freecodecamp challenges today first took hrs nd took almost day last took min… https jspadgett freecodecamp process challenging love p way done freecodecamp intermediate algorithm scripting actually easier basic since know… https figured get jsonp javascript easy nobody pure js examples stubborn recovering knowledge overload girldevelopit javascript intermediate class almost ready learn almost thanks nataliemac girldevelopit awesome intermediate javascript class super fun helpful https code something work try using exact code works … https brilliant codiepieinc teaching eager students fab workshop thepaintedbrain 😜 https wantcode freecodecamp definitely like climbing mountain second sunday intermediate javascript class girldevelopit sort like empire strikes ba… https made laugh… cry… little… lol javascript slowlybutsurely https finished basic algorithm scripting section freecodecamp enormous challenge let out… https yesterday girldevelopit intermediate javascript class godsend totally cleared ton confusion slowlybutsurely thanks learningnerd daniel de la rosa awesome intro javascript class learned tons p… https agenttuy thanks introducing love p logic done p https great intro javascript class today nice hear info learning online person came home slept hours neededit realized day called code writing writer damn good one wonder like much javascript seem much harder rest stuff https finished warmup p https codingbat string complete https morning finished array need get life lol https literally yelled oh goodness solving codingbat array problem spent hours researching truecalling month coding accomplished lot least times day feel https month html css told mastery asked mentor others response https spent day trying solve makechocolate problem codingbat literally solved th hour finished logic section codingbat java took days started stuff crazy ab… https solved codingbat logic gt alarmclock problem really excited babysteps slowlybutsurely discovered really enjoy computer coding thanks circadianblue java class great teaching amazing support friend coding guru btunbutr said start tweeting coding experiences go p glamathcouncil joboaler ncsm sfusdmath growthmindset virtuouscm much fun mathrevla https waldo moment find pic great day math thanks joboaler mathrevla https michellebinma archived work time able listen live amylin amazing inspiring panachedesai poster available purchase graemeanshaw mindblown thank much sharing exactly looking screwfinalexams mathminds welcome p mathminds useful enlightening thank sharing nathankraft desmos make algebra tiles desmos joboaler saw cmcs work literally changed life math teaching better ignore haters go jo daverynkedu joboaler one many words wisdom amazing presentation thanks joboaler inspiration carry mjfenton thanks posting sad missed talk definitely next time though cmcs mathsquad cmcs great time mybrainhurtsandthatsagoodthing https\n"
     ]
    }
   ],
   "source": [
    "twitter_text = remove_url(twitter_text)\n",
    "twitter_text = remove_puncuation(twitter_text)\n",
    "twitter_text = remove_digits(twitter_text)\n",
    "twitter_text = remove_stop_words(twitter_text)\n",
    "twitter_text = remove_extra_white_space(twitter_text)\n",
    "twitter_text = remove_types(twitter_text)\n",
    "\n",
    "print(twitter_text)"
   ]
  },
  {
   "cell_type": "code",
   "execution_count": 106,
   "metadata": {},
   "outputs": [],
   "source": [
    "tf2 = TfidfVectorizer(analyzer='word', ngram_range=(1,2), stop_words = 'english', norm='l2')\n",
    "\n",
    "my_tfidf_matrix = tf.transform([twitter_text])"
   ]
  },
  {
   "cell_type": "code",
   "execution_count": 108,
   "metadata": {},
   "outputs": [
    {
     "data": {
      "text/html": [
       "<div>\n",
       "<style>\n",
       "    .dataframe thead tr:only-child th {\n",
       "        text-align: right;\n",
       "    }\n",
       "\n",
       "    .dataframe thead th {\n",
       "        text-align: left;\n",
       "    }\n",
       "\n",
       "    .dataframe tbody tr th {\n",
       "        vertical-align: top;\n",
       "    }\n",
       "</style>\n",
       "<table border=\"1\" class=\"dataframe\">\n",
       "  <thead>\n",
       "    <tr style=\"text-align: right;\">\n",
       "      <th></th>\n",
       "      <th>ab</th>\n",
       "      <th>ab https</th>\n",
       "      <th>able</th>\n",
       "      <th>able listen</th>\n",
       "      <th>accidentally</th>\n",
       "      <th>accidentally solved</th>\n",
       "      <th>accomplished</th>\n",
       "      <th>accomplished lot</th>\n",
       "      <th>actually</th>\n",
       "      <th>actually easier</th>\n",
       "      <th>...</th>\n",
       "      <th>writer</th>\n",
       "      <th>writer damn</th>\n",
       "      <th>writing</th>\n",
       "      <th>writing writer</th>\n",
       "      <th>yelled</th>\n",
       "      <th>yelled oh</th>\n",
       "      <th>yellow</th>\n",
       "      <th>yellow belt</th>\n",
       "      <th>yesterday</th>\n",
       "      <th>yesterday girldevelopit</th>\n",
       "    </tr>\n",
       "  </thead>\n",
       "  <tbody>\n",
       "    <tr>\n",
       "      <th>0</th>\n",
       "      <td>0.013527</td>\n",
       "      <td>0.013527</td>\n",
       "      <td>0.013527</td>\n",
       "      <td>0.013527</td>\n",
       "      <td>0.013527</td>\n",
       "      <td>0.013527</td>\n",
       "      <td>0.013527</td>\n",
       "      <td>0.013527</td>\n",
       "      <td>0.013527</td>\n",
       "      <td>0.013527</td>\n",
       "      <td>...</td>\n",
       "      <td>0.013527</td>\n",
       "      <td>0.013527</td>\n",
       "      <td>0.013527</td>\n",
       "      <td>0.013527</td>\n",
       "      <td>0.013527</td>\n",
       "      <td>0.013527</td>\n",
       "      <td>0.013527</td>\n",
       "      <td>0.013527</td>\n",
       "      <td>0.013527</td>\n",
       "      <td>0.013527</td>\n",
       "    </tr>\n",
       "  </tbody>\n",
       "</table>\n",
       "<p>1 rows × 1031 columns</p>\n",
       "</div>"
      ],
      "text/plain": [
       "         ab  ab https      able  able listen  accidentally  \\\n",
       "0  0.013527  0.013527  0.013527     0.013527      0.013527   \n",
       "\n",
       "   accidentally solved  accomplished  accomplished lot  actually  \\\n",
       "0             0.013527      0.013527          0.013527  0.013527   \n",
       "\n",
       "   actually easier           ...               writer  writer damn   writing  \\\n",
       "0         0.013527           ...             0.013527     0.013527  0.013527   \n",
       "\n",
       "   writing writer    yelled  yelled oh    yellow  yellow belt  yesterday  \\\n",
       "0        0.013527  0.013527   0.013527  0.013527     0.013527   0.013527   \n",
       "\n",
       "   yesterday girldevelopit  \n",
       "0                 0.013527  \n",
       "\n",
       "[1 rows x 1031 columns]"
      ]
     },
     "execution_count": 108,
     "metadata": {},
     "output_type": "execute_result"
    }
   ],
   "source": [
    "my_tfidf_feature_matrix = pd.DataFrame(my_tfidf_matrix.toarray(), columns=tf2.get_feature_names())\n",
    "my_tfidf_feature_matrix.head()"
   ]
  },
  {
   "cell_type": "code",
   "execution_count": 109,
   "metadata": {},
   "outputs": [
    {
     "ename": "ValueError",
     "evalue": "X has 1031 features per sample; expecting 755",
     "output_type": "error",
     "traceback": [
      "\u001b[0;31m---------------------------------------------------------------------------\u001b[0m",
      "\u001b[0;31mValueError\u001b[0m                                Traceback (most recent call last)",
      "\u001b[0;32m<ipython-input-109-16c10fc0de42>\u001b[0m in \u001b[0;36m<module>\u001b[0;34m()\u001b[0m\n\u001b[0;32m----> 1\u001b[0;31m \u001b[0mlr_TF\u001b[0m\u001b[0;34m.\u001b[0m\u001b[0mpredict\u001b[0m\u001b[0;34m(\u001b[0m\u001b[0mmy_tfidf_feature_matrix\u001b[0m\u001b[0;34m)\u001b[0m\u001b[0;34m\u001b[0m\u001b[0m\n\u001b[0m",
      "\u001b[0;32m/Library/Frameworks/Python.framework/Versions/3.5/lib/python3.5/site-packages/sklearn/linear_model/base.py\u001b[0m in \u001b[0;36mpredict\u001b[0;34m(self, X)\u001b[0m\n\u001b[1;32m    322\u001b[0m             \u001b[0mPredicted\u001b[0m \u001b[0;32mclass\u001b[0m \u001b[0mlabel\u001b[0m \u001b[0mper\u001b[0m \u001b[0msample\u001b[0m\u001b[0;34m.\u001b[0m\u001b[0;34m\u001b[0m\u001b[0m\n\u001b[1;32m    323\u001b[0m         \"\"\"\n\u001b[0;32m--> 324\u001b[0;31m         \u001b[0mscores\u001b[0m \u001b[0;34m=\u001b[0m \u001b[0mself\u001b[0m\u001b[0;34m.\u001b[0m\u001b[0mdecision_function\u001b[0m\u001b[0;34m(\u001b[0m\u001b[0mX\u001b[0m\u001b[0;34m)\u001b[0m\u001b[0;34m\u001b[0m\u001b[0m\n\u001b[0m\u001b[1;32m    325\u001b[0m         \u001b[0;32mif\u001b[0m \u001b[0mlen\u001b[0m\u001b[0;34m(\u001b[0m\u001b[0mscores\u001b[0m\u001b[0;34m.\u001b[0m\u001b[0mshape\u001b[0m\u001b[0;34m)\u001b[0m \u001b[0;34m==\u001b[0m \u001b[0;36m1\u001b[0m\u001b[0;34m:\u001b[0m\u001b[0;34m\u001b[0m\u001b[0m\n\u001b[1;32m    326\u001b[0m             \u001b[0mindices\u001b[0m \u001b[0;34m=\u001b[0m \u001b[0;34m(\u001b[0m\u001b[0mscores\u001b[0m \u001b[0;34m>\u001b[0m \u001b[0;36m0\u001b[0m\u001b[0;34m)\u001b[0m\u001b[0;34m.\u001b[0m\u001b[0mastype\u001b[0m\u001b[0;34m(\u001b[0m\u001b[0mnp\u001b[0m\u001b[0;34m.\u001b[0m\u001b[0mint\u001b[0m\u001b[0;34m)\u001b[0m\u001b[0;34m\u001b[0m\u001b[0m\n",
      "\u001b[0;32m/Library/Frameworks/Python.framework/Versions/3.5/lib/python3.5/site-packages/sklearn/linear_model/base.py\u001b[0m in \u001b[0;36mdecision_function\u001b[0;34m(self, X)\u001b[0m\n\u001b[1;32m    303\u001b[0m         \u001b[0;32mif\u001b[0m \u001b[0mX\u001b[0m\u001b[0;34m.\u001b[0m\u001b[0mshape\u001b[0m\u001b[0;34m[\u001b[0m\u001b[0;36m1\u001b[0m\u001b[0;34m]\u001b[0m \u001b[0;34m!=\u001b[0m \u001b[0mn_features\u001b[0m\u001b[0;34m:\u001b[0m\u001b[0;34m\u001b[0m\u001b[0m\n\u001b[1;32m    304\u001b[0m             raise ValueError(\"X has %d features per sample; expecting %d\"\n\u001b[0;32m--> 305\u001b[0;31m                              % (X.shape[1], n_features))\n\u001b[0m\u001b[1;32m    306\u001b[0m \u001b[0;34m\u001b[0m\u001b[0m\n\u001b[1;32m    307\u001b[0m         scores = safe_sparse_dot(X, self.coef_.T,\n",
      "\u001b[0;31mValueError\u001b[0m: X has 1031 features per sample; expecting 755"
     ]
    }
   ],
   "source": [
    "lr_TF.predict(my_tfidf_feature_matrix)"
   ]
  },
  {
   "cell_type": "code",
   "execution_count": null,
   "metadata": {},
   "outputs": [],
   "source": []
  }
 ],
 "metadata": {
  "kernelspec": {
   "display_name": "Python 3",
   "language": "python",
   "name": "python3"
  },
  "language_info": {
   "codemirror_mode": {
    "name": "ipython",
    "version": 3
   },
   "file_extension": ".py",
   "mimetype": "text/x-python",
   "name": "python",
   "nbconvert_exporter": "python",
   "pygments_lexer": "ipython3",
   "version": "3.5.2"
  }
 },
 "nbformat": 4,
 "nbformat_minor": 2
}
