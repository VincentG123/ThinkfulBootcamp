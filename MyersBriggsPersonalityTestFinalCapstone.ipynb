{
 "cells": [
  {
   "cell_type": "markdown",
   "metadata": {},
   "source": [
    "# Adventures in P-Typing\n",
    "### Using Natural Language Processing and Data Science to Explore the Myers-Briggs Personality Test"
   ]
  },
  {
   "cell_type": "markdown",
   "metadata": {},
   "source": [
    "## Introduction\n",
    "\n",
    "The Myers-Brigs Type Indicator (MBTI) is a self-assessment questionnaire which helps people gain insight into how they work and learn. The test was developed by the mother-daughter partnership of Katharine Briggs and Isabel Briggs-Myers and is based on the typological theory of Carl Jung. The length of the test can range from 93 to 222 items that serve to identify a participant's personality type based on four key preferences on how they interract and deal with the world around them. \n",
    "\n",
    "These preferances are choices between the following:\n",
    "1. People and things- Extraversion (E) vs Ideas and information- Introversion (I)\n",
    "2. Facts and reality- Sensing (S) vs Possibilities and potential- Intuition (N)\n",
    "3. Logic and truth- Thinking (T) vs Values and relationships- Feeling (F)\n",
    "4. A lifestyle that is well-structured- Judgment (J) vs One that goes with the flow- Perception (P) \n",
    "\n",
    "The combination of these 4 preferences will determine which personality type a person would fall into. For example, an Extroverted, Sensing, Thinking, Judgment based person would be categorized as an ESTJ personality type. This particular type is labeled the \"Executive\" and is described as being dedicated, strong-willed, direct, loyal, patient, reliable, and well-ordered.   \n",
    "\n",
    "There are 16 types in total as well as another category that indicates the level of confidence one has in their abilities which ranges from Assertive (A) to Turbulent (T). But for the purposes of this project, that last category will be left out.\n",
    "\n",
    "## The Project\n",
    "\n",
    "My intent is to use text samples from the different personality types to build a predictive model. \n",
    "\n",
    "As stated earlier, the MBTI can range from 93 to 222 items. Would it be possible to avoid having to take the test and get one's personality type based off of their writing samples alone?\n",
    "\n",
    "## The Dataset\n",
    "\n",
    "I found this [dataset](https://www.kaggle.com/datasnaek/mbti-type) on the Kaggle website. It is a collection of the last 50 forum posts from 8675 members of the [Personality Cafe](http://personalitycafe.com) community. Personality Cafe is an online platform that describes itself as \"a community dedicated to helping you develop your personality through interactions with people who have the same personality as you\".\n",
    "\n",
    "## The Analysis\n",
    "\n",
    "### Importing Data"
   ]
  },
  {
   "cell_type": "code",
   "execution_count": 1,
   "metadata": {},
   "outputs": [],
   "source": [
    "import numpy as np\n",
    "import pandas as pd\n",
    "import matplotlib.pyplot as plt\n",
    "import seaborn as sns"
   ]
  },
  {
   "cell_type": "code",
   "execution_count": 2,
   "metadata": {},
   "outputs": [],
   "source": [
    "data_download = pd.read_csv('mbti_1.csv')"
   ]
  },
  {
   "cell_type": "code",
   "execution_count": 104,
   "metadata": {},
   "outputs": [],
   "source": [
    "data = data_download.copy()"
   ]
  },
  {
   "cell_type": "markdown",
   "metadata": {},
   "source": [
    "We start with 2 columns and 8675 rows of data. One column is the represents the personality type and the other is represents the posts."
   ]
  },
  {
   "cell_type": "code",
   "execution_count": 105,
   "metadata": {},
   "outputs": [
    {
     "name": "stdout",
     "output_type": "stream",
     "text": [
      "(8675, 2)\n"
     ]
    },
    {
     "data": {
      "text/html": [
       "<div>\n",
       "<style>\n",
       "    .dataframe thead tr:only-child th {\n",
       "        text-align: right;\n",
       "    }\n",
       "\n",
       "    .dataframe thead th {\n",
       "        text-align: left;\n",
       "    }\n",
       "\n",
       "    .dataframe tbody tr th {\n",
       "        vertical-align: top;\n",
       "    }\n",
       "</style>\n",
       "<table border=\"1\" class=\"dataframe\">\n",
       "  <thead>\n",
       "    <tr style=\"text-align: right;\">\n",
       "      <th></th>\n",
       "      <th>type</th>\n",
       "      <th>posts</th>\n",
       "    </tr>\n",
       "  </thead>\n",
       "  <tbody>\n",
       "    <tr>\n",
       "      <th>0</th>\n",
       "      <td>INFJ</td>\n",
       "      <td>'http://www.youtube.com/watch?v=qsXHcwe3krw|||http://41.media.tumblr.com/tumblr_lfouy03PMA1qa1ro...</td>\n",
       "    </tr>\n",
       "    <tr>\n",
       "      <th>1</th>\n",
       "      <td>ENTP</td>\n",
       "      <td>'I'm finding the lack of me in these posts very alarming.|||Sex can be boring if it's in the sam...</td>\n",
       "    </tr>\n",
       "    <tr>\n",
       "      <th>2</th>\n",
       "      <td>INTP</td>\n",
       "      <td>'Good one  _____   https://www.youtube.com/watch?v=fHiGbolFFGw|||Of course, to which I say I kno...</td>\n",
       "    </tr>\n",
       "    <tr>\n",
       "      <th>3</th>\n",
       "      <td>INTJ</td>\n",
       "      <td>'Dear INTP,   I enjoyed our conversation the other day.  Esoteric gabbing about the nature of th...</td>\n",
       "    </tr>\n",
       "    <tr>\n",
       "      <th>4</th>\n",
       "      <td>ENTJ</td>\n",
       "      <td>'You're fired.|||That's another silly misconception. That approaching is logically is going to b...</td>\n",
       "    </tr>\n",
       "  </tbody>\n",
       "</table>\n",
       "</div>"
      ],
      "text/plain": [
       "   type  \\\n",
       "0  INFJ   \n",
       "1  ENTP   \n",
       "2  INTP   \n",
       "3  INTJ   \n",
       "4  ENTJ   \n",
       "\n",
       "                                                                                                 posts  \n",
       "0  'http://www.youtube.com/watch?v=qsXHcwe3krw|||http://41.media.tumblr.com/tumblr_lfouy03PMA1qa1ro...  \n",
       "1  'I'm finding the lack of me in these posts very alarming.|||Sex can be boring if it's in the sam...  \n",
       "2  'Good one  _____   https://www.youtube.com/watch?v=fHiGbolFFGw|||Of course, to which I say I kno...  \n",
       "3  'Dear INTP,   I enjoyed our conversation the other day.  Esoteric gabbing about the nature of th...  \n",
       "4  'You're fired.|||That's another silly misconception. That approaching is logically is going to b...  "
      ]
     },
     "execution_count": 105,
     "metadata": {},
     "output_type": "execute_result"
    }
   ],
   "source": [
    "print(data.shape)\n",
    "pd.options.display.max_colwidth = 100\n",
    "data.head()"
   ]
  },
  {
   "cell_type": "markdown",
   "metadata": {},
   "source": [
    "### Initial Exploration\n",
    "\n",
    "The graph below indicates that there is a vast imbalance in the representation of the different personality types.  This does not bode well for building a model that is capible of accurately predicting the different categories.\n",
    "\n",
    "The biggest group, INFP, has over 1,750 samples whereas the smallest group, ESTJ, has less than 50. I find it fascinating that these two groups are the exact opposite of one another. INFP stands for __I__ntrovert, I__n__tuitive, __F__eeling, and __P__rospecting while ESTJ stands for __E__xtrovert, __S__ensing, __T__hinking, and __J__udging. Perhaps it is the polarization of their traights that led them to being represented as such. \n",
    "\n",
    "I also find it interesting that the top four groups start with IN (Introvert/Intuitive) while the bottom four start with ES (Extrovert/Sensing). It would make sense that introverted people would spend more time communicating with other via these message boards while entroverts would prefer to interract with people in person. Also, it would be more likely that Intuitive people would enjoy the theoretical and complex topic of personality while sensing people maybe turned off by its lack of concrete definition."
   ]
  },
  {
   "cell_type": "code",
   "execution_count": 84,
   "metadata": {},
   "outputs": [
    {
     "data": {
      "image/png": "[encoded data removed]",
      "text/plain": [
       "<matplotlib.figure.Figure at 0x116b1ed68>"
      ]
     },
     "metadata": {},
     "output_type": "display_data"
    }
   ],
   "source": [
    "plt.rcParams['figure.figsize'] = (20.0, 10.0)\n",
    "sns.countplot(x=\"type\", data=data, order = data.type.value_counts().index)\n",
    "plt.show()"
   ]
  },
  {
   "cell_type": "markdown",
   "metadata": {},
   "source": [
    "Here is a bigger look at the text.\n",
    "\n",
    "I see that I'll have to get rid of the ||| separators and a few embedded links. I will replace the links with 'https' since the presence of links may be a useful predictive feature.\n",
    "\n",
    "I see too that the writer mentions their personality classification. In this case, 'ENTP'. I will remove that since I would like to create a model that can predict the personality classification of people who are not aware of their classifications. Although even with the ommision of the types, I'm certain that this self awareness and the fact that these posts come from a forum where people explore and discuss the meaning of their personality types would still play a factor in the success of the model. "
   ]
  },
  {
   "cell_type": "code",
   "execution_count": 6,
   "metadata": {},
   "outputs": [
    {
     "name": "stdout",
     "output_type": "stream",
     "text": [
      "posts    'I'm finding the lack of me in these posts very alarming.|||Sex can be boring if it's in the same position often. For example me and my girlfriend are currently in an environment where we have to creatively use cowgirl and missionary. There isn't enough...|||Giving new meaning to 'Game' theory.|||Hello *ENTP Grin*  That's all it takes. Than we converse and they do most of the flirting while I acknowledge their presence and return their words with smooth wordplay and more cheeky grins.|||This + Lack of Balance and Hand Eye Coordination.|||Real IQ test I score 127. Internet IQ tests are funny. I score 140s or higher.  Now, like the former responses of this thread I will mention that I don't believe in the IQ test. Before you banish...|||You know you're an ENTP when you vanish from a site for a year and a half, return, and find people are still commenting on your posts and liking your ideas/thoughts. You know you're an ENTP when you...|||http://img188.imageshack.us/img188/6422/6020d1f...\n",
      "Name: 1, dtype: object\n"
     ]
    }
   ],
   "source": [
    "pd.options.display.max_colwidth = 1000\n",
    "print(data.loc[1,['posts']])"
   ]
  },
  {
   "cell_type": "markdown",
   "metadata": {},
   "source": [
    "### Processing the Data\n",
    "\n",
    "As with all text samples, there is some data processing to be done.\n",
    "\n",
    "For clean up, I will do the following:\n",
    "\n",
    "1.  replace urls with 'https'\n",
    "2.  punctuation removal (and other random symbols)\n",
    "3.  remove digits \n",
    "4.  lowercase and stop word removal\n",
    "5.  remove excess white space\n",
    "6.  remove the types"
   ]
  },
  {
   "cell_type": "code",
   "execution_count": 85,
   "metadata": {},
   "outputs": [],
   "source": [
    "import re\n",
    "from string import punctuation\n",
    "from nltk.corpus import stopwords"
   ]
  },
  {
   "cell_type": "code",
   "execution_count": 106,
   "metadata": {},
   "outputs": [],
   "source": [
    "def remove_url(x):\n",
    "    x = re.sub(r'(?i)\\b((?:https?://|www\\d{0,3}[.]|[a-z0-9.\\-]+[.][a-z]{2,4}     /)(?:[^\\s()<>]+|\\(([^\\s()<>]+|(\\([^\\s()<>]+\\)))*\\))+(?:\\(([^\\s()<>]+|(\\([^\\s()<>]+\\)))*\\)|[^\\s`!()\\[\\]{};:\\'\".,<>?«»“”‘’]))', 'https', x)\n",
    "    return x\n",
    "data.posts = data.posts.apply(remove_url)"
   ]
  },
  {
   "cell_type": "code",
   "execution_count": 107,
   "metadata": {},
   "outputs": [],
   "source": [
    "punctuation_symbols = []\n",
    "\n",
    "for each in list(punctuation):\n",
    "    punctuation_symbols.append((each, ' '))\n",
    "    \n",
    "def remove_puncuation(x):\n",
    "    for each in punctuation_symbols:\n",
    "        x = x.replace(*each)\n",
    "    return x\n",
    "\n",
    "data.posts = data.posts.apply(remove_puncuation)"
   ]
  },
  {
   "cell_type": "code",
   "execution_count": 108,
   "metadata": {},
   "outputs": [],
   "source": [
    "def remove_digits(x):\n",
    "    x = ''.join([i for i in x if not i.isdigit()])\n",
    "    return x\n",
    "\n",
    "data.posts = data.posts.apply(remove_digits)"
   ]
  },
  {
   "cell_type": "code",
   "execution_count": 109,
   "metadata": {},
   "outputs": [],
   "source": [
    "stop = stopwords.words('english')\n",
    "\n",
    "def remove_stop_words(x):\n",
    "    x = ' '.join([i for i in x.lower().split(' ') if i not in stop])\n",
    "    return x\n",
    "\n",
    "data.posts = data.posts.apply(remove_stop_words)"
   ]
  },
  {
   "cell_type": "code",
   "execution_count": 110,
   "metadata": {},
   "outputs": [],
   "source": [
    "def remove_extra_white_space(x):\n",
    "    x = ' '.join(x.split())\n",
    "    return x\n",
    "\n",
    "data.posts = data.posts.apply(remove_extra_white_space)"
   ]
  },
  {
   "cell_type": "code",
   "execution_count": 111,
   "metadata": {},
   "outputs": [],
   "source": [
    "def remove_types(x):\n",
    "    x = re.sub(r'(i|e)(n|s)(t|f)(j|p)\\w*|\\b(ne|sx|ni|ti|fe|nt)\\b', '', x)\n",
    "    return x\n",
    "\n",
    "data.posts = data.posts.apply(remove_types)"
   ]
  },
  {
   "cell_type": "markdown",
   "metadata": {},
   "source": [
    "Looking at the cleaned up text, I see that there are still issues with some Myers-Briggs abbreviations such as 'e', 'j', 'p', 'ne', 'ti', and 'si'. I will leave these in for now since I don't know enough about the MBIT to do a thorough job of removing them all. "
   ]
  },
  {
   "cell_type": "code",
   "execution_count": 113,
   "metadata": {},
   "outputs": [
    {
     "name": "stdout",
     "output_type": "stream",
     "text": [
      "posts    finding lack posts alarming sex boring position often example girlfriend currently environment creatively use cowgirl missionary enough giving new meaning game theory hello  grin takes converse flirting acknowledge presence return words smooth wordplay cheeky grins lack balance hand eye coordination real iq test score internet iq tests funny score higher like former responses thread mention believe iq test banish know  vanish site year half return find people still commenting posts liking ideas thoughts know  https think things sometimes go old sherlock holmes quote perhaps man special knowledge special powers like rather encourages seek complex cheshirewolf tumblr com post really never thought e j p real functions judge use use   dominates  emotions rarely si also use  due strength know though ingenious saying really want try see happens playing first person shooter back drive around want see look rock paper one best makes lol guys lucky really high tumblr system hear new first pe...\n",
      "Name: 1, dtype: object\n"
     ]
    }
   ],
   "source": [
    "pd.options.display.max_colwidth = 1000\n",
    "print(data.loc[1,['posts']])"
   ]
  },
  {
   "cell_type": "markdown",
   "metadata": {},
   "source": [
    "## Predictive Model Using TF-IDF Words as Features\n",
    "\n",
    "I will now use the cleaned up text and input into the TF-IDF Vectorizer. From there, I will create my predictive models."
   ]
  },
  {
   "cell_type": "code",
   "execution_count": 14,
   "metadata": {},
   "outputs": [],
   "source": [
    "from sklearn.feature_extraction.text import TfidfVectorizer"
   ]
  },
  {
   "cell_type": "code",
   "execution_count": 28,
   "metadata": {},
   "outputs": [],
   "source": [
    "tf = TfidfVectorizer(analyzer='word', ngram_range=(1,2), min_df = 0.02, stop_words = 'english', norm='l2')"
   ]
  },
  {
   "cell_type": "code",
   "execution_count": 114,
   "metadata": {},
   "outputs": [
    {
     "name": "stdout",
     "output_type": "stream",
     "text": [
      "Number of documents: 8675 , number of features: 3462\n"
     ]
    }
   ],
   "source": [
    "# fit & transform\n",
    "tfidf_matrix = tf.fit_transform(data.posts)\n",
    "\n",
    "print('Number of documents:', tfidf_matrix.shape[0], ', number of features:', tfidf_matrix.shape[1])"
   ]
  },
  {
   "cell_type": "code",
   "execution_count": 115,
   "metadata": {},
   "outputs": [
    {
     "data": {
      "text/html": [
       "<div>\n",
       "<style>\n",
       "    .dataframe thead tr:only-child th {\n",
       "        text-align: right;\n",
       "    }\n",
       "\n",
       "    .dataframe thead th {\n",
       "        text-align: left;\n",
       "    }\n",
       "\n",
       "    .dataframe tbody tr th {\n",
       "        vertical-align: top;\n",
       "    }\n",
       "</style>\n",
       "<table border=\"1\" class=\"dataframe\">\n",
       "  <thead>\n",
       "    <tr style=\"text-align: right;\">\n",
       "      <th></th>\n",
       "      <th>abilities</th>\n",
       "      <th>ability</th>\n",
       "      <th>able</th>\n",
       "      <th>absolute</th>\n",
       "      <th>absolutely</th>\n",
       "      <th>absolutely love</th>\n",
       "      <th>abstract</th>\n",
       "      <th>absurd</th>\n",
       "      <th>abuse</th>\n",
       "      <th>abusive</th>\n",
       "      <th>...</th>\n",
       "      <th>yes yes</th>\n",
       "      <th>yesterday</th>\n",
       "      <th>yo</th>\n",
       "      <th>young</th>\n",
       "      <th>younger</th>\n",
       "      <th>youth</th>\n",
       "      <th>youtube</th>\n",
       "      <th>yup</th>\n",
       "      <th>zero</th>\n",
       "      <th>zone</th>\n",
       "    </tr>\n",
       "  </thead>\n",
       "  <tbody>\n",
       "    <tr>\n",
       "      <th>0</th>\n",
       "      <td>0.0</td>\n",
       "      <td>0.000000</td>\n",
       "      <td>0.000000</td>\n",
       "      <td>0.000000</td>\n",
       "      <td>0.000000</td>\n",
       "      <td>0.0</td>\n",
       "      <td>0.0</td>\n",
       "      <td>0.0</td>\n",
       "      <td>0.0</td>\n",
       "      <td>0.0</td>\n",
       "      <td>...</td>\n",
       "      <td>0.0</td>\n",
       "      <td>0.0</td>\n",
       "      <td>0.083408</td>\n",
       "      <td>0.0</td>\n",
       "      <td>0.0</td>\n",
       "      <td>0.0</td>\n",
       "      <td>0.0</td>\n",
       "      <td>0.00000</td>\n",
       "      <td>0.0</td>\n",
       "      <td>0.0</td>\n",
       "    </tr>\n",
       "    <tr>\n",
       "      <th>1</th>\n",
       "      <td>0.0</td>\n",
       "      <td>0.000000</td>\n",
       "      <td>0.030959</td>\n",
       "      <td>0.000000</td>\n",
       "      <td>0.000000</td>\n",
       "      <td>0.0</td>\n",
       "      <td>0.0</td>\n",
       "      <td>0.0</td>\n",
       "      <td>0.0</td>\n",
       "      <td>0.0</td>\n",
       "      <td>...</td>\n",
       "      <td>0.0</td>\n",
       "      <td>0.0</td>\n",
       "      <td>0.000000</td>\n",
       "      <td>0.0</td>\n",
       "      <td>0.0</td>\n",
       "      <td>0.0</td>\n",
       "      <td>0.0</td>\n",
       "      <td>0.00000</td>\n",
       "      <td>0.0</td>\n",
       "      <td>0.0</td>\n",
       "    </tr>\n",
       "    <tr>\n",
       "      <th>2</th>\n",
       "      <td>0.0</td>\n",
       "      <td>0.108738</td>\n",
       "      <td>0.037717</td>\n",
       "      <td>0.000000</td>\n",
       "      <td>0.090886</td>\n",
       "      <td>0.0</td>\n",
       "      <td>0.0</td>\n",
       "      <td>0.0</td>\n",
       "      <td>0.0</td>\n",
       "      <td>0.0</td>\n",
       "      <td>...</td>\n",
       "      <td>0.0</td>\n",
       "      <td>0.0</td>\n",
       "      <td>0.000000</td>\n",
       "      <td>0.0</td>\n",
       "      <td>0.0</td>\n",
       "      <td>0.0</td>\n",
       "      <td>0.0</td>\n",
       "      <td>0.06969</td>\n",
       "      <td>0.0</td>\n",
       "      <td>0.0</td>\n",
       "    </tr>\n",
       "    <tr>\n",
       "      <th>3</th>\n",
       "      <td>0.0</td>\n",
       "      <td>0.000000</td>\n",
       "      <td>0.064002</td>\n",
       "      <td>0.060133</td>\n",
       "      <td>0.000000</td>\n",
       "      <td>0.0</td>\n",
       "      <td>0.0</td>\n",
       "      <td>0.0</td>\n",
       "      <td>0.0</td>\n",
       "      <td>0.0</td>\n",
       "      <td>...</td>\n",
       "      <td>0.0</td>\n",
       "      <td>0.0</td>\n",
       "      <td>0.000000</td>\n",
       "      <td>0.0</td>\n",
       "      <td>0.0</td>\n",
       "      <td>0.0</td>\n",
       "      <td>0.0</td>\n",
       "      <td>0.00000</td>\n",
       "      <td>0.0</td>\n",
       "      <td>0.0</td>\n",
       "    </tr>\n",
       "    <tr>\n",
       "      <th>4</th>\n",
       "      <td>0.0</td>\n",
       "      <td>0.000000</td>\n",
       "      <td>0.000000</td>\n",
       "      <td>0.000000</td>\n",
       "      <td>0.000000</td>\n",
       "      <td>0.0</td>\n",
       "      <td>0.0</td>\n",
       "      <td>0.0</td>\n",
       "      <td>0.0</td>\n",
       "      <td>0.0</td>\n",
       "      <td>...</td>\n",
       "      <td>0.0</td>\n",
       "      <td>0.0</td>\n",
       "      <td>0.000000</td>\n",
       "      <td>0.0</td>\n",
       "      <td>0.0</td>\n",
       "      <td>0.0</td>\n",
       "      <td>0.0</td>\n",
       "      <td>0.00000</td>\n",
       "      <td>0.0</td>\n",
       "      <td>0.0</td>\n",
       "    </tr>\n",
       "  </tbody>\n",
       "</table>\n",
       "<p>5 rows × 3462 columns</p>\n",
       "</div>"
      ],
      "text/plain": [
       "   abilities   ability      able  absolute  absolutely  absolutely love  \\\n",
       "0        0.0  0.000000  0.000000  0.000000    0.000000              0.0   \n",
       "1        0.0  0.000000  0.030959  0.000000    0.000000              0.0   \n",
       "2        0.0  0.108738  0.037717  0.000000    0.090886              0.0   \n",
       "3        0.0  0.000000  0.064002  0.060133    0.000000              0.0   \n",
       "4        0.0  0.000000  0.000000  0.000000    0.000000              0.0   \n",
       "\n",
       "   abstract  absurd  abuse  abusive  ...   yes yes  yesterday        yo  \\\n",
       "0       0.0     0.0    0.0      0.0  ...       0.0        0.0  0.083408   \n",
       "1       0.0     0.0    0.0      0.0  ...       0.0        0.0  0.000000   \n",
       "2       0.0     0.0    0.0      0.0  ...       0.0        0.0  0.000000   \n",
       "3       0.0     0.0    0.0      0.0  ...       0.0        0.0  0.000000   \n",
       "4       0.0     0.0    0.0      0.0  ...       0.0        0.0  0.000000   \n",
       "\n",
       "   young  younger  youth  youtube      yup  zero  zone  \n",
       "0    0.0      0.0    0.0      0.0  0.00000   0.0   0.0  \n",
       "1    0.0      0.0    0.0      0.0  0.00000   0.0   0.0  \n",
       "2    0.0      0.0    0.0      0.0  0.06969   0.0   0.0  \n",
       "3    0.0      0.0    0.0      0.0  0.00000   0.0   0.0  \n",
       "4    0.0      0.0    0.0      0.0  0.00000   0.0   0.0  \n",
       "\n",
       "[5 rows x 3462 columns]"
      ]
     },
     "execution_count": 115,
     "metadata": {},
     "output_type": "execute_result"
    }
   ],
   "source": [
    "tfidf_feature_matrix = pd.DataFrame(tfidf_matrix.toarray(), columns=tf.get_feature_names())\n",
    "tfidf_feature_matrix.head()"
   ]
  },
  {
   "cell_type": "code",
   "execution_count": 19,
   "metadata": {},
   "outputs": [],
   "source": [
    "from sklearn import ensemble\n",
    "from sklearn.model_selection import train_test_split"
   ]
  },
  {
   "cell_type": "code",
   "execution_count": 116,
   "metadata": {},
   "outputs": [
    {
     "name": "stdout",
     "output_type": "stream",
     "text": [
      "\n",
      "Random Forest Classifier:\n",
      "Training set score: 0.993544420535\n",
      "Test set score: 0.22683264177\n"
     ]
    }
   ],
   "source": [
    "X = tfidf_feature_matrix\n",
    "Y = data['type']\n",
    "\n",
    "X_train, X_test, Y_train, Y_test = train_test_split(X, Y, test_size=0.25, random_state=42)\n",
    "\n",
    "rfc = ensemble.RandomForestClassifier()\n",
    "\n",
    "rfc.fit(X_train, Y_train)\n",
    "\n",
    "print('\\nRandom Forest Classifier:')\n",
    "print('Training set score:', rfc.score(X_train, Y_train))\n",
    "print('Test set score:', rfc.score(X_test, Y_test)) "
   ]
  },
  {
   "cell_type": "code",
   "execution_count": 21,
   "metadata": {},
   "outputs": [],
   "source": [
    "from sklearn.linear_model import LogisticRegression"
   ]
  },
  {
   "cell_type": "code",
   "execution_count": 117,
   "metadata": {},
   "outputs": [
    {
     "name": "stdout",
     "output_type": "stream",
     "text": [
      "\n",
      "Logistic Regression:\n",
      "Training set score: 0.584229941592\n",
      "Test set score: 0.368372521899\n"
     ]
    }
   ],
   "source": [
    "lr = LogisticRegression()\n",
    "lr.fit(X_train, Y_train)\n",
    "\n",
    "print('\\nLogistic Regression:')\n",
    "print('Training set score:', lr.score(X_train, Y_train))\n",
    "print('Test set score:', lr.score(X_test, Y_test))"
   ]
  },
  {
   "cell_type": "markdown",
   "metadata": {},
   "source": [
    "As somewhat expected, neither the Random Forest Classifier nor the Logistic Regression models did very well. This is primarily due to the fact that several of the groups were ill represented. \n",
    "\n",
    "The following confusion matrix supports that hypothesis as the 'IN' personality types are the ones that were identified most often. They also had higher recall and precision scores."
   ]
  },
  {
   "cell_type": "code",
   "execution_count": 118,
   "metadata": {},
   "outputs": [
    {
     "data": {
      "image/png": "[encoded data removed]",
      "text/plain": [
       "<matplotlib.figure.Figure at 0x116d274a8>"
      ]
     },
     "metadata": {},
     "output_type": "display_data"
    },
    {
     "name": "stdout",
     "output_type": "stream",
     "text": [
      "             precision    recall  f1-score   support\n",
      "\n",
      "       ENFJ       0.00      0.00      0.00        49\n",
      "       ENFP       0.35      0.16      0.22       160\n",
      "       ENTJ       0.00      0.00      0.00        51\n",
      "       ENTP       0.22      0.06      0.09       165\n",
      "       ESFJ       0.00      0.00      0.00         8\n",
      "       ESFP       0.00      0.00      0.00         8\n",
      "       ESTJ       0.00      0.00      0.00        12\n",
      "       ESTP       0.00      0.00      0.00        20\n",
      "       INFJ       0.33      0.43      0.37       361\n",
      "       INFP       0.40      0.70      0.51       475\n",
      "       INTJ       0.33      0.37      0.35       251\n",
      "       INTP       0.39      0.52      0.45       350\n",
      "       ISFJ       0.00      0.00      0.00        54\n",
      "       ISFP       0.00      0.00      0.00        64\n",
      "       ISTJ       1.00      0.02      0.04        56\n",
      "       ISTP       0.50      0.01      0.02        85\n",
      "\n",
      "avg / total       0.33      0.37      0.31      2169\n",
      "\n"
     ]
    },
    {
     "name": "stderr",
     "output_type": "stream",
     "text": [
      "/Library/Frameworks/Python.framework/Versions/3.5/lib/python3.5/site-packages/sklearn/metrics/classification.py:1135: UndefinedMetricWarning: Precision and F-score are ill-defined and being set to 0.0 in labels with no predicted samples.\n",
      "  'precision', 'predicted', average, warn_for)\n"
     ]
    }
   ],
   "source": [
    "from sklearn.metrics import confusion_matrix\n",
    "personality_types = sorted(data.type.unique())\n",
    "\n",
    "Y_pred = lr.predict(X_test)\n",
    "confusion_array = confusion_matrix(Y_test, Y_pred)\n",
    "\n",
    "df_cm = pd.DataFrame(confusion_array, index = [i for i in personality_types],\n",
    "                  columns = [i for i in personality_types])\n",
    "\n",
    "plt.figure(figsize = (18,18))\n",
    "sns.heatmap(df_cm, annot=True)\n",
    "plt.show()\n",
    "\n",
    "from sklearn.metrics import classification_report\n",
    "print(classification_report(Y_test, Y_pred, target_names=personality_types))"
   ]
  },
  {
   "cell_type": "markdown",
   "metadata": {},
   "source": [
    "---\n",
    "## Predictive Models Based on Individual Traits \n",
    "\n",
    "Upon reflection and the suggestion of my mentor, I decided to create new columns that would identify each sample by their individual traits. Meaning, I would have a separate column for Introvert/Extrovert, Intuitive/Sensing, Thinking/Feeling, and Judging/Prospecting."
   ]
  },
  {
   "cell_type": "code",
   "execution_count": 119,
   "metadata": {},
   "outputs": [],
   "source": [
    "tfidf_feature_matrix2 = tfidf_feature_matrix.copy()"
   ]
  },
  {
   "cell_type": "code",
   "execution_count": 120,
   "metadata": {},
   "outputs": [],
   "source": [
    "tfidf_feature_matrix2['type_IE'] = [x[0] for x in data.type]\n",
    "tfidf_feature_matrix2['type_NS'] = [x[1] for x in data.type]\n",
    "tfidf_feature_matrix2['type_TF'] = [x[2] for x in data.type]\n",
    "tfidf_feature_matrix2['type_JP'] = [x[3] for x in data.type]"
   ]
  },
  {
   "cell_type": "code",
   "execution_count": 121,
   "metadata": {},
   "outputs": [
    {
     "data": {
      "text/html": [
       "<div>\n",
       "<style>\n",
       "    .dataframe thead tr:only-child th {\n",
       "        text-align: right;\n",
       "    }\n",
       "\n",
       "    .dataframe thead th {\n",
       "        text-align: left;\n",
       "    }\n",
       "\n",
       "    .dataframe tbody tr th {\n",
       "        vertical-align: top;\n",
       "    }\n",
       "</style>\n",
       "<table border=\"1\" class=\"dataframe\">\n",
       "  <thead>\n",
       "    <tr style=\"text-align: right;\">\n",
       "      <th></th>\n",
       "      <th>abilities</th>\n",
       "      <th>ability</th>\n",
       "      <th>able</th>\n",
       "      <th>absolute</th>\n",
       "      <th>absolutely</th>\n",
       "      <th>absolutely love</th>\n",
       "      <th>abstract</th>\n",
       "      <th>absurd</th>\n",
       "      <th>abuse</th>\n",
       "      <th>abusive</th>\n",
       "      <th>...</th>\n",
       "      <th>younger</th>\n",
       "      <th>youth</th>\n",
       "      <th>youtube</th>\n",
       "      <th>yup</th>\n",
       "      <th>zero</th>\n",
       "      <th>zone</th>\n",
       "      <th>type_IE</th>\n",
       "      <th>type_NS</th>\n",
       "      <th>type_TF</th>\n",
       "      <th>type_JP</th>\n",
       "    </tr>\n",
       "  </thead>\n",
       "  <tbody>\n",
       "    <tr>\n",
       "      <th>0</th>\n",
       "      <td>0.0</td>\n",
       "      <td>0.000000</td>\n",
       "      <td>0.000000</td>\n",
       "      <td>0.000000</td>\n",
       "      <td>0.000000</td>\n",
       "      <td>0.0</td>\n",
       "      <td>0.0</td>\n",
       "      <td>0.0</td>\n",
       "      <td>0.0</td>\n",
       "      <td>0.0</td>\n",
       "      <td>...</td>\n",
       "      <td>0.0</td>\n",
       "      <td>0.0</td>\n",
       "      <td>0.0</td>\n",
       "      <td>0.00000</td>\n",
       "      <td>0.0</td>\n",
       "      <td>0.0</td>\n",
       "      <td>I</td>\n",
       "      <td>N</td>\n",
       "      <td>F</td>\n",
       "      <td>J</td>\n",
       "    </tr>\n",
       "    <tr>\n",
       "      <th>1</th>\n",
       "      <td>0.0</td>\n",
       "      <td>0.000000</td>\n",
       "      <td>0.030959</td>\n",
       "      <td>0.000000</td>\n",
       "      <td>0.000000</td>\n",
       "      <td>0.0</td>\n",
       "      <td>0.0</td>\n",
       "      <td>0.0</td>\n",
       "      <td>0.0</td>\n",
       "      <td>0.0</td>\n",
       "      <td>...</td>\n",
       "      <td>0.0</td>\n",
       "      <td>0.0</td>\n",
       "      <td>0.0</td>\n",
       "      <td>0.00000</td>\n",
       "      <td>0.0</td>\n",
       "      <td>0.0</td>\n",
       "      <td>E</td>\n",
       "      <td>N</td>\n",
       "      <td>T</td>\n",
       "      <td>P</td>\n",
       "    </tr>\n",
       "    <tr>\n",
       "      <th>2</th>\n",
       "      <td>0.0</td>\n",
       "      <td>0.108738</td>\n",
       "      <td>0.037717</td>\n",
       "      <td>0.000000</td>\n",
       "      <td>0.090886</td>\n",
       "      <td>0.0</td>\n",
       "      <td>0.0</td>\n",
       "      <td>0.0</td>\n",
       "      <td>0.0</td>\n",
       "      <td>0.0</td>\n",
       "      <td>...</td>\n",
       "      <td>0.0</td>\n",
       "      <td>0.0</td>\n",
       "      <td>0.0</td>\n",
       "      <td>0.06969</td>\n",
       "      <td>0.0</td>\n",
       "      <td>0.0</td>\n",
       "      <td>I</td>\n",
       "      <td>N</td>\n",
       "      <td>T</td>\n",
       "      <td>P</td>\n",
       "    </tr>\n",
       "    <tr>\n",
       "      <th>3</th>\n",
       "      <td>0.0</td>\n",
       "      <td>0.000000</td>\n",
       "      <td>0.064002</td>\n",
       "      <td>0.060133</td>\n",
       "      <td>0.000000</td>\n",
       "      <td>0.0</td>\n",
       "      <td>0.0</td>\n",
       "      <td>0.0</td>\n",
       "      <td>0.0</td>\n",
       "      <td>0.0</td>\n",
       "      <td>...</td>\n",
       "      <td>0.0</td>\n",
       "      <td>0.0</td>\n",
       "      <td>0.0</td>\n",
       "      <td>0.00000</td>\n",
       "      <td>0.0</td>\n",
       "      <td>0.0</td>\n",
       "      <td>I</td>\n",
       "      <td>N</td>\n",
       "      <td>T</td>\n",
       "      <td>J</td>\n",
       "    </tr>\n",
       "    <tr>\n",
       "      <th>4</th>\n",
       "      <td>0.0</td>\n",
       "      <td>0.000000</td>\n",
       "      <td>0.000000</td>\n",
       "      <td>0.000000</td>\n",
       "      <td>0.000000</td>\n",
       "      <td>0.0</td>\n",
       "      <td>0.0</td>\n",
       "      <td>0.0</td>\n",
       "      <td>0.0</td>\n",
       "      <td>0.0</td>\n",
       "      <td>...</td>\n",
       "      <td>0.0</td>\n",
       "      <td>0.0</td>\n",
       "      <td>0.0</td>\n",
       "      <td>0.00000</td>\n",
       "      <td>0.0</td>\n",
       "      <td>0.0</td>\n",
       "      <td>E</td>\n",
       "      <td>N</td>\n",
       "      <td>T</td>\n",
       "      <td>J</td>\n",
       "    </tr>\n",
       "  </tbody>\n",
       "</table>\n",
       "<p>5 rows × 3466 columns</p>\n",
       "</div>"
      ],
      "text/plain": [
       "   abilities   ability      able  absolute  absolutely  absolutely love  \\\n",
       "0        0.0  0.000000  0.000000  0.000000    0.000000              0.0   \n",
       "1        0.0  0.000000  0.030959  0.000000    0.000000              0.0   \n",
       "2        0.0  0.108738  0.037717  0.000000    0.090886              0.0   \n",
       "3        0.0  0.000000  0.064002  0.060133    0.000000              0.0   \n",
       "4        0.0  0.000000  0.000000  0.000000    0.000000              0.0   \n",
       "\n",
       "   abstract  absurd  abuse  abusive   ...     younger  youth  youtube  \\\n",
       "0       0.0     0.0    0.0      0.0   ...         0.0    0.0      0.0   \n",
       "1       0.0     0.0    0.0      0.0   ...         0.0    0.0      0.0   \n",
       "2       0.0     0.0    0.0      0.0   ...         0.0    0.0      0.0   \n",
       "3       0.0     0.0    0.0      0.0   ...         0.0    0.0      0.0   \n",
       "4       0.0     0.0    0.0      0.0   ...         0.0    0.0      0.0   \n",
       "\n",
       "       yup  zero  zone  type_IE  type_NS  type_TF  type_JP  \n",
       "0  0.00000   0.0   0.0        I        N        F        J  \n",
       "1  0.00000   0.0   0.0        E        N        T        P  \n",
       "2  0.06969   0.0   0.0        I        N        T        P  \n",
       "3  0.00000   0.0   0.0        I        N        T        J  \n",
       "4  0.00000   0.0   0.0        E        N        T        J  \n",
       "\n",
       "[5 rows x 3466 columns]"
      ]
     },
     "execution_count": 121,
     "metadata": {},
     "output_type": "execute_result"
    }
   ],
   "source": [
    "tfidf_feature_matrix2.head()"
   ]
  },
  {
   "cell_type": "markdown",
   "metadata": {},
   "source": [
    "Below is a breakdown of how balanced the number of samples are in each pair. The most even numbered being Thinking/Feeling while the least being Intuitive/Sensing. "
   ]
  },
  {
   "cell_type": "code",
   "execution_count": 122,
   "metadata": {},
   "outputs": [
    {
     "name": "stdout",
     "output_type": "stream",
     "text": [
      "I    6676\n",
      "E    1999\n",
      "Name: type_IE, dtype: int64 \n",
      "\n",
      "N    7478\n",
      "S    1197\n",
      "Name: type_NS, dtype: int64 \n",
      "\n",
      "F    4694\n",
      "T    3981\n",
      "Name: type_TF, dtype: int64 \n",
      "\n",
      "P    5241\n",
      "J    3434\n",
      "Name: type_JP, dtype: int64 \n",
      "\n"
     ]
    },
    {
     "data": {
      "image/png": "[encoded data removed]",
      "text/plain": [
       "<matplotlib.figure.Figure at 0x15027bf98>"
      ]
     },
     "metadata": {},
     "output_type": "display_data"
    }
   ],
   "source": [
    "print(tfidf_feature_matrix2.type_IE.value_counts(), '\\n')\n",
    "print(tfidf_feature_matrix2.type_NS.value_counts(), '\\n')\n",
    "print(tfidf_feature_matrix2.type_TF.value_counts(), '\\n')\n",
    "print(tfidf_feature_matrix2.type_JP.value_counts(), '\\n')\n",
    "\n",
    "N = 4\n",
    "but = (tfidf_feature_matrix2.type_IE.value_counts()[0], tfidf_feature_matrix2.type_NS.value_counts()[0], \n",
    "       tfidf_feature_matrix2.type_TF.value_counts()[0], tfidf_feature_matrix2.type_JP.value_counts()[0])\n",
    "top = (tfidf_feature_matrix2.type_IE.value_counts()[1], tfidf_feature_matrix2.type_NS.value_counts()[1], \n",
    "       tfidf_feature_matrix2.type_TF.value_counts()[1], tfidf_feature_matrix2.type_JP.value_counts()[1])\n",
    "\n",
    "ind = np.arange(N)    # the x locations for the groups\n",
    "width = 0.7      # the width of the bars: can also be len(x) sequence\n",
    "\n",
    "p1 = plt.bar(ind, but, width)\n",
    "p2 = plt.bar(ind, top, width, bottom=but)\n",
    "\n",
    "plt.ylabel('Count')\n",
    "plt.title('Distribution accoss types indicators')\n",
    "plt.xticks(ind, ('I/E',  'N/S', 'T/F', 'J/P',))\n",
    "\n",
    "plt.show()"
   ]
  },
  {
   "cell_type": "markdown",
   "metadata": {},
   "source": [
    "I will do a random sampling of Introvert/Extrovert and Intuitive/Sensing to get a more balanced set of numbers. I'm sure, however, that these models won't do as well due to the smaller sample sizes. \n",
    "\n",
    "### Introvert/Extrovert Model:"
   ]
  },
  {
   "cell_type": "code",
   "execution_count": 123,
   "metadata": {},
   "outputs": [
    {
     "name": "stdout",
     "output_type": "stream",
     "text": [
      "(1999, 3466)\n",
      "(1999, 3466)\n",
      "(3998, 3466)\n"
     ]
    }
   ],
   "source": [
    "data_I = tfidf_feature_matrix2.loc[tfidf_feature_matrix2['type_IE'] == 'I'].sample(n=1999)\n",
    "print(data_I.shape)\n",
    "data_E = tfidf_feature_matrix2.loc[tfidf_feature_matrix2['type_IE'] == 'E']\n",
    "print(data_E.shape)\n",
    "data_IE = pd.concat([data_I, data_E])\n",
    "print(data_IE.shape)"
   ]
  },
  {
   "cell_type": "code",
   "execution_count": 39,
   "metadata": {},
   "outputs": [],
   "source": [
    "drop_list = ['type_IE','type_NS',\"type_TF\",'type_JP']\n",
    "# test = data_IE.drop(drop_list, axis=1).shape"
   ]
  },
  {
   "cell_type": "code",
   "execution_count": 124,
   "metadata": {},
   "outputs": [
    {
     "name": "stdout",
     "output_type": "stream",
     "text": [
      "\n",
      "Random Forest Classifier:\n",
      "Training set score: 0.988659106071\n",
      "\n",
      "Cross Validation Scores:\n",
      " [ 0.53875     0.54        0.54875     0.5525      0.52882206]\n",
      "\n",
      "Logistic Regression:\n",
      "Training set score: 0.846897931955\n",
      "\n",
      "Cross Validation Scores:\n",
      " [ 0.68625     0.67        0.71125     0.67125     0.66290727]\n"
     ]
    },
    {
     "data": {
      "image/png": "[encoded data removed]",
      "text/plain": [
       "<matplotlib.figure.Figure at 0x1270a5ac8>"
      ]
     },
     "metadata": {},
     "output_type": "display_data"
    }
   ],
   "source": [
    "from sklearn.model_selection import cross_val_score\n",
    "\n",
    "Y = data_IE['type_IE']\n",
    "X = data_IE.drop(drop_list, axis=1)\n",
    "\n",
    "X_train, X_test, Y_train, Y_test = train_test_split(X, Y, test_size=0.25, random_state=42)\n",
    "\n",
    "rfc_IE = ensemble.RandomForestClassifier()\n",
    "\n",
    "rfc_IE.fit(X_train, Y_train)\n",
    "\n",
    "print('\\nRandom Forest Classifier:')\n",
    "print('Training set score:', rfc_IE.score(X_train, Y_train))\n",
    "\n",
    "print('\\nCross Validation Scores:\\n' , cross_val_score(rfc_IE, X, Y, cv=5))  \n",
    "\n",
    "lr_IE = LogisticRegression()\n",
    "lr_IE.fit(X_train, Y_train)\n",
    "\n",
    "print('\\nLogistic Regression:')\n",
    "print('Training set score:', lr_IE.score(X_train, Y_train))\n",
    "print('\\nCross Validation Scores:\\n' , cross_val_score(lr_IE, X, Y, cv=5))  \n",
    "\n",
    "features = X.columns\n",
    "importances = rfc_IE.feature_importances_\n",
    "indices = np.argsort(importances)[::-1]\n",
    "top_k = 20\n",
    "indices = indices[:top_k]\n",
    "\n",
    "plt.title('Feature Importances')\n",
    "plt.barh(range(len(indices)), importances[indices], color='b', align='center')\n",
    "plt.yticks(range(len(indices)), features[indices])\n",
    "plt.xlabel('Relative Importance')\n",
    "plt.show()"
   ]
  },
  {
   "cell_type": "markdown",
   "metadata": {},
   "source": [
    "The Introvert/Extrovert models scored in the mid 50s for Random Forest Classifier and mid 60s for Logistic Regression.\n",
    "\n",
    "I ran a feature importance that ended up being rather unstable, which is understandably given the lower scores. There were a few words that did show up consistantly that I found to be insightful though. Words like 'fun', 'haha', and 'lol' could indicate a more outgoing personality while words like 'think' and 'listen' could be associated with introversion. \n",
    "\n",
    "The presence of 'https' shows a preference for sharing links to other websites. As in Introvert, I can identify to posting links since it saves me the effort of actually communicating with others.\n",
    "\n",
    "---\n",
    "### Intuitive/Sensing Model:"
   ]
  },
  {
   "cell_type": "code",
   "execution_count": 125,
   "metadata": {},
   "outputs": [
    {
     "name": "stdout",
     "output_type": "stream",
     "text": [
      "(1197, 3466)\n",
      "(1197, 3466)\n",
      "(2394, 3466)\n"
     ]
    }
   ],
   "source": [
    "data_N = tfidf_feature_matrix2.loc[tfidf_feature_matrix2['type_NS'] == 'N'].sample(n=1197)\n",
    "print(data_N.shape)\n",
    "data_S = tfidf_feature_matrix2.loc[tfidf_feature_matrix2['type_NS'] == 'S']\n",
    "print(data_S.shape)\n",
    "data_NS = pd.concat([data_N, data_S])\n",
    "print(data_NS.shape)"
   ]
  },
  {
   "cell_type": "code",
   "execution_count": 126,
   "metadata": {},
   "outputs": [
    {
     "name": "stdout",
     "output_type": "stream",
     "text": [
      "\n",
      "Random Forest Classifier:\n",
      "Training set score: 0.987186629526\n",
      "\n",
      "Cross Validation Scores:\n",
      " [ 0.54583333  0.54791667  0.58368201  0.55648536  0.53556485]\n",
      "\n",
      "Logistic Regression:\n",
      "Training set score: 0.892479108635\n",
      "\n",
      "Cross Validation Scores:\n",
      " [ 0.68125     0.67083333  0.67154812  0.70292887  0.68410042]\n"
     ]
    },
    {
     "data": {
      "image/png": "[encoded data removed]",
      "text/plain": [
       "<matplotlib.figure.Figure at 0x125e605c0>"
      ]
     },
     "metadata": {},
     "output_type": "display_data"
    }
   ],
   "source": [
    "Y = data_NS['type_NS']\n",
    "X = data_NS.drop(drop_list, axis=1)\n",
    "\n",
    "X_train, X_test, Y_train, Y_test = train_test_split(X, Y, test_size=0.25, random_state=42)\n",
    "\n",
    "rfc_NS = ensemble.RandomForestClassifier()\n",
    "\n",
    "rfc_NS.fit(X_train, Y_train)\n",
    "\n",
    "print('\\nRandom Forest Classifier:')\n",
    "print('Training set score:', rfc_NS.score(X_train, Y_train))\n",
    "print('\\nCross Validation Scores:\\n' , cross_val_score(rfc_NS, X, Y, cv=5))  \n",
    "\n",
    "lr_NS = LogisticRegression()\n",
    "lr_NS.fit(X_train, Y_train)\n",
    "\n",
    "print('\\nLogistic Regression:')\n",
    "print('Training set score:', lr_NS.score(X_train, Y_train))\n",
    "print('\\nCross Validation Scores:\\n' , cross_val_score(lr_NS, X, Y, cv=5))\n",
    "\n",
    "features = X.columns\n",
    "importances = rfc_NS.feature_importances_\n",
    "indices = np.argsort(importances)[::-1]\n",
    "top_k = 20\n",
    "indices = indices[:top_k]\n",
    "\n",
    "plt.title('Feature Importances')\n",
    "plt.barh(range(len(indices)), importances[indices], color='b', align='center')\n",
    "plt.yticks(range(len(indices)), features[indices])\n",
    "plt.xlabel('Relative Importance')\n",
    "plt.show()"
   ]
  },
  {
   "cell_type": "markdown",
   "metadata": {},
   "source": [
    "With the lower scores, this model as well had unstable features. It did, however, have a handful of words that consistantly showed up.\n",
    "\n",
    "Sensing types base their understanding of the world on concrete and measurable facts. Words like 'know', 'knowledge', and 'reality' could definitely indicate a sensing type person.\n",
    "\n",
    "On the opposite end, intuitive types are more likely to go by their internal feelings and concepts about the world. The word features that could distinguish an Intuitive personality are 'feel', 'believe', and 'thoughts'.\n",
    "\n",
    "---\n",
    "### Judging/Prospecting Model:"
   ]
  },
  {
   "cell_type": "code",
   "execution_count": 127,
   "metadata": {},
   "outputs": [
    {
     "name": "stdout",
     "output_type": "stream",
     "text": [
      "\n",
      "Random Forest Classifier:\n",
      "Training set score: 0.989548109437\n",
      "\n",
      "Cross Validation Scores:\n",
      " [ 0.5483871   0.54639769  0.56599424  0.54985591  0.544406  ]\n",
      "\n",
      "Logistic Regression:\n",
      "Training set score: 0.778204734092\n",
      "\n",
      "Cross Validation Scores:\n",
      " [ 0.65668203  0.64668588  0.66916427  0.64322767  0.65109573]\n"
     ]
    },
    {
     "data": {
      "image/png": "[encoded data removed]",
      "text/plain": [
       "<matplotlib.figure.Figure at 0x122d10710>"
      ]
     },
     "metadata": {},
     "output_type": "display_data"
    }
   ],
   "source": [
    "Y = tfidf_feature_matrix2['type_JP']\n",
    "X = tfidf_feature_matrix2.drop(drop_list, axis=1)\n",
    "\n",
    "X_train, X_test, Y_train, Y_test = train_test_split(X, Y, test_size=0.25, random_state=42)\n",
    "\n",
    "rfc_JP = ensemble.RandomForestClassifier()\n",
    "\n",
    "rfc_JP.fit(X_train, Y_train)\n",
    "\n",
    "print('\\nRandom Forest Classifier:')\n",
    "print('Training set score:', rfc_JP.score(X_train, Y_train))\n",
    "print('\\nCross Validation Scores:\\n' , cross_val_score(rfc_JP, X, Y, cv=5))  \n",
    "\n",
    "lr_JP = LogisticRegression()\n",
    "lr_JP.fit(X_train, Y_train)\n",
    "\n",
    "print('\\nLogistic Regression:')\n",
    "print('Training set score:', lr_JP.score(X_train, Y_train))\n",
    "print('\\nCross Validation Scores:\\n' , cross_val_score(lr_JP, X, Y, cv=5)) \n",
    "\n",
    "features = X.columns\n",
    "importances = rfc_JP.feature_importances_\n",
    "indices = np.argsort(importances)[::-1]\n",
    "top_k = 20\n",
    "indices = indices[:top_k]\n",
    "\n",
    "plt.title('Judging vs Prospecting Feature Importances')\n",
    "plt.barh(range(len(indices)), importances[indices], color='b', align='center')\n",
    "plt.yticks(range(len(indices)), features[indices])\n",
    "plt.xlabel('Relative Importance')\n",
    "plt.show()"
   ]
  },
  {
   "cell_type": "markdown",
   "metadata": {},
   "source": [
    "Despite having a bigger sample size, the Judging/Prospecting model didn't do much better. \n",
    "\n",
    "I partial attribute this to the criteria that separates the Judging from Prospecting. Judging types are more structured and like to plan whereas Propspecting types or more likely to be spontaneous and go with the flow. This may be difficult for the model to pick up on. \n",
    "\n",
    "The one word that I noticed that would be a good indicator is 'plan'. The others didn't stand out to me much."
   ]
  },
  {
   "cell_type": "markdown",
   "metadata": {},
   "source": [
    "### Thinking/Feeling Model:"
   ]
  },
  {
   "cell_type": "code",
   "execution_count": 128,
   "metadata": {},
   "outputs": [
    {
     "name": "stdout",
     "output_type": "stream",
     "text": [
      "\n",
      "Random Forest Classifier:\n",
      "Training set score: 0.987703658162\n",
      "\n",
      "Cross Validation Scores:\n",
      " [ 0.63767281  0.64322767  0.63804035  0.63746398  0.61995386]\n",
      "\n",
      "Logistic Regression:\n",
      "Training set score: 0.861358745773\n",
      "\n",
      "Cross Validation Scores:\n",
      " [ 0.81624424  0.79365994  0.78270893  0.79020173  0.77854671]\n"
     ]
    },
    {
     "data": {
      "image/png": "[encoded data removed]",
      "text/plain": [
       "<matplotlib.figure.Figure at 0x145e32128>"
      ]
     },
     "metadata": {},
     "output_type": "display_data"
    }
   ],
   "source": [
    "Y = tfidf_feature_matrix2['type_TF']\n",
    "X = tfidf_feature_matrix2.drop(drop_list, axis=1)\n",
    "\n",
    "X_train, X_test, Y_train, Y_test = train_test_split(X, Y, test_size=0.25, random_state=42)\n",
    "\n",
    "rfc_TF = ensemble.RandomForestClassifier()\n",
    "\n",
    "rfc_TF.fit(X_train, Y_train)\n",
    "\n",
    "print('\\nRandom Forest Classifier:')\n",
    "print('Training set score:', rfc_TF.score(X_train, Y_train))\n",
    "print('\\nCross Validation Scores:\\n' , cross_val_score(rfc_TF, X, Y, cv=5))  \n",
    "\n",
    "lr_TF = LogisticRegression()\n",
    "lr_TF.fit(X_train, Y_train)\n",
    "\n",
    "print('\\nLogistic Regression:')\n",
    "print('Training set score:', lr_TF.score(X_train, Y_train))\n",
    "print('\\nCross Validation Scores:\\n' , cross_val_score(lr_TF, X, Y, cv=5))  \n",
    "\n",
    "features = X.columns\n",
    "importances = rfc_TF.feature_importances_\n",
    "indices = np.argsort(importances)[::-1]\n",
    "top_k = 20\n",
    "indices = indices[:top_k]\n",
    "\n",
    "plt.title('Feature Importances')\n",
    "plt.barh(range(len(indices)), importances[indices], color='b', align='center')\n",
    "plt.yticks(range(len(indices)), features[indices])\n",
    "plt.xlabel('Relative Importance')\n",
    "plt.show()"
   ]
  },
  {
   "cell_type": "markdown",
   "metadata": {},
   "source": [
    "This model did by far the strongest which makes sense given that it had the biggest sample size. \n",
    "\n",
    "The feature importance was also very stable. Thinking/Feeling is more about how somebody will make decisions based on facts vs emotions. Thus, words like 'feel', feeling' and 'feel like' would of course point to a Feeling person whereas 'think' and 'knowledge' would indicate a Thinking person."
   ]
  },
  {
   "cell_type": "code",
   "execution_count": 129,
   "metadata": {},
   "outputs": [
    {
     "name": "stdout",
     "output_type": "stream",
     "text": [
      "@LASwann07 💜 @Ivysani742 @jvoyageur 🌹 @ellen_andersen1 🦋💕 @mortaledamnati Thank you! 💜✨🌜 @ENobutterfly @btp2222 💜 a pleasure to share 🦋 @susanmreif 💜 @Nightflower_N i know i am responding quite late to this, but i've recently had same and my migraines have changed.… https://t.co/P0haOW0w4L @Nightflower_N so very sweet 💕 @natureslover_s 💕lol... I love this. it is me. @Crystal_Fishy love! 💜☺️ @ellen_andersen1 thank you, you are so kind... i am trying 💕✨🌙 @ellen_andersen1 💜i love all of her photos @Crystal_Fishy 💜yes, it always makes me tear up but softly smile too... it's just very delicate and sweet gone to dream 🦋 '2303 03 Am’ by Forelight on #SoundCloud? #np https://t.co/Hf9fwKhTM7 d  r  e  a  m\n",
      "\n",
      "© carl yoshihara https://t.co/ir5Fs917vX Slowdive | Souvlaki (Full Album) | 1994 (US Release with bonus tracks) https://t.co/N69uQspJlN via @YouTube thank you 💜\n",
      "\n",
      "anna o https://t.co/L1APbmvGxT Suzanne .:. Leonard Cohen https://t.co/3geOnMxmXF #NowPlaying photo: shadow of her heart by anna o And always it is this— in her heart winter, but upon her lips the sweet pulse of spring. Inside her veins runs not… https://t.co/TEEkfu92xd Who Knows Where The Time Goes .:. Judy Collins https://t.co/fWbZ2H2uMl #NowPlaying delicate thoughts of spring\n",
      "and how a bird-hearted girl\n",
      "longs to feel you breathe\n",
      "your warm sky dreams\n",
      "soft upon he… https://t.co/R6RCY5Yh8S @369PM 💜 Simon &amp; Garfunkel .:. Parsley, Sage, Rosemary And Thyme https://t.co/naIa7eAG35 #NowPlaying you are beautiful and gentle\n",
      "in ways i have no words for\n",
      "[and with you, my love]\n",
      "even to share silence\n",
      "is poetry\n",
      "\n",
      "s… https://t.co/W4dXPaSdeQ @tylraven thank you dear Raven... you are a kind and lovely soul 💜 https://t.co/AYeeHZUbs7 @Candice_Doll @Panthera156 @edojyo_ji @Grisaccia @medaglia @tezmor1 @spooky_girl @PepitalaP1 @TommasoCerutti… https://t.co/xW0w75E5Ba @369PM beautiful... thank you Once there was a way\n",
      "To get back homeward\n",
      "Once there was a way\n",
      "To get back home\n",
      "Sleep, pretty darling, do not cry… https://t.co/qsTk263tqU gone to dream...\n",
      "\n",
      "Senses .:. Antoinette Tran https://t.co/c5WQywMapP @murky_white You're welcome, and thank you for sharing your heart 🍃🌸🌞💜 @fificoeuretmoi 🍃🌸🌞 @ellen_andersen1 I am so glad you had a lovely day, spring is not here yet for us, but I feel it rustling in the br… https://t.co/yFrbOF2Kw4 @ellen_andersen1 and you too! 💕🌹☺️ @Still_shores thank you 🍃🌸 @Ladyalight 🌞🌻💕 @ellen_andersen1 💜🍃🌸 @SanDiegoMama37 💜 @SanDiegoMama37 thank you 🌞🌻 @SanDiegoMama37 Photo I believe : ) My Truth .:. Cocteau Twins https://t.co/k3BEFNt7Lo #NowPlaying Oil Of Angels .:. Cocteau Twins https://t.co/XbL3h0NzLx #NowPlaying Moth Boy |  Len-Yan https://t.co/FQ9BZU5xFv Idyll of Roses | Len Yan https://t.co/DkccoYVbcb emma bennett https://t.co/MC8HTTOwko Her hands quiver like pale doves. She hides them when she is nervous. She's read palms since she was a child, but s… https://t.co/qp5he1GxXY @dreamscaffold 💜 little bird. lace heart all aflutter. gone to dream in the arms of the sky.\n",
      "\n",
      "lace sky .:. susan hall https://t.co/npNwkqzjZe the silent moon\n",
      "rises and sets\n",
      "upon this endless dream\n",
      "a gentle sea inside my heart\n",
      "the tide that pulls me to you\n",
      "m… https://t.co/8uciLDsjv9 @AstrumGlass 🌙✨💜 @Ternura2015 💜 @AgentD555 💜 @AgentD555 💜 @broomfieldhill So true. Thank you for sharing this with me. It has touched me deeply... a  lovely and insightful t… https://t.co/vQ1hGWTDt1 @criKey82 ❤️😉🍃🌸☺️ @criKey82 🍃🌸💕🐦 \n"
     ]
    }
   ],
   "source": [
    "import tweepy\n",
    "\n",
    "ckey = \"zLceR2GtRk7LiUMXRzLAYQ1ML\"\n",
    "csecret = \"gUQWOfGKI7voYlfLD5rpl5KiQrXQTpzIQXLmPjsaYQO3cGhefo\"\n",
    "atoken = \"819671108-WsXdRIP2tk9oBbh9ISPXAnKfVv567xPX1OsBDfSt\"\n",
    "asecret = \"FSGAGxj2atE2HKqGlLYUS3KC9NGtzc8akeqlNBDrfgc1C\"\n",
    "\n",
    "auth = tweepy.OAuthHandler(ckey, csecret)\n",
    "\n",
    "auth.set_access_token(atoken, asecret)\n",
    "\n",
    "api = tweepy.API(auth)\n",
    "\n",
    "stuff = api.user_timeline(screen_name = 'inkandstars', count = 100, include_rts = False)\n",
    "\n",
    "twitter_text = ''\n",
    "for status in stuff:\n",
    "    twitter_text += status.text\n",
    "    twitter_text += ' '\n",
    "    \n",
    "print(twitter_text)"
   ]
  },
  {
   "cell_type": "code",
   "execution_count": 130,
   "metadata": {},
   "outputs": [
    {
     "name": "stdout",
     "output_type": "stream",
     "text": [
      "laswann 💜 ivysani jvoyageur 🌹 ellen andersen 🦋💕 mortaledamnati thank 💜✨🌜 enobutterfly btp 💜 pleasure share 🦋 susanmreif 💜 nightflower n know responding quite late recently migraines changed … https nightflower n sweet 💕 natureslover 💕lol love crystal fishy love 💜☺️ ellen andersen thank kind trying 💕✨🌙 ellen andersen 💜i love photos crystal fishy 💜yes always makes tear softly smile delicate sweet gone dream 🦋 am’ forelight soundcloud np https r e m © carl yoshihara https slowdive souvlaki full album us release bonus tracks https via youtube thank 💜 anna https suzanne leonard cohen https nowplaying photo shadow heart anna always this— heart winter upon lips sweet pulse spring inside veins runs not… https knows time goes judy collins https nowplaying delicate thoughts spring and bird hearted girl longs feel breathe your warm sky dreams soft upon he… https pm 💜 simon amp garfunkel parsley sage rosemary thyme https nowplaying beautiful gentle in ways words for love even share silence is poetry s… https tylraven thank dear raven kind lovely soul 💜 https candice doll panthera edojyo ji grisaccia medaglia tezmor spooky girl pepitalap tommasocerutti… https pm beautiful thank way to get back homeward once way to get back home sleep pretty darling cry… https gone dream senses antoinette tran https murky white welcome thank sharing heart 🍃🌸🌞💜 fificoeuretmoi 🍃🌸🌞 ellen andersen glad lovely day spring yet us feel rustling br… https ellen andersen 💕🌹☺️ still shores thank 🍃🌸 ladyalight 🌞🌻💕 ellen andersen 💜🍃🌸 sandiegomama 💜 sandiegomama thank 🌞🌻 sandiegomama photo believe truth cocteau twins https nowplaying oil angels cocteau twins https nowplaying moth boy len yan https idyll roses len yan https emma bennett https hands quiver like pale doves hides nervous read palms since child s… https dreamscaffold 💜 little bird lace heart aflutter gone dream arms sky lace sky susan hall https silent moon rises sets upon endless dream a gentle sea inside heart the tide pulls you m… https astrumglass 🌙✨💜 ternura 💜 agentd 💜 agentd 💜 broomfieldhill true thank sharing touched deeply lovely insightful t… https crikey ❤️😉🍃🌸☺️ crikey 🍃🌸💕🐦\n"
     ]
    }
   ],
   "source": [
    "twitter_text = remove_url(twitter_text)\n",
    "twitter_text = remove_puncuation(twitter_text)\n",
    "twitter_text = remove_digits(twitter_text)\n",
    "twitter_text = remove_stop_words(twitter_text)\n",
    "twitter_text = remove_extra_white_space(twitter_text)\n",
    "twitter_text = remove_types(twitter_text)\n",
    "\n",
    "print(twitter_text)"
   ]
  },
  {
   "cell_type": "code",
   "execution_count": 131,
   "metadata": {},
   "outputs": [],
   "source": [
    "my_tfidf_matrix = tf.transform([twitter_text])"
   ]
  },
  {
   "cell_type": "code",
   "execution_count": 132,
   "metadata": {},
   "outputs": [
    {
     "data": {
      "text/html": [
       "<div>\n",
       "<style>\n",
       "    .dataframe thead tr:only-child th {\n",
       "        text-align: right;\n",
       "    }\n",
       "\n",
       "    .dataframe thead th {\n",
       "        text-align: left;\n",
       "    }\n",
       "\n",
       "    .dataframe tbody tr th {\n",
       "        vertical-align: top;\n",
       "    }\n",
       "</style>\n",
       "<table border=\"1\" class=\"dataframe\">\n",
       "  <thead>\n",
       "    <tr style=\"text-align: right;\">\n",
       "      <th></th>\n",
       "      <th>abilities</th>\n",
       "      <th>ability</th>\n",
       "      <th>able</th>\n",
       "      <th>absolute</th>\n",
       "      <th>absolutely</th>\n",
       "      <th>absolutely love</th>\n",
       "      <th>abstract</th>\n",
       "      <th>absurd</th>\n",
       "      <th>abuse</th>\n",
       "      <th>abusive</th>\n",
       "      <th>...</th>\n",
       "      <th>yes yes</th>\n",
       "      <th>yesterday</th>\n",
       "      <th>yo</th>\n",
       "      <th>young</th>\n",
       "      <th>younger</th>\n",
       "      <th>youth</th>\n",
       "      <th>youtube</th>\n",
       "      <th>yup</th>\n",
       "      <th>zero</th>\n",
       "      <th>zone</th>\n",
       "    </tr>\n",
       "  </thead>\n",
       "  <tbody>\n",
       "    <tr>\n",
       "      <th>0</th>\n",
       "      <td>0.0</td>\n",
       "      <td>0.0</td>\n",
       "      <td>0.0</td>\n",
       "      <td>0.0</td>\n",
       "      <td>0.0</td>\n",
       "      <td>0.0</td>\n",
       "      <td>0.0</td>\n",
       "      <td>0.0</td>\n",
       "      <td>0.0</td>\n",
       "      <td>0.0</td>\n",
       "      <td>...</td>\n",
       "      <td>0.0</td>\n",
       "      <td>0.0</td>\n",
       "      <td>0.0</td>\n",
       "      <td>0.0</td>\n",
       "      <td>0.0</td>\n",
       "      <td>0.0</td>\n",
       "      <td>0.055329</td>\n",
       "      <td>0.0</td>\n",
       "      <td>0.0</td>\n",
       "      <td>0.0</td>\n",
       "    </tr>\n",
       "  </tbody>\n",
       "</table>\n",
       "<p>1 rows × 3462 columns</p>\n",
       "</div>"
      ],
      "text/plain": [
       "   abilities  ability  able  absolute  absolutely  absolutely love  abstract  \\\n",
       "0        0.0      0.0   0.0       0.0         0.0              0.0       0.0   \n",
       "\n",
       "   absurd  abuse  abusive  ...   yes yes  yesterday   yo  young  younger  \\\n",
       "0     0.0    0.0      0.0  ...       0.0        0.0  0.0    0.0      0.0   \n",
       "\n",
       "   youth   youtube  yup  zero  zone  \n",
       "0    0.0  0.055329  0.0   0.0   0.0  \n",
       "\n",
       "[1 rows x 3462 columns]"
      ]
     },
     "execution_count": 132,
     "metadata": {},
     "output_type": "execute_result"
    }
   ],
   "source": [
    "my_tfidf_feature_matrix = pd.DataFrame(my_tfidf_matrix.toarray(), columns=tf.get_feature_names())\n",
    "my_tfidf_feature_matrix.head()"
   ]
  },
  {
   "cell_type": "code",
   "execution_count": 137,
   "metadata": {},
   "outputs": [
    {
     "data": {
      "text/plain": [
       "'INFJ'"
      ]
     },
     "execution_count": 137,
     "metadata": {},
     "output_type": "execute_result"
    }
   ],
   "source": [
    "answer = ''\n",
    "answer += lr_IE.predict(my_tfidf_feature_matrix)[0]\n",
    "answer += lr_NS.predict(my_tfidf_feature_matrix)[0]\n",
    "answer += lr_TF.predict(my_tfidf_feature_matrix)[0]\n",
    "answer += lr_JP.predict(my_tfidf_feature_matrix)[0]\n",
    "answer"
   ]
  },
  {
   "cell_type": "code",
   "execution_count": 138,
   "metadata": {},
   "outputs": [
    {
     "data": {
      "text/plain": [
       "'INFJ'"
      ]
     },
     "execution_count": 138,
     "metadata": {},
     "output_type": "execute_result"
    }
   ],
   "source": [
    "lr_IE.predict(my_tfidf_feature_matrix)[0] + lr_NS.predict(my_tfidf_feature_matrix)[0] + lr_TF.predict(my_tfidf_feature_matrix)[0] + lr_JP.predict(my_tfidf_feature_matrix)[0]"
   ]
  },
  {
   "cell_type": "code",
   "execution_count": 69,
   "metadata": {},
   "outputs": [
    {
     "name": "stdout",
     "output_type": "stream",
     "text": [
      "nandan\n",
      "NoButterfly E\n",
      "أريج.\n",
      "katie\n",
      "Jane lovin\n",
      "ailuj88\n",
      "Regenfrithu Rook\n",
      "Just a girl\n",
      "Kenkyona\n",
      "Just a girl\n",
      "?\n",
      "?\n",
      "Cosmo\n",
      "Rio Shayne Art\n",
      "ょ\n"
     ]
    }
   ],
   "source": [
    "from langdetect import detect\n",
    "\n",
    "MAX_TWEETS = 100\n",
    "\n",
    "auth = tweepy.OAuthHandler(ckey, csecret)\n",
    "api = tweepy.API(auth)\n",
    "\n",
    "for tweet in tweepy.Cursor(api.search, q='#INFP', rpp=100).items(MAX_TWEETS):\n",
    "    if detect(tweet._json['text']) == 'en':\n",
    "      print(tweet.user.name)\n",
    "    pass"
   ]
  },
  {
   "cell_type": "code",
   "execution_count": 136,
   "metadata": {},
   "outputs": [
    {
     "name": "stdout",
     "output_type": "stream",
     "text": [
      "['I']\n",
      "['N']\n",
      "['F']\n",
      "['P']\n"
     ]
    }
   ],
   "source": [
    "auth = tweepy.OAuthHandler(ckey, csecret)\n",
    "\n",
    "auth.set_access_token(atoken, asecret)\n",
    "\n",
    "api = tweepy.API(auth)\n",
    "\n",
    "stuff = api.user_timeline(screen_name = 'inkandstars', count = 200, include_rts = False)\n",
    "\n",
    "twitter_text = ''\n",
    "for status in stuff:\n",
    "    twitter_text += status.text\n",
    "    twitter_text += ' '\n",
    "    \n",
    "twitter_text = remove_url(twitter_text)\n",
    "twitter_text = remove_puncuation(twitter_text)\n",
    "twitter_text = remove_digits(twitter_text)\n",
    "twitter_text = remove_stop_words(twitter_text)\n",
    "twitter_text = remove_extra_white_space(twitter_text)\n",
    "twitter_text = remove_types(twitter_text)\n",
    "\n",
    "my_tfidf_matrix2 = tf.transform([twitter_text])\n",
    "\n",
    "my_tfidf_feature_matrix2 = pd.DataFrame(my_tfidf_matrix2.toarray(), columns=tf.get_feature_names())\n",
    "my_tfidf_feature_matrix2.head()\n",
    "\n",
    "print(lr_IE.predict(my_tfidf_feature_matrix2))\n",
    "print(lr_NS.predict(my_tfidf_feature_matrix2))\n",
    "print(lr_TF.predict(my_tfidf_feature_matrix2))\n",
    "print(lr_JP.predict(my_tfidf_feature_matrix2))"
   ]
  },
  {
   "cell_type": "code",
   "execution_count": null,
   "metadata": {},
   "outputs": [],
   "source": []
  }
 ],
 "metadata": {
  "kernelspec": {
   "display_name": "Python 3",
   "language": "python",
   "name": "python3"
  },
  "language_info": {
   "codemirror_mode": {
    "name": "ipython",
    "version": 3
   },
   "file_extension": ".py",
   "mimetype": "text/x-python",
   "name": "python",
   "nbconvert_exporter": "python",
   "pygments_lexer": "ipython3",
   "version": "3.5.2"
  }
 },
 "nbformat": 4,
 "nbformat_minor": 2
}
