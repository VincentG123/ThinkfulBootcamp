{
 "cells": [
  {
   "cell_type": "markdown",
   "metadata": {},
   "source": [
    "# Adventures in P-Typing\n",
    "### Using Natural Language Processing and Data Science to Explore the Myers-Briggs Personality Test\n",
    "***"
   ]
  },
  {
   "cell_type": "markdown",
   "metadata": {},
   "source": [
    "The Myers-Brigs Type Indicator (MBTI) is a self-assessment questionnaire which helps people gain insights about how they work and learn. The test was developed by the mother-daughter partnership of Katharine Briggs and Isabel Briggs-Myers and is based on the typological theory of Carl Jung. The length of the test can range from 93 to 222 items that serve to identify a participant's personality type based on four key preferences in how they interract and deal with the world around them. \n",
    "\n",
    "These preferances are choices between the following:\n",
    "1. People and things (Extraversion or \"E\") vs Ideas and information (Introversion or \"I\").\n",
    "2. Facts and reality (Sensing or \"S\") vs Possibilities and potential (Intuition or \"N\").\n",
    "3. Logic and truth (Thinking or \"T\") vs Values and relationships (Feeling or \"F\").\n",
    "4. A lifestyle that is well-structured (Judgment or \"J\") vs One that goes with the flow (Perception or \"P\"). \n",
    "\n",
    "The combination of these 4 preferences will determine which personality type a person would fall into. \n",
    "\n",
    "There are 16 in total. "
   ]
  },
  {
   "cell_type": "code",
   "execution_count": null,
   "metadata": {},
   "outputs": [],
   "source": []
  }
 ],
 "metadata": {
  "kernelspec": {
   "display_name": "Python 3",
   "language": "python",
   "name": "python3"
  },
  "language_info": {
   "codemirror_mode": {
    "name": "ipython",
    "version": 3
   },
   "file_extension": ".py",
   "mimetype": "text/x-python",
   "name": "python",
   "nbconvert_exporter": "python",
   "pygments_lexer": "ipython3",
   "version": "3.5.2"
  }
 },
 "nbformat": 4,
 "nbformat_minor": 2
}
